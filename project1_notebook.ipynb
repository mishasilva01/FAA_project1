{
 "cells": [
  {
   "cell_type": "markdown",
   "id": "8aa42fe9",
   "metadata": {},
   "source": [
    "# 1. First steps\n",
    "\n",
    "______________\n",
    "\n",
    "Importing Libraries."
   ]
  },
  {
   "cell_type": "code",
   "execution_count": 79,
   "id": "149f21df",
   "metadata": {},
   "outputs": [],
   "source": [
    "import pandas as pd\n",
    "import numpy as np\n",
    "import matplotlib.pyplot as plt\n",
    "\n",
    "from imblearn.over_sampling import SMOTE\n",
    "from ucimlrepo import fetch_ucirepo \n",
    "from sklearn.model_selection import train_test_split,GridSearchCV, cross_val_score\n",
    "from sklearn.feature_selection import mutual_info_classif\n",
    "from sklearn.tree import DecisionTreeClassifier\n",
    "from sklearn.preprocessing import Normalizer\n",
    "from sklearn.neighbors import KNeighborsClassifier\n",
    "from sklearn.svm import SVC\n",
    "from sklearn.metrics import confusion_matrix, classification_report, accuracy_score, precision_score, recall_score\n",
    "\n",
    "from typing import List, Tuple, Literal, Dict\n",
    "from itertools import combinations, product\n",
    "\n",
    "import warnings\n",
    "warnings.filterwarnings(\"ignore\")\n",
    "warnings.simplefilter(action='ignore', category=FutureWarning)"
   ]
  },
  {
   "cell_type": "code",
   "execution_count": 80,
   "id": "eb66768e",
   "metadata": {
    "scrolled": false
   },
   "outputs": [],
   "source": [
    "# fetch dataset \n",
    "heart_disease = fetch_ucirepo(id=45) \n",
    "  \n",
    "# data (as pandas dataframes) \n",
    "X = heart_disease.data.features \n",
    "y = heart_disease.data.targets \n",
    "\n",
    "df = pd.concat([X, y], axis=1)\n",
    "df.to_csv(\"dataset.csv\")"
   ]
  },
  {
   "cell_type": "markdown",
   "id": "e087521a",
   "metadata": {},
   "source": [
    "# 2. Getting acquainted with data\n",
    "\n",
    "_________________\n",
    "\n",
    "- Categorical features:\n",
    "   - *age*\n",
    "   - *trestbps* - resting blood pressure /*mm Hg* (on admission to the hospital)\n",
    "   - *chol* - serum cholesterol in *mg/dl*\n",
    "   - *thalach* - Maximum heart rate achieved /*bps*\n",
    "   - *oldpeak* -  ST depression induced by exercise relative to rest \n",
    "   - *ca* - Number of major vessels (0-3) colored by fluoroscopy\n",
    "\n",
    "- Integer features:\n",
    "   - *sex* \n",
    "       - 0: female\n",
    "       - 1: male\n",
    "   - *cp* - chest pain\n",
    "       - 1: typical angina\n",
    "       - 2: atypical angina\n",
    "       - 3: non-anginal pain\n",
    "       - 4: asymptomatic\n",
    "   - *fbs* - fasting blood sugar > 120 mg/dl\n",
    "       - 0: False\n",
    "       - 1: True\n",
    "   - *restecg* - Resting electrocardiographic results\n",
    "       - 0: Normal\n",
    "       - 1: Having ST-T wave abnormality (T wave inversions and/or ST elevation or depression of > 0.05 mV)\n",
    "       - 2: Showing probable or definite left ventricular hypertrophy by Estes' criteria\n",
    "   - *exang* - Exercise induced angina\n",
    "       - 0: No\n",
    "       - 1: Yes\n",
    "   - *slope* - The slope of the peak exercise ST segment\n",
    "       - 1: Up sloping\n",
    "       - 2: Flat\n",
    "       - 3: Down sloping\n",
    "   - *thal*\n",
    "       - 3: Normal\n",
    "       - 6: Fixed defect\n",
    "       - 7: Reversible defect\n",
    "- Label\n",
    "    - *num* - The final diagnosis of heart disease (angiographic disease status)\n",
    "\n",
    "##### The information was taken from:\n",
    "Nassif A. (et al). 2018. Machine Learning Classifications of Coronary Artery Disease. DOI: 10.1109/iSAI-NLP.2018.8692942"
   ]
  },
  {
   "cell_type": "code",
   "execution_count": 81,
   "id": "f80b46f1",
   "metadata": {
    "scrolled": true
   },
   "outputs": [
    {
     "data": {
      "text/html": [
       "<div>\n",
       "<style scoped>\n",
       "    .dataframe tbody tr th:only-of-type {\n",
       "        vertical-align: middle;\n",
       "    }\n",
       "\n",
       "    .dataframe tbody tr th {\n",
       "        vertical-align: top;\n",
       "    }\n",
       "\n",
       "    .dataframe thead th {\n",
       "        text-align: right;\n",
       "    }\n",
       "</style>\n",
       "<table border=\"1\" class=\"dataframe\">\n",
       "  <thead>\n",
       "    <tr style=\"text-align: right;\">\n",
       "      <th></th>\n",
       "      <th>age</th>\n",
       "      <th>sex</th>\n",
       "      <th>cp</th>\n",
       "      <th>trestbps</th>\n",
       "      <th>chol</th>\n",
       "      <th>fbs</th>\n",
       "      <th>restecg</th>\n",
       "      <th>thalach</th>\n",
       "      <th>exang</th>\n",
       "      <th>oldpeak</th>\n",
       "      <th>slope</th>\n",
       "      <th>ca</th>\n",
       "      <th>thal</th>\n",
       "      <th>num</th>\n",
       "    </tr>\n",
       "  </thead>\n",
       "  <tbody>\n",
       "    <tr>\n",
       "      <th>0</th>\n",
       "      <td>63</td>\n",
       "      <td>1</td>\n",
       "      <td>1</td>\n",
       "      <td>145</td>\n",
       "      <td>233</td>\n",
       "      <td>1</td>\n",
       "      <td>2</td>\n",
       "      <td>150</td>\n",
       "      <td>0</td>\n",
       "      <td>2.3</td>\n",
       "      <td>3</td>\n",
       "      <td>0.0</td>\n",
       "      <td>6.0</td>\n",
       "      <td>0</td>\n",
       "    </tr>\n",
       "    <tr>\n",
       "      <th>1</th>\n",
       "      <td>67</td>\n",
       "      <td>1</td>\n",
       "      <td>4</td>\n",
       "      <td>160</td>\n",
       "      <td>286</td>\n",
       "      <td>0</td>\n",
       "      <td>2</td>\n",
       "      <td>108</td>\n",
       "      <td>1</td>\n",
       "      <td>1.5</td>\n",
       "      <td>2</td>\n",
       "      <td>3.0</td>\n",
       "      <td>3.0</td>\n",
       "      <td>2</td>\n",
       "    </tr>\n",
       "    <tr>\n",
       "      <th>2</th>\n",
       "      <td>67</td>\n",
       "      <td>1</td>\n",
       "      <td>4</td>\n",
       "      <td>120</td>\n",
       "      <td>229</td>\n",
       "      <td>0</td>\n",
       "      <td>2</td>\n",
       "      <td>129</td>\n",
       "      <td>1</td>\n",
       "      <td>2.6</td>\n",
       "      <td>2</td>\n",
       "      <td>2.0</td>\n",
       "      <td>7.0</td>\n",
       "      <td>1</td>\n",
       "    </tr>\n",
       "    <tr>\n",
       "      <th>3</th>\n",
       "      <td>37</td>\n",
       "      <td>1</td>\n",
       "      <td>3</td>\n",
       "      <td>130</td>\n",
       "      <td>250</td>\n",
       "      <td>0</td>\n",
       "      <td>0</td>\n",
       "      <td>187</td>\n",
       "      <td>0</td>\n",
       "      <td>3.5</td>\n",
       "      <td>3</td>\n",
       "      <td>0.0</td>\n",
       "      <td>3.0</td>\n",
       "      <td>0</td>\n",
       "    </tr>\n",
       "    <tr>\n",
       "      <th>4</th>\n",
       "      <td>41</td>\n",
       "      <td>0</td>\n",
       "      <td>2</td>\n",
       "      <td>130</td>\n",
       "      <td>204</td>\n",
       "      <td>0</td>\n",
       "      <td>2</td>\n",
       "      <td>172</td>\n",
       "      <td>0</td>\n",
       "      <td>1.4</td>\n",
       "      <td>1</td>\n",
       "      <td>0.0</td>\n",
       "      <td>3.0</td>\n",
       "      <td>0</td>\n",
       "    </tr>\n",
       "  </tbody>\n",
       "</table>\n",
       "</div>"
      ],
      "text/plain": [
       "   age  sex  cp  trestbps  chol  fbs  restecg  thalach  exang  oldpeak  slope  \\\n",
       "0   63    1   1       145   233    1        2      150      0      2.3      3   \n",
       "1   67    1   4       160   286    0        2      108      1      1.5      2   \n",
       "2   67    1   4       120   229    0        2      129      1      2.6      2   \n",
       "3   37    1   3       130   250    0        0      187      0      3.5      3   \n",
       "4   41    0   2       130   204    0        2      172      0      1.4      1   \n",
       "\n",
       "    ca  thal  num  \n",
       "0  0.0   6.0    0  \n",
       "1  3.0   3.0    2  \n",
       "2  2.0   7.0    1  \n",
       "3  0.0   3.0    0  \n",
       "4  0.0   3.0    0  "
      ]
     },
     "execution_count": 81,
     "metadata": {},
     "output_type": "execute_result"
    }
   ],
   "source": [
    "df.head()"
   ]
  },
  {
   "cell_type": "code",
   "execution_count": 82,
   "id": "075a0e22",
   "metadata": {},
   "outputs": [
    {
     "name": "stdout",
     "output_type": "stream",
     "text": [
      "<class 'pandas.core.frame.DataFrame'>\n",
      "RangeIndex: 303 entries, 0 to 302\n",
      "Data columns (total 14 columns):\n",
      " #   Column    Non-Null Count  Dtype  \n",
      "---  ------    --------------  -----  \n",
      " 0   age       303 non-null    int64  \n",
      " 1   sex       303 non-null    int64  \n",
      " 2   cp        303 non-null    int64  \n",
      " 3   trestbps  303 non-null    int64  \n",
      " 4   chol      303 non-null    int64  \n",
      " 5   fbs       303 non-null    int64  \n",
      " 6   restecg   303 non-null    int64  \n",
      " 7   thalach   303 non-null    int64  \n",
      " 8   exang     303 non-null    int64  \n",
      " 9   oldpeak   303 non-null    float64\n",
      " 10  slope     303 non-null    int64  \n",
      " 11  ca        299 non-null    float64\n",
      " 12  thal      301 non-null    float64\n",
      " 13  num       303 non-null    int64  \n",
      "dtypes: float64(3), int64(11)\n",
      "memory usage: 33.3 KB\n"
     ]
    }
   ],
   "source": [
    "df.info()"
   ]
  },
  {
   "cell_type": "code",
   "execution_count": 83,
   "id": "74ee3d17",
   "metadata": {
    "scrolled": true
   },
   "outputs": [
    {
     "data": {
      "text/html": [
       "<div>\n",
       "<style scoped>\n",
       "    .dataframe tbody tr th:only-of-type {\n",
       "        vertical-align: middle;\n",
       "    }\n",
       "\n",
       "    .dataframe tbody tr th {\n",
       "        vertical-align: top;\n",
       "    }\n",
       "\n",
       "    .dataframe thead th {\n",
       "        text-align: right;\n",
       "    }\n",
       "</style>\n",
       "<table border=\"1\" class=\"dataframe\">\n",
       "  <thead>\n",
       "    <tr style=\"text-align: right;\">\n",
       "      <th></th>\n",
       "      <th>age</th>\n",
       "      <th>sex</th>\n",
       "      <th>cp</th>\n",
       "      <th>trestbps</th>\n",
       "      <th>chol</th>\n",
       "      <th>fbs</th>\n",
       "      <th>restecg</th>\n",
       "      <th>thalach</th>\n",
       "      <th>exang</th>\n",
       "      <th>oldpeak</th>\n",
       "      <th>slope</th>\n",
       "      <th>ca</th>\n",
       "      <th>thal</th>\n",
       "      <th>num</th>\n",
       "    </tr>\n",
       "  </thead>\n",
       "  <tbody>\n",
       "    <tr>\n",
       "      <th>count</th>\n",
       "      <td>303.000000</td>\n",
       "      <td>303.000000</td>\n",
       "      <td>303.000000</td>\n",
       "      <td>303.000000</td>\n",
       "      <td>303.000000</td>\n",
       "      <td>303.000000</td>\n",
       "      <td>303.000000</td>\n",
       "      <td>303.000000</td>\n",
       "      <td>303.000000</td>\n",
       "      <td>303.000000</td>\n",
       "      <td>303.000000</td>\n",
       "      <td>299.000000</td>\n",
       "      <td>301.000000</td>\n",
       "      <td>303.000000</td>\n",
       "    </tr>\n",
       "    <tr>\n",
       "      <th>mean</th>\n",
       "      <td>54.438944</td>\n",
       "      <td>0.679868</td>\n",
       "      <td>3.158416</td>\n",
       "      <td>131.689769</td>\n",
       "      <td>246.693069</td>\n",
       "      <td>0.148515</td>\n",
       "      <td>0.990099</td>\n",
       "      <td>149.607261</td>\n",
       "      <td>0.326733</td>\n",
       "      <td>1.039604</td>\n",
       "      <td>1.600660</td>\n",
       "      <td>0.672241</td>\n",
       "      <td>4.734219</td>\n",
       "      <td>0.937294</td>\n",
       "    </tr>\n",
       "    <tr>\n",
       "      <th>std</th>\n",
       "      <td>9.038662</td>\n",
       "      <td>0.467299</td>\n",
       "      <td>0.960126</td>\n",
       "      <td>17.599748</td>\n",
       "      <td>51.776918</td>\n",
       "      <td>0.356198</td>\n",
       "      <td>0.994971</td>\n",
       "      <td>22.875003</td>\n",
       "      <td>0.469794</td>\n",
       "      <td>1.161075</td>\n",
       "      <td>0.616226</td>\n",
       "      <td>0.937438</td>\n",
       "      <td>1.939706</td>\n",
       "      <td>1.228536</td>\n",
       "    </tr>\n",
       "    <tr>\n",
       "      <th>min</th>\n",
       "      <td>29.000000</td>\n",
       "      <td>0.000000</td>\n",
       "      <td>1.000000</td>\n",
       "      <td>94.000000</td>\n",
       "      <td>126.000000</td>\n",
       "      <td>0.000000</td>\n",
       "      <td>0.000000</td>\n",
       "      <td>71.000000</td>\n",
       "      <td>0.000000</td>\n",
       "      <td>0.000000</td>\n",
       "      <td>1.000000</td>\n",
       "      <td>0.000000</td>\n",
       "      <td>3.000000</td>\n",
       "      <td>0.000000</td>\n",
       "    </tr>\n",
       "    <tr>\n",
       "      <th>25%</th>\n",
       "      <td>48.000000</td>\n",
       "      <td>0.000000</td>\n",
       "      <td>3.000000</td>\n",
       "      <td>120.000000</td>\n",
       "      <td>211.000000</td>\n",
       "      <td>0.000000</td>\n",
       "      <td>0.000000</td>\n",
       "      <td>133.500000</td>\n",
       "      <td>0.000000</td>\n",
       "      <td>0.000000</td>\n",
       "      <td>1.000000</td>\n",
       "      <td>0.000000</td>\n",
       "      <td>3.000000</td>\n",
       "      <td>0.000000</td>\n",
       "    </tr>\n",
       "    <tr>\n",
       "      <th>50%</th>\n",
       "      <td>56.000000</td>\n",
       "      <td>1.000000</td>\n",
       "      <td>3.000000</td>\n",
       "      <td>130.000000</td>\n",
       "      <td>241.000000</td>\n",
       "      <td>0.000000</td>\n",
       "      <td>1.000000</td>\n",
       "      <td>153.000000</td>\n",
       "      <td>0.000000</td>\n",
       "      <td>0.800000</td>\n",
       "      <td>2.000000</td>\n",
       "      <td>0.000000</td>\n",
       "      <td>3.000000</td>\n",
       "      <td>0.000000</td>\n",
       "    </tr>\n",
       "    <tr>\n",
       "      <th>75%</th>\n",
       "      <td>61.000000</td>\n",
       "      <td>1.000000</td>\n",
       "      <td>4.000000</td>\n",
       "      <td>140.000000</td>\n",
       "      <td>275.000000</td>\n",
       "      <td>0.000000</td>\n",
       "      <td>2.000000</td>\n",
       "      <td>166.000000</td>\n",
       "      <td>1.000000</td>\n",
       "      <td>1.600000</td>\n",
       "      <td>2.000000</td>\n",
       "      <td>1.000000</td>\n",
       "      <td>7.000000</td>\n",
       "      <td>2.000000</td>\n",
       "    </tr>\n",
       "    <tr>\n",
       "      <th>max</th>\n",
       "      <td>77.000000</td>\n",
       "      <td>1.000000</td>\n",
       "      <td>4.000000</td>\n",
       "      <td>200.000000</td>\n",
       "      <td>564.000000</td>\n",
       "      <td>1.000000</td>\n",
       "      <td>2.000000</td>\n",
       "      <td>202.000000</td>\n",
       "      <td>1.000000</td>\n",
       "      <td>6.200000</td>\n",
       "      <td>3.000000</td>\n",
       "      <td>3.000000</td>\n",
       "      <td>7.000000</td>\n",
       "      <td>4.000000</td>\n",
       "    </tr>\n",
       "  </tbody>\n",
       "</table>\n",
       "</div>"
      ],
      "text/plain": [
       "              age         sex          cp    trestbps        chol         fbs  \\\n",
       "count  303.000000  303.000000  303.000000  303.000000  303.000000  303.000000   \n",
       "mean    54.438944    0.679868    3.158416  131.689769  246.693069    0.148515   \n",
       "std      9.038662    0.467299    0.960126   17.599748   51.776918    0.356198   \n",
       "min     29.000000    0.000000    1.000000   94.000000  126.000000    0.000000   \n",
       "25%     48.000000    0.000000    3.000000  120.000000  211.000000    0.000000   \n",
       "50%     56.000000    1.000000    3.000000  130.000000  241.000000    0.000000   \n",
       "75%     61.000000    1.000000    4.000000  140.000000  275.000000    0.000000   \n",
       "max     77.000000    1.000000    4.000000  200.000000  564.000000    1.000000   \n",
       "\n",
       "          restecg     thalach       exang     oldpeak       slope          ca  \\\n",
       "count  303.000000  303.000000  303.000000  303.000000  303.000000  299.000000   \n",
       "mean     0.990099  149.607261    0.326733    1.039604    1.600660    0.672241   \n",
       "std      0.994971   22.875003    0.469794    1.161075    0.616226    0.937438   \n",
       "min      0.000000   71.000000    0.000000    0.000000    1.000000    0.000000   \n",
       "25%      0.000000  133.500000    0.000000    0.000000    1.000000    0.000000   \n",
       "50%      1.000000  153.000000    0.000000    0.800000    2.000000    0.000000   \n",
       "75%      2.000000  166.000000    1.000000    1.600000    2.000000    1.000000   \n",
       "max      2.000000  202.000000    1.000000    6.200000    3.000000    3.000000   \n",
       "\n",
       "             thal         num  \n",
       "count  301.000000  303.000000  \n",
       "mean     4.734219    0.937294  \n",
       "std      1.939706    1.228536  \n",
       "min      3.000000    0.000000  \n",
       "25%      3.000000    0.000000  \n",
       "50%      3.000000    0.000000  \n",
       "75%      7.000000    2.000000  \n",
       "max      7.000000    4.000000  "
      ]
     },
     "execution_count": 83,
     "metadata": {},
     "output_type": "execute_result"
    }
   ],
   "source": [
    "df.describe()"
   ]
  },
  {
   "cell_type": "code",
   "execution_count": 84,
   "id": "833e3f6d",
   "metadata": {
    "scrolled": false
   },
   "outputs": [
    {
     "data": {
      "text/plain": [
       "age         0\n",
       "sex         0\n",
       "cp          0\n",
       "trestbps    0\n",
       "chol        0\n",
       "fbs         0\n",
       "restecg     0\n",
       "thalach     0\n",
       "exang       0\n",
       "oldpeak     0\n",
       "slope       0\n",
       "ca          4\n",
       "thal        2\n",
       "dtype: int64"
      ]
     },
     "execution_count": 84,
     "metadata": {},
     "output_type": "execute_result"
    }
   ],
   "source": [
    "# checking the number of missing values in each feature\n",
    "X.isnull().sum()"
   ]
  },
  {
   "cell_type": "code",
   "execution_count": 85,
   "id": "311225c3",
   "metadata": {
    "scrolled": true
   },
   "outputs": [
    {
     "data": {
      "text/plain": [
       "num\n",
       "0    164\n",
       "1     55\n",
       "2     36\n",
       "3     35\n",
       "4     13\n",
       "Name: count, dtype: int64"
      ]
     },
     "execution_count": 85,
     "metadata": {},
     "output_type": "execute_result"
    }
   ],
   "source": [
    "# number of samples per class\n",
    "df.num.value_counts()"
   ]
  },
  {
   "cell_type": "code",
   "execution_count": 86,
   "metadata": {},
   "outputs": [
    {
     "data": {
      "image/png": "[encoded data removed]",
      "text/plain": [
       "<Figure size 3000x1500 with 14 Axes>"
      ]
     },
     "metadata": {},
     "output_type": "display_data"
    }
   ],
   "source": [
    "nrows = 2\n",
    "ncols = int(np.ceil(len(df.columns) / (1.0*nrows)))\n",
    "fig, axes = plt.subplots(nrows=nrows, ncols=ncols, figsize=(30, 15))\n",
    "counter = 0\n",
    "for i in range(nrows):\n",
    "    for j in range(ncols):\n",
    "\n",
    "        ax = axes[i][j]\n",
    "        if counter < len(df.columns):\n",
    "\n",
    "            ax.hist(df[df.columns[counter]], bins=10, color='blue', alpha=0.5)\n",
    "            ax.set_ylabel(df.columns[counter])\n",
    "\n",
    "        else: ax.set_axis_off()\n",
    "        counter += 1"
   ]
  },
  {
   "cell_type": "markdown",
   "id": "c7693417",
   "metadata": {},
   "source": [
    "# 3. Breaf data cleaning\n",
    "\n",
    "_______________\n",
    "\n",
    "Data is already pretty clean, and there are only 6 NaN values, so we can drop those observations."
   ]
  },
  {
   "cell_type": "markdown",
   "id": "3a1302ec",
   "metadata": {},
   "source": [
    "### 3.1 Dropping NaN values\n",
    "\n",
    "_________________"
   ]
  },
  {
   "cell_type": "code",
   "execution_count": 87,
   "id": "2f0282e8",
   "metadata": {
    "scrolled": true
   },
   "outputs": [
    {
     "data": {
      "text/plain": [
       "num\n",
       "0    160\n",
       "1     54\n",
       "2     35\n",
       "3     35\n",
       "4     13\n",
       "Name: count, dtype: int64"
      ]
     },
     "execution_count": 87,
     "metadata": {},
     "output_type": "execute_result"
    }
   ],
   "source": [
    "df = df.dropna()\n",
    "# re-checking the number of samples per class adfer dropping missing values\n",
    "df.num.value_counts()"
   ]
  },
  {
   "cell_type": "markdown",
   "id": "0b8ad683",
   "metadata": {},
   "source": [
    "- As we can see, the NaN values were part of the classes with more observations, therefore droppins NaN values does not worsen the class imbalance problem.\n",
    "\n",
    "- Since we only have 13 samples from the class with least amount of samples (y = 4), we cannot afford taking some samples as testing set, because we would loose valuable information. Therefore, we are going to work only with training and validation sets."
   ]
  },
  {
   "cell_type": "markdown",
   "id": "2f68b4dc",
   "metadata": {},
   "source": [
    "### 3.2 Separating a dataset for testing (*client data*)\n",
    "\n",
    "______________\n",
    "\n",
    "The traditional approach for splitting the dataset into train+validation+test is 60%+20%+20%."
   ]
  },
  {
   "cell_type": "code",
   "execution_count": 88,
   "id": "39f141cd",
   "metadata": {},
   "outputs": [],
   "source": [
    "# dataset to be reserved for future testing (client role)\n",
    "# making sure we have 20% from every class\n",
    "client_set = df.copy().groupby('num').apply(lambda Class: Class.sample(frac = 0.20))\n",
    "client_set.index = client_set.index.droplevel(0)\n",
    "\n",
    "# new data frame for creaing and testing models\n",
    "df_filtered = df.copy().drop(client_set.index)\n",
    "\n",
    "# reseting indices\n",
    "client_set = client_set.reset_index(drop=True)\n",
    "df_filtered = df_filtered.reset_index(drop=True)"
   ]
  },
  {
   "cell_type": "code",
   "execution_count": 89,
   "id": "09b52529",
   "metadata": {},
   "outputs": [
    {
     "data": {
      "text/plain": [
       "Text(0.5, 1.0, 'Data Set')"
      ]
     },
     "execution_count": 89,
     "metadata": {},
     "output_type": "execute_result"
    },
    {
     "data": {
      "image/png": "[encoded data removed]",
      "text/plain": [
       "<Figure size 1000x1000 with 2 Axes>"
      ]
     },
     "metadata": {},
     "output_type": "display_data"
    }
   ],
   "source": [
    "fig, axes = plt.subplots(nrows=1, ncols=2, figsize=(10, 10))\n",
    "axes[0].hist(client_set.num, bins=10, color='blue', alpha=0.5)\n",
    "axes[0].set_title(\"Client Set\")\n",
    "axes[1].hist(df_filtered.num, bins=10, color='blue', alpha=0.5)\n",
    "axes[1].set_title(\"Data Set\")"
   ]
  },
  {
   "cell_type": "markdown",
   "id": "05939cb3",
   "metadata": {},
   "source": [
    "# 4. Feature Selection\n",
    "\n",
    "__________"
   ]
  },
  {
   "cell_type": "markdown",
   "metadata": {},
   "source": [
    "### 4.1 Features selection by correlation elimination\n",
    "\n",
    "___________\n",
    "\n",
    "We are using Spearman's correlation instead of Pearson's because practically all features don't have a normal distribution (as seen in the histograms above) and Spearman's is more robust to outliers.\n",
    "\n",
    "Nassif et al. (2018; 10.1109/iSAI-NLP.2018.8692942) also applied correlation evaluation, but did not use Spearman's correlation.\n",
    "\n",
    "Creating a function that selects features according correlation. The arguments of the function (1) the dataframe, (2) the correlation method, and (3) the correlation threshold for feature elimination."
   ]
  },
  {
   "cell_type": "code",
   "execution_count": 90,
   "metadata": {},
   "outputs": [],
   "source": [
    "def Corr_selection(df: pd.DataFrame, corr_method: str = 'spearman', threshold: float = 0.2) -> List:\n",
    "\n",
    "    \"\"\"This function selects the features to be eliminate according to a correlation threshold.\n",
    "    \n",
    "    Args:\n",
    "        df: Dataframe - Dataset containing all data.\n",
    "        corr_method: str - Which method to apply to calculate the correlation. Default is 'spearman'.\n",
    "        threshold: float - a limit between 0 and 1. Default is 0.2.\n",
    "    Return:\n",
    "        a list value, containing the selected features.\n",
    "        \n",
    "    \"\"\"\n",
    "    corr_matrix = X.corr(method=corr_method)\n",
    "    # covert corr_matrix to absolute values\n",
    "    corr_matrix = np.array(abs(corr_matrix))\n",
    "    # all features available\n",
    "    features = np.array(df.columns)\n",
    "    # list of features to eliminate\n",
    "    to_eliminate = []\n",
    "    # runs all lines\n",
    "    for i in range(len(features)):\n",
    "        # runs all columns\n",
    "        for j in range(len(features)):\n",
    "            \n",
    "            if corr_matrix[i,j] > threshold and corr_matrix[i,j] != 1: \n",
    "                \n",
    "                if np.mean(corr_matrix[i,:]) > np.mean(corr_matrix[:,j]): to_eliminate.append(features[i])\n",
    "                else: to_eliminate.append(features[j])\n",
    "    \n",
    "    to_eliminate = np.unique(to_eliminate)\n",
    "    selected_features = list( features[~np.isin(features, to_eliminate)] )\n",
    "    return [selected_features]"
   ]
  },
  {
   "cell_type": "markdown",
   "metadata": {},
   "source": [
    "### 4.2 Features selection by information gain\n",
    "\n",
    "__________\n",
    "\n",
    "Creating a function that selects features according to Mutual Information Gain. \n",
    "\n",
    "References:\n",
    "- Nassif et al. (2018; 10.1109/iSAI-NLP.2018.8692942)\n",
    "- Guhanesvar. *Feature Selection Based on Mutual Information Gain for Classification and Regression*. Medium. June 26, 2021."
   ]
  },
  {
   "cell_type": "code",
   "execution_count": 91,
   "metadata": {},
   "outputs": [],
   "source": [
    "def InfoGain_selection(X: pd.DataFrame, y: pd.DataFrame, n_features: int) -> Tuple[pd.Series, List]:\n",
    "\n",
    "    \"\"\"This function selects n_features according that have the greatest mutual information classification.\n",
    "\n",
    "    Args:\n",
    "        X: Dataframe - Dataset containing all data.\n",
    "        y: Dataframe - Dataset containing all target data.\n",
    "        n_features: int - Number of features to select.\n",
    "    Return:\n",
    "        a tuple of a Series and a list, of the importance and the selected features.\n",
    "    \"\"\"\n",
    "    \n",
    "    importance = mutual_info_classif(X, y)\n",
    "    importance = pd.Series(data = importance, index = X.columns)\n",
    "    importance = importance.sort_values(ascending=False)\n",
    "    selected_features = list(importance.iloc[:n_features].index)\n",
    "    return importance, [selected_features]"
   ]
  },
  {
   "cell_type": "markdown",
   "metadata": {},
   "source": [
    "### 4.3 Data selection by permutations (3 features)\n",
    "\n",
    "___________"
   ]
  },
  {
   "cell_type": "code",
   "execution_count": 92,
   "metadata": {},
   "outputs": [],
   "source": [
    "def feature_combination(X: pd.DataFrame, comb: int = 3):\n",
    "    \n",
    "    \"\"\"This function returns a dataframe with all possible permutations.\n",
    "\n",
    "    Args:\n",
    "        X: Dataframe - Dataset containing all data.\n",
    "        comb: int - length of subsequence of elements. Default is 3.\n",
    "    Rerturn:\n",
    "        a list value, containing all combinations of the columns of the Dataframe with a selected length of subsequence.\n",
    "        \n",
    "    \"\"\"\n",
    "    \n",
    "    return list(combinations(X.columns, comb))"
   ]
  },
  {
   "cell_type": "markdown",
   "id": "ccecc673",
   "metadata": {},
   "source": [
    "# 5. Class imbalance\n",
    "\n",
    "_____________\n",
    "\n",
    "As seen in the histogram of Fig. 14, there are many more samples with label 0 than with other labels. Therefore, class imbalance has to be dealt with. According to Hoffman [1], there are several ways to reduce class imbalance, such as using other performance metrics when assessing performance (precision, recall, F1 score, and confusion matrix), performing over-sampling (when the dataset is reletively small), or using the Synthetic Minority Over-sampling Technique (SMOTE) algorithm to create synthetic samples.\n",
    "\n",
    "BUT, according to this video https://www.youtube.com/watch?v=adHqzek--d0, on stamp 3:52, the SMOTE technique is not good for multidimensional data (which is the one we have here)\n",
    "\n",
    "REFERENCE [1]: K. Hoffman. *Machine Learning: How to Handle Class Imbalance*. Analytics Vidhya. February 13, 2021."
   ]
  },
  {
   "cell_type": "markdown",
   "id": "e0c4428e",
   "metadata": {},
   "source": [
    "### 5.1 Oversampling by doubling classes different from 0\n",
    "\n",
    "_____________\n",
    "\n",
    "This method might create oversampling."
   ]
  },
  {
   "cell_type": "code",
   "execution_count": 93,
   "id": "676fa217",
   "metadata": {},
   "outputs": [],
   "source": [
    "def oversampling_double(dataframe: pd.DataFrame) -> pd.DataFrame:   \n",
    "    \n",
    "    \"\"\"This function doubles the number of samples with labels 1, 2, 3, 4.\n",
    "\n",
    "    Args:\n",
    "        dataframe: DataFrame - Dataset containing all data.\n",
    "    Return:\n",
    "        a DataFrame value.\n",
    "\n",
    "    \"\"\"\n",
    "    \n",
    "    for i in [1, 2, 3, 4]:\n",
    "\n",
    "        df_add = dataframe[dataframe['num']==i]\n",
    "        dataframe = pd.concat([dataframe, df_add], axis=0)\n",
    "\n",
    "    # Restarting indices\n",
    "    dataframe = dataframe.reset_index(drop=True)\n",
    "    return dataframe"
   ]
  },
  {
   "cell_type": "markdown",
   "id": "1c76f129",
   "metadata": {},
   "source": [
    "### 5.2 Oversampling through SMOTE\n",
    "\n",
    "____________________"
   ]
  },
  {
   "cell_type": "code",
   "execution_count": 94,
   "id": "553e0534",
   "metadata": {},
   "outputs": [],
   "source": [
    "def oversampling_smote(dataframe: pd.DataFrame) -> pd.DataFrame:\n",
    "    \"\"\" This function oversamples a dataset with the Synthetic Minority Over-sampling Technique (it is required imblearn).\n",
    "    \n",
    "    Args:\n",
    "        dataframe: DataFrame - Dataset containing all data.\n",
    "    Return:\n",
    "        a DataFrame value.\n",
    "\n",
    "    \"\"\"\n",
    "    \n",
    "    smote = SMOTE(random_state = 42)\n",
    "    X, y = smote.fit_resample(dataframe.drop(columns='num'), dataframe['num'])\n",
    "    y = pd.Series(data = y, name = 'num')\n",
    "    df_smote = pd.concat([X, y], axis = 1, join = 'inner')\n",
    "    return df_smote"
   ]
  },
  {
   "cell_type": "markdown",
   "metadata": {},
   "source": [
    "### 5.3 Oversampling through Class Weight\n",
    "\n",
    "____________________"
   ]
  },
  {
   "cell_type": "code",
   "execution_count": 95,
   "metadata": {},
   "outputs": [],
   "source": [
    "def ClassWeight(dataframe: pd.DataFrame) -> Dict:\n",
    "    \n",
    "    from sklearn.utils import class_weight\n",
    "    classes = dataframe.iloc[:,-1].unique()\n",
    "    weights = class_weight.compute_class_weight(class_weight = 'balanced', \n",
    "                                                classes = classes, \n",
    "                                                y = dataframe.iloc[:,-1])\n",
    "    ClassWeight = dict()\n",
    "    for i in range(len(classes)): ClassWeight[classes[i]] = weights[i]\n",
    "    return ClassWeight"
   ]
  },
  {
   "cell_type": "markdown",
   "metadata": {},
   "source": [
    "# 6. Creating Models\n",
    "\n",
    "____________"
   ]
  },
  {
   "cell_type": "code",
   "execution_count": 96,
   "metadata": {},
   "outputs": [],
   "source": [
    "def Function(df_filtered: pd.DataFrame\n",
    "             , df_client: pd.DataFrame\n",
    "             , Model_evaluation: Dict[str, Dict[str, list]]\n",
    "             , oversampling_method: Literal['smote', 'doubling', \"class weights\"] = \"class weights\"\n",
    "             , estimator: Literal['Decision_Tree', 'SVM', 'KNN']='Decision_Tree'\n",
    "             , feature_selection: Literal['All', 'correlation', 'info_gain', 'feat_comb']='All'\n",
    "             , grid_search_name: Literal[\"Decision_Tree\", \"SVM\", \"KNN\"]=\"Decision_Tree\"):\n",
    "\n",
    "    # given parameters to search for the best (grid search)\n",
    "    oversample = {\"smote\": oversampling_smote, \"doubling\": oversampling_double}\n",
    "    estimator_function = {\"Decision_Tree\":DecisionTreeClassifier, \"SVM\": SVC, \"KNN\": KNeighborsClassifier}\n",
    "    parameters_grid = {\"Decision_Tree\": {'criterion': ['gini', 'entropy'], 'max_depth': [None, 1, 2, 3, 4, 5, 10, 15, 20, 30], 'min_samples_leaf': [1, 2, 4]}\n",
    "                    , \"SVM\": {'kernel': ['rbf', 'linear', 'sigmoid'], 'gamma': [1e-2, 1e-3, 1e-4], 'C': [1, 10, 100, 1000]}\n",
    "                    , \"KNN\": {'metric': ['euclidean', 'cityblock', 'chebyshev'], 'n_neighbors': [1, 2, 3, 4]}}\n",
    "\n",
    "    feat, classifier = None, None\n",
    "    # feature selection\n",
    "    if feature_selection == 'correlation': feat = Corr_selection(df_filtered.drop(columns='num'), 'spearman', 0.2)\n",
    "    elif feature_selection == 'info_gain': feat = InfoGain_selection(df_filtered.drop(columns='num'), df_filtered['num'], 6)[1]\n",
    "    elif feature_selection == 'feat_comb': feat = feature_combination(df_filtered.drop(columns='num'))\n",
    "    elif feature_selection == 'All': feat = [list(df_filtered.drop(columns='num').columns)]\n",
    "\n",
    "    for feat_select in feat:\n",
    "        \n",
    "        X, y, best_parameters = None, None, None\n",
    "        if type(feat_select) == list: feat_select.append('num')\n",
    "        else: feat_select = list(feat_select + ('num', ))\n",
    "        new_df = df_filtered[feat_select]\n",
    "        X_client = df_client[feat_select]\n",
    "        y_client = X_client.num\n",
    "        X_client = X_client.drop(columns=['num'])\n",
    "        if oversampling_method in ['smote', 'doubling']:\n",
    "\n",
    "            X = oversample[oversampling_method](new_df).drop(columns=['num'])\n",
    "            y = oversample[oversampling_method](new_df).num\n",
    "\n",
    "        elif oversampling_method == \"class weights\":\n",
    "\n",
    "            X = new_df.drop(columns=['num'])\n",
    "            y = new_df.num\n",
    "\n",
    "        # separating train and test sets (20% out of the 80% after splitting the clients dataset)\n",
    "        X_train, X_test, y_train, y_test = train_test_split(X, y, test_size=0.20/0.80, random_state=42)\n",
    "\n",
    "        if estimator in [\"SVM\", \"KNN\"]:\n",
    "            \n",
    "            norm = Normalizer()\n",
    "            X_train = norm.fit_transform(X_train)\n",
    "            X_test = norm.fit_transform(X_test)\n",
    "            X_client = norm.fit_transform(X_client)\n",
    "\n",
    "        if oversampling_method in ['smote', 'doubling']:\n",
    "\n",
    "            if feature_selection in ['correlation', 'info_gain', 'All']:\n",
    "    \n",
    "                # finding the best parameters for the model\n",
    "                grid_search = GridSearchCV(estimator = estimator_function[estimator](), \n",
    "                                        param_grid = parameters_grid[grid_search_name], \n",
    "                                        cv = 5, scoring = 'accuracy')\n",
    "                grid_search.fit(X_train, y_train)\n",
    "                \n",
    "                # optimization\n",
    "                best_parameters = grid_search.best_params_\n",
    "\n",
    "                # creating and fitting the model\n",
    "                classifier = estimator_function[estimator](**best_parameters)\n",
    "\n",
    "            else: classifier = estimator_function[estimator]()\n",
    "\n",
    "        elif oversampling_method == \"class weights\":\n",
    "\n",
    "            if feature_selection in ['correlation', 'info_gain', 'All']:\n",
    "                \n",
    "                grid_search = None\n",
    "                # finding the best parameters for the model\n",
    "                if estimator in [\"Decision_Tree\", \"SVM\"]:\n",
    "\n",
    "                    grid_search = GridSearchCV(estimator = estimator_function[estimator](class_weight = ClassWeight(new_df)), \n",
    "                                            param_grid = parameters_grid[grid_search_name], \n",
    "                                            cv = 5, scoring = 'accuracy')\n",
    "                    grid_search.fit(X_train, y_train)\n",
    "\n",
    "                    # optimization\n",
    "                    best_parameters = grid_search.best_params_\n",
    "\n",
    "                    # creating and fitting the model\n",
    "                    classifier = estimator_function[estimator](**best_parameters, class_weight = ClassWeight(new_df))\n",
    "\n",
    "                else: \n",
    "\n",
    "                    grid_search = GridSearchCV(estimator = estimator_function[estimator](), \n",
    "                                            param_grid = parameters_grid[grid_search_name], \n",
    "                                            cv = 5, scoring = 'accuracy')\n",
    "                    grid_search.fit(X_train, y_train)\n",
    "\n",
    "                    # optimization\n",
    "                    best_parameters = grid_search.best_params_\n",
    "\n",
    "                    # creating and fitting the model\n",
    "                    classifier = estimator_function[estimator](**best_parameters)\n",
    "\n",
    "            else: \n",
    "                \n",
    "                if estimator in [\"Decision_Tree\", \"SVM\"]: classifier = estimator_function[estimator](class_weight = ClassWeight(new_df))\n",
    "                else: classifier = estimator_function[estimator]()\n",
    "\n",
    "        classifier = classifier.fit(X_train, y_train)\n",
    "        y_predict = classifier.predict(X_test)\n",
    "        y_predict_client = classifier.predict(X_client)\n",
    "\n",
    "        Model_evaluation[estimator][\"Parameters\"].append(classifier.get_params())\n",
    "        Model_evaluation[estimator][\"Oversampling\"].append(oversampling_method)\n",
    "        Model_evaluation[estimator][\"Features\"].append(feat_select)\n",
    "        Model_evaluation[estimator][\"Feature Selection\"].append(feature_selection)\n",
    "        Model_evaluation[estimator][\"Accuracy Test\"].append(accuracy_score(y_test, y_predict))\n",
    "        Model_evaluation[estimator][\"Precision Test\"].append(precision_score(y_test, y_predict, average='macro'))\n",
    "        Model_evaluation[estimator][\"Recall Test\"].append(recall_score(y_test, y_predict, average='macro'))\n",
    "        Model_evaluation[estimator][\"Confusion Matrix Test\"].append(confusion_matrix(y_test, y_predict))\n",
    "        Model_evaluation[estimator][\"Accuracy Client\"].append(accuracy_score(y_client, y_predict_client))\n",
    "        Model_evaluation[estimator][\"Precision Client\"].append(precision_score(y_client, y_predict_client, average='macro'))\n",
    "        Model_evaluation[estimator][\"Recall Client\"].append(recall_score(y_client, y_predict_client, average='macro'))\n",
    "        Model_evaluation[estimator][\"Confusion Matrix Client\"].append(confusion_matrix(y_client, y_predict_client))\n",
    "        if estimator==\"SVM\": Model_evaluation[estimator][\"Gamma\"].append(classifier._gamma)\n",
    "\n",
    "    return Model_evaluation"
   ]
  },
  {
   "cell_type": "code",
   "execution_count": 97,
   "metadata": {},
   "outputs": [],
   "source": [
    "Model_evaluation = {\"Decision_Tree\": {\"Parameters\": [], \"Oversampling\": [], \"Feature Selection\": [], \"Accuracy Test\": [], \"Precision Test\": [], \"Recall Test\": [], \"Confusion Matrix Test\" : []\n",
    "                                      , 'Features': [], \"Accuracy Client\": [], \"Precision Client\": [], \"Recall Client\": [], \"Confusion Matrix Client\" : []}\n",
    "                    , \"SVM\": {\"Parameters\": [], \"Oversampling\": [], \"Feature Selection\": [], \"Accuracy Test\": [], \"Precision Test\": [], \"Recall Test\": [], \"Confusion Matrix Test\" : []\n",
    "                                      , 'Features': [], \"Accuracy Client\": [], \"Precision Client\": [], \"Recall Client\": [], \"Confusion Matrix Client\" : [], \"Gamma\": []}\n",
    "                    , \"KNN\": {\"Parameters\": [], \"Oversampling\": [], \"Feature Selection\": [], \"Accuracy Test\": [], \"Precision Test\": [], \"Recall Test\": [], \"Confusion Matrix Test\" : []\n",
    "                                      , 'Features': [], \"Accuracy Client\": [], \"Precision Client\": [], \"Recall Client\": [], \"Confusion Matrix Client\" : []}}\n",
    "\n",
    "list_parameters = list(product(['smote', 'doubling', \"class weights\"]\n",
    "                               , ['Decision_Tree', 'KNN', 'SVM']\n",
    "                               , ['correlation', 'info_gain', 'feat_comb', 'All']\n",
    "                               ))"
   ]
  },
  {
   "cell_type": "code",
   "execution_count": 118,
   "metadata": {},
   "outputs": [],
   "source": [
    "for par in list_parameters:\n",
    "\n",
    "    Model_evaluation = Function(df_filtered, client_set, Model_evaluation, oversampling_method=par[0], estimator=par[1], feature_selection=par[2], grid_search_name=par[1])"
   ]
  },
  {
   "cell_type": "code",
   "execution_count": 119,
   "metadata": {},
   "outputs": [],
   "source": [
    "SVM_evaluation = pd.DataFrame(Model_evaluation[\"SVM\"])\n",
    "SVM_evaluation = SVM_evaluation.sort_values(by=['Accuracy Test', 'Precision Test', 'Recall Test'], ascending = False)\n",
    "\n",
    "Decision_Tree_evaluation = pd.DataFrame(Model_evaluation[\"Decision_Tree\"])\n",
    "Decision_Tree_evaluation = Decision_Tree_evaluation.sort_values(by=['Accuracy Test', 'Precision Test', 'Recall Test'], ascending = False)\n",
    "\n",
    "KNN_evaluation = pd.DataFrame(Model_evaluation[\"KNN\"])\n",
    "KNN_evaluation = KNN_evaluation.sort_values(by=['Accuracy Test', 'Precision Test', 'Recall Test'], ascending = False)"
   ]
  },
  {
   "cell_type": "markdown",
   "metadata": {},
   "source": [
    "# 7. Models Evaluation\n",
    "\n",
    "_______________________"
   ]
  },
  {
   "cell_type": "markdown",
   "metadata": {},
   "source": [
    "### 7.1 Decision Tree Evaluation\n",
    "\n",
    "______________________"
   ]
  },
  {
   "cell_type": "code",
   "execution_count": 120,
   "metadata": {},
   "outputs": [
    {
     "name": "stdout",
     "output_type": "stream",
     "text": [
      "Best Prameters:\n",
      " {'ccp_alpha': 0.0, 'class_weight': None, 'criterion': 'gini', 'max_depth': None, 'max_features': None, 'max_leaf_nodes': None, 'min_impurity_decrease': 0.0, 'min_samples_leaf': 1, 'min_samples_split': 2, 'min_weight_fraction_leaf': 0.0, 'random_state': None, 'splitter': 'best'}\n",
      "Oversampling Method applied:\n",
      " doubling\n",
      "Feature Selection Method applied:\n",
      " feat_comb\n",
      "Feature Selected:\n",
      " ['chol', 'ca', 'thal', 'num']\n"
     ]
    }
   ],
   "source": [
    "best_option_Decision_Tree = Decision_Tree_evaluation.iloc[0]\n",
    "\n",
    "print(\"Best Prameters:\\n\", best_option_Decision_Tree['Parameters'])\n",
    "\n",
    "print(\"Oversampling Method applied:\\n\", best_option_Decision_Tree['Oversampling'])\n",
    "\n",
    "print(\"Feature Selection Method applied:\\n\", best_option_Decision_Tree['Feature Selection'])\n",
    "\n",
    "print(\"Feature Selected:\\n\", best_option_Decision_Tree['Features'])"
   ]
  },
  {
   "cell_type": "markdown",
   "metadata": {},
   "source": [
    "##### 7.1.1 Confusion Matrix\n",
    "\n",
    "________________"
   ]
  },
  {
   "cell_type": "code",
   "execution_count": 121,
   "metadata": {},
   "outputs": [
    {
     "data": {
      "image/png": "[encoded data removed]",
      "text/plain": [
       "<Figure size 750x750 with 1 Axes>"
      ]
     },
     "metadata": {},
     "output_type": "display_data"
    }
   ],
   "source": [
    "fig, ax = plt.subplots(figsize=(7.5, 7.5))\n",
    "ax.matshow(best_option_Decision_Tree['Confusion Matrix Test'], cmap=plt.cm.Blues, alpha=0.3)\n",
    "for i in range(best_option_Decision_Tree['Confusion Matrix Test'].shape[0]):\n",
    "\n",
    "    for j in range(best_option_Decision_Tree['Confusion Matrix Test'].shape[1]):\n",
    "        \n",
    "        ax.text(x=j, y=i,s=best_option_Decision_Tree['Confusion Matrix Test'][i, j], va='center', ha='center', size='xx-large')\n",
    " \n",
    "plt.xlabel('Predictions', fontsize=18)\n",
    "plt.ylabel('Actuals', fontsize=18)\n",
    "#plt.title('Confusion Matrix for Test in Decision Tree', fontsize=18)\n",
    "plt.savefig('.\\Decision_Tree_Confusion_Matrix_1.eps', format='eps')\n",
    "plt.show()"
   ]
  },
  {
   "cell_type": "code",
   "execution_count": 122,
   "metadata": {},
   "outputs": [
    {
     "data": {
      "image/png": "[encoded data removed]",
      "text/plain": [
       "<Figure size 750x750 with 1 Axes>"
      ]
     },
     "metadata": {},
     "output_type": "display_data"
    }
   ],
   "source": [
    "fig, ax = plt.subplots(figsize=(7.5, 7.5))\n",
    "ax.matshow(best_option_Decision_Tree['Confusion Matrix Client'], cmap=plt.cm.Blues, alpha=0.3)\n",
    "for i in range(best_option_Decision_Tree['Confusion Matrix Client'].shape[0]):\n",
    "\n",
    "    for j in range(best_option_Decision_Tree['Confusion Matrix Client'].shape[1]):\n",
    "        \n",
    "        ax.text(x=j, y=i,s=best_option_Decision_Tree['Confusion Matrix Client'][i, j], va='center', ha='center', size='xx-large')\n",
    " \n",
    "plt.xlabel('Predictions', fontsize=18)\n",
    "plt.ylabel('Actuals', fontsize=18)\n",
    "#plt.title('Confusion Matrix for Client in Decision Tree', fontsize=18)\n",
    "plt.savefig('.\\Decision_Tree_Confusion_Matrix_2.eps', format='eps')\n",
    "plt.show()"
   ]
  },
  {
   "cell_type": "markdown",
   "metadata": {},
   "source": [
    "##### 7.1.2 Precision\n",
    "\n",
    "________________"
   ]
  },
  {
   "cell_type": "code",
   "execution_count": 123,
   "metadata": {},
   "outputs": [
    {
     "name": "stdout",
     "output_type": "stream",
     "text": [
      "Precision test:\n",
      " 0.8114576599870718\n",
      "Precision client:\n",
      " 0.25926406926406925\n"
     ]
    }
   ],
   "source": [
    "print(\"Precision test:\\n\", best_option_Decision_Tree['Precision Test'])\n",
    "print(\"Precision client:\\n\", best_option_Decision_Tree['Precision Client'])"
   ]
  },
  {
   "cell_type": "markdown",
   "metadata": {},
   "source": [
    "##### 7.1.3 Recall\n",
    "\n",
    "________________"
   ]
  },
  {
   "cell_type": "code",
   "execution_count": 124,
   "metadata": {},
   "outputs": [
    {
     "name": "stdout",
     "output_type": "stream",
     "text": [
      "Recall test:\n",
      " 0.8086134453781512\n",
      "Recall client:\n",
      " 0.2538961038961039\n"
     ]
    }
   ],
   "source": [
    "print(\"Recall test:\\n\", best_option_Decision_Tree['Recall Test'])\n",
    "print(\"Recall client:\\n\", best_option_Decision_Tree['Recall Client'])"
   ]
  },
  {
   "cell_type": "markdown",
   "metadata": {},
   "source": [
    "##### 7.1.4 Accuracy\n",
    "\n",
    "________________"
   ]
  },
  {
   "cell_type": "code",
   "execution_count": 125,
   "metadata": {},
   "outputs": [
    {
     "name": "stdout",
     "output_type": "stream",
     "text": [
      "Accuracy test:\n",
      " 0.8505747126436781\n",
      "Accuracy client:\n",
      " 0.4666666666666667\n"
     ]
    }
   ],
   "source": [
    "print(\"Accuracy test:\\n\", best_option_Decision_Tree['Accuracy Test'])\n",
    "print(\"Accuracy client:\\n\", best_option_Decision_Tree['Accuracy Client'])"
   ]
  },
  {
   "cell_type": "markdown",
   "metadata": {},
   "source": [
    "### 7.2 Support Vector Machine Evaluation\n",
    "\n",
    "______________________"
   ]
  },
  {
   "cell_type": "code",
   "execution_count": 126,
   "metadata": {},
   "outputs": [
    {
     "name": "stdout",
     "output_type": "stream",
     "text": [
      "Best Prameters:\n",
      " {'C': 1000, 'break_ties': False, 'cache_size': 200, 'class_weight': None, 'coef0': 0.0, 'decision_function_shape': 'ovr', 'degree': 3, 'gamma': 0.01, 'kernel': 'linear', 'max_iter': -1, 'probability': False, 'random_state': None, 'shrinking': True, 'tol': 0.001, 'verbose': False}\n",
      "Gamma:\n",
      " 0.01\n",
      "Oversampling Method applied:\n",
      " doubling\n",
      "Feature Selection Method applied:\n",
      " All\n",
      "Feature Selected:\n",
      " ['age', 'sex', 'cp', 'trestbps', 'chol', 'fbs', 'restecg', 'thalach', 'exang', 'oldpeak', 'slope', 'ca', 'thal', 'num']\n"
     ]
    }
   ],
   "source": [
    "best_option_SVM = SVM_evaluation.iloc[0]\n",
    "\n",
    "print(\"Best Prameters:\\n\", best_option_SVM['Parameters'])\n",
    "\n",
    "print(\"Gamma:\\n\", best_option_SVM['Gamma'])\n",
    "\n",
    "print(\"Oversampling Method applied:\\n\", best_option_SVM['Oversampling'])\n",
    "\n",
    "print(\"Feature Selection Method applied:\\n\", best_option_SVM['Feature Selection'])\n",
    "\n",
    "print(\"Feature Selected:\\n\", best_option_SVM['Features'])"
   ]
  },
  {
   "cell_type": "markdown",
   "metadata": {},
   "source": [
    "##### 7.2.1 Confusion Matrix\n",
    "\n",
    "________________"
   ]
  },
  {
   "cell_type": "code",
   "execution_count": 127,
   "metadata": {},
   "outputs": [
    {
     "data": {
      "image/png": "[encoded data removed]",
      "text/plain": [
       "<Figure size 750x750 with 1 Axes>"
      ]
     },
     "metadata": {},
     "output_type": "display_data"
    }
   ],
   "source": [
    "fig, ax = plt.subplots(figsize=(7.5, 7.5))\n",
    "ax.matshow(best_option_SVM['Confusion Matrix Test'], cmap=plt.cm.Blues, alpha=0.3)\n",
    "for i in range(best_option_SVM['Confusion Matrix Test'].shape[0]):\n",
    "\n",
    "    for j in range(best_option_SVM['Confusion Matrix Test'].shape[1]):\n",
    "        \n",
    "        ax.text(x=j, y=i,s=best_option_SVM['Confusion Matrix Test'][i, j], va='center', ha='center', size='xx-large')\n",
    " \n",
    "plt.xlabel('Predictions', fontsize=18)\n",
    "plt.ylabel('Actuals', fontsize=18)\n",
    "#plt.title('Confusion Matrix for Test in SVM', fontsize=18)\n",
    "plt.savefig('.\\SVM_Confusion_Matrix_1.eps', format='eps')\n",
    "plt.show()"
   ]
  },
  {
   "cell_type": "code",
   "execution_count": 128,
   "metadata": {},
   "outputs": [
    {
     "data": {
      "image/png": "[encoded data removed]",
      "text/plain": [
       "<Figure size 750x750 with 1 Axes>"
      ]
     },
     "metadata": {},
     "output_type": "display_data"
    }
   ],
   "source": [
    "fig, ax = plt.subplots(figsize=(7.5, 7.5))\n",
    "ax.matshow(best_option_SVM['Confusion Matrix Client'], cmap=plt.cm.Blues, alpha=0.3)\n",
    "for i in range(best_option_SVM['Confusion Matrix Client'].shape[0]):\n",
    "\n",
    "    for j in range(best_option_SVM['Confusion Matrix Client'].shape[1]):\n",
    "        \n",
    "        ax.text(x=j, y=i,s=best_option_SVM['Confusion Matrix Client'][i, j], va='center', ha='center', size='xx-large')\n",
    " \n",
    "plt.xlabel('Predictions', fontsize=18)\n",
    "plt.ylabel('Actuals', fontsize=18)\n",
    "#plt.title('Confusion Matrix for Client in SVM', fontsize=18)\n",
    "plt.savefig('.\\SVM_Confusion_Matrix_2.eps', format='eps')\n",
    "plt.show()"
   ]
  },
  {
   "cell_type": "markdown",
   "metadata": {},
   "source": [
    "##### 7.2.2 Precision\n",
    "\n",
    "________________"
   ]
  },
  {
   "cell_type": "code",
   "execution_count": 129,
   "metadata": {},
   "outputs": [
    {
     "name": "stdout",
     "output_type": "stream",
     "text": [
      "Precision test:\n",
      " 0.38496188496188494\n",
      "Precision client:\n",
      " 0.2398617511520737\n"
     ]
    }
   ],
   "source": [
    "print(\"Precision test:\\n\", best_option_SVM['Precision Test'])\n",
    "print(\"Precision client:\\n\", best_option_SVM['Precision Client'])"
   ]
  },
  {
   "cell_type": "markdown",
   "metadata": {},
   "source": [
    "##### 7.2.3 Recall\n",
    "\n",
    "________________"
   ]
  },
  {
   "cell_type": "code",
   "execution_count": 130,
   "metadata": {},
   "outputs": [
    {
     "name": "stdout",
     "output_type": "stream",
     "text": [
      "Recall test:\n",
      " 0.40785014005602244\n",
      "Recall client:\n",
      " 0.2393668831168831\n"
     ]
    }
   ],
   "source": [
    "print(\"Recall test:\\n\", best_option_SVM['Recall Test'])\n",
    "print(\"Recall client:\\n\", best_option_SVM['Recall Client'])"
   ]
  },
  {
   "cell_type": "markdown",
   "metadata": {},
   "source": [
    "##### 7.2.4 Accuracy\n",
    "\n",
    "________________"
   ]
  },
  {
   "cell_type": "code",
   "execution_count": 131,
   "metadata": {},
   "outputs": [
    {
     "name": "stdout",
     "output_type": "stream",
     "text": [
      "Accuracy test:\n",
      " 0.5402298850574713\n",
      "Accuracy client:\n",
      " 0.48333333333333334\n"
     ]
    }
   ],
   "source": [
    "print(\"Accuracy test:\\n\", best_option_SVM['Accuracy Test'])\n",
    "print(\"Accuracy client:\\n\", best_option_SVM['Accuracy Client'])"
   ]
  },
  {
   "cell_type": "markdown",
   "metadata": {},
   "source": [
    "### 7.3 K-Nearest-Neighbors Evaluation\n",
    "\n",
    "______________________"
   ]
  },
  {
   "cell_type": "code",
   "execution_count": 132,
   "metadata": {},
   "outputs": [
    {
     "name": "stdout",
     "output_type": "stream",
     "text": [
      "Best Prameters:\n",
      " {'algorithm': 'auto', 'leaf_size': 30, 'metric': 'cityblock', 'metric_params': None, 'n_jobs': None, 'n_neighbors': 1, 'p': 2, 'weights': 'uniform'}\n",
      "Oversampling Method applied:\n",
      " doubling\n",
      "Feature Selection Method applied:\n",
      " All\n",
      "Feature Selected:\n",
      " ['age', 'sex', 'cp', 'trestbps', 'chol', 'fbs', 'restecg', 'thalach', 'exang', 'oldpeak', 'slope', 'ca', 'thal', 'num']\n"
     ]
    }
   ],
   "source": [
    "best_option_KNN = KNN_evaluation.iloc[0]\n",
    "\n",
    "print(\"Best Prameters:\\n\", best_option_KNN['Parameters'])\n",
    "\n",
    "print(\"Oversampling Method applied:\\n\", best_option_KNN['Oversampling'])\n",
    "\n",
    "print(\"Feature Selection Method applied:\\n\", best_option_KNN['Feature Selection'])\n",
    "\n",
    "print(\"Feature Selected:\\n\", best_option_KNN['Features'])"
   ]
  },
  {
   "cell_type": "markdown",
   "metadata": {},
   "source": [
    "##### 7.3.1 Confusion Matrix\n",
    "\n",
    "________________"
   ]
  },
  {
   "cell_type": "code",
   "execution_count": 133,
   "metadata": {},
   "outputs": [
    {
     "data": {
      "image/png": "[encoded data removed]",
      "text/plain": [
       "<Figure size 750x750 with 1 Axes>"
      ]
     },
     "metadata": {},
     "output_type": "display_data"
    }
   ],
   "source": [
    "fig, ax = plt.subplots(figsize=(7.5, 7.5))\n",
    "ax.matshow(best_option_KNN['Confusion Matrix Test'], cmap=plt.cm.Blues, alpha=0.3)\n",
    "for i in range(best_option_KNN['Confusion Matrix Test'].shape[0]):\n",
    "\n",
    "    for j in range(best_option_KNN['Confusion Matrix Test'].shape[1]):\n",
    "        \n",
    "        ax.text(x=j, y=i,s=best_option_KNN['Confusion Matrix Test'][i, j], va='center', ha='center', size='xx-large')\n",
    " \n",
    "plt.xlabel('Predictions', fontsize=18)\n",
    "plt.ylabel('Actuals', fontsize=18)\n",
    "#plt.title('Confusion Matrix for Test in KNN', fontsize=18)\n",
    "plt.savefig('.\\KNN_Confusion_Matrix_1.eps', format='eps')\n",
    "plt.show()"
   ]
  },
  {
   "cell_type": "code",
   "execution_count": 134,
   "metadata": {},
   "outputs": [
    {
     "data": {
      "image/png": "[encoded data removed]",
      "text/plain": [
       "<Figure size 750x750 with 1 Axes>"
      ]
     },
     "metadata": {},
     "output_type": "display_data"
    }
   ],
   "source": [
    "fig, ax = plt.subplots(figsize=(7.5, 7.5))\n",
    "ax.matshow(best_option_KNN['Confusion Matrix Client'], cmap=plt.cm.Blues, alpha=0.3)\n",
    "for i in range(best_option_KNN['Confusion Matrix Client'].shape[0]):\n",
    "\n",
    "    for j in range(best_option_KNN['Confusion Matrix Client'].shape[1]):\n",
    "        \n",
    "        ax.text(x=j, y=i,s=best_option_KNN['Confusion Matrix Client'][i, j], va='center', ha='center', size='xx-large')\n",
    " \n",
    "plt.xlabel('Predictions', fontsize=18)\n",
    "plt.ylabel('Actuals', fontsize=18)\n",
    "#plt.title('Confusion Matrix for Client in KNN', fontsize=18)\n",
    "plt.savefig('.\\KNN_Confusion_Matrix_2.eps', format='eps')\n",
    "plt.show()"
   ]
  },
  {
   "cell_type": "markdown",
   "metadata": {},
   "source": [
    "##### 7.3.2 Precision\n",
    "\n",
    "________________"
   ]
  },
  {
   "cell_type": "code",
   "execution_count": 135,
   "metadata": {},
   "outputs": [
    {
     "name": "stdout",
     "output_type": "stream",
     "text": [
      "Precision test:\n",
      " 0.8296969696969697\n",
      "Precision client:\n",
      " 0.24571428571428572\n"
     ]
    }
   ],
   "source": [
    "print(\"Precision test:\\n\", best_option_KNN['Precision Test'])\n",
    "print(\"Precision client:\\n\", best_option_KNN['Precision Client'])"
   ]
  },
  {
   "cell_type": "markdown",
   "metadata": {},
   "source": [
    "##### 7.3.3 Recall\n",
    "\n",
    "________________"
   ]
  },
  {
   "cell_type": "code",
   "execution_count": 136,
   "metadata": {},
   "outputs": [
    {
     "name": "stdout",
     "output_type": "stream",
     "text": [
      "Recall test:\n",
      " 0.759873949579832\n",
      "Recall client:\n",
      " 0.2470779220779221\n"
     ]
    }
   ],
   "source": [
    "print(\"Recall test:\\n\", best_option_KNN['Recall Test'])\n",
    "print(\"Recall client:\\n\", best_option_KNN['Recall Client'])"
   ]
  },
  {
   "cell_type": "markdown",
   "metadata": {},
   "source": [
    "##### 7.3.4 Accuracy\n",
    "\n",
    "________________"
   ]
  },
  {
   "cell_type": "code",
   "execution_count": 137,
   "metadata": {},
   "outputs": [
    {
     "name": "stdout",
     "output_type": "stream",
     "text": [
      "Accuracy test:\n",
      " 0.8045977011494253\n",
      "Accuracy client:\n",
      " 0.4166666666666667\n"
     ]
    }
   ],
   "source": [
    "print(\"Accuracy test:\\n\", best_option_KNN['Accuracy Test'])\n",
    "print(\"Accuracy client:\\n\", best_option_KNN['Accuracy Client'])"
   ]
  },
  {
   "cell_type": "markdown",
   "id": "07fd4e59",
   "metadata": {},
   "source": [
    "# 9. References\n",
    "<a id=\"1\">[1]</a>\n",
    "Anggoro, Dimas Aryo and Kurnia, Naqshauliza Devi (2020). \n",
    "Comparison of accuracy level of support vector machine (SVM) and K-nearest neighbors (KNN) algorithms in predicting heart disease\n",
    "International Journal, 8(5), 1689--1694.\n",
    "\n",
    "<a id=\"2\">[2]</a>\n",
    "https://www.kaggle.com/code/zawlinnnaing/svm-for-multiclass-classification"
   ]
  }
 ],
 "metadata": {
  "kernelspec": {
   "display_name": "Python 3 (ipykernel)",
   "language": "python",
   "name": "python3"
  },
  "language_info": {
   "codemirror_mode": {
    "name": "ipython",
    "version": 3
   },
   "file_extension": ".py",
   "mimetype": "text/x-python",
   "name": "python",
   "nbconvert_exporter": "python",
   "pygments_lexer": "ipython3",
   "version": "3.9.18"
  }
 },
 "nbformat": 4,
 "nbformat_minor": 5
}
