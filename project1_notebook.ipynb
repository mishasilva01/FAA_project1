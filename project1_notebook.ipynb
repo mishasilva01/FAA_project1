{
 "cells": [
  {
   "cell_type": "markdown",
   "id": "8aa42fe9",
   "metadata": {},
   "source": [
    "# 1. First steps"
   ]
  },
  {
   "cell_type": "markdown",
   "id": "3732025e",
   "metadata": {},
   "source": [
    "Important libraries:"
   ]
  },
  {
   "cell_type": "code",
   "execution_count": 1,
   "id": "149f21df",
   "metadata": {},
   "outputs": [],
   "source": [
    "import pandas as pd\n",
    "import numpy as np\n",
    "import matplotlib.pyplot as plt"
   ]
  },
  {
   "cell_type": "code",
   "execution_count": 40,
   "id": "e9bcb757",
   "metadata": {
    "scrolled": false
   },
   "outputs": [
    {
     "name": "stdout",
     "output_type": "stream",
     "text": [
      "Requirement already satisfied: ucimlrepo in c:\\users\\miguel silva\\documents\\anaconda\\lib\\site-packages (0.0.2)\n",
      "Note: you may need to restart the kernel to use updated packages.\n"
     ]
    }
   ],
   "source": [
    "pip install ucimlrepo"
   ]
  },
  {
   "cell_type": "code",
   "execution_count": 2,
   "id": "eb66768e",
   "metadata": {
    "scrolled": false
   },
   "outputs": [],
   "source": [
    "from ucimlrepo import fetch_ucirepo \n",
    "  \n",
    "# fetch dataset \n",
    "heart_disease = fetch_ucirepo(id=45) \n",
    "  \n",
    "# data (as pandas dataframes) \n",
    "X = heart_disease.data.features \n",
    "y = heart_disease.data.targets \n",
    "\n",
    "df = pd.concat([X, y], axis=1)\n",
    "df.to_csv(\"dataset.csv\")"
   ]
  },
  {
   "cell_type": "markdown",
   "id": "e087521a",
   "metadata": {},
   "source": [
    "# 2. Getting acquainted with data"
   ]
  },
  {
   "cell_type": "markdown",
   "id": "64c92594",
   "metadata": {
    "scrolled": false
   },
   "source": [
    "- Categorical features:\n",
    "   - *age*\n",
    "   - *trestbps* - resting blood pressure (in mm Hg on admission to the hospital)\n",
    "   - *chol* - serum cholesterol in mg/dl\n",
    "   - *thalach* - Maximum heart rate achieved\n",
    "   - *oldpeak* -  ST depression induced by exercise relative to rest \n",
    "   - *ca* - Number of major vessels (0-3) colored by fluoroscopy\n",
    "\n",
    "- Integer features\n",
    "   - *sex* \n",
    "       - 0: female\n",
    "       - 1: male\n",
    "   - *cp* - chest pain\n",
    "       - 1: typical angina\n",
    "       - 2: atypical angina\n",
    "       - 3: non-anginal pain\n",
    "       - 4: asymptomatic\n",
    "   - *fbs* - fasting blood sugar > 120 mg/dl\n",
    "       - 0: False\n",
    "       - 1: True\n",
    "   - *restecg* - Resting electrocardiographic results\n",
    "       - 0: Normal\n",
    "       - 1: Having ST-T wave abnormality (T wave inversions and/or ST elevation or depression of > 0.05 mV)\n",
    "       - 2: Showing probable or definite left ventricular hypertrophy by Estes' criteria\n",
    "   - *exang* - Exercise induced angina\n",
    "       - 0: No\n",
    "       - 1: Yes\n",
    "   - *slope* - The slope of the peak exercise ST segment\n",
    "       - 1: Up sloping\n",
    "       - 2: Flat\n",
    "       - 3: Down sloping\n",
    "   - *thal*\n",
    "       - 3: Normal\n",
    "       - 6: Fixed defect\n",
    "       - 7: Reversible defect\n",
    "- Label\n",
    "    - *num* - The final diagnosis of heart disease (angiographic disease status)\n",
    "\n",
    "##### The information was taken from:\n",
    "Nassif A. (et al). 2018. Machine Learning Classifications of Coronary Artery Disease. DOI: 10.1109/iSAI-NLP.2018.8692942"
   ]
  },
  {
   "cell_type": "code",
   "execution_count": 3,
   "id": "f80b46f1",
   "metadata": {
    "scrolled": true
   },
   "outputs": [
    {
     "data": {
      "text/html": [
       "<div>\n",
       "<style scoped>\n",
       "    .dataframe tbody tr th:only-of-type {\n",
       "        vertical-align: middle;\n",
       "    }\n",
       "\n",
       "    .dataframe tbody tr th {\n",
       "        vertical-align: top;\n",
       "    }\n",
       "\n",
       "    .dataframe thead th {\n",
       "        text-align: right;\n",
       "    }\n",
       "</style>\n",
       "<table border=\"1\" class=\"dataframe\">\n",
       "  <thead>\n",
       "    <tr style=\"text-align: right;\">\n",
       "      <th></th>\n",
       "      <th>age</th>\n",
       "      <th>sex</th>\n",
       "      <th>cp</th>\n",
       "      <th>trestbps</th>\n",
       "      <th>chol</th>\n",
       "      <th>fbs</th>\n",
       "      <th>restecg</th>\n",
       "      <th>thalach</th>\n",
       "      <th>exang</th>\n",
       "      <th>oldpeak</th>\n",
       "      <th>slope</th>\n",
       "      <th>ca</th>\n",
       "      <th>thal</th>\n",
       "      <th>num</th>\n",
       "    </tr>\n",
       "  </thead>\n",
       "  <tbody>\n",
       "    <tr>\n",
       "      <th>0</th>\n",
       "      <td>63</td>\n",
       "      <td>1</td>\n",
       "      <td>1</td>\n",
       "      <td>145</td>\n",
       "      <td>233</td>\n",
       "      <td>1</td>\n",
       "      <td>2</td>\n",
       "      <td>150</td>\n",
       "      <td>0</td>\n",
       "      <td>2.3</td>\n",
       "      <td>3</td>\n",
       "      <td>0.0</td>\n",
       "      <td>6.0</td>\n",
       "      <td>0</td>\n",
       "    </tr>\n",
       "    <tr>\n",
       "      <th>1</th>\n",
       "      <td>67</td>\n",
       "      <td>1</td>\n",
       "      <td>4</td>\n",
       "      <td>160</td>\n",
       "      <td>286</td>\n",
       "      <td>0</td>\n",
       "      <td>2</td>\n",
       "      <td>108</td>\n",
       "      <td>1</td>\n",
       "      <td>1.5</td>\n",
       "      <td>2</td>\n",
       "      <td>3.0</td>\n",
       "      <td>3.0</td>\n",
       "      <td>2</td>\n",
       "    </tr>\n",
       "    <tr>\n",
       "      <th>2</th>\n",
       "      <td>67</td>\n",
       "      <td>1</td>\n",
       "      <td>4</td>\n",
       "      <td>120</td>\n",
       "      <td>229</td>\n",
       "      <td>0</td>\n",
       "      <td>2</td>\n",
       "      <td>129</td>\n",
       "      <td>1</td>\n",
       "      <td>2.6</td>\n",
       "      <td>2</td>\n",
       "      <td>2.0</td>\n",
       "      <td>7.0</td>\n",
       "      <td>1</td>\n",
       "    </tr>\n",
       "    <tr>\n",
       "      <th>3</th>\n",
       "      <td>37</td>\n",
       "      <td>1</td>\n",
       "      <td>3</td>\n",
       "      <td>130</td>\n",
       "      <td>250</td>\n",
       "      <td>0</td>\n",
       "      <td>0</td>\n",
       "      <td>187</td>\n",
       "      <td>0</td>\n",
       "      <td>3.5</td>\n",
       "      <td>3</td>\n",
       "      <td>0.0</td>\n",
       "      <td>3.0</td>\n",
       "      <td>0</td>\n",
       "    </tr>\n",
       "    <tr>\n",
       "      <th>4</th>\n",
       "      <td>41</td>\n",
       "      <td>0</td>\n",
       "      <td>2</td>\n",
       "      <td>130</td>\n",
       "      <td>204</td>\n",
       "      <td>0</td>\n",
       "      <td>2</td>\n",
       "      <td>172</td>\n",
       "      <td>0</td>\n",
       "      <td>1.4</td>\n",
       "      <td>1</td>\n",
       "      <td>0.0</td>\n",
       "      <td>3.0</td>\n",
       "      <td>0</td>\n",
       "    </tr>\n",
       "  </tbody>\n",
       "</table>\n",
       "</div>"
      ],
      "text/plain": [
       "   age  sex  cp  trestbps  chol  fbs  restecg  thalach  exang  oldpeak  slope  \\\n",
       "0   63    1   1       145   233    1        2      150      0      2.3      3   \n",
       "1   67    1   4       160   286    0        2      108      1      1.5      2   \n",
       "2   67    1   4       120   229    0        2      129      1      2.6      2   \n",
       "3   37    1   3       130   250    0        0      187      0      3.5      3   \n",
       "4   41    0   2       130   204    0        2      172      0      1.4      1   \n",
       "\n",
       "    ca  thal  num  \n",
       "0  0.0   6.0    0  \n",
       "1  3.0   3.0    2  \n",
       "2  2.0   7.0    1  \n",
       "3  0.0   3.0    0  \n",
       "4  0.0   3.0    0  "
      ]
     },
     "execution_count": 3,
     "metadata": {},
     "output_type": "execute_result"
    }
   ],
   "source": [
    "df.head()"
   ]
  },
  {
   "cell_type": "code",
   "execution_count": 4,
   "id": "075a0e22",
   "metadata": {},
   "outputs": [
    {
     "name": "stdout",
     "output_type": "stream",
     "text": [
      "<class 'pandas.core.frame.DataFrame'>\n",
      "RangeIndex: 303 entries, 0 to 302\n",
      "Data columns (total 14 columns):\n",
      " #   Column    Non-Null Count  Dtype  \n",
      "---  ------    --------------  -----  \n",
      " 0   age       303 non-null    int64  \n",
      " 1   sex       303 non-null    int64  \n",
      " 2   cp        303 non-null    int64  \n",
      " 3   trestbps  303 non-null    int64  \n",
      " 4   chol      303 non-null    int64  \n",
      " 5   fbs       303 non-null    int64  \n",
      " 6   restecg   303 non-null    int64  \n",
      " 7   thalach   303 non-null    int64  \n",
      " 8   exang     303 non-null    int64  \n",
      " 9   oldpeak   303 non-null    float64\n",
      " 10  slope     303 non-null    int64  \n",
      " 11  ca        299 non-null    float64\n",
      " 12  thal      301 non-null    float64\n",
      " 13  num       303 non-null    int64  \n",
      "dtypes: float64(3), int64(11)\n",
      "memory usage: 33.3 KB\n"
     ]
    }
   ],
   "source": [
    "df.info()"
   ]
  },
  {
   "cell_type": "code",
   "execution_count": 5,
   "id": "74ee3d17",
   "metadata": {
    "scrolled": true
   },
   "outputs": [
    {
     "data": {
      "text/html": [
       "<div>\n",
       "<style scoped>\n",
       "    .dataframe tbody tr th:only-of-type {\n",
       "        vertical-align: middle;\n",
       "    }\n",
       "\n",
       "    .dataframe tbody tr th {\n",
       "        vertical-align: top;\n",
       "    }\n",
       "\n",
       "    .dataframe thead th {\n",
       "        text-align: right;\n",
       "    }\n",
       "</style>\n",
       "<table border=\"1\" class=\"dataframe\">\n",
       "  <thead>\n",
       "    <tr style=\"text-align: right;\">\n",
       "      <th></th>\n",
       "      <th>age</th>\n",
       "      <th>sex</th>\n",
       "      <th>cp</th>\n",
       "      <th>trestbps</th>\n",
       "      <th>chol</th>\n",
       "      <th>fbs</th>\n",
       "      <th>restecg</th>\n",
       "      <th>thalach</th>\n",
       "      <th>exang</th>\n",
       "      <th>oldpeak</th>\n",
       "      <th>slope</th>\n",
       "      <th>ca</th>\n",
       "      <th>thal</th>\n",
       "      <th>num</th>\n",
       "    </tr>\n",
       "  </thead>\n",
       "  <tbody>\n",
       "    <tr>\n",
       "      <th>count</th>\n",
       "      <td>303.000000</td>\n",
       "      <td>303.000000</td>\n",
       "      <td>303.000000</td>\n",
       "      <td>303.000000</td>\n",
       "      <td>303.000000</td>\n",
       "      <td>303.000000</td>\n",
       "      <td>303.000000</td>\n",
       "      <td>303.000000</td>\n",
       "      <td>303.000000</td>\n",
       "      <td>303.000000</td>\n",
       "      <td>303.000000</td>\n",
       "      <td>299.000000</td>\n",
       "      <td>301.000000</td>\n",
       "      <td>303.000000</td>\n",
       "    </tr>\n",
       "    <tr>\n",
       "      <th>mean</th>\n",
       "      <td>54.438944</td>\n",
       "      <td>0.679868</td>\n",
       "      <td>3.158416</td>\n",
       "      <td>131.689769</td>\n",
       "      <td>246.693069</td>\n",
       "      <td>0.148515</td>\n",
       "      <td>0.990099</td>\n",
       "      <td>149.607261</td>\n",
       "      <td>0.326733</td>\n",
       "      <td>1.039604</td>\n",
       "      <td>1.600660</td>\n",
       "      <td>0.672241</td>\n",
       "      <td>4.734219</td>\n",
       "      <td>0.937294</td>\n",
       "    </tr>\n",
       "    <tr>\n",
       "      <th>std</th>\n",
       "      <td>9.038662</td>\n",
       "      <td>0.467299</td>\n",
       "      <td>0.960126</td>\n",
       "      <td>17.599748</td>\n",
       "      <td>51.776918</td>\n",
       "      <td>0.356198</td>\n",
       "      <td>0.994971</td>\n",
       "      <td>22.875003</td>\n",
       "      <td>0.469794</td>\n",
       "      <td>1.161075</td>\n",
       "      <td>0.616226</td>\n",
       "      <td>0.937438</td>\n",
       "      <td>1.939706</td>\n",
       "      <td>1.228536</td>\n",
       "    </tr>\n",
       "    <tr>\n",
       "      <th>min</th>\n",
       "      <td>29.000000</td>\n",
       "      <td>0.000000</td>\n",
       "      <td>1.000000</td>\n",
       "      <td>94.000000</td>\n",
       "      <td>126.000000</td>\n",
       "      <td>0.000000</td>\n",
       "      <td>0.000000</td>\n",
       "      <td>71.000000</td>\n",
       "      <td>0.000000</td>\n",
       "      <td>0.000000</td>\n",
       "      <td>1.000000</td>\n",
       "      <td>0.000000</td>\n",
       "      <td>3.000000</td>\n",
       "      <td>0.000000</td>\n",
       "    </tr>\n",
       "    <tr>\n",
       "      <th>25%</th>\n",
       "      <td>48.000000</td>\n",
       "      <td>0.000000</td>\n",
       "      <td>3.000000</td>\n",
       "      <td>120.000000</td>\n",
       "      <td>211.000000</td>\n",
       "      <td>0.000000</td>\n",
       "      <td>0.000000</td>\n",
       "      <td>133.500000</td>\n",
       "      <td>0.000000</td>\n",
       "      <td>0.000000</td>\n",
       "      <td>1.000000</td>\n",
       "      <td>0.000000</td>\n",
       "      <td>3.000000</td>\n",
       "      <td>0.000000</td>\n",
       "    </tr>\n",
       "    <tr>\n",
       "      <th>50%</th>\n",
       "      <td>56.000000</td>\n",
       "      <td>1.000000</td>\n",
       "      <td>3.000000</td>\n",
       "      <td>130.000000</td>\n",
       "      <td>241.000000</td>\n",
       "      <td>0.000000</td>\n",
       "      <td>1.000000</td>\n",
       "      <td>153.000000</td>\n",
       "      <td>0.000000</td>\n",
       "      <td>0.800000</td>\n",
       "      <td>2.000000</td>\n",
       "      <td>0.000000</td>\n",
       "      <td>3.000000</td>\n",
       "      <td>0.000000</td>\n",
       "    </tr>\n",
       "    <tr>\n",
       "      <th>75%</th>\n",
       "      <td>61.000000</td>\n",
       "      <td>1.000000</td>\n",
       "      <td>4.000000</td>\n",
       "      <td>140.000000</td>\n",
       "      <td>275.000000</td>\n",
       "      <td>0.000000</td>\n",
       "      <td>2.000000</td>\n",
       "      <td>166.000000</td>\n",
       "      <td>1.000000</td>\n",
       "      <td>1.600000</td>\n",
       "      <td>2.000000</td>\n",
       "      <td>1.000000</td>\n",
       "      <td>7.000000</td>\n",
       "      <td>2.000000</td>\n",
       "    </tr>\n",
       "    <tr>\n",
       "      <th>max</th>\n",
       "      <td>77.000000</td>\n",
       "      <td>1.000000</td>\n",
       "      <td>4.000000</td>\n",
       "      <td>200.000000</td>\n",
       "      <td>564.000000</td>\n",
       "      <td>1.000000</td>\n",
       "      <td>2.000000</td>\n",
       "      <td>202.000000</td>\n",
       "      <td>1.000000</td>\n",
       "      <td>6.200000</td>\n",
       "      <td>3.000000</td>\n",
       "      <td>3.000000</td>\n",
       "      <td>7.000000</td>\n",
       "      <td>4.000000</td>\n",
       "    </tr>\n",
       "  </tbody>\n",
       "</table>\n",
       "</div>"
      ],
      "text/plain": [
       "              age         sex          cp    trestbps        chol         fbs  \\\n",
       "count  303.000000  303.000000  303.000000  303.000000  303.000000  303.000000   \n",
       "mean    54.438944    0.679868    3.158416  131.689769  246.693069    0.148515   \n",
       "std      9.038662    0.467299    0.960126   17.599748   51.776918    0.356198   \n",
       "min     29.000000    0.000000    1.000000   94.000000  126.000000    0.000000   \n",
       "25%     48.000000    0.000000    3.000000  120.000000  211.000000    0.000000   \n",
       "50%     56.000000    1.000000    3.000000  130.000000  241.000000    0.000000   \n",
       "75%     61.000000    1.000000    4.000000  140.000000  275.000000    0.000000   \n",
       "max     77.000000    1.000000    4.000000  200.000000  564.000000    1.000000   \n",
       "\n",
       "          restecg     thalach       exang     oldpeak       slope          ca  \\\n",
       "count  303.000000  303.000000  303.000000  303.000000  303.000000  299.000000   \n",
       "mean     0.990099  149.607261    0.326733    1.039604    1.600660    0.672241   \n",
       "std      0.994971   22.875003    0.469794    1.161075    0.616226    0.937438   \n",
       "min      0.000000   71.000000    0.000000    0.000000    1.000000    0.000000   \n",
       "25%      0.000000  133.500000    0.000000    0.000000    1.000000    0.000000   \n",
       "50%      1.000000  153.000000    0.000000    0.800000    2.000000    0.000000   \n",
       "75%      2.000000  166.000000    1.000000    1.600000    2.000000    1.000000   \n",
       "max      2.000000  202.000000    1.000000    6.200000    3.000000    3.000000   \n",
       "\n",
       "             thal         num  \n",
       "count  301.000000  303.000000  \n",
       "mean     4.734219    0.937294  \n",
       "std      1.939706    1.228536  \n",
       "min      3.000000    0.000000  \n",
       "25%      3.000000    0.000000  \n",
       "50%      3.000000    0.000000  \n",
       "75%      7.000000    2.000000  \n",
       "max      7.000000    4.000000  "
      ]
     },
     "execution_count": 5,
     "metadata": {},
     "output_type": "execute_result"
    }
   ],
   "source": [
    "df.describe()"
   ]
  },
  {
   "cell_type": "code",
   "execution_count": 6,
   "id": "833e3f6d",
   "metadata": {
    "scrolled": false
   },
   "outputs": [
    {
     "data": {
      "text/plain": [
       "age         0\n",
       "sex         0\n",
       "cp          0\n",
       "trestbps    0\n",
       "chol        0\n",
       "fbs         0\n",
       "restecg     0\n",
       "thalach     0\n",
       "exang       0\n",
       "oldpeak     0\n",
       "slope       0\n",
       "ca          4\n",
       "thal        2\n",
       "dtype: int64"
      ]
     },
     "execution_count": 6,
     "metadata": {},
     "output_type": "execute_result"
    }
   ],
   "source": [
    "# checking the number of missing values in each feature\n",
    "X.isnull().sum()"
   ]
  },
  {
   "cell_type": "code",
   "execution_count": 7,
   "id": "311225c3",
   "metadata": {
    "scrolled": true
   },
   "outputs": [
    {
     "data": {
      "text/plain": [
       "0    164\n",
       "1     55\n",
       "2     36\n",
       "3     35\n",
       "4     13\n",
       "Name: num, dtype: int64"
      ]
     },
     "execution_count": 7,
     "metadata": {},
     "output_type": "execute_result"
    }
   ],
   "source": [
    "# number of samples per class\n",
    "df.num.value_counts()"
   ]
  },
  {
   "cell_type": "code",
   "execution_count": 8,
   "id": "bc5d934c",
   "metadata": {},
   "outputs": [
    {
     "data": {
      "image/png": "[encoded data removed]",
      "text/plain": [
       "<Figure size 432x288 with 1 Axes>"
      ]
     },
     "metadata": {
      "needs_background": "light"
     },
     "output_type": "display_data"
    },
    {
     "data": {
      "image/png": "[encoded data removed]",
      "text/plain": [
       "<Figure size 432x288 with 1 Axes>"
      ]
     },
     "metadata": {
      "needs_background": "light"
     },
     "output_type": "display_data"
    },
    {
     "data": {
      "image/png": "[encoded data removed]",
      "text/plain": [
       "<Figure size 432x288 with 1 Axes>"
      ]
     },
     "metadata": {
      "needs_background": "light"
     },
     "output_type": "display_data"
    },
    {
     "data": {
      "image/png": "[encoded data removed]",
      "text/plain": [
       "<Figure size 432x288 with 1 Axes>"
      ]
     },
     "metadata": {
      "needs_background": "light"
     },
     "output_type": "display_data"
    },
    {
     "data": {
      "image/png": "[encoded data removed]",
      "text/plain": [
       "<Figure size 432x288 with 1 Axes>"
      ]
     },
     "metadata": {
      "needs_background": "light"
     },
     "output_type": "display_data"
    },
    {
     "data": {
      "image/png": "[encoded data removed]",
      "text/plain": [
       "<Figure size 432x288 with 1 Axes>"
      ]
     },
     "metadata": {
      "needs_background": "light"
     },
     "output_type": "display_data"
    },
    {
     "data": {
      "image/png": "[encoded data removed]",
      "text/plain": [
       "<Figure size 432x288 with 1 Axes>"
      ]
     },
     "metadata": {
      "needs_background": "light"
     },
     "output_type": "display_data"
    },
    {
     "data": {
      "image/png": "[encoded data removed]",
      "text/plain": [
       "<Figure size 432x288 with 1 Axes>"
      ]
     },
     "metadata": {
      "needs_background": "light"
     },
     "output_type": "display_data"
    },
    {
     "data": {
      "image/png": "[encoded data removed]",
      "text/plain": [
       "<Figure size 432x288 with 1 Axes>"
      ]
     },
     "metadata": {
      "needs_background": "light"
     },
     "output_type": "display_data"
    },
    {
     "data": {
      "image/png": "[encoded data removed]",
      "text/plain": [
       "<Figure size 432x288 with 1 Axes>"
      ]
     },
     "metadata": {
      "needs_background": "light"
     },
     "output_type": "display_data"
    },
    {
     "data": {
      "image/png": "[encoded data removed]",
      "text/plain": [
       "<Figure size 432x288 with 1 Axes>"
      ]
     },
     "metadata": {
      "needs_background": "light"
     },
     "output_type": "display_data"
    },
    {
     "data": {
      "image/png": "[encoded data removed]",
      "text/plain": [
       "<Figure size 432x288 with 1 Axes>"
      ]
     },
     "metadata": {
      "needs_background": "light"
     },
     "output_type": "display_data"
    },
    {
     "data": {
      "image/png": "[encoded data removed]",
      "text/plain": [
       "<Figure size 432x288 with 1 Axes>"
      ]
     },
     "metadata": {
      "needs_background": "light"
     },
     "output_type": "display_data"
    },
    {
     "data": {
      "image/png": "[encoded data removed]",
      "text/plain": [
       "<Figure size 432x288 with 1 Axes>"
      ]
     },
     "metadata": {
      "needs_background": "light"
     },
     "output_type": "display_data"
    }
   ],
   "source": [
    "# histograms\n",
    "for column in df.columns:\n",
    "    plt.figure()\n",
    "    plt.hist(df[column])\n",
    "    plt.title(column)"
   ]
  },
  {
   "cell_type": "markdown",
   "id": "c7693417",
   "metadata": {},
   "source": [
    "# 3. Data cleaning"
   ]
  },
  {
   "cell_type": "markdown",
   "id": "36c20045",
   "metadata": {},
   "source": [
    "Data is already pretty clean, and there are only 6 NaN values, so we can drop those observations."
   ]
  },
  {
   "cell_type": "markdown",
   "id": "3a1302ec",
   "metadata": {},
   "source": [
    "### 3.1 Dropping NaN values"
   ]
  },
  {
   "cell_type": "code",
   "execution_count": 9,
   "id": "2f0282e8",
   "metadata": {
    "scrolled": true
   },
   "outputs": [
    {
     "data": {
      "text/plain": [
       "0    160\n",
       "1     54\n",
       "2     35\n",
       "3     35\n",
       "4     13\n",
       "Name: num, dtype: int64"
      ]
     },
     "execution_count": 9,
     "metadata": {},
     "output_type": "execute_result"
    }
   ],
   "source": [
    "df_filtered = df.dropna()\n",
    "\n",
    "# re-checking the number of samples per class adfer dropping missing values\n",
    "df_filtered.num.value_counts()"
   ]
  },
  {
   "cell_type": "markdown",
   "id": "0b8ad683",
   "metadata": {},
   "source": [
    "- As we can see, the NaN values were part of the classes with more observations, therefore droppins NaN values does not worsen the class imbalance problem.\n",
    "- Since we only have 13 samples from the class with least amount of samples (y = 4), we cannot afford taking some samples as testing set, because we would loose valuable information. Therefore, we are going to work only with training and validation sets."
   ]
  },
  {
   "cell_type": "markdown",
   "id": "1ae63ada",
   "metadata": {},
   "source": [
    "### 3.2 Splitting the data frame into features (X) and labels (y)"
   ]
  },
  {
   "cell_type": "code",
   "execution_count": 10,
   "id": "0cd07cf3",
   "metadata": {},
   "outputs": [],
   "source": [
    "# splitting into features (X) and labels (y)\n",
    "X = df_filtered.copy().drop(columns=['num'])\n",
    "y = df_filtered.num.copy()"
   ]
  },
  {
   "cell_type": "markdown",
   "id": "05939cb3",
   "metadata": {},
   "source": [
    "# 4. Data selection"
   ]
  },
  {
   "cell_type": "markdown",
   "id": "3b5ef86e",
   "metadata": {},
   "source": [
    "### 4.1 Data selection by correlation elimination"
   ]
  },
  {
   "cell_type": "markdown",
   "id": "1e1c9086",
   "metadata": {},
   "source": [
    "We are using Spearman's correlation instead of Pearson's because practically all features don't have a normal distribution (as seen in the histograms above) and Spearman's is more robust to outliers."
   ]
  },
  {
   "cell_type": "markdown",
   "id": "6d8e4e3f",
   "metadata": {},
   "source": [
    "Nassif et al. (2018; 10.1109/iSAI-NLP.2018.8692942) also applied correlation evaluation, but did not use Spearman's correlation."
   ]
  },
  {
   "cell_type": "code",
   "execution_count": 11,
   "id": "ebd64951",
   "metadata": {
    "scrolled": true
   },
   "outputs": [
    {
     "data": {
      "text/html": [
       "<div>\n",
       "<style scoped>\n",
       "    .dataframe tbody tr th:only-of-type {\n",
       "        vertical-align: middle;\n",
       "    }\n",
       "\n",
       "    .dataframe tbody tr th {\n",
       "        vertical-align: top;\n",
       "    }\n",
       "\n",
       "    .dataframe thead th {\n",
       "        text-align: right;\n",
       "    }\n",
       "</style>\n",
       "<table border=\"1\" class=\"dataframe\">\n",
       "  <thead>\n",
       "    <tr style=\"text-align: right;\">\n",
       "      <th></th>\n",
       "      <th>age</th>\n",
       "      <th>sex</th>\n",
       "      <th>cp</th>\n",
       "      <th>trestbps</th>\n",
       "      <th>chol</th>\n",
       "      <th>fbs</th>\n",
       "      <th>restecg</th>\n",
       "      <th>thalach</th>\n",
       "      <th>exang</th>\n",
       "      <th>oldpeak</th>\n",
       "      <th>slope</th>\n",
       "      <th>ca</th>\n",
       "      <th>thal</th>\n",
       "    </tr>\n",
       "  </thead>\n",
       "  <tbody>\n",
       "    <tr>\n",
       "      <th>age</th>\n",
       "      <td>1.000000</td>\n",
       "      <td>0.095407</td>\n",
       "      <td>0.132724</td>\n",
       "      <td>0.299610</td>\n",
       "      <td>0.183440</td>\n",
       "      <td>0.124634</td>\n",
       "      <td>0.148214</td>\n",
       "      <td>0.392571</td>\n",
       "      <td>0.088740</td>\n",
       "      <td>0.251928</td>\n",
       "      <td>0.173531</td>\n",
       "      <td>0.381848</td>\n",
       "      <td>0.126845</td>\n",
       "    </tr>\n",
       "    <tr>\n",
       "      <th>sex</th>\n",
       "      <td>0.095407</td>\n",
       "      <td>1.000000</td>\n",
       "      <td>0.041193</td>\n",
       "      <td>0.063575</td>\n",
       "      <td>0.153370</td>\n",
       "      <td>0.038850</td>\n",
       "      <td>0.033856</td>\n",
       "      <td>0.056308</td>\n",
       "      <td>0.143581</td>\n",
       "      <td>0.112289</td>\n",
       "      <td>0.027147</td>\n",
       "      <td>0.103088</td>\n",
       "      <td>0.375283</td>\n",
       "    </tr>\n",
       "    <tr>\n",
       "      <th>cp</th>\n",
       "      <td>0.132724</td>\n",
       "      <td>0.041193</td>\n",
       "      <td>1.000000</td>\n",
       "      <td>0.000526</td>\n",
       "      <td>0.073163</td>\n",
       "      <td>0.065440</td>\n",
       "      <td>0.092061</td>\n",
       "      <td>0.380677</td>\n",
       "      <td>0.424162</td>\n",
       "      <td>0.244908</td>\n",
       "      <td>0.204161</td>\n",
       "      <td>0.263578</td>\n",
       "      <td>0.310267</td>\n",
       "    </tr>\n",
       "    <tr>\n",
       "      <th>trestbps</th>\n",
       "      <td>0.299610</td>\n",
       "      <td>0.063575</td>\n",
       "      <td>0.000526</td>\n",
       "      <td>1.000000</td>\n",
       "      <td>0.139193</td>\n",
       "      <td>0.155462</td>\n",
       "      <td>0.145812</td>\n",
       "      <td>0.046782</td>\n",
       "      <td>0.052445</td>\n",
       "      <td>0.155770</td>\n",
       "      <td>0.089026</td>\n",
       "      <td>0.078291</td>\n",
       "      <td>0.111381</td>\n",
       "    </tr>\n",
       "    <tr>\n",
       "      <th>chol</th>\n",
       "      <td>0.183440</td>\n",
       "      <td>0.153370</td>\n",
       "      <td>0.073163</td>\n",
       "      <td>0.139193</td>\n",
       "      <td>1.000000</td>\n",
       "      <td>0.016965</td>\n",
       "      <td>0.162501</td>\n",
       "      <td>0.034758</td>\n",
       "      <td>0.083200</td>\n",
       "      <td>0.024128</td>\n",
       "      <td>0.003445</td>\n",
       "      <td>0.134837</td>\n",
       "      <td>0.003786</td>\n",
       "    </tr>\n",
       "    <tr>\n",
       "      <th>fbs</th>\n",
       "      <td>0.124634</td>\n",
       "      <td>0.038850</td>\n",
       "      <td>0.065440</td>\n",
       "      <td>0.155462</td>\n",
       "      <td>0.016965</td>\n",
       "      <td>1.000000</td>\n",
       "      <td>0.068813</td>\n",
       "      <td>0.010158</td>\n",
       "      <td>0.000893</td>\n",
       "      <td>0.026181</td>\n",
       "      <td>0.031339</td>\n",
       "      <td>0.143631</td>\n",
       "      <td>0.054634</td>\n",
       "    </tr>\n",
       "    <tr>\n",
       "      <th>restecg</th>\n",
       "      <td>0.148214</td>\n",
       "      <td>0.033856</td>\n",
       "      <td>0.092061</td>\n",
       "      <td>0.145812</td>\n",
       "      <td>0.162501</td>\n",
       "      <td>0.068813</td>\n",
       "      <td>1.000000</td>\n",
       "      <td>0.105222</td>\n",
       "      <td>0.081891</td>\n",
       "      <td>0.104377</td>\n",
       "      <td>0.139604</td>\n",
       "      <td>0.127669</td>\n",
       "      <td>0.015262</td>\n",
       "    </tr>\n",
       "    <tr>\n",
       "      <th>thalach</th>\n",
       "      <td>0.392571</td>\n",
       "      <td>0.056308</td>\n",
       "      <td>0.380677</td>\n",
       "      <td>0.046782</td>\n",
       "      <td>0.034758</td>\n",
       "      <td>0.010158</td>\n",
       "      <td>0.105222</td>\n",
       "      <td>1.000000</td>\n",
       "      <td>0.404741</td>\n",
       "      <td>0.436650</td>\n",
       "      <td>0.438043</td>\n",
       "      <td>0.289906</td>\n",
       "      <td>0.291965</td>\n",
       "    </tr>\n",
       "    <tr>\n",
       "      <th>exang</th>\n",
       "      <td>0.088740</td>\n",
       "      <td>0.143581</td>\n",
       "      <td>0.424162</td>\n",
       "      <td>0.052445</td>\n",
       "      <td>0.083200</td>\n",
       "      <td>0.000893</td>\n",
       "      <td>0.081891</td>\n",
       "      <td>0.404741</td>\n",
       "      <td>1.000000</td>\n",
       "      <td>0.295863</td>\n",
       "      <td>0.266624</td>\n",
       "      <td>0.181963</td>\n",
       "      <td>0.324950</td>\n",
       "    </tr>\n",
       "    <tr>\n",
       "      <th>oldpeak</th>\n",
       "      <td>0.251928</td>\n",
       "      <td>0.112289</td>\n",
       "      <td>0.244908</td>\n",
       "      <td>0.155770</td>\n",
       "      <td>0.024128</td>\n",
       "      <td>0.026181</td>\n",
       "      <td>0.104377</td>\n",
       "      <td>0.436650</td>\n",
       "      <td>0.295863</td>\n",
       "      <td>1.000000</td>\n",
       "      <td>0.593634</td>\n",
       "      <td>0.265438</td>\n",
       "      <td>0.356842</td>\n",
       "    </tr>\n",
       "    <tr>\n",
       "      <th>slope</th>\n",
       "      <td>0.173531</td>\n",
       "      <td>0.027147</td>\n",
       "      <td>0.204161</td>\n",
       "      <td>0.089026</td>\n",
       "      <td>0.003445</td>\n",
       "      <td>0.031339</td>\n",
       "      <td>0.139604</td>\n",
       "      <td>0.438043</td>\n",
       "      <td>0.266624</td>\n",
       "      <td>0.593634</td>\n",
       "      <td>1.000000</td>\n",
       "      <td>0.116434</td>\n",
       "      <td>0.280844</td>\n",
       "    </tr>\n",
       "    <tr>\n",
       "      <th>ca</th>\n",
       "      <td>0.381848</td>\n",
       "      <td>0.103088</td>\n",
       "      <td>0.263578</td>\n",
       "      <td>0.078291</td>\n",
       "      <td>0.134837</td>\n",
       "      <td>0.143631</td>\n",
       "      <td>0.127669</td>\n",
       "      <td>0.289906</td>\n",
       "      <td>0.181963</td>\n",
       "      <td>0.265438</td>\n",
       "      <td>0.116434</td>\n",
       "      <td>1.000000</td>\n",
       "      <td>0.262266</td>\n",
       "    </tr>\n",
       "    <tr>\n",
       "      <th>thal</th>\n",
       "      <td>0.126845</td>\n",
       "      <td>0.375283</td>\n",
       "      <td>0.310267</td>\n",
       "      <td>0.111381</td>\n",
       "      <td>0.003786</td>\n",
       "      <td>0.054634</td>\n",
       "      <td>0.015262</td>\n",
       "      <td>0.291965</td>\n",
       "      <td>0.324950</td>\n",
       "      <td>0.356842</td>\n",
       "      <td>0.280844</td>\n",
       "      <td>0.262266</td>\n",
       "      <td>1.000000</td>\n",
       "    </tr>\n",
       "  </tbody>\n",
       "</table>\n",
       "</div>"
      ],
      "text/plain": [
       "               age       sex        cp  trestbps      chol       fbs  \\\n",
       "age       1.000000  0.095407  0.132724  0.299610  0.183440  0.124634   \n",
       "sex       0.095407  1.000000  0.041193  0.063575  0.153370  0.038850   \n",
       "cp        0.132724  0.041193  1.000000  0.000526  0.073163  0.065440   \n",
       "trestbps  0.299610  0.063575  0.000526  1.000000  0.139193  0.155462   \n",
       "chol      0.183440  0.153370  0.073163  0.139193  1.000000  0.016965   \n",
       "fbs       0.124634  0.038850  0.065440  0.155462  0.016965  1.000000   \n",
       "restecg   0.148214  0.033856  0.092061  0.145812  0.162501  0.068813   \n",
       "thalach   0.392571  0.056308  0.380677  0.046782  0.034758  0.010158   \n",
       "exang     0.088740  0.143581  0.424162  0.052445  0.083200  0.000893   \n",
       "oldpeak   0.251928  0.112289  0.244908  0.155770  0.024128  0.026181   \n",
       "slope     0.173531  0.027147  0.204161  0.089026  0.003445  0.031339   \n",
       "ca        0.381848  0.103088  0.263578  0.078291  0.134837  0.143631   \n",
       "thal      0.126845  0.375283  0.310267  0.111381  0.003786  0.054634   \n",
       "\n",
       "           restecg   thalach     exang   oldpeak     slope        ca      thal  \n",
       "age       0.148214  0.392571  0.088740  0.251928  0.173531  0.381848  0.126845  \n",
       "sex       0.033856  0.056308  0.143581  0.112289  0.027147  0.103088  0.375283  \n",
       "cp        0.092061  0.380677  0.424162  0.244908  0.204161  0.263578  0.310267  \n",
       "trestbps  0.145812  0.046782  0.052445  0.155770  0.089026  0.078291  0.111381  \n",
       "chol      0.162501  0.034758  0.083200  0.024128  0.003445  0.134837  0.003786  \n",
       "fbs       0.068813  0.010158  0.000893  0.026181  0.031339  0.143631  0.054634  \n",
       "restecg   1.000000  0.105222  0.081891  0.104377  0.139604  0.127669  0.015262  \n",
       "thalach   0.105222  1.000000  0.404741  0.436650  0.438043  0.289906  0.291965  \n",
       "exang     0.081891  0.404741  1.000000  0.295863  0.266624  0.181963  0.324950  \n",
       "oldpeak   0.104377  0.436650  0.295863  1.000000  0.593634  0.265438  0.356842  \n",
       "slope     0.139604  0.438043  0.266624  0.593634  1.000000  0.116434  0.280844  \n",
       "ca        0.127669  0.289906  0.181963  0.265438  0.116434  1.000000  0.262266  \n",
       "thal      0.015262  0.291965  0.324950  0.356842  0.280844  0.262266  1.000000  "
      ]
     },
     "execution_count": 11,
     "metadata": {},
     "output_type": "execute_result"
    }
   ],
   "source": [
    "corr = X.corr(method='spearman')\n",
    "abs(corr)"
   ]
  },
  {
   "cell_type": "markdown",
   "id": "f1c90a24",
   "metadata": {},
   "source": [
    "Creating a function that selects features according correlation. The arguments of the function (1) the dataframe, (2) the correlation method, and (3) the correlation threshold for feature elimination."
   ]
  },
  {
   "cell_type": "code",
   "execution_count": 12,
   "id": "c64d1292",
   "metadata": {},
   "outputs": [],
   "source": [
    "def Corr_selection(df, corr_method, threshold):\n",
    "    \"\"\"\n",
    "    This function selects the features to be eliminate according to \n",
    "    a correlation threshold\n",
    "    \n",
    "    corr_matrix: has to be a pandas data frame n-by-n,\n",
    "    with n features as indices and columns.\n",
    "    threshold: has to by a int or float from 0 to 1\n",
    "    \"\"\"\n",
    "    corr_matrix = X.corr(method=corr_method)\n",
    "    # covert corr_matrix to absolute values\n",
    "    corr_matrix = np.array(abs(corr_matrix))\n",
    "    # all features available\n",
    "    features = np.array(df.columns)\n",
    "    \n",
    "    # list of features to eliminate\n",
    "    to_eliminate = []\n",
    "    \n",
    "    # runs all lines\n",
    "    for i in range(len(features)):\n",
    "        # runs all columns\n",
    "        for j in range(len(features)):\n",
    "            \n",
    "            if corr_matrix[i,j] > threshold and corr_matrix[i,j] != 1: \n",
    "                \n",
    "                if np.mean(corr_matrix[i,:]) > np.mean(corr_matrix[:,j]):\n",
    "                    to_eliminate.append(features[i])\n",
    "                else:\n",
    "                    to_eliminate.append(features[j])\n",
    "    \n",
    "    to_eliminate = np.unique(to_eliminate)\n",
    "    selected_features = list( features[~np.isin(features, to_eliminate)] )\n",
    "    \n",
    "    return selected_features"
   ]
  },
  {
   "cell_type": "code",
   "execution_count": 13,
   "id": "80b98d13",
   "metadata": {},
   "outputs": [
    {
     "name": "stdout",
     "output_type": "stream",
     "text": [
      "Remaining: ['sex', 'cp', 'trestbps', 'chol', 'fbs', 'restecg']\n"
     ]
    }
   ],
   "source": [
    "corr_selected_features = Corr_selection(X, 'spearman', 0.2)\n",
    "print(\"Remaining:\", corr_selected_features)"
   ]
  },
  {
   "cell_type": "markdown",
   "id": "ad870221",
   "metadata": {},
   "source": [
    "### 4.2 Data selection by information gain"
   ]
  },
  {
   "cell_type": "markdown",
   "id": "ecb2fc16",
   "metadata": {},
   "source": [
    "Creating a function that selects features according to Mutual Information Gain. "
   ]
  },
  {
   "cell_type": "markdown",
   "id": "6a72390a",
   "metadata": {},
   "source": [
    "References:\n",
    "- Nassif et al. (2018; 10.1109/iSAI-NLP.2018.8692942)\n",
    "- Guhanesvar. *Feature Selection Based on Mutual Information Gain for Classification and Regression*. Medium. June 26, 2021."
   ]
  },
  {
   "cell_type": "code",
   "execution_count": 14,
   "id": "d1997e98",
   "metadata": {},
   "outputs": [],
   "source": [
    "def InfoGain_selection(X, y, n_features):\n",
    "    \"\"\"\n",
    "    This function selects n_features according that have the greatest \n",
    "    mutual information classification\n",
    "    \"\"\"\n",
    "    from sklearn.feature_selection import mutual_info_classif\n",
    "    importance = mutual_info_classif(X, y)\n",
    "    importance = pd.Series(data = importance, index = X.columns)\n",
    "    importance = importance.sort_values(ascending=False)\n",
    "\n",
    "    selected_features = list(importance.iloc[:n_features].index)\n",
    "    \n",
    "    return importance, selected_features"
   ]
  },
  {
   "cell_type": "code",
   "execution_count": 15,
   "id": "0eea0d9f",
   "metadata": {},
   "outputs": [
    {
     "data": {
      "text/plain": [
       "Text(0, 0.5, 'Mutual Information Gain')"
      ]
     },
     "execution_count": 15,
     "metadata": {},
     "output_type": "execute_result"
    },
    {
     "data": {
      "image/png": "[encoded data removed]",
      "text/plain": [
       "<Figure size 432x288 with 1 Axes>"
      ]
     },
     "metadata": {
      "needs_background": "light"
     },
     "output_type": "display_data"
    }
   ],
   "source": [
    "importance, InfoGain_selected_features = InfoGain_selection(X, y, 6)\n",
    "\n",
    "plt.figure()\n",
    "plt.bar(importance.index, importance)\n",
    "plt.title(\"Feature importance\")\n",
    "plt.xlabel(\"Feature\")\n",
    "plt.ylabel(\"Mutual Information Gain\")"
   ]
  },
  {
   "cell_type": "markdown",
   "id": "8dae65fd",
   "metadata": {},
   "source": [
    "# 5. Creating models"
   ]
  },
  {
   "cell_type": "markdown",
   "id": "dd5eefe9",
   "metadata": {},
   "source": [
    "Here the goal is to classify the final diagnosis of heart disease according to [0, 1, 2, 3, 4], which is opposite to what literature does: they reduce the classification to binary."
   ]
  },
  {
   "cell_type": "markdown",
   "id": "6e10e9f4",
   "metadata": {},
   "source": [
    "### 5.1 Decision Tree"
   ]
  },
  {
   "cell_type": "markdown",
   "id": "1e796ec9",
   "metadata": {},
   "source": [
    "With a Decision Tree algorithm there is no need to standardize the data, these algorithms are not influenced by variance."
   ]
  },
  {
   "cell_type": "code",
   "execution_count": 16,
   "id": "8cd90f53",
   "metadata": {},
   "outputs": [],
   "source": [
    "from sklearn.model_selection import train_test_split\n",
    "from sklearn import tree\n",
    "from sklearn import metrics"
   ]
  },
  {
   "cell_type": "markdown",
   "id": "1a5144fc",
   "metadata": {},
   "source": [
    "##### 5.1.1 ... with correlation feature selection"
   ]
  },
  {
   "cell_type": "code",
   "execution_count": 17,
   "id": "abaf1b53",
   "metadata": {},
   "outputs": [
    {
     "name": "stdout",
     "output_type": "stream",
     "text": [
      "Decision Tree model, correlation selection\n",
      "Accuracy: 0.6166666666666667\n"
     ]
    }
   ],
   "source": [
    "X_train, X_test, y_train, y_test = train_test_split(X[corr_selected_features], y, \n",
    "                                                    test_size=0.20, random_state=42)\n",
    "\n",
    "classifier = tree.DecisionTreeClassifier(max_depth = 2)\n",
    "classifier = classifier.fit(X_train, y_train)\n",
    "y_predict = classifier.predict(X_test)\n",
    "\n",
    "accuracy = metrics.accuracy_score(y_test, y_predict)\n",
    "\n",
    "print(\"Decision Tree model, correlation selection\")\n",
    "print(\"Accuracy:\",accuracy)"
   ]
  },
  {
   "cell_type": "markdown",
   "id": "870243b7",
   "metadata": {},
   "source": [
    "##### 5.1.2 ... with multual information feature selection"
   ]
  },
  {
   "cell_type": "code",
   "execution_count": 23,
   "id": "ba42a1ab",
   "metadata": {},
   "outputs": [
    {
     "name": "stdout",
     "output_type": "stream",
     "text": [
      "Decision Tree model, InfoGain selection\n",
      "Accuracy: 0.65\n"
     ]
    }
   ],
   "source": [
    "X_train, X_test, y_train, y_test = train_test_split(X[InfoGain_selected_features], y, \n",
    "                                                    test_size=0.20, random_state=42)\n",
    "\n",
    "classifier = tree.DecisionTreeClassifier(max_depth = 3)\n",
    "classifier = classifier.fit(X_train, y_train)\n",
    "y_predict = classifier.predict(X_test)\n",
    "\n",
    "accuracy = metrics.accuracy_score(y_test, y_predict)\n",
    "\n",
    "print(\"Decision Tree model, InfoGain selection\")\n",
    "print(\"Accuracy:\",accuracy)"
   ]
  }
 ],
 "metadata": {
  "kernelspec": {
   "display_name": "Python 3 (ipykernel)",
   "language": "python",
   "name": "python3"
  },
  "language_info": {
   "codemirror_mode": {
    "name": "ipython",
    "version": 3
   },
   "file_extension": ".py",
   "mimetype": "text/x-python",
   "name": "python",
   "nbconvert_exporter": "python",
   "pygments_lexer": "ipython3",
   "version": "3.9.12"
  }
 },
 "nbformat": 4,
 "nbformat_minor": 5
}
