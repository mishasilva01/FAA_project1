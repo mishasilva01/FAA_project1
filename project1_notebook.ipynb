{
 "cells": [
  {
   "cell_type": "markdown",
   "id": "8aa42fe9",
   "metadata": {},
   "source": [
    "# 1. First steps"
   ]
  },
  {
   "cell_type": "markdown",
   "id": "3732025e",
   "metadata": {},
   "source": [
    "Important libraries:"
   ]
  },
  {
   "cell_type": "code",
   "execution_count": 1,
   "id": "149f21df",
   "metadata": {},
   "outputs": [],
   "source": [
    "import pandas as pd\n",
    "import numpy as np\n",
    "import matplotlib.pyplot as plt\n",
    "import warnings\n",
    "warnings.filterwarnings(\"ignore\")\n",
    "warnings.simplefilter(action='ignore', category=FutureWarning)"
   ]
  },
  {
   "cell_type": "code",
   "execution_count": 2,
   "id": "e9bcb757",
   "metadata": {
    "scrolled": false
   },
   "outputs": [],
   "source": [
    "# pip install ucimlrepo"
   ]
  },
  {
   "cell_type": "code",
   "execution_count": 2,
   "id": "eb66768e",
   "metadata": {
    "scrolled": false
   },
   "outputs": [],
   "source": [
    "from ucimlrepo import fetch_ucirepo \n",
    "  \n",
    "# fetch dataset \n",
    "heart_disease = fetch_ucirepo(id=45) \n",
    "  \n",
    "# data (as pandas dataframes) \n",
    "X = heart_disease.data.features \n",
    "y = heart_disease.data.targets \n",
    "\n",
    "df = pd.concat([X, y], axis=1)\n",
    "df.to_csv(\"dataset.csv\")"
   ]
  },
  {
   "cell_type": "markdown",
   "id": "e087521a",
   "metadata": {},
   "source": [
    "# 2. Getting acquainted with data"
   ]
  },
  {
   "cell_type": "markdown",
   "id": "64c92594",
   "metadata": {
    "scrolled": false
   },
   "source": [
    "- Categorical features:\n",
    "   - *age*\n",
    "   - *trestbps* - resting blood pressure /*mm Hg* (on admission to the hospital)\n",
    "   - *chol* - serum cholesterol in *mg/dl*\n",
    "   - *thalach* - Maximum heart rate achieved /*bps*\n",
    "   - *oldpeak* -  ST depression induced by exercise relative to rest \n",
    "   - *ca* - Number of major vessels (0-3) colored by fluoroscopy\n",
    "\n",
    "- Integer features:\n",
    "   - *sex* \n",
    "       - 0: female\n",
    "       - 1: male\n",
    "   - *cp* - chest pain\n",
    "       - 1: typical angina\n",
    "       - 2: atypical angina\n",
    "       - 3: non-anginal pain\n",
    "       - 4: asymptomatic\n",
    "   - *fbs* - fasting blood sugar > 120 mg/dl\n",
    "       - 0: False\n",
    "       - 1: True\n",
    "   - *restecg* - Resting electrocardiographic results\n",
    "       - 0: Normal\n",
    "       - 1: Having ST-T wave abnormality (T wave inversions and/or ST elevation or depression of > 0.05 mV)\n",
    "       - 2: Showing probable or definite left ventricular hypertrophy by Estes' criteria\n",
    "   - *exang* - Exercise induced angina\n",
    "       - 0: No\n",
    "       - 1: Yes\n",
    "   - *slope* - The slope of the peak exercise ST segment\n",
    "       - 1: Up sloping\n",
    "       - 2: Flat\n",
    "       - 3: Down sloping\n",
    "   - *thal*\n",
    "       - 3: Normal\n",
    "       - 6: Fixed defect\n",
    "       - 7: Reversible defect\n",
    "- Label\n",
    "    - *num* - The final diagnosis of heart disease (angiographic disease status)\n",
    "\n",
    "##### The information was taken from:\n",
    "Nassif A. (et al). 2018. Machine Learning Classifications of Coronary Artery Disease. DOI: 10.1109/iSAI-NLP.2018.8692942"
   ]
  },
  {
   "cell_type": "code",
   "execution_count": 3,
   "id": "f80b46f1",
   "metadata": {
    "scrolled": true
   },
   "outputs": [
    {
     "data": {
      "text/html": [
       "<div>\n",
       "<style scoped>\n",
       "    .dataframe tbody tr th:only-of-type {\n",
       "        vertical-align: middle;\n",
       "    }\n",
       "\n",
       "    .dataframe tbody tr th {\n",
       "        vertical-align: top;\n",
       "    }\n",
       "\n",
       "    .dataframe thead th {\n",
       "        text-align: right;\n",
       "    }\n",
       "</style>\n",
       "<table border=\"1\" class=\"dataframe\">\n",
       "  <thead>\n",
       "    <tr style=\"text-align: right;\">\n",
       "      <th></th>\n",
       "      <th>age</th>\n",
       "      <th>sex</th>\n",
       "      <th>cp</th>\n",
       "      <th>trestbps</th>\n",
       "      <th>chol</th>\n",
       "      <th>fbs</th>\n",
       "      <th>restecg</th>\n",
       "      <th>thalach</th>\n",
       "      <th>exang</th>\n",
       "      <th>oldpeak</th>\n",
       "      <th>slope</th>\n",
       "      <th>ca</th>\n",
       "      <th>thal</th>\n",
       "      <th>num</th>\n",
       "    </tr>\n",
       "  </thead>\n",
       "  <tbody>\n",
       "    <tr>\n",
       "      <th>0</th>\n",
       "      <td>63</td>\n",
       "      <td>1</td>\n",
       "      <td>1</td>\n",
       "      <td>145</td>\n",
       "      <td>233</td>\n",
       "      <td>1</td>\n",
       "      <td>2</td>\n",
       "      <td>150</td>\n",
       "      <td>0</td>\n",
       "      <td>2.3</td>\n",
       "      <td>3</td>\n",
       "      <td>0.0</td>\n",
       "      <td>6.0</td>\n",
       "      <td>0</td>\n",
       "    </tr>\n",
       "    <tr>\n",
       "      <th>1</th>\n",
       "      <td>67</td>\n",
       "      <td>1</td>\n",
       "      <td>4</td>\n",
       "      <td>160</td>\n",
       "      <td>286</td>\n",
       "      <td>0</td>\n",
       "      <td>2</td>\n",
       "      <td>108</td>\n",
       "      <td>1</td>\n",
       "      <td>1.5</td>\n",
       "      <td>2</td>\n",
       "      <td>3.0</td>\n",
       "      <td>3.0</td>\n",
       "      <td>2</td>\n",
       "    </tr>\n",
       "    <tr>\n",
       "      <th>2</th>\n",
       "      <td>67</td>\n",
       "      <td>1</td>\n",
       "      <td>4</td>\n",
       "      <td>120</td>\n",
       "      <td>229</td>\n",
       "      <td>0</td>\n",
       "      <td>2</td>\n",
       "      <td>129</td>\n",
       "      <td>1</td>\n",
       "      <td>2.6</td>\n",
       "      <td>2</td>\n",
       "      <td>2.0</td>\n",
       "      <td>7.0</td>\n",
       "      <td>1</td>\n",
       "    </tr>\n",
       "    <tr>\n",
       "      <th>3</th>\n",
       "      <td>37</td>\n",
       "      <td>1</td>\n",
       "      <td>3</td>\n",
       "      <td>130</td>\n",
       "      <td>250</td>\n",
       "      <td>0</td>\n",
       "      <td>0</td>\n",
       "      <td>187</td>\n",
       "      <td>0</td>\n",
       "      <td>3.5</td>\n",
       "      <td>3</td>\n",
       "      <td>0.0</td>\n",
       "      <td>3.0</td>\n",
       "      <td>0</td>\n",
       "    </tr>\n",
       "    <tr>\n",
       "      <th>4</th>\n",
       "      <td>41</td>\n",
       "      <td>0</td>\n",
       "      <td>2</td>\n",
       "      <td>130</td>\n",
       "      <td>204</td>\n",
       "      <td>0</td>\n",
       "      <td>2</td>\n",
       "      <td>172</td>\n",
       "      <td>0</td>\n",
       "      <td>1.4</td>\n",
       "      <td>1</td>\n",
       "      <td>0.0</td>\n",
       "      <td>3.0</td>\n",
       "      <td>0</td>\n",
       "    </tr>\n",
       "  </tbody>\n",
       "</table>\n",
       "</div>"
      ],
      "text/plain": [
       "   age  sex  cp  trestbps  chol  fbs  restecg  thalach  exang  oldpeak  slope  \\\n",
       "0   63    1   1       145   233    1        2      150      0      2.3      3   \n",
       "1   67    1   4       160   286    0        2      108      1      1.5      2   \n",
       "2   67    1   4       120   229    0        2      129      1      2.6      2   \n",
       "3   37    1   3       130   250    0        0      187      0      3.5      3   \n",
       "4   41    0   2       130   204    0        2      172      0      1.4      1   \n",
       "\n",
       "    ca  thal  num  \n",
       "0  0.0   6.0    0  \n",
       "1  3.0   3.0    2  \n",
       "2  2.0   7.0    1  \n",
       "3  0.0   3.0    0  \n",
       "4  0.0   3.0    0  "
      ]
     },
     "execution_count": 3,
     "metadata": {},
     "output_type": "execute_result"
    }
   ],
   "source": [
    "df.head()"
   ]
  },
  {
   "cell_type": "code",
   "execution_count": 4,
   "id": "075a0e22",
   "metadata": {},
   "outputs": [
    {
     "name": "stdout",
     "output_type": "stream",
     "text": [
      "<class 'pandas.core.frame.DataFrame'>\n",
      "RangeIndex: 303 entries, 0 to 302\n",
      "Data columns (total 14 columns):\n",
      " #   Column    Non-Null Count  Dtype  \n",
      "---  ------    --------------  -----  \n",
      " 0   age       303 non-null    int64  \n",
      " 1   sex       303 non-null    int64  \n",
      " 2   cp        303 non-null    int64  \n",
      " 3   trestbps  303 non-null    int64  \n",
      " 4   chol      303 non-null    int64  \n",
      " 5   fbs       303 non-null    int64  \n",
      " 6   restecg   303 non-null    int64  \n",
      " 7   thalach   303 non-null    int64  \n",
      " 8   exang     303 non-null    int64  \n",
      " 9   oldpeak   303 non-null    float64\n",
      " 10  slope     303 non-null    int64  \n",
      " 11  ca        299 non-null    float64\n",
      " 12  thal      301 non-null    float64\n",
      " 13  num       303 non-null    int64  \n",
      "dtypes: float64(3), int64(11)\n",
      "memory usage: 33.3 KB\n"
     ]
    }
   ],
   "source": [
    "df.info()"
   ]
  },
  {
   "cell_type": "code",
   "execution_count": 5,
   "id": "74ee3d17",
   "metadata": {
    "scrolled": true
   },
   "outputs": [
    {
     "data": {
      "text/html": [
       "<div>\n",
       "<style scoped>\n",
       "    .dataframe tbody tr th:only-of-type {\n",
       "        vertical-align: middle;\n",
       "    }\n",
       "\n",
       "    .dataframe tbody tr th {\n",
       "        vertical-align: top;\n",
       "    }\n",
       "\n",
       "    .dataframe thead th {\n",
       "        text-align: right;\n",
       "    }\n",
       "</style>\n",
       "<table border=\"1\" class=\"dataframe\">\n",
       "  <thead>\n",
       "    <tr style=\"text-align: right;\">\n",
       "      <th></th>\n",
       "      <th>age</th>\n",
       "      <th>sex</th>\n",
       "      <th>cp</th>\n",
       "      <th>trestbps</th>\n",
       "      <th>chol</th>\n",
       "      <th>fbs</th>\n",
       "      <th>restecg</th>\n",
       "      <th>thalach</th>\n",
       "      <th>exang</th>\n",
       "      <th>oldpeak</th>\n",
       "      <th>slope</th>\n",
       "      <th>ca</th>\n",
       "      <th>thal</th>\n",
       "      <th>num</th>\n",
       "    </tr>\n",
       "  </thead>\n",
       "  <tbody>\n",
       "    <tr>\n",
       "      <th>count</th>\n",
       "      <td>303.000000</td>\n",
       "      <td>303.000000</td>\n",
       "      <td>303.000000</td>\n",
       "      <td>303.000000</td>\n",
       "      <td>303.000000</td>\n",
       "      <td>303.000000</td>\n",
       "      <td>303.000000</td>\n",
       "      <td>303.000000</td>\n",
       "      <td>303.000000</td>\n",
       "      <td>303.000000</td>\n",
       "      <td>303.000000</td>\n",
       "      <td>299.000000</td>\n",
       "      <td>301.000000</td>\n",
       "      <td>303.000000</td>\n",
       "    </tr>\n",
       "    <tr>\n",
       "      <th>mean</th>\n",
       "      <td>54.438944</td>\n",
       "      <td>0.679868</td>\n",
       "      <td>3.158416</td>\n",
       "      <td>131.689769</td>\n",
       "      <td>246.693069</td>\n",
       "      <td>0.148515</td>\n",
       "      <td>0.990099</td>\n",
       "      <td>149.607261</td>\n",
       "      <td>0.326733</td>\n",
       "      <td>1.039604</td>\n",
       "      <td>1.600660</td>\n",
       "      <td>0.672241</td>\n",
       "      <td>4.734219</td>\n",
       "      <td>0.937294</td>\n",
       "    </tr>\n",
       "    <tr>\n",
       "      <th>std</th>\n",
       "      <td>9.038662</td>\n",
       "      <td>0.467299</td>\n",
       "      <td>0.960126</td>\n",
       "      <td>17.599748</td>\n",
       "      <td>51.776918</td>\n",
       "      <td>0.356198</td>\n",
       "      <td>0.994971</td>\n",
       "      <td>22.875003</td>\n",
       "      <td>0.469794</td>\n",
       "      <td>1.161075</td>\n",
       "      <td>0.616226</td>\n",
       "      <td>0.937438</td>\n",
       "      <td>1.939706</td>\n",
       "      <td>1.228536</td>\n",
       "    </tr>\n",
       "    <tr>\n",
       "      <th>min</th>\n",
       "      <td>29.000000</td>\n",
       "      <td>0.000000</td>\n",
       "      <td>1.000000</td>\n",
       "      <td>94.000000</td>\n",
       "      <td>126.000000</td>\n",
       "      <td>0.000000</td>\n",
       "      <td>0.000000</td>\n",
       "      <td>71.000000</td>\n",
       "      <td>0.000000</td>\n",
       "      <td>0.000000</td>\n",
       "      <td>1.000000</td>\n",
       "      <td>0.000000</td>\n",
       "      <td>3.000000</td>\n",
       "      <td>0.000000</td>\n",
       "    </tr>\n",
       "    <tr>\n",
       "      <th>25%</th>\n",
       "      <td>48.000000</td>\n",
       "      <td>0.000000</td>\n",
       "      <td>3.000000</td>\n",
       "      <td>120.000000</td>\n",
       "      <td>211.000000</td>\n",
       "      <td>0.000000</td>\n",
       "      <td>0.000000</td>\n",
       "      <td>133.500000</td>\n",
       "      <td>0.000000</td>\n",
       "      <td>0.000000</td>\n",
       "      <td>1.000000</td>\n",
       "      <td>0.000000</td>\n",
       "      <td>3.000000</td>\n",
       "      <td>0.000000</td>\n",
       "    </tr>\n",
       "    <tr>\n",
       "      <th>50%</th>\n",
       "      <td>56.000000</td>\n",
       "      <td>1.000000</td>\n",
       "      <td>3.000000</td>\n",
       "      <td>130.000000</td>\n",
       "      <td>241.000000</td>\n",
       "      <td>0.000000</td>\n",
       "      <td>1.000000</td>\n",
       "      <td>153.000000</td>\n",
       "      <td>0.000000</td>\n",
       "      <td>0.800000</td>\n",
       "      <td>2.000000</td>\n",
       "      <td>0.000000</td>\n",
       "      <td>3.000000</td>\n",
       "      <td>0.000000</td>\n",
       "    </tr>\n",
       "    <tr>\n",
       "      <th>75%</th>\n",
       "      <td>61.000000</td>\n",
       "      <td>1.000000</td>\n",
       "      <td>4.000000</td>\n",
       "      <td>140.000000</td>\n",
       "      <td>275.000000</td>\n",
       "      <td>0.000000</td>\n",
       "      <td>2.000000</td>\n",
       "      <td>166.000000</td>\n",
       "      <td>1.000000</td>\n",
       "      <td>1.600000</td>\n",
       "      <td>2.000000</td>\n",
       "      <td>1.000000</td>\n",
       "      <td>7.000000</td>\n",
       "      <td>2.000000</td>\n",
       "    </tr>\n",
       "    <tr>\n",
       "      <th>max</th>\n",
       "      <td>77.000000</td>\n",
       "      <td>1.000000</td>\n",
       "      <td>4.000000</td>\n",
       "      <td>200.000000</td>\n",
       "      <td>564.000000</td>\n",
       "      <td>1.000000</td>\n",
       "      <td>2.000000</td>\n",
       "      <td>202.000000</td>\n",
       "      <td>1.000000</td>\n",
       "      <td>6.200000</td>\n",
       "      <td>3.000000</td>\n",
       "      <td>3.000000</td>\n",
       "      <td>7.000000</td>\n",
       "      <td>4.000000</td>\n",
       "    </tr>\n",
       "  </tbody>\n",
       "</table>\n",
       "</div>"
      ],
      "text/plain": [
       "              age         sex          cp    trestbps        chol         fbs  \\\n",
       "count  303.000000  303.000000  303.000000  303.000000  303.000000  303.000000   \n",
       "mean    54.438944    0.679868    3.158416  131.689769  246.693069    0.148515   \n",
       "std      9.038662    0.467299    0.960126   17.599748   51.776918    0.356198   \n",
       "min     29.000000    0.000000    1.000000   94.000000  126.000000    0.000000   \n",
       "25%     48.000000    0.000000    3.000000  120.000000  211.000000    0.000000   \n",
       "50%     56.000000    1.000000    3.000000  130.000000  241.000000    0.000000   \n",
       "75%     61.000000    1.000000    4.000000  140.000000  275.000000    0.000000   \n",
       "max     77.000000    1.000000    4.000000  200.000000  564.000000    1.000000   \n",
       "\n",
       "          restecg     thalach       exang     oldpeak       slope          ca  \\\n",
       "count  303.000000  303.000000  303.000000  303.000000  303.000000  299.000000   \n",
       "mean     0.990099  149.607261    0.326733    1.039604    1.600660    0.672241   \n",
       "std      0.994971   22.875003    0.469794    1.161075    0.616226    0.937438   \n",
       "min      0.000000   71.000000    0.000000    0.000000    1.000000    0.000000   \n",
       "25%      0.000000  133.500000    0.000000    0.000000    1.000000    0.000000   \n",
       "50%      1.000000  153.000000    0.000000    0.800000    2.000000    0.000000   \n",
       "75%      2.000000  166.000000    1.000000    1.600000    2.000000    1.000000   \n",
       "max      2.000000  202.000000    1.000000    6.200000    3.000000    3.000000   \n",
       "\n",
       "             thal         num  \n",
       "count  301.000000  303.000000  \n",
       "mean     4.734219    0.937294  \n",
       "std      1.939706    1.228536  \n",
       "min      3.000000    0.000000  \n",
       "25%      3.000000    0.000000  \n",
       "50%      3.000000    0.000000  \n",
       "75%      7.000000    2.000000  \n",
       "max      7.000000    4.000000  "
      ]
     },
     "execution_count": 5,
     "metadata": {},
     "output_type": "execute_result"
    }
   ],
   "source": [
    "df.describe()"
   ]
  },
  {
   "cell_type": "code",
   "execution_count": 6,
   "id": "833e3f6d",
   "metadata": {
    "scrolled": false
   },
   "outputs": [
    {
     "data": {
      "text/plain": [
       "age         0\n",
       "sex         0\n",
       "cp          0\n",
       "trestbps    0\n",
       "chol        0\n",
       "fbs         0\n",
       "restecg     0\n",
       "thalach     0\n",
       "exang       0\n",
       "oldpeak     0\n",
       "slope       0\n",
       "ca          4\n",
       "thal        2\n",
       "dtype: int64"
      ]
     },
     "execution_count": 6,
     "metadata": {},
     "output_type": "execute_result"
    }
   ],
   "source": [
    "# checking the number of missing values in each feature\n",
    "X.isnull().sum()"
   ]
  },
  {
   "cell_type": "code",
   "execution_count": 7,
   "id": "311225c3",
   "metadata": {
    "scrolled": true
   },
   "outputs": [
    {
     "data": {
      "text/plain": [
       "0    164\n",
       "1     55\n",
       "2     36\n",
       "3     35\n",
       "4     13\n",
       "Name: num, dtype: int64"
      ]
     },
     "execution_count": 7,
     "metadata": {},
     "output_type": "execute_result"
    }
   ],
   "source": [
    "# number of samples per class\n",
    "df.num.value_counts()"
   ]
  },
  {
   "cell_type": "code",
   "execution_count": 8,
   "id": "bc5d934c",
   "metadata": {},
   "outputs": [
    {
     "data": {
      "image/png": "[encoded data removed]",
      "text/plain": [
       "<Figure size 432x288 with 1 Axes>"
      ]
     },
     "metadata": {
      "needs_background": "light"
     },
     "output_type": "display_data"
    },
    {
     "data": {
      "image/png": "[encoded data removed]",
      "text/plain": [
       "<Figure size 432x288 with 1 Axes>"
      ]
     },
     "metadata": {
      "needs_background": "light"
     },
     "output_type": "display_data"
    },
    {
     "data": {
      "image/png": "[encoded data removed]",
      "text/plain": [
       "<Figure size 432x288 with 1 Axes>"
      ]
     },
     "metadata": {
      "needs_background": "light"
     },
     "output_type": "display_data"
    },
    {
     "data": {
      "image/png": "[encoded data removed]",
      "text/plain": [
       "<Figure size 432x288 with 1 Axes>"
      ]
     },
     "metadata": {
      "needs_background": "light"
     },
     "output_type": "display_data"
    },
    {
     "data": {
      "image/png": "[encoded data removed]",
      "text/plain": [
       "<Figure size 432x288 with 1 Axes>"
      ]
     },
     "metadata": {
      "needs_background": "light"
     },
     "output_type": "display_data"
    },
    {
     "data": {
      "image/png": "[encoded data removed]",
      "text/plain": [
       "<Figure size 432x288 with 1 Axes>"
      ]
     },
     "metadata": {
      "needs_background": "light"
     },
     "output_type": "display_data"
    },
    {
     "data": {
      "image/png": "[encoded data removed]",
      "text/plain": [
       "<Figure size 432x288 with 1 Axes>"
      ]
     },
     "metadata": {
      "needs_background": "light"
     },
     "output_type": "display_data"
    },
    {
     "data": {
      "image/png": "[encoded data removed]",
      "text/plain": [
       "<Figure size 432x288 with 1 Axes>"
      ]
     },
     "metadata": {
      "needs_background": "light"
     },
     "output_type": "display_data"
    },
    {
     "data": {
      "image/png": "[encoded data removed]",
      "text/plain": [
       "<Figure size 432x288 with 1 Axes>"
      ]
     },
     "metadata": {
      "needs_background": "light"
     },
     "output_type": "display_data"
    },
    {
     "data": {
      "image/png": "[encoded data removed]",
      "text/plain": [
       "<Figure size 432x288 with 1 Axes>"
      ]
     },
     "metadata": {
      "needs_background": "light"
     },
     "output_type": "display_data"
    },
    {
     "data": {
      "image/png": "[encoded data removed]",
      "text/plain": [
       "<Figure size 432x288 with 1 Axes>"
      ]
     },
     "metadata": {
      "needs_background": "light"
     },
     "output_type": "display_data"
    },
    {
     "data": {
      "image/png": "[encoded data removed]",
      "text/plain": [
       "<Figure size 432x288 with 1 Axes>"
      ]
     },
     "metadata": {
      "needs_background": "light"
     },
     "output_type": "display_data"
    },
    {
     "data": {
      "image/png": "[encoded data removed]",
      "text/plain": [
       "<Figure size 432x288 with 1 Axes>"
      ]
     },
     "metadata": {
      "needs_background": "light"
     },
     "output_type": "display_data"
    },
    {
     "data": {
      "image/png": "[encoded data removed]",
      "text/plain": [
       "<Figure size 432x288 with 1 Axes>"
      ]
     },
     "metadata": {
      "needs_background": "light"
     },
     "output_type": "display_data"
    }
   ],
   "source": [
    "# histograms\n",
    "n_fig = 1\n",
    "for column in df.columns:\n",
    "    plt.figure()\n",
    "    plt.hist(df[column])\n",
    "    plt.title(\"Fig.\"+str(n_fig)+\" - \"+column)\n",
    "    n_fig += 1"
   ]
  },
  {
   "cell_type": "markdown",
   "id": "c7693417",
   "metadata": {},
   "source": [
    "# 3. Breaf data cleaning"
   ]
  },
  {
   "cell_type": "markdown",
   "id": "36c20045",
   "metadata": {},
   "source": [
    "Data is already pretty clean, and there are only 6 NaN values, so we can drop those observations."
   ]
  },
  {
   "cell_type": "markdown",
   "id": "3a1302ec",
   "metadata": {},
   "source": [
    "### 3.1 Dropping NaN values"
   ]
  },
  {
   "cell_type": "code",
   "execution_count": 9,
   "id": "2f0282e8",
   "metadata": {
    "scrolled": true
   },
   "outputs": [
    {
     "data": {
      "text/plain": [
       "0    160\n",
       "1     54\n",
       "2     35\n",
       "3     35\n",
       "4     13\n",
       "Name: num, dtype: int64"
      ]
     },
     "execution_count": 9,
     "metadata": {},
     "output_type": "execute_result"
    }
   ],
   "source": [
    "df = df.dropna()\n",
    "\n",
    "# re-checking the number of samples per class adfer dropping missing values\n",
    "df.num.value_counts()"
   ]
  },
  {
   "cell_type": "markdown",
   "id": "0b8ad683",
   "metadata": {},
   "source": [
    "- As we can see, the NaN values were part of the classes with more observations, therefore droppins NaN values does not worsen the class imbalance problem.\n",
    "- Since we only have 13 samples from the class with least amount of samples (y = 4), we cannot afford taking some samples as testing set, because we would loose valuable information. Therefore, we are going to work only with training and validation sets."
   ]
  },
  {
   "cell_type": "markdown",
   "id": "2f68b4dc",
   "metadata": {},
   "source": [
    "### 3.2 Separating a dataset for testing (*client data*)"
   ]
  },
  {
   "cell_type": "markdown",
   "id": "326d5b49",
   "metadata": {},
   "source": [
    "The traditional approach for splitting the dataset into train+validation+test is 60%+20%+20%"
   ]
  },
  {
   "cell_type": "code",
   "execution_count": 10,
   "id": "39f141cd",
   "metadata": {},
   "outputs": [],
   "source": [
    "# dataset to be reserved for future testing (client role)\n",
    "# making sure we have 20% from every class\n",
    "client_set = df.copy().groupby('num').apply(lambda Class: Class.sample(frac = 0.20))\n",
    "client_set.index = client_set.index.droplevel(0)\n",
    "\n",
    "# new data frame for creaing and testing models\n",
    "df_filtered = df.copy().drop(client_set.index)\n",
    "\n",
    "# reseting indices\n",
    "client_set = client_set.reset_index(drop=True)\n",
    "df_filtered = df_filtered.reset_index(drop=True)"
   ]
  },
  {
   "cell_type": "code",
   "execution_count": 11,
   "id": "09b52529",
   "metadata": {},
   "outputs": [
    {
     "data": {
      "text/plain": [
       "(array([32.,  0., 11.,  0.,  0.,  7.,  0.,  7.,  0.,  3.]),\n",
       " array([0. , 0.4, 0.8, 1.2, 1.6, 2. , 2.4, 2.8, 3.2, 3.6, 4. ]),\n",
       " <BarContainer object of 10 artists>)"
      ]
     },
     "execution_count": 11,
     "metadata": {},
     "output_type": "execute_result"
    },
    {
     "data": {
      "image/png": "[encoded data removed]",
      "text/plain": [
       "<Figure size 432x288 with 1 Axes>"
      ]
     },
     "metadata": {
      "needs_background": "light"
     },
     "output_type": "display_data"
    }
   ],
   "source": [
    "plt.hist(client_set.num)"
   ]
  },
  {
   "cell_type": "markdown",
   "id": "05939cb3",
   "metadata": {},
   "source": [
    "# 4. Data selection"
   ]
  },
  {
   "cell_type": "markdown",
   "id": "d8723b70",
   "metadata": {},
   "source": [
    "### 4.1 Defining the oversampling method"
   ]
  },
  {
   "cell_type": "code",
   "execution_count": 15,
   "id": "56a8ee04",
   "metadata": {},
   "outputs": [],
   "source": [
    "# splitting into features (X) and labels (y)\n",
    "\n",
    "oversampling_method = input(\"Oversampling method (DOUBLING, SMOTE, CLASS WEIGHTS): \")\n",
    "\n",
    "if oversampling_method == \"DOUBLING\":\n",
    "    X = oversampling_double(df_filtered).drop(columns=['num'])\n",
    "    y = oversampling_double(df_filtered).num\n",
    "\n",
    "elif oversampling_method == \"SMOTE\":\n",
    "    X = oversampling_smote(df_filtered).drop(columns=['num'])\n",
    "    y = oversampling_smote(df_filtered).num \n",
    "    \n",
    "elif oversampling_method == \"CLASS WEIGHTS\":\n",
    "    X = df_filtered.drop(columns=['num'])\n",
    "    y = df_filtered.num"
   ]
  },
  {
   "cell_type": "markdown",
   "id": "4688789e",
   "metadata": {},
   "source": [
    "### 4.2 Feature selection "
   ]
  },
  {
   "cell_type": "markdown",
   "id": "3b5ef86e",
   "metadata": {},
   "source": [
    "##### 4.2.1 Features selection by correlation elimination"
   ]
  },
  {
   "cell_type": "markdown",
   "id": "1e1c9086",
   "metadata": {},
   "source": [
    "We are using Spearman's correlation instead of Pearson's because practically all features don't have a normal distribution (as seen in the histograms above) and Spearman's is more robust to outliers."
   ]
  },
  {
   "cell_type": "markdown",
   "id": "6d8e4e3f",
   "metadata": {},
   "source": [
    "Nassif et al. (2018; 10.1109/iSAI-NLP.2018.8692942) also applied correlation evaluation, but did not use Spearman's correlation."
   ]
  },
  {
   "cell_type": "code",
   "execution_count": 16,
   "id": "ebd64951",
   "metadata": {
    "scrolled": true
   },
   "outputs": [
    {
     "data": {
      "text/html": [
       "<div>\n",
       "<style scoped>\n",
       "    .dataframe tbody tr th:only-of-type {\n",
       "        vertical-align: middle;\n",
       "    }\n",
       "\n",
       "    .dataframe tbody tr th {\n",
       "        vertical-align: top;\n",
       "    }\n",
       "\n",
       "    .dataframe thead th {\n",
       "        text-align: right;\n",
       "    }\n",
       "</style>\n",
       "<table border=\"1\" class=\"dataframe\">\n",
       "  <thead>\n",
       "    <tr style=\"text-align: right;\">\n",
       "      <th></th>\n",
       "      <th>age</th>\n",
       "      <th>sex</th>\n",
       "      <th>cp</th>\n",
       "      <th>trestbps</th>\n",
       "      <th>chol</th>\n",
       "      <th>fbs</th>\n",
       "      <th>restecg</th>\n",
       "      <th>thalach</th>\n",
       "      <th>exang</th>\n",
       "      <th>oldpeak</th>\n",
       "      <th>slope</th>\n",
       "      <th>ca</th>\n",
       "      <th>thal</th>\n",
       "    </tr>\n",
       "  </thead>\n",
       "  <tbody>\n",
       "    <tr>\n",
       "      <th>age</th>\n",
       "      <td>1.000000</td>\n",
       "      <td>0.093691</td>\n",
       "      <td>0.058519</td>\n",
       "      <td>0.323487</td>\n",
       "      <td>0.067657</td>\n",
       "      <td>0.059807</td>\n",
       "      <td>0.238870</td>\n",
       "      <td>0.260861</td>\n",
       "      <td>0.047042</td>\n",
       "      <td>0.160144</td>\n",
       "      <td>0.091086</td>\n",
       "      <td>0.409060</td>\n",
       "      <td>0.015032</td>\n",
       "    </tr>\n",
       "    <tr>\n",
       "      <th>sex</th>\n",
       "      <td>0.093691</td>\n",
       "      <td>1.000000</td>\n",
       "      <td>0.033274</td>\n",
       "      <td>0.225387</td>\n",
       "      <td>0.043422</td>\n",
       "      <td>0.019786</td>\n",
       "      <td>0.042631</td>\n",
       "      <td>0.016787</td>\n",
       "      <td>0.192790</td>\n",
       "      <td>0.050422</td>\n",
       "      <td>0.126789</td>\n",
       "      <td>0.013206</td>\n",
       "      <td>0.102571</td>\n",
       "    </tr>\n",
       "    <tr>\n",
       "      <th>cp</th>\n",
       "      <td>0.058519</td>\n",
       "      <td>0.033274</td>\n",
       "      <td>1.000000</td>\n",
       "      <td>0.078281</td>\n",
       "      <td>0.135156</td>\n",
       "      <td>0.135156</td>\n",
       "      <td>0.200487</td>\n",
       "      <td>0.388146</td>\n",
       "      <td>0.294567</td>\n",
       "      <td>0.208795</td>\n",
       "      <td>0.160228</td>\n",
       "      <td>0.298755</td>\n",
       "      <td>0.239683</td>\n",
       "    </tr>\n",
       "    <tr>\n",
       "      <th>trestbps</th>\n",
       "      <td>0.323487</td>\n",
       "      <td>0.225387</td>\n",
       "      <td>0.078281</td>\n",
       "      <td>1.000000</td>\n",
       "      <td>0.109908</td>\n",
       "      <td>0.079244</td>\n",
       "      <td>0.275802</td>\n",
       "      <td>0.151018</td>\n",
       "      <td>0.066386</td>\n",
       "      <td>0.195049</td>\n",
       "      <td>0.193032</td>\n",
       "      <td>0.160458</td>\n",
       "      <td>0.172904</td>\n",
       "    </tr>\n",
       "    <tr>\n",
       "      <th>chol</th>\n",
       "      <td>0.067657</td>\n",
       "      <td>0.043422</td>\n",
       "      <td>0.135156</td>\n",
       "      <td>0.109908</td>\n",
       "      <td>1.000000</td>\n",
       "      <td>0.023515</td>\n",
       "      <td>0.066429</td>\n",
       "      <td>0.077430</td>\n",
       "      <td>0.186660</td>\n",
       "      <td>0.019025</td>\n",
       "      <td>0.095509</td>\n",
       "      <td>0.148091</td>\n",
       "      <td>0.004253</td>\n",
       "    </tr>\n",
       "    <tr>\n",
       "      <th>fbs</th>\n",
       "      <td>0.059807</td>\n",
       "      <td>0.019786</td>\n",
       "      <td>0.135156</td>\n",
       "      <td>0.079244</td>\n",
       "      <td>0.023515</td>\n",
       "      <td>1.000000</td>\n",
       "      <td>0.011532</td>\n",
       "      <td>0.102576</td>\n",
       "      <td>0.060005</td>\n",
       "      <td>0.075563</td>\n",
       "      <td>0.013739</td>\n",
       "      <td>0.037529</td>\n",
       "      <td>0.023654</td>\n",
       "    </tr>\n",
       "    <tr>\n",
       "      <th>restecg</th>\n",
       "      <td>0.238870</td>\n",
       "      <td>0.042631</td>\n",
       "      <td>0.200487</td>\n",
       "      <td>0.275802</td>\n",
       "      <td>0.066429</td>\n",
       "      <td>0.011532</td>\n",
       "      <td>1.000000</td>\n",
       "      <td>0.120218</td>\n",
       "      <td>0.080029</td>\n",
       "      <td>0.046086</td>\n",
       "      <td>0.142178</td>\n",
       "      <td>0.206979</td>\n",
       "      <td>0.013460</td>\n",
       "    </tr>\n",
       "    <tr>\n",
       "      <th>thalach</th>\n",
       "      <td>0.260861</td>\n",
       "      <td>0.016787</td>\n",
       "      <td>0.388146</td>\n",
       "      <td>0.151018</td>\n",
       "      <td>0.077430</td>\n",
       "      <td>0.102576</td>\n",
       "      <td>0.120218</td>\n",
       "      <td>1.000000</td>\n",
       "      <td>0.241540</td>\n",
       "      <td>0.372481</td>\n",
       "      <td>0.427623</td>\n",
       "      <td>0.314348</td>\n",
       "      <td>0.177021</td>\n",
       "    </tr>\n",
       "    <tr>\n",
       "      <th>exang</th>\n",
       "      <td>0.047042</td>\n",
       "      <td>0.192790</td>\n",
       "      <td>0.294567</td>\n",
       "      <td>0.066386</td>\n",
       "      <td>0.186660</td>\n",
       "      <td>0.060005</td>\n",
       "      <td>0.080029</td>\n",
       "      <td>0.241540</td>\n",
       "      <td>1.000000</td>\n",
       "      <td>0.194100</td>\n",
       "      <td>0.100174</td>\n",
       "      <td>0.004902</td>\n",
       "      <td>0.099410</td>\n",
       "    </tr>\n",
       "    <tr>\n",
       "      <th>oldpeak</th>\n",
       "      <td>0.160144</td>\n",
       "      <td>0.050422</td>\n",
       "      <td>0.208795</td>\n",
       "      <td>0.195049</td>\n",
       "      <td>0.019025</td>\n",
       "      <td>0.075563</td>\n",
       "      <td>0.046086</td>\n",
       "      <td>0.372481</td>\n",
       "      <td>0.194100</td>\n",
       "      <td>1.000000</td>\n",
       "      <td>0.526811</td>\n",
       "      <td>0.305764</td>\n",
       "      <td>0.330091</td>\n",
       "    </tr>\n",
       "    <tr>\n",
       "      <th>slope</th>\n",
       "      <td>0.091086</td>\n",
       "      <td>0.126789</td>\n",
       "      <td>0.160228</td>\n",
       "      <td>0.193032</td>\n",
       "      <td>0.095509</td>\n",
       "      <td>0.013739</td>\n",
       "      <td>0.142178</td>\n",
       "      <td>0.427623</td>\n",
       "      <td>0.100174</td>\n",
       "      <td>0.526811</td>\n",
       "      <td>1.000000</td>\n",
       "      <td>0.129814</td>\n",
       "      <td>0.197739</td>\n",
       "    </tr>\n",
       "    <tr>\n",
       "      <th>ca</th>\n",
       "      <td>0.409060</td>\n",
       "      <td>0.013206</td>\n",
       "      <td>0.298755</td>\n",
       "      <td>0.160458</td>\n",
       "      <td>0.148091</td>\n",
       "      <td>0.037529</td>\n",
       "      <td>0.206979</td>\n",
       "      <td>0.314348</td>\n",
       "      <td>0.004902</td>\n",
       "      <td>0.305764</td>\n",
       "      <td>0.129814</td>\n",
       "      <td>1.000000</td>\n",
       "      <td>0.215479</td>\n",
       "    </tr>\n",
       "    <tr>\n",
       "      <th>thal</th>\n",
       "      <td>0.015032</td>\n",
       "      <td>0.102571</td>\n",
       "      <td>0.239683</td>\n",
       "      <td>0.172904</td>\n",
       "      <td>0.004253</td>\n",
       "      <td>0.023654</td>\n",
       "      <td>0.013460</td>\n",
       "      <td>0.177021</td>\n",
       "      <td>0.099410</td>\n",
       "      <td>0.330091</td>\n",
       "      <td>0.197739</td>\n",
       "      <td>0.215479</td>\n",
       "      <td>1.000000</td>\n",
       "    </tr>\n",
       "  </tbody>\n",
       "</table>\n",
       "</div>"
      ],
      "text/plain": [
       "               age       sex        cp  trestbps      chol       fbs  \\\n",
       "age       1.000000  0.093691  0.058519  0.323487  0.067657  0.059807   \n",
       "sex       0.093691  1.000000  0.033274  0.225387  0.043422  0.019786   \n",
       "cp        0.058519  0.033274  1.000000  0.078281  0.135156  0.135156   \n",
       "trestbps  0.323487  0.225387  0.078281  1.000000  0.109908  0.079244   \n",
       "chol      0.067657  0.043422  0.135156  0.109908  1.000000  0.023515   \n",
       "fbs       0.059807  0.019786  0.135156  0.079244  0.023515  1.000000   \n",
       "restecg   0.238870  0.042631  0.200487  0.275802  0.066429  0.011532   \n",
       "thalach   0.260861  0.016787  0.388146  0.151018  0.077430  0.102576   \n",
       "exang     0.047042  0.192790  0.294567  0.066386  0.186660  0.060005   \n",
       "oldpeak   0.160144  0.050422  0.208795  0.195049  0.019025  0.075563   \n",
       "slope     0.091086  0.126789  0.160228  0.193032  0.095509  0.013739   \n",
       "ca        0.409060  0.013206  0.298755  0.160458  0.148091  0.037529   \n",
       "thal      0.015032  0.102571  0.239683  0.172904  0.004253  0.023654   \n",
       "\n",
       "           restecg   thalach     exang   oldpeak     slope        ca      thal  \n",
       "age       0.238870  0.260861  0.047042  0.160144  0.091086  0.409060  0.015032  \n",
       "sex       0.042631  0.016787  0.192790  0.050422  0.126789  0.013206  0.102571  \n",
       "cp        0.200487  0.388146  0.294567  0.208795  0.160228  0.298755  0.239683  \n",
       "trestbps  0.275802  0.151018  0.066386  0.195049  0.193032  0.160458  0.172904  \n",
       "chol      0.066429  0.077430  0.186660  0.019025  0.095509  0.148091  0.004253  \n",
       "fbs       0.011532  0.102576  0.060005  0.075563  0.013739  0.037529  0.023654  \n",
       "restecg   1.000000  0.120218  0.080029  0.046086  0.142178  0.206979  0.013460  \n",
       "thalach   0.120218  1.000000  0.241540  0.372481  0.427623  0.314348  0.177021  \n",
       "exang     0.080029  0.241540  1.000000  0.194100  0.100174  0.004902  0.099410  \n",
       "oldpeak   0.046086  0.372481  0.194100  1.000000  0.526811  0.305764  0.330091  \n",
       "slope     0.142178  0.427623  0.100174  0.526811  1.000000  0.129814  0.197739  \n",
       "ca        0.206979  0.314348  0.004902  0.305764  0.129814  1.000000  0.215479  \n",
       "thal      0.013460  0.177021  0.099410  0.330091  0.197739  0.215479  1.000000  "
      ]
     },
     "execution_count": 16,
     "metadata": {},
     "output_type": "execute_result"
    }
   ],
   "source": [
    "corr = X.corr(method='spearman')\n",
    "abs(corr)"
   ]
  },
  {
   "cell_type": "markdown",
   "id": "f1c90a24",
   "metadata": {},
   "source": [
    "Creating a function that selects features according correlation. The arguments of the function (1) the dataframe, (2) the correlation method, and (3) the correlation threshold for feature elimination."
   ]
  },
  {
   "cell_type": "code",
   "execution_count": 17,
   "id": "c64d1292",
   "metadata": {},
   "outputs": [],
   "source": [
    "def Corr_selection(df, corr_method, threshold):\n",
    "    \"\"\"\n",
    "    This function selects the features to be eliminate according to \n",
    "    a correlation threshold\n",
    "    \n",
    "    corr_matrix: has to be a pandas data frame n-by-n,\n",
    "    with n features as indices and columns.\n",
    "    threshold: has to by a int or float from 0 to 1\n",
    "    \"\"\"\n",
    "    corr_matrix = X.corr(method=corr_method)\n",
    "    # covert corr_matrix to absolute values\n",
    "    corr_matrix = np.array(abs(corr_matrix))\n",
    "    # all features available\n",
    "    features = np.array(df.columns)\n",
    "    \n",
    "    # list of features to eliminate\n",
    "    to_eliminate = []\n",
    "    \n",
    "    # runs all lines\n",
    "    for i in range(len(features)):\n",
    "        # runs all columns\n",
    "        for j in range(len(features)):\n",
    "            \n",
    "            if corr_matrix[i,j] > threshold and corr_matrix[i,j] != 1: \n",
    "                \n",
    "                if np.mean(corr_matrix[i,:]) > np.mean(corr_matrix[:,j]):\n",
    "                    to_eliminate.append(features[i])\n",
    "                else:\n",
    "                    to_eliminate.append(features[j])\n",
    "    \n",
    "    to_eliminate = np.unique(to_eliminate)\n",
    "    selected_features = list( features[~np.isin(features, to_eliminate)] )\n",
    "    \n",
    "    return selected_features"
   ]
  },
  {
   "cell_type": "markdown",
   "id": "ad870221",
   "metadata": {},
   "source": [
    "##### 4.2.2 Features selection by information gain"
   ]
  },
  {
   "cell_type": "markdown",
   "id": "ecb2fc16",
   "metadata": {},
   "source": [
    "Creating a function that selects features according to Mutual Information Gain. "
   ]
  },
  {
   "cell_type": "markdown",
   "id": "6a72390a",
   "metadata": {},
   "source": [
    "References:\n",
    "- Nassif et al. (2018; 10.1109/iSAI-NLP.2018.8692942)\n",
    "- Guhanesvar. *Feature Selection Based on Mutual Information Gain for Classification and Regression*. Medium. June 26, 2021."
   ]
  },
  {
   "cell_type": "code",
   "execution_count": 18,
   "id": "d1997e98",
   "metadata": {},
   "outputs": [],
   "source": [
    "def InfoGain_selection(X, y, n_features):\n",
    "    \"\"\"\n",
    "    This function selects n_features according that have the greatest \n",
    "    mutual information classification\n",
    "    \"\"\"\n",
    "    from sklearn.feature_selection import mutual_info_classif\n",
    "    importance = mutual_info_classif(X, y)\n",
    "    importance = pd.Series(data = importance, index = X.columns)\n",
    "    importance = importance.sort_values(ascending=False)\n",
    "\n",
    "    selected_features = list(importance.iloc[:n_features].index)\n",
    "    \n",
    "    return importance, selected_features"
   ]
  },
  {
   "cell_type": "code",
   "execution_count": 19,
   "id": "0eea0d9f",
   "metadata": {
    "scrolled": true
   },
   "outputs": [
    {
     "data": {
      "text/plain": [
       "Text(0, 0.5, 'Mutual Information Gain')"
      ]
     },
     "execution_count": 19,
     "metadata": {},
     "output_type": "execute_result"
    },
    {
     "data": {
      "image/png": "[encoded data removed]",
      "text/plain": [
       "<Figure size 432x288 with 1 Axes>"
      ]
     },
     "metadata": {
      "needs_background": "light"
     },
     "output_type": "display_data"
    }
   ],
   "source": [
    "importance, InfoGain_selected_features = InfoGain_selection(X, y, 6)\n",
    "\n",
    "plt.figure()\n",
    "plt.bar(importance.index, importance)\n",
    "plt.title(\"Feature importance\")\n",
    "plt.xlabel(\"Feature\")\n",
    "plt.ylabel(\"Mutual Information Gain\")"
   ]
  },
  {
   "cell_type": "markdown",
   "id": "ec4ec612",
   "metadata": {},
   "source": [
    "##### 4.2.3 Data selection by combinations (3 features)"
   ]
  },
  {
   "cell_type": "code",
   "execution_count": 31,
   "id": "83506a1e",
   "metadata": {},
   "outputs": [],
   "source": [
    "def feature_3_combination(X):\n",
    "    \"\"\"\n",
    "    This function returns a dataframe with all possible permutations \n",
    "    \"\"\"\n",
    "    from itertools import combinations\n",
    "    comb = list(combinations(X.columns, 3))\n",
    "    \n",
    "    return comb"
   ]
  },
  {
   "cell_type": "markdown",
   "id": "ccecc673",
   "metadata": {},
   "source": [
    "# 5. Class imbalance"
   ]
  },
  {
   "cell_type": "markdown",
   "id": "694018c9",
   "metadata": {},
   "source": [
    "As seen in the histogram of Fig. 14, there are many more samples with label 0 than with other labels. Therefore, class imbalance has to be dealt with. According to Hoffman [1], there are several ways to reduce class imbalance, such as using other performance metrics when assessing performance (precision, recall, F1 score, and confusion matrix), performing over-sampling (when the dataset is reletively small), or using the Synthetic Minority Over-sampling Technique (SMOTE) algorithm to create synthetic samples.\n",
    "</br> \n",
    "BUT, according to this video https://www.youtube.com/watch?v=adHqzek--d0, on stamp 3:52, the SMOTE technique is not good for multidimensional data (which is the one we have here)"
   ]
  },
  {
   "cell_type": "markdown",
   "id": "6b06ecb5",
   "metadata": {},
   "source": [
    "REFERENCE [1]: K. Hoffman. *Machine Learning: How to Handle Class Imbalance*. Analytics Vidhya. February 13, 2021."
   ]
  },
  {
   "cell_type": "markdown",
   "id": "e0c4428e",
   "metadata": {},
   "source": [
    "### 5.1 Oversampling by doubling classes different from 0"
   ]
  },
  {
   "cell_type": "markdown",
   "metadata": {},
   "source": [
    "This method might create overfitting."
   ]
  },
  {
   "cell_type": "code",
   "execution_count": 12,
   "id": "676fa217",
   "metadata": {},
   "outputs": [],
   "source": [
    "# Simple oversampling of classes 1, 2, 3 and 4 (simply doubling the samples)\n",
    "def oversampling_double(dataframe):   \n",
    "    \"\"\"\n",
    "    This function doubles the number of samples with labels 1, 2, 3, 4\n",
    "    \"\"\"\n",
    "    for i in [1, 2, 3, 4]:\n",
    "        df_add = dataframe[dataframe['num']==i]\n",
    "        dataframe = pd.concat([dataframe, df_add], axis=0)\n",
    "\n",
    "    # Restarting indices\n",
    "    dataframe = dataframe.reset_index(drop=True)\n",
    "    \n",
    "    return dataframe"
   ]
  },
  {
   "cell_type": "markdown",
   "id": "1c76f129",
   "metadata": {},
   "source": [
    "### 5.2 Oversampling through SMOTE"
   ]
  },
  {
   "cell_type": "code",
   "execution_count": 13,
   "id": "553e0534",
   "metadata": {},
   "outputs": [],
   "source": [
    "# pip install imblearn\n",
    "\n",
    "def oversampling_smote(dataframe):\n",
    "    \"\"\"\n",
    "    This function oversamples a dataset with the Synthetic Minority \n",
    "    Over-sampling Technique\n",
    "    \"\"\"\n",
    "    from imblearn.over_sampling import SMOTE\n",
    "    \n",
    "    smote = SMOTE(random_state = 42)\n",
    "    X, y = smote.fit_resample(dataframe.drop(columns='num'), dataframe['num'])\n",
    "    y = pd.Series(data = y, name = 'num')\n",
    "    df_smote = pd.concat([X, y], axis = 1, join = 'inner')\n",
    "    \n",
    "    return df_smote"
   ]
  },
  {
   "cell_type": "markdown",
   "id": "96819a5a",
   "metadata": {},
   "source": [
    "### 5.3 Defining class weight"
   ]
  },
  {
   "cell_type": "code",
   "execution_count": 14,
   "id": "e413494f",
   "metadata": {},
   "outputs": [],
   "source": [
    "def ClassWeight(y):\n",
    "    \n",
    "    from sklearn.utils import class_weight\n",
    "    classes = np.unique(y)\n",
    "    weights = class_weight.compute_class_weight(class_weight = 'balanced', \n",
    "                                                classes = classes, \n",
    "                                                y = y)\n",
    "    ClassWeight = dict()\n",
    "    for i in range(len(classes)):\n",
    "        ClassWeight[classes[i]] = weights[i]\n",
    "    \n",
    "    return ClassWeight"
   ]
  },
  {
   "cell_type": "markdown",
   "id": "8dae65fd",
   "metadata": {},
   "source": [
    "# 6. Creating models"
   ]
  },
  {
   "cell_type": "markdown",
   "id": "dd5eefe9",
   "metadata": {},
   "source": [
    "Here the goal is to classify the final diagnosis of heart disease according to [0, 1, 2, 3, 4], which is opposite to what literature does: they reduce the classification to binary."
   ]
  },
  {
   "cell_type": "markdown",
   "id": "6e10e9f4",
   "metadata": {},
   "source": [
    "### 6.1 Decision Tree"
   ]
  },
  {
   "cell_type": "markdown",
   "id": "1e796ec9",
   "metadata": {},
   "source": [
    "With a Decision Tree algorithm there is no need to standardize the data, these algorithms are not influenced by variance."
   ]
  },
  {
   "cell_type": "code",
   "execution_count": 35,
   "id": "8cd90f53",
   "metadata": {},
   "outputs": [],
   "source": [
    "from sklearn.model_selection import train_test_split\n",
    "from sklearn import tree\n",
    "from sklearn import metrics\n",
    "from sklearn.model_selection import GridSearchCV\n",
    "from sklearn.preprocessing import Normalizer\n",
    "from sklearn.neighbors import KNeighborsClassifier\n",
    "from sklearn.model_selection import cross_val_score"
   ]
  },
  {
   "cell_type": "code",
   "execution_count": 27,
   "id": "e8d05a43",
   "metadata": {},
   "outputs": [],
   "source": [
    "def DecisionTree(X, y, feature_selection, oversampling_method):\n",
    "    \n",
    "    # feature selection\n",
    "    if feature_selection == 'all':\n",
    "        X = X\n",
    "    elif feature_selection == 'correlation':\n",
    "        feat = Corr_selection(X, 'spearman', 0.2)\n",
    "        X = X[feat]\n",
    "    elif feature_selection == 'info_gain':\n",
    "        feat = InfoGain_selection(X, y, 6)[1]\n",
    "        X = X[feat]\n",
    "    \n",
    "    # separating train and test sets (20% out of the 80% after splitting the clients dataset)\n",
    "    X_train, X_test, y_train, y_test = train_test_split(X, y, test_size=0.20/0.80, random_state=42)\n",
    "\n",
    "    # given parameters to search for the best (grid search)\n",
    "    parameters_grid = {'criterion': ['gini', 'entropy'], \n",
    "                       'max_depth': [None, 1, 2, 3, 4, 5, 10, 15, 20, 30], \n",
    "                       'min_samples_leaf': [1, 2, 4]}\n",
    "\n",
    "    if oversampling_method == \"CLASS WEIGHTS\":\n",
    "\n",
    "        # finding the best parameters for the model\n",
    "        grid_search = GridSearchCV(estimator = tree.DecisionTreeClassifier(class_weight = ClassWeight(y)), \n",
    "                                   param_grid = parameters_grid, \n",
    "                                   cv = 5, scoring = 'accuracy')\n",
    "        grid_search.fit(X_train, y_train)\n",
    "\n",
    "        # optimization\n",
    "        best_parameters = grid_search.best_params_\n",
    "        best_estimator = grid_search.best_estimator_\n",
    "        \n",
    "        # creating and fitting the model\n",
    "        classifier = tree.DecisionTreeClassifier(**best_parameters, class_weight = ClassWeight(y))\n",
    "\n",
    "    else:\n",
    "\n",
    "        # finding the best parameters for the model\n",
    "        grid_search = GridSearchCV(estimator = tree.DecisionTreeClassifier(), \n",
    "                                   param_grid = parameters_grid, \n",
    "                                   cv = 5, scoring = 'accuracy')\n",
    "        grid_search.fit(X_train, y_train)\n",
    "        \n",
    "        # optimization\n",
    "        best_parameters = grid_search.best_params_\n",
    "        best_estimator = grid_search.best_estimator_\n",
    "\n",
    "        # creating and fitting the model\n",
    "        classifier = tree.DecisionTreeClassifier(**best_parameters, class_weight = ClassWeight(df_filtered))\n",
    "\n",
    "\n",
    "    classifier = classifier.fit(X_train, y_train)\n",
    "    y_predict = classifier.predict(X_test)\n",
    "\n",
    "    # display the best parameters and estimator\n",
    "    print(\"Best Parameters:\", best_parameters)\n",
    "    print(\"Best Estimator:\", best_estimator)\n",
    "\n",
    "    # accuracy of the model\n",
    "    accuracy = metrics.accuracy_score(y_test, y_predict)\n",
    "\n",
    "    print(\"Oversampling method: \", oversampling_method)\n",
    "    print(\"Feature selection: \", feature_selection)\n",
    "    print(\"Accuracy:\", accuracy)\n",
    "    \n",
    "    return classifier, accuracy"
   ]
  },
  {
   "cell_type": "markdown",
   "id": "03270f74",
   "metadata": {},
   "source": [
    "##### 6.1.1 ... with all features"
   ]
  },
  {
   "cell_type": "code",
   "execution_count": 33,
   "id": "5c2cb039",
   "metadata": {
    "scrolled": false
   },
   "outputs": [
    {
     "name": "stdout",
     "output_type": "stream",
     "text": [
      "Best Parameters: {'criterion': 'entropy', 'max_depth': 2, 'min_samples_leaf': 1}\n",
      "Best Estimator: DecisionTreeClassifier(class_weight={0: 0.3703125, 1: 1.1023255813953488,\n",
      "                                     2: 1.6928571428571428,\n",
      "                                     3: 1.6928571428571428, 4: 4.74},\n",
      "                       criterion='entropy', max_depth=2)\n",
      "Oversampling method:  CLASS WEIGHTS\n",
      "Feature selection:  all\n",
      "Accuracy: 0.4666666666666667\n"
     ]
    }
   ],
   "source": [
    "model_All, accuracy_All = DecisionTree(X, y, 'all', oversampling_method)"
   ]
  },
  {
   "cell_type": "markdown",
   "id": "1a5144fc",
   "metadata": {},
   "source": [
    "##### 6.1.2 ... with correlation feature selection"
   ]
  },
  {
   "cell_type": "code",
   "execution_count": 32,
   "id": "0117e4da",
   "metadata": {
    "scrolled": false
   },
   "outputs": [
    {
     "name": "stdout",
     "output_type": "stream",
     "text": [
      "Best Parameters: {'criterion': 'entropy', 'max_depth': 20, 'min_samples_leaf': 1}\n",
      "Best Estimator: DecisionTreeClassifier(class_weight={0: 0.3703125, 1: 1.1023255813953488,\n",
      "                                     2: 1.6928571428571428,\n",
      "                                     3: 1.6928571428571428, 4: 4.74},\n",
      "                       criterion='entropy', max_depth=20)\n",
      "Oversampling method:  CLASS WEIGHTS\n",
      "Feature selection:  correlation\n",
      "Accuracy: 0.4666666666666667\n"
     ]
    }
   ],
   "source": [
    "model_Correlation, accuracy_Correlation = DecisionTree(X, y, 'correlation', oversampling_method)"
   ]
  },
  {
   "cell_type": "markdown",
   "id": "870243b7",
   "metadata": {},
   "source": [
    "##### 6.1.3 ... with Multual Information Feature selection"
   ]
  },
  {
   "cell_type": "code",
   "execution_count": 34,
   "id": "4ed995b9",
   "metadata": {},
   "outputs": [
    {
     "name": "stdout",
     "output_type": "stream",
     "text": [
      "Best Parameters: {'criterion': 'entropy', 'max_depth': 20, 'min_samples_leaf': 4}\n",
      "Best Estimator: DecisionTreeClassifier(class_weight={0: 0.3703125, 1: 1.1023255813953488,\n",
      "                                     2: 1.6928571428571428,\n",
      "                                     3: 1.6928571428571428, 4: 4.74},\n",
      "                       criterion='entropy', max_depth=20, min_samples_leaf=4)\n",
      "Oversampling method:  CLASS WEIGHTS\n",
      "Feature selection:  info_gain\n",
      "Accuracy: 0.5833333333333334\n"
     ]
    }
   ],
   "source": [
    "model_Correlation, accuracy_Correlation = DecisionTree(X, y, 'info_gain', oversampling_method)"
   ]
  },
  {
   "cell_type": "markdown",
   "id": "88f88333",
   "metadata": {},
   "source": [
    "##### 6.1.4 ... with by-3-permutation selection"
   ]
  },
  {
   "cell_type": "code",
   "execution_count": 54,
   "id": "0e47c620",
   "metadata": {},
   "outputs": [
    {
     "name": "stdout",
     "output_type": "stream",
     "text": [
      "Oversampling method: SMOTE\n"
     ]
    },
    {
     "data": {
      "text/html": [
       "<div>\n",
       "<style scoped>\n",
       "    .dataframe tbody tr th:only-of-type {\n",
       "        vertical-align: middle;\n",
       "    }\n",
       "\n",
       "    .dataframe tbody tr th {\n",
       "        vertical-align: top;\n",
       "    }\n",
       "\n",
       "    .dataframe thead th {\n",
       "        text-align: right;\n",
       "    }\n",
       "</style>\n",
       "<table border=\"1\" class=\"dataframe\">\n",
       "  <thead>\n",
       "    <tr style=\"text-align: right;\">\n",
       "      <th></th>\n",
       "      <th>feature1</th>\n",
       "      <th>feature2</th>\n",
       "      <th>feature3</th>\n",
       "      <th>accuracy</th>\n",
       "    </tr>\n",
       "  </thead>\n",
       "  <tbody>\n",
       "    <tr>\n",
       "      <th>170</th>\n",
       "      <td>trestbps</td>\n",
       "      <td>chol</td>\n",
       "      <td>oldpeak</td>\n",
       "      <td>0.7</td>\n",
       "    </tr>\n",
       "    <tr>\n",
       "      <th>197</th>\n",
       "      <td>trestbps</td>\n",
       "      <td>oldpeak</td>\n",
       "      <td>ca</td>\n",
       "      <td>0.65</td>\n",
       "    </tr>\n",
       "    <tr>\n",
       "      <th>226</th>\n",
       "      <td>chol</td>\n",
       "      <td>oldpeak</td>\n",
       "      <td>thal</td>\n",
       "      <td>0.625</td>\n",
       "    </tr>\n",
       "    <tr>\n",
       "      <th>218</th>\n",
       "      <td>chol</td>\n",
       "      <td>thalach</td>\n",
       "      <td>ca</td>\n",
       "      <td>0.6125</td>\n",
       "    </tr>\n",
       "    <tr>\n",
       "      <th>168</th>\n",
       "      <td>trestbps</td>\n",
       "      <td>chol</td>\n",
       "      <td>thalach</td>\n",
       "      <td>0.6</td>\n",
       "    </tr>\n",
       "    <tr>\n",
       "      <th>173</th>\n",
       "      <td>trestbps</td>\n",
       "      <td>chol</td>\n",
       "      <td>thal</td>\n",
       "      <td>0.6</td>\n",
       "    </tr>\n",
       "    <tr>\n",
       "      <th>191</th>\n",
       "      <td>trestbps</td>\n",
       "      <td>thalach</td>\n",
       "      <td>thal</td>\n",
       "      <td>0.6</td>\n",
       "    </tr>\n",
       "    <tr>\n",
       "      <th>201</th>\n",
       "      <td>trestbps</td>\n",
       "      <td>ca</td>\n",
       "      <td>thal</td>\n",
       "      <td>0.6</td>\n",
       "    </tr>\n",
       "    <tr>\n",
       "      <th>121</th>\n",
       "      <td>cp</td>\n",
       "      <td>trestbps</td>\n",
       "      <td>chol</td>\n",
       "      <td>0.59375</td>\n",
       "    </tr>\n",
       "    <tr>\n",
       "      <th>225</th>\n",
       "      <td>chol</td>\n",
       "      <td>oldpeak</td>\n",
       "      <td>ca</td>\n",
       "      <td>0.5875</td>\n",
       "    </tr>\n",
       "  </tbody>\n",
       "</table>\n",
       "</div>"
      ],
      "text/plain": [
       "     feature1  feature2 feature3 accuracy\n",
       "170  trestbps      chol  oldpeak      0.7\n",
       "197  trestbps   oldpeak       ca     0.65\n",
       "226      chol   oldpeak     thal    0.625\n",
       "218      chol   thalach       ca   0.6125\n",
       "168  trestbps      chol  thalach      0.6\n",
       "173  trestbps      chol     thal      0.6\n",
       "191  trestbps   thalach     thal      0.6\n",
       "201  trestbps        ca     thal      0.6\n",
       "121        cp  trestbps     chol  0.59375\n",
       "225      chol   oldpeak       ca   0.5875"
      ]
     },
     "metadata": {},
     "output_type": "display_data"
    }
   ],
   "source": [
    "# array to accumulate the values of accuracy for each permutation\n",
    "\n",
    "feat3_permutations = feature_3_combination(X)\n",
    "perfomance_combinations = pd.DataFrame(columns=['feature1', 'feature2', 'feature3', 'accuracy'])\n",
    "\n",
    "for n in range(len(feat3_permutations)):\n",
    "\n",
    "    features = np.array(feat3_permutations[n])\n",
    "    \n",
    "    X_train, X_test, y_train, y_test = train_test_split(X[features], y, test_size=0.20/0.80, random_state=42)\n",
    "    \n",
    "    \"\"\"\n",
    "    here we cannot afford to do a grid search because of the many interations\n",
    "    therefore, we choose to set the parameters of the model to default\n",
    "    \"\"\"\n",
    "    \n",
    "    if oversampling_method == 'CLASS WEIGHTS':\n",
    "        classifier = tree.DecisionTreeClassifier(class_weight = ClassWeight(y))\n",
    "    else: \n",
    "        classifier = tree.DecisionTreeClassifier()\n",
    "    \n",
    "    classifier = classifier.fit(X_train, y_train)\n",
    "    y_predict = classifier.predict(X_test)\n",
    "    accuracy = metrics.accuracy_score(y_test, y_predict)\n",
    "\n",
    "    # appends to perfomance_combinations the 3-feature combination and the model accuracy\n",
    "    perfomance_combinations.loc[len(perfomance_combinations)] = np.append(features, accuracy)\n",
    "\n",
    "print(\"Oversampling method:\", oversampling_method)\n",
    "display(perfomance_combinations.sort_values(by='accuracy', ascending = False).head(10))\n"
   ]
  },
  {
   "cell_type": "code",
   "execution_count": 56,
   "id": "4dcf32ed",
   "metadata": {
    "scrolled": true
   },
   "outputs": [
    {
     "data": {
      "text/plain": [
       "Text(0.5, 0, 'oldpeak')"
      ]
     },
     "execution_count": 56,
     "metadata": {},
     "output_type": "execute_result"
    }
   ],
   "source": [
    "%matplotlib qt\n",
    "\n",
    "zero  = (y==0)\n",
    "one   = (y==1)\n",
    "two   = (y==2)\n",
    "three = (y==3)\n",
    "four  = (y==4)\n",
    "\n",
    "fig = plt.figure()\n",
    "ax = fig.add_subplot(projection='3d')\n",
    "ax.scatter(X['trestbps'][zero],   X['chol'][zero],   X['oldpeak'][zero])\n",
    "ax.scatter(X['trestbps'][one],   X['chol'][one],   X['oldpeak'][one])\n",
    "ax.scatter(X['trestbps'][two],   X['chol'][two],   X['oldpeak'][two])\n",
    "ax.scatter(X['trestbps'][three], X['chol'][three], X['oldpeak'][three])\n",
    "ax.scatter(X['trestbps'][four],  X['chol'][four],  X['oldpeak'][four])\n",
    "\n",
    "ax.set_xlabel('trestbps')\n",
    "ax.set_ylabel('chol')\n",
    "ax.set_zlabel('oldpeak')"
   ]
  },
  {
   "cell_type": "markdown",
   "id": "d54124d2",
   "metadata": {},
   "source": [
    "### 6.2 Support Vector Machine (SVM)\n",
    "\n",
    "The **SVM** is an algorithm mostly used for classification, such as our case study. Check [[2]](#2) for a better understanding."
   ]
  },
  {
   "cell_type": "code",
   "execution_count": 28,
   "id": "70e42090",
   "metadata": {},
   "outputs": [],
   "source": [
    "from sklearn.svm import SVC\n",
    "from sklearn.metrics import confusion_matrix, classification_report\n",
    "from sklearn.model_selection import GridSearchCV\n",
    "from sklearn.model_selection import train_test_split\n",
    "from sklearn.preprocessing import Normalizer"
   ]
  },
  {
   "cell_type": "markdown",
   "id": "2ee4a6db",
   "metadata": {},
   "source": [
    "##### 6.2.1 ... with all features"
   ]
  },
  {
   "cell_type": "code",
   "execution_count": 29,
   "id": "f3aa3b23",
   "metadata": {},
   "outputs": [
    {
     "name": "stdout",
     "output_type": "stream",
     "text": [
      "Best Parameters: {'C': 1000, 'gamma': 0.01, 'kernel': 'linear'}\n",
      "Best Estimator: SVC(C=1000, gamma=0.01, kernel='linear')\n",
      "Oversampling method: DOUBLING\n",
      "KNN, no feature selection\n",
      "Accuracy test: 0.5517241379310345\n",
      "Accuracy train: 0.5173745173745173\n",
      "Accuracy client: 0.5333333333333333\n"
     ]
    }
   ],
   "source": [
    "# separating train and test sets (20% out of the 80% after splitting the clients dataset)\n",
    "X_train, X_test, y_train, y_test = train_test_split(X, y, test_size=0.20/0.80, random_state=42)\n",
    "\n",
    "y_client = client_set['num']\n",
    "X_client = client_set.drop(['num'], axis=1)\n",
    "\n",
    "norm = Normalizer()\n",
    "X_train_norm = norm.fit_transform(X_train)\n",
    "X_test_norm = norm.transform(X_test)\n",
    "X_client_norm = norm.transform(X_client)\n",
    "\n",
    "# given parameters to search for the best (grid search)\n",
    "parameters_grid = {'kernel': ['rbf', 'linear', 'sigmoid'],\n",
    "    'gamma': [1e-2, 1e-3, 1e-4],\n",
    "    'C': [1, 10, 100, 1000]}\n",
    "\n",
    "# finding the best parameters for the model \n",
    "grid_search = GridSearchCV(estimator = SVC(), \n",
    "                           param_grid = parameters_grid, \n",
    "                           cv = 5, scoring = 'accuracy')\n",
    "grid_search.fit(X_train_norm, y_train)\n",
    "\n",
    "# display the best parameters\n",
    "best_parameters = grid_search.best_params_\n",
    "\n",
    "# display first best parameter \n",
    "best_estimator = grid_search.best_estimator_\n",
    "\n",
    "print(\"Best Parameters:\", best_parameters)\n",
    "print(\"Best Estimator:\", best_estimator)\n",
    "\n",
    "# creating and fitting the model\n",
    "classifier = SVC(**best_parameters) \n",
    "classifier = classifier.fit(X_train_norm, y_train)\n",
    "y_predict = classifier.predict(X_test_norm)\n",
    "y_predict_train = classifier.predict(X_train_norm)\n",
    "y_predict_client = classifier.predict(X_client_norm)\n",
    "\n",
    "print(\"Oversampling method:\", oversampling_method)\n",
    "print(\"KNN, no feature selection\")\n",
    "print(\"Accuracy test:\", metrics.accuracy_score(y_test, y_predict))\n",
    "print(\"Accuracy train:\", metrics.accuracy_score(y_train, y_predict_train))\n",
    "print(\"Accuracy client:\", metrics.accuracy_score(y_client, y_predict_client))"
   ]
  },
  {
   "cell_type": "code",
   "execution_count": 30,
   "id": "d5b36d78",
   "metadata": {},
   "outputs": [
    {
     "name": "stdout",
     "output_type": "stream",
     "text": [
      "Confusion matrix test:\n",
      " [[30  8  2  0  0]\n",
      " [ 4  7  2  4  0]\n",
      " [ 2  4  4  5  0]\n",
      " [ 0  2  2  7  0]\n",
      " [ 0  1  1  2  0]]\n",
      "Confusion matrix client:\n",
      " [[28  3  0  1  0]\n",
      " [ 5  2  0  4  0]\n",
      " [ 0  2  0  5  0]\n",
      " [ 0  4  1  2  0]\n",
      " [ 2  0  0  1  0]]\n"
     ]
    }
   ],
   "source": [
    "from sklearn.metrics import confusion_matrix\n",
    "matrix_test = confusion_matrix(y_test, y_predict)\n",
    "matrix_client = confusion_matrix(y_client, y_predict_client)\n",
    "print(\"Confusion matrix test:\\n\", matrix_test)\n",
    "print(\"Confusion matrix client:\\n\", matrix_client)"
   ]
  },
  {
   "cell_type": "code",
   "execution_count": 31,
   "id": "66629521",
   "metadata": {},
   "outputs": [
    {
     "name": "stdout",
     "output_type": "stream",
     "text": [
      "Accuracy test: 0.551724\n",
      "Accuracy client: 0.533333\n",
      "Precision test: 0.380808\n",
      "Precision client: 0.227133\n",
      "Recall test: 0.412959\n",
      "Recall client: 0.268506\n"
     ]
    }
   ],
   "source": [
    "from sklearn.metrics import accuracy_score, precision_score, recall_score\n",
    "# accuracy: (tp + tn) / (p + n)\n",
    "print('Accuracy test: %f' % accuracy_score(y_test, y_predict))\n",
    "print('Accuracy client: %f' % accuracy_score(y_client, y_predict_client))\n",
    "# precision tp / (tp + fp)\n",
    "print('Precision test: %f' % precision_score(y_test, y_predict, average='macro'))\n",
    "print('Precision client: %f' % precision_score(y_client, y_predict_client, average='macro'))\n",
    "# recall: tp / (tp + fn)\n",
    "print('Recall test: %f' % recall_score(y_test, y_predict, average='macro'))\n",
    "print('Recall client: %f' % recall_score(y_client, y_predict_client, average='macro'))"
   ]
  },
  {
   "cell_type": "markdown",
   "id": "ae32c710",
   "metadata": {},
   "source": [
    "##### 6.2.2 ... with correlation feature selection"
   ]
  },
  {
   "cell_type": "code",
   "execution_count": 32,
   "id": "f4e3c173",
   "metadata": {},
   "outputs": [
    {
     "name": "stdout",
     "output_type": "stream",
     "text": [
      "Best Parameters: {'C': 1000, 'gamma': 0.01, 'kernel': 'linear'}\n",
      "Best Estimator: SVC(C=1000, gamma=0.01, kernel='linear')\n",
      "Oversampling method: DOUBLING\n",
      "KNN, correlation selection\n",
      "Accuracy test: 0.4482758620689655\n",
      "Accuracy train: 0.36293436293436293\n",
      "Accuracy client: 0.6\n"
     ]
    }
   ],
   "source": [
    "# selected features\n",
    "corr_selected_features = Corr_selection(X, 'spearman', 0.2)\n",
    "\n",
    "# separating train and test sets (20% out of the 80% after splitting the clients dataset)\n",
    "X_train, X_test, y_train, y_test = train_test_split(X[corr_selected_features], \n",
    "                                                    y, test_size=0.20/0.80, \n",
    "                                                    random_state=42)\n",
    "\n",
    "norm = Normalizer()\n",
    "X_train_norm = norm.fit_transform(X_train)\n",
    "X_test_norm = norm.transform(X_test)\n",
    "X_client_norm = norm.transform(X_client[corr_selected_features])\n",
    "\n",
    "# given parameters to search for the best (grid search)\n",
    "parameters_grid = {'kernel': ['rbf', 'linear', 'sigmoid'],\n",
    "    'gamma': [1e-2, 1e-3, 1e-4],\n",
    "    'C': [1, 10, 100, 1000]}\n",
    "\n",
    "# finding the best parameters for the model \n",
    "grid_search = GridSearchCV(estimator = SVC(), \n",
    "                           param_grid = parameters_grid, \n",
    "                           cv = 5, scoring = 'accuracy')\n",
    "grid_search.fit(X_train_norm, y_train)\n",
    "\n",
    "# display the best parameters\n",
    "best_parameters = grid_search.best_params_\n",
    "\n",
    "# display first best parameter \n",
    "best_estimator = grid_search.best_estimator_\n",
    "\n",
    "print(\"Best Parameters:\", best_parameters)\n",
    "print(\"Best Estimator:\", best_estimator)\n",
    "\n",
    "# creating and fitting the model\n",
    "classifier = SVC(**best_parameters) \n",
    "classifier = classifier.fit(X_train_norm, y_train)\n",
    "y_predict = classifier.predict(X_test_norm)\n",
    "y_predict_train = classifier.predict(X_train_norm)\n",
    "y_predict_client = classifier.predict(X_client_norm)\n",
    "\n",
    "print(\"Oversampling method:\", oversampling_method)\n",
    "print(\"KNN, correlation selection\")\n",
    "print(\"Accuracy test:\", metrics.accuracy_score(y_test, y_predict))\n",
    "print(\"Accuracy train:\", metrics.accuracy_score(y_train, y_predict_train))\n",
    "print(\"Accuracy client:\", metrics.accuracy_score(y_client, y_predict_client))"
   ]
  },
  {
   "cell_type": "code",
   "execution_count": 33,
   "id": "6edc05d0",
   "metadata": {},
   "outputs": [
    {
     "name": "stdout",
     "output_type": "stream",
     "text": [
      "Confusion matrix test:\n",
      " [[39  1  0  0  0]\n",
      " [17  0  0  0  0]\n",
      " [15  0  0  0  0]\n",
      " [ 8  3  0  0  0]\n",
      " [ 3  1  0  0  0]]\n",
      "Confusion matrix client:\n",
      " [[32  0  0  0  0]\n",
      " [ 7  4  0  0  0]\n",
      " [ 7  0  0  0  0]\n",
      " [ 6  1  0  0  0]\n",
      " [ 3  0  0  0  0]]\n"
     ]
    }
   ],
   "source": [
    "matrix_test = confusion_matrix(y_test, y_predict)\n",
    "matrix_client = confusion_matrix(y_client, y_predict_client)\n",
    "print(\"Confusion matrix test:\\n\", matrix_test)\n",
    "print(\"Confusion matrix client:\\n\", matrix_client)"
   ]
  },
  {
   "cell_type": "code",
   "execution_count": 34,
   "id": "3a1d2ec5",
   "metadata": {},
   "outputs": [
    {
     "name": "stdout",
     "output_type": "stream",
     "text": [
      "Accuracy test: 0.448276\n",
      "Accuracy client: 0.600000\n",
      "Precision test: 0.095122\n",
      "Precision client: 0.276364\n",
      "Recall test: 0.195000\n",
      "Recall client: 0.272727\n"
     ]
    }
   ],
   "source": [
    "# accuracy: (tp + tn) / (p + n)\n",
    "print('Accuracy test: %f' % accuracy_score(y_test, y_predict))\n",
    "print('Accuracy client: %f' % accuracy_score(y_client, y_predict_client))\n",
    "# precision tp / (tp + fp)\n",
    "print('Precision test: %f' % precision_score(y_test, y_predict, average='macro'))\n",
    "print('Precision client: %f' % precision_score(y_client, y_predict_client, average='macro'))\n",
    "# recall: tp / (tp + fn)\n",
    "print('Recall test: %f' % recall_score(y_test, y_predict, average='macro'))\n",
    "print('Recall client: %f' % recall_score(y_client, y_predict_client, average='macro'))"
   ]
  },
  {
   "cell_type": "markdown",
   "id": "07687a15",
   "metadata": {},
   "source": [
    "##### 6.2.3 ... with Multual Information Feature selection"
   ]
  },
  {
   "cell_type": "code",
   "execution_count": 35,
   "id": "74f09c6b",
   "metadata": {},
   "outputs": [
    {
     "name": "stdout",
     "output_type": "stream",
     "text": [
      "Best Parameters: {'C': 1000, 'gamma': 0.01, 'kernel': 'linear'}\n",
      "Best Estimator: SVC(C=1000, gamma=0.01, kernel='linear')\n",
      "Oversampling method: DOUBLING\n",
      "KNN, Multual Information Feature selection\n",
      "Accuracy test: 0.5857142857142857\n",
      "Accuracy train: 0.4891304347826087\n",
      "Accuracy client: 0.5333333333333333\n"
     ]
    }
   ],
   "source": [
    "# selected features\n",
    "InfoGain_selected_features = InfoGain_selection(X, y, 6)[1]\n",
    "\n",
    "# separate train and test sets\n",
    "X_train, X_test, y_train, y_test = train_test_split(X[InfoGain_selected_features], y, \n",
    "                                                    test_size=0.20, random_state=42)\n",
    "\n",
    "norm = Normalizer()\n",
    "X_train_norm = norm.fit_transform(X_train)\n",
    "X_test_norm = norm.transform(X_test)\n",
    "X_client_norm = norm.transform(X_client[InfoGain_selected_features])\n",
    "\n",
    "# given parameters to search for the best (grid search)\n",
    "parameters_grid = {'kernel': ['rbf', 'linear', 'sigmoid'],\n",
    "    'gamma': [1e-2, 1e-3, 1e-4],\n",
    "    'C': [1, 10, 100, 1000]}\n",
    "\n",
    "# finding the best parameters for the model \n",
    "grid_search = GridSearchCV(estimator = SVC(), \n",
    "                           param_grid = parameters_grid, \n",
    "                           cv = 5, scoring = 'accuracy')\n",
    "grid_search.fit(X_train_norm, y_train)\n",
    "\n",
    "# display the best parameters\n",
    "best_parameters = grid_search.best_params_\n",
    "\n",
    "# display first best parameter \n",
    "best_estimator = grid_search.best_estimator_\n",
    "\n",
    "print(\"Best Parameters:\", best_parameters)\n",
    "print(\"Best Estimator:\", best_estimator)\n",
    "\n",
    "# creating and fitting the model\n",
    "classifier = SVC(**best_parameters) \n",
    "classifier = classifier.fit(X_train_norm, y_train)\n",
    "y_predict = classifier.predict(X_test_norm)\n",
    "y_predict_train = classifier.predict(X_train_norm)\n",
    "y_predict_client = classifier.predict(X_client_norm)\n",
    "\n",
    "print(\"Oversampling method:\", oversampling_method)\n",
    "print(\"KNN, Multual Information Feature selection\")\n",
    "print(\"Accuracy test:\", metrics.accuracy_score(y_test, y_predict))\n",
    "print(\"Accuracy train:\", metrics.accuracy_score(y_train, y_predict_train))\n",
    "print(\"Accuracy client:\", metrics.accuracy_score(y_client, y_predict_client))"
   ]
  },
  {
   "cell_type": "code",
   "execution_count": 36,
   "id": "8ab5be93",
   "metadata": {},
   "outputs": [
    {
     "name": "stdout",
     "output_type": "stream",
     "text": [
      "Confusion matrix test:\n",
      " [[25  8  1  0  0]\n",
      " [ 2  6  3  2  0]\n",
      " [ 2  2  3  3  0]\n",
      " [ 0  2  1  7  0]\n",
      " [ 0  1  0  2  0]]\n",
      "Confusion matrix client:\n",
      " [[28  3  0  1  0]\n",
      " [ 5  3  0  3  0]\n",
      " [ 0  3  0  4  0]\n",
      " [ 1  4  1  1  0]\n",
      " [ 2  0  0  1  0]]\n"
     ]
    }
   ],
   "source": [
    "matrix_test = confusion_matrix(y_test, y_predict)\n",
    "matrix_client = confusion_matrix(y_client, y_predict_client)\n",
    "print(\"Confusion matrix test:\\n\", matrix_test)\n",
    "print(\"Confusion matrix client:\\n\", matrix_client)"
   ]
  },
  {
   "cell_type": "code",
   "execution_count": 37,
   "id": "dc67906d",
   "metadata": {},
   "outputs": [
    {
     "name": "stdout",
     "output_type": "stream",
     "text": [
      "Accuracy test: 0.585714\n",
      "Accuracy client: 0.533333\n",
      "Precision test: 0.410572\n",
      "Precision client: 0.221709\n",
      "Recall test: 0.439367\n",
      "Recall client: 0.258117\n"
     ]
    }
   ],
   "source": [
    "# accuracy: (tp + tn) / (p + n)\n",
    "print('Accuracy test: %f' % accuracy_score(y_test, y_predict))\n",
    "print('Accuracy client: %f' % accuracy_score(y_client, y_predict_client))\n",
    "# precision tp / (tp + fp)\n",
    "print('Precision test: %f' % precision_score(y_test, y_predict, average='macro'))\n",
    "print('Precision client: %f' % precision_score(y_client, y_predict_client, average='macro'))\n",
    "# recall: tp / (tp + fn)\n",
    "print('Recall test: %f' % recall_score(y_test, y_predict, average='macro'))\n",
    "print('Recall client: %f' % recall_score(y_client, y_predict_client, average='macro'))"
   ]
  },
  {
   "cell_type": "markdown",
   "id": "4e471561",
   "metadata": {},
   "source": [
    "##### 6.2.4 ... with by-3-permutation selection"
   ]
  },
  {
   "cell_type": "code",
   "execution_count": 38,
   "id": "df5aeaad",
   "metadata": {},
   "outputs": [],
   "source": [
    "accuracy_permutation_test = []\n",
    "accuracy_permutation_train = []\n",
    "accuracy_permutation_client = []\n",
    "precision_permutation_test = []\n",
    "precision_permutation_train = []\n",
    "precision_permutation_client = []\n",
    "recall_permutation_test = []\n",
    "recall_permutation_train = []\n",
    "recall_permutation_client = []\n",
    "best_parameters_list = []\n",
    "\n",
    "for n in range(len(feat3_permutations)):\n",
    "    \n",
    "    X_train, X_test, y_train, y_test = train_test_split(X[feat3_permutations.iloc[n,:]], y, \n",
    "                                                    test_size=0.20, random_state=42 )\n",
    "    \n",
    "    norm = Normalizer()\n",
    "    X_train_norm = norm.fit_transform(X_train)\n",
    "    X_test_norm = norm.transform(X_test)\n",
    "    X_client_norm = norm.transform(X_client[feat3_permutations.iloc[n,:]])\n",
    "    # given parameters to search for the best (grid search)\n",
    "    #parameters_grid = {'kernel': ['rbf', 'linear', 'sigmoid'],\n",
    "    #    'gamma': [1e-2, 1e-3, 1e-4],\n",
    "    #    'C': [1, 10, 100, 1000]}\n",
    "    # finding the best parameters for the model \n",
    "    #grid_search = GridSearchCV(estimator = SVC(), \n",
    "    #                        param_grid = parameters_grid, \n",
    "    #                        cv = 5, scoring = 'accuracy')\n",
    "    #grid_search.fit(X_train_norm, y_train)\n",
    "    \n",
    "    \"\"\"\n",
    "    here we cannot afford a grid search because of the many interations\n",
    "    therefore, we choose to set the parameters of the model to default\n",
    "    \"\"\"\n",
    "    \n",
    "    # display the best parameters\n",
    "    #best_parameters = grid_search.best_params_\n",
    "\n",
    "    # display first best parameter \n",
    "    #best_estimator = grid_search.best_estimator_\n",
    "\n",
    "    #print(\"Best Parameters:\", best_parameters)\n",
    "    #print(\"Best Estimator:\", best_estimator)\n",
    "\n",
    "    # creating and fitting the model\n",
    "    classifier = SVC(**best_parameters)\n",
    "    classifier = classifier.fit(X_train_norm, y_train)\n",
    "    y_predict = classifier.predict(X_test_norm)\n",
    "    y_predict_train = classifier.predict(X_train_norm)\n",
    "    y_client_train = classifier.predict(X_client_norm)\n",
    "\n",
    "    # accuracy of the model\n",
    "    accuracy = metrics.accuracy_score(y_test, y_predict)\n",
    "    \n",
    "    best_parameters_list.append(best_parameters)\n",
    "    accuracy_permutation_test.append(metrics.accuracy_score(y_test, y_predict))\n",
    "    accuracy_permutation_train.append(metrics.accuracy_score(y_train, y_predict_train))\n",
    "    accuracy_permutation_client.append(metrics.accuracy_score(y_client, y_client_train))\n",
    "    precision_permutation_test.append(metrics.precision_score(y_test, y_predict, average='macro'))\n",
    "    precision_permutation_train.append(metrics.precision_score(y_train, y_predict_train, average='macro'))\n",
    "    precision_permutation_client.append(metrics.precision_score(y_client, y_client_train, average='macro'))\n",
    "    recall_permutation_test.append(metrics.recall_score(y_test, y_predict, average='macro'))\n",
    "    recall_permutation_train.append(metrics.recall_score(y_train, y_predict_train, average='macro'))\n",
    "    recall_permutation_client.append(metrics.recall_score(y_client, y_client_train, average='macro'))\n",
    "\n",
    "accuracy_permutation_test = pd.Series(data = accuracy_permutation_test, name=\"accuracy_test\")\n",
    "accuracy_permutation_train = pd.Series(data = accuracy_permutation_train, name=\"accuracy_train\")\n",
    "accuracy_permutation_client = pd.Series(data = accuracy_permutation_client, name=\"accuracy_client\")\n",
    "precision_permutation_test = pd.Series(data = precision_permutation_test, name=\"precision_test\")\n",
    "precision_permutation_train = pd.Series(data = precision_permutation_train, name=\"precision_train\")\n",
    "precision_permutation_client = pd.Series(data = precision_permutation_client, name=\"precision_client\")\n",
    "recall_permutation_test = pd.Series(data = recall_permutation_test, name=\"recall_test\")\n",
    "recall_permutation_train = pd.Series(data = recall_permutation_train, name=\"recall_train\")\n",
    "recall_permutation_client = pd.Series(data = recall_permutation_client, name=\"recall_client\")\n",
    "best_parameters_list = pd.Series(data = best_parameters_list, name=\"paramenters\")\n",
    "feat3_models = pd.concat([feat3_permutations, accuracy_permutation_test, accuracy_permutation_train, accuracy_permutation_client, precision_permutation_test, precision_permutation_train, precision_permutation_client, recall_permutation_test, recall_permutation_train, recall_permutation_client, best_parameters_list], axis=1)"
   ]
  },
  {
   "cell_type": "code",
   "execution_count": 39,
   "id": "2e6d742a",
   "metadata": {},
   "outputs": [
    {
     "name": "stdout",
     "output_type": "stream",
     "text": [
      "Oversampling method: DOUBLING\n"
     ]
    },
    {
     "data": {
      "text/html": [
       "<div>\n",
       "<style scoped>\n",
       "    .dataframe tbody tr th:only-of-type {\n",
       "        vertical-align: middle;\n",
       "    }\n",
       "\n",
       "    .dataframe tbody tr th {\n",
       "        vertical-align: top;\n",
       "    }\n",
       "\n",
       "    .dataframe thead th {\n",
       "        text-align: right;\n",
       "    }\n",
       "</style>\n",
       "<table border=\"1\" class=\"dataframe\">\n",
       "  <thead>\n",
       "    <tr style=\"text-align: right;\">\n",
       "      <th></th>\n",
       "      <th>feature1</th>\n",
       "      <th>feature2</th>\n",
       "      <th>feature3</th>\n",
       "      <th>accuracy_test</th>\n",
       "      <th>accuracy_train</th>\n",
       "      <th>accuracy_client</th>\n",
       "      <th>precision_test</th>\n",
       "      <th>precision_train</th>\n",
       "      <th>precision_client</th>\n",
       "      <th>recall_test</th>\n",
       "      <th>recall_train</th>\n",
       "      <th>recall_client</th>\n",
       "      <th>paramenters</th>\n",
       "    </tr>\n",
       "  </thead>\n",
       "  <tbody>\n",
       "    <tr>\n",
       "      <th>1323</th>\n",
       "      <td>thalach</td>\n",
       "      <td>slope</td>\n",
       "      <td>slope</td>\n",
       "      <td>0.628571</td>\n",
       "      <td>0.369565</td>\n",
       "      <td>0.516667</td>\n",
       "      <td>0.351465</td>\n",
       "      <td>0.195246</td>\n",
       "      <td>0.154545</td>\n",
       "      <td>0.410317</td>\n",
       "      <td>0.247792</td>\n",
       "      <td>0.205682</td>\n",
       "      <td>{'C': 1000, 'gamma': 0.01, 'kernel': 'linear'}</td>\n",
       "    </tr>\n",
       "    <tr>\n",
       "      <th>1791</th>\n",
       "      <td>slope</td>\n",
       "      <td>thalach</td>\n",
       "      <td>slope</td>\n",
       "      <td>0.628571</td>\n",
       "      <td>0.369565</td>\n",
       "      <td>0.516667</td>\n",
       "      <td>0.351465</td>\n",
       "      <td>0.195246</td>\n",
       "      <td>0.154545</td>\n",
       "      <td>0.410317</td>\n",
       "      <td>0.247792</td>\n",
       "      <td>0.205682</td>\n",
       "      <td>{'C': 1000, 'gamma': 0.01, 'kernel': 'linear'}</td>\n",
       "    </tr>\n",
       "    <tr>\n",
       "      <th>1827</th>\n",
       "      <td>slope</td>\n",
       "      <td>slope</td>\n",
       "      <td>thalach</td>\n",
       "      <td>0.628571</td>\n",
       "      <td>0.369565</td>\n",
       "      <td>0.516667</td>\n",
       "      <td>0.351465</td>\n",
       "      <td>0.195246</td>\n",
       "      <td>0.154545</td>\n",
       "      <td>0.410317</td>\n",
       "      <td>0.247792</td>\n",
       "      <td>0.205682</td>\n",
       "      <td>{'C': 1000, 'gamma': 0.01, 'kernel': 'linear'}</td>\n",
       "    </tr>\n",
       "    <tr>\n",
       "      <th>155</th>\n",
       "      <td>age</td>\n",
       "      <td>ca</td>\n",
       "      <td>thal</td>\n",
       "      <td>0.614286</td>\n",
       "      <td>0.471014</td>\n",
       "      <td>0.566667</td>\n",
       "      <td>0.388018</td>\n",
       "      <td>0.323979</td>\n",
       "      <td>0.318395</td>\n",
       "      <td>0.428054</td>\n",
       "      <td>0.347858</td>\n",
       "      <td>0.327192</td>\n",
       "      <td>{'C': 1000, 'gamma': 0.01, 'kernel': 'linear'}</td>\n",
       "    </tr>\n",
       "    <tr>\n",
       "      <th>167</th>\n",
       "      <td>age</td>\n",
       "      <td>thal</td>\n",
       "      <td>ca</td>\n",
       "      <td>0.614286</td>\n",
       "      <td>0.471014</td>\n",
       "      <td>0.566667</td>\n",
       "      <td>0.388018</td>\n",
       "      <td>0.323979</td>\n",
       "      <td>0.318395</td>\n",
       "      <td>0.428054</td>\n",
       "      <td>0.347858</td>\n",
       "      <td>0.327192</td>\n",
       "      <td>{'C': 1000, 'gamma': 0.01, 'kernel': 'linear'}</td>\n",
       "    </tr>\n",
       "    <tr>\n",
       "      <th>1871</th>\n",
       "      <td>ca</td>\n",
       "      <td>age</td>\n",
       "      <td>thal</td>\n",
       "      <td>0.614286</td>\n",
       "      <td>0.471014</td>\n",
       "      <td>0.566667</td>\n",
       "      <td>0.388018</td>\n",
       "      <td>0.323979</td>\n",
       "      <td>0.318395</td>\n",
       "      <td>0.428054</td>\n",
       "      <td>0.347858</td>\n",
       "      <td>0.327192</td>\n",
       "      <td>{'C': 1000, 'gamma': 0.01, 'kernel': 'linear'}</td>\n",
       "    </tr>\n",
       "    <tr>\n",
       "      <th>2015</th>\n",
       "      <td>ca</td>\n",
       "      <td>thal</td>\n",
       "      <td>age</td>\n",
       "      <td>0.614286</td>\n",
       "      <td>0.471014</td>\n",
       "      <td>0.566667</td>\n",
       "      <td>0.388018</td>\n",
       "      <td>0.323979</td>\n",
       "      <td>0.318395</td>\n",
       "      <td>0.428054</td>\n",
       "      <td>0.347858</td>\n",
       "      <td>0.327192</td>\n",
       "      <td>{'C': 1000, 'gamma': 0.01, 'kernel': 'linear'}</td>\n",
       "    </tr>\n",
       "    <tr>\n",
       "      <th>2039</th>\n",
       "      <td>thal</td>\n",
       "      <td>age</td>\n",
       "      <td>ca</td>\n",
       "      <td>0.614286</td>\n",
       "      <td>0.471014</td>\n",
       "      <td>0.566667</td>\n",
       "      <td>0.388018</td>\n",
       "      <td>0.323979</td>\n",
       "      <td>0.318395</td>\n",
       "      <td>0.428054</td>\n",
       "      <td>0.347858</td>\n",
       "      <td>0.327192</td>\n",
       "      <td>{'C': 1000, 'gamma': 0.01, 'kernel': 'linear'}</td>\n",
       "    </tr>\n",
       "    <tr>\n",
       "      <th>2171</th>\n",
       "      <td>thal</td>\n",
       "      <td>ca</td>\n",
       "      <td>age</td>\n",
       "      <td>0.614286</td>\n",
       "      <td>0.471014</td>\n",
       "      <td>0.566667</td>\n",
       "      <td>0.388018</td>\n",
       "      <td>0.323979</td>\n",
       "      <td>0.318395</td>\n",
       "      <td>0.428054</td>\n",
       "      <td>0.347858</td>\n",
       "      <td>0.327192</td>\n",
       "      <td>{'C': 1000, 'gamma': 0.01, 'kernel': 'linear'}</td>\n",
       "    </tr>\n",
       "    <tr>\n",
       "      <th>566</th>\n",
       "      <td>trestbps</td>\n",
       "      <td>chol</td>\n",
       "      <td>thalach</td>\n",
       "      <td>0.614286</td>\n",
       "      <td>0.391304</td>\n",
       "      <td>0.466667</td>\n",
       "      <td>0.439607</td>\n",
       "      <td>0.259941</td>\n",
       "      <td>0.187222</td>\n",
       "      <td>0.408507</td>\n",
       "      <td>0.281151</td>\n",
       "      <td>0.221185</td>\n",
       "      <td>{'C': 1000, 'gamma': 0.01, 'kernel': 'linear'}</td>\n",
       "    </tr>\n",
       "  </tbody>\n",
       "</table>\n",
       "</div>"
      ],
      "text/plain": [
       "      feature1 feature2 feature3  accuracy_test  accuracy_train  \\\n",
       "1323   thalach    slope    slope       0.628571        0.369565   \n",
       "1791     slope  thalach    slope       0.628571        0.369565   \n",
       "1827     slope    slope  thalach       0.628571        0.369565   \n",
       "155        age       ca     thal       0.614286        0.471014   \n",
       "167        age     thal       ca       0.614286        0.471014   \n",
       "1871        ca      age     thal       0.614286        0.471014   \n",
       "2015        ca     thal      age       0.614286        0.471014   \n",
       "2039      thal      age       ca       0.614286        0.471014   \n",
       "2171      thal       ca      age       0.614286        0.471014   \n",
       "566   trestbps     chol  thalach       0.614286        0.391304   \n",
       "\n",
       "      accuracy_client  precision_test  precision_train  precision_client  \\\n",
       "1323         0.516667        0.351465         0.195246          0.154545   \n",
       "1791         0.516667        0.351465         0.195246          0.154545   \n",
       "1827         0.516667        0.351465         0.195246          0.154545   \n",
       "155          0.566667        0.388018         0.323979          0.318395   \n",
       "167          0.566667        0.388018         0.323979          0.318395   \n",
       "1871         0.566667        0.388018         0.323979          0.318395   \n",
       "2015         0.566667        0.388018         0.323979          0.318395   \n",
       "2039         0.566667        0.388018         0.323979          0.318395   \n",
       "2171         0.566667        0.388018         0.323979          0.318395   \n",
       "566          0.466667        0.439607         0.259941          0.187222   \n",
       "\n",
       "      recall_test  recall_train  recall_client  \\\n",
       "1323     0.410317      0.247792       0.205682   \n",
       "1791     0.410317      0.247792       0.205682   \n",
       "1827     0.410317      0.247792       0.205682   \n",
       "155      0.428054      0.347858       0.327192   \n",
       "167      0.428054      0.347858       0.327192   \n",
       "1871     0.428054      0.347858       0.327192   \n",
       "2015     0.428054      0.347858       0.327192   \n",
       "2039     0.428054      0.347858       0.327192   \n",
       "2171     0.428054      0.347858       0.327192   \n",
       "566      0.408507      0.281151       0.221185   \n",
       "\n",
       "                                         paramenters  \n",
       "1323  {'C': 1000, 'gamma': 0.01, 'kernel': 'linear'}  \n",
       "1791  {'C': 1000, 'gamma': 0.01, 'kernel': 'linear'}  \n",
       "1827  {'C': 1000, 'gamma': 0.01, 'kernel': 'linear'}  \n",
       "155   {'C': 1000, 'gamma': 0.01, 'kernel': 'linear'}  \n",
       "167   {'C': 1000, 'gamma': 0.01, 'kernel': 'linear'}  \n",
       "1871  {'C': 1000, 'gamma': 0.01, 'kernel': 'linear'}  \n",
       "2015  {'C': 1000, 'gamma': 0.01, 'kernel': 'linear'}  \n",
       "2039  {'C': 1000, 'gamma': 0.01, 'kernel': 'linear'}  \n",
       "2171  {'C': 1000, 'gamma': 0.01, 'kernel': 'linear'}  \n",
       "566   {'C': 1000, 'gamma': 0.01, 'kernel': 'linear'}  "
      ]
     },
     "metadata": {},
     "output_type": "display_data"
    }
   ],
   "source": [
    "print(\"Oversampling method:\", oversampling_method)\n",
    "display(feat3_models.sort_values(by=['accuracy_test', 'accuracy_train', 'accuracy_client'], ascending = False).head(10))"
   ]
  },
  {
   "cell_type": "code",
   "execution_count": 40,
   "id": "83109d7f",
   "metadata": {},
   "outputs": [
    {
     "data": {
      "text/plain": [
       "Text(0.5, 0, 'exang')"
      ]
     },
     "execution_count": 40,
     "metadata": {},
     "output_type": "execute_result"
    },
    {
     "data": {
      "image/png": "[encoded data removed]",
      "text/plain": [
       "<Figure size 640x480 with 1 Axes>"
      ]
     },
     "metadata": {},
     "output_type": "display_data"
    }
   ],
   "source": [
    "zero  = (y==0)\n",
    "one   = (y==1)\n",
    "two   = (y==2)\n",
    "three = (y==3)\n",
    "four  = (y==4)\n",
    "\n",
    "fig = plt.figure()\n",
    "ax = fig.add_subplot(projection='3d')\n",
    "ax.scatter(X['fbs'][zero],   X['fbs'][zero],   X['exang'][zero])\n",
    "ax.scatter(X['fbs'][one],   X['fbs'][one],   X['exang'][one])\n",
    "ax.scatter(X['fbs'][two],   X['fbs'][two],   X['exang'][two])\n",
    "ax.scatter(X['fbs'][three], X['fbs'][three], X['exang'][three])\n",
    "ax.scatter(X['fbs'][four],  X['fbs'][four],  X['exang'][four])\n",
    "\n",
    "ax.set_xlabel('fbs')\n",
    "ax.set_ylabel('fbs')\n",
    "ax.set_zlabel('exang')"
   ]
  },
  {
   "cell_type": "markdown",
   "id": "90620eaa",
   "metadata": {},
   "source": [
    "### 6.3 K-Nearest-Neighbour - Algorithm (KNN)\n",
    "\n",
    "The **KNN** is an algorithm used for classification ot estimate the class that the new data point will be."
   ]
  },
  {
   "cell_type": "markdown",
   "id": "1e1e0387",
   "metadata": {},
   "source": [
    "##### 6.3.1 ... with all features"
   ]
  },
  {
   "cell_type": "code",
   "execution_count": 41,
   "id": "b757a7bb",
   "metadata": {},
   "outputs": [
    {
     "name": "stdout",
     "output_type": "stream",
     "text": [
      "Best Parameters: {'metric': 'chebyshev', 'n_neighbors': 1}\n",
      "Best Estimator: KNeighborsClassifier(metric='chebyshev', n_neighbors=1)\n",
      "Oversampling method: DOUBLING\n",
      "KNN, no fetaure selection\n",
      "Accuracy test: 0.6896551724137931\n",
      "Accuracy train: 1.0\n",
      "Accuracy client: 0.5\n"
     ]
    }
   ],
   "source": [
    "from sklearn.neighbors import KNeighborsClassifier\n",
    "\n",
    "# separating train and test sets (20% out of the 80% after splitting the clients dataset)\n",
    "X_train, X_test, y_train, y_test = train_test_split(X, y, test_size=0.20/0.80, random_state=42)\n",
    "\n",
    "norm = Normalizer()\n",
    "X_train_norm = norm.fit_transform(X_train)\n",
    "X_test_norm = norm.transform(X_test)\n",
    "X_client_norm = norm.transform(X_client)\n",
    "\n",
    "# given parameters to search for the best (grid search)\n",
    "parameters_grid = {'metric': ['euclidean', 'cityblock', 'chebyshev'],\n",
    "    'n_neighbors': [1, 2, 3, 4]}\n",
    "\n",
    "# finding the best parameters for the model \n",
    "grid_search = GridSearchCV(estimator = KNeighborsClassifier(), \n",
    "                           param_grid = parameters_grid, \n",
    "                           cv = 5, scoring = 'accuracy')\n",
    "grid_search.fit(X_train_norm, y_train)\n",
    "\n",
    "# display the best parameters\n",
    "best_parameters = grid_search.best_params_\n",
    "\n",
    "# display first best parameter \n",
    "best_estimator = grid_search.best_estimator_\n",
    "\n",
    "print(\"Best Parameters:\", best_parameters)\n",
    "print(\"Best Estimator:\", best_estimator)\n",
    "\n",
    "# creating and fitting the model\n",
    "classifier = KNeighborsClassifier(**best_parameters)\n",
    "classifier = classifier.fit(X_train_norm, y_train)\n",
    "y_predict = classifier.predict(X_test_norm)\n",
    "y_predict_train = classifier.predict(X_train_norm)\n",
    "y_predict_client = classifier.predict(X_client_norm)\n",
    "\n",
    "print(\"Oversampling method:\", oversampling_method)\n",
    "print(\"KNN, no fetaure selection\")\n",
    "print(\"Accuracy test:\", metrics.accuracy_score(y_test, y_predict))\n",
    "print(\"Accuracy train:\", metrics.accuracy_score(y_train, y_predict_train))\n",
    "print(\"Accuracy client:\", metrics.accuracy_score(y_client, y_predict_client))"
   ]
  },
  {
   "cell_type": "code",
   "execution_count": 42,
   "id": "eb652353",
   "metadata": {},
   "outputs": [
    {
     "name": "stdout",
     "output_type": "stream",
     "text": [
      "Confusion matrix test:\n",
      " [[23  9  6  1  1]\n",
      " [ 0 15  0  0  2]\n",
      " [ 2  0  9  2  2]\n",
      " [ 0  0  2  9  0]\n",
      " [ 0  0  0  0  4]]\n",
      "Confusion matrix client:\n",
      " [[24  2  2  4  0]\n",
      " [ 4  2  4  1  0]\n",
      " [ 1  2  2  1  1]\n",
      " [ 3  1  0  2  1]\n",
      " [ 2  1  0  0  0]]\n"
     ]
    }
   ],
   "source": [
    "matrix_test = confusion_matrix(y_test, y_predict)\n",
    "matrix_client = confusion_matrix(y_client, y_predict_client)\n",
    "print(\"Confusion matrix test:\\n\", matrix_test)\n",
    "print(\"Confusion matrix client:\\n\", matrix_client)"
   ]
  },
  {
   "cell_type": "code",
   "execution_count": 43,
   "id": "191e85e7",
   "metadata": {},
   "outputs": [
    {
     "name": "stdout",
     "output_type": "stream",
     "text": [
      "Accuracy test: 0.689655\n",
      "Accuracy client: 0.500000\n",
      "Precision test: 0.653771\n",
      "Precision client: 0.291176\n",
      "Recall test: 0.775107\n",
      "Recall client: 0.300649\n"
     ]
    }
   ],
   "source": [
    "# accuracy: (tp + tn) / (p + n)\n",
    "print('Accuracy test: %f' % accuracy_score(y_test, y_predict))\n",
    "print('Accuracy client: %f' % accuracy_score(y_client, y_predict_client))\n",
    "# precision tp / (tp + fp)\n",
    "print('Precision test: %f' % precision_score(y_test, y_predict, average='macro'))\n",
    "print('Precision client: %f' % precision_score(y_client, y_predict_client, average='macro'))\n",
    "# recall: tp / (tp + fn)\n",
    "print('Recall test: %f' % recall_score(y_test, y_predict, average='macro'))\n",
    "print('Recall client: %f' % recall_score(y_client, y_predict_client, average='macro'))"
   ]
  },
  {
   "cell_type": "markdown",
   "id": "776a236b",
   "metadata": {},
   "source": [
    "##### 6.3.2 ... with correlation feature selection"
   ]
  },
  {
   "cell_type": "code",
   "execution_count": 44,
   "id": "5abfea4f",
   "metadata": {},
   "outputs": [
    {
     "name": "stdout",
     "output_type": "stream",
     "text": [
      "Best Parameters: {'metric': 'cityblock', 'n_neighbors': 1}\n",
      "Best Estimator: KNeighborsClassifier(metric='cityblock', n_neighbors=1)\n",
      "Oversampling method: DOUBLING\n",
      "KNN, correlation selection\n",
      "Accuracy test: 0.6781609195402298\n",
      "Accuracy train: 0.9691119691119691\n",
      "Accuracy client: 0.45\n"
     ]
    }
   ],
   "source": [
    "# selected features\n",
    "corr_selected_features = Corr_selection(X, 'spearman', 0.2)\n",
    "\n",
    "# separating train and test sets (20% out of the 80% after splitting the clients dataset)\n",
    "X_train, X_test, y_train, y_test = train_test_split(X[corr_selected_features], \n",
    "                                                    y, test_size=0.20/0.80, \n",
    "                                                    random_state=42)\n",
    "\n",
    "norm = Normalizer()\n",
    "X_train_norm = norm.fit_transform(X_train)\n",
    "X_test_norm = norm.transform(X_test)\n",
    "X_client_norm = norm.transform(X_client[corr_selected_features])\n",
    "\n",
    "# given parameters to search for the best (grid search)\n",
    "parameters_grid = {'metric': ['euclidean', 'cityblock', 'chebyshev'],\n",
    "    'n_neighbors': [1, 2, 3, 4]}\n",
    "\n",
    "# finding the best parameters for the model \n",
    "grid_search = GridSearchCV(estimator = KNeighborsClassifier(), \n",
    "                           param_grid = parameters_grid, \n",
    "                           cv = 5, scoring = 'accuracy')\n",
    "grid_search.fit(X_train_norm, y_train)\n",
    "\n",
    "# display the best parameters\n",
    "best_parameters = grid_search.best_params_\n",
    "\n",
    "# display first best parameter \n",
    "best_estimator = grid_search.best_estimator_\n",
    "\n",
    "print(\"Best Parameters:\", best_parameters)\n",
    "print(\"Best Estimator:\", best_estimator)\n",
    "\n",
    "# creating and fitting the model\n",
    "classifier = KNeighborsClassifier(**best_parameters)\n",
    "classifier = classifier.fit(X_train_norm, y_train)\n",
    "y_predict = classifier.predict(X_test_norm)\n",
    "y_predict_train = classifier.predict(X_train_norm)\n",
    "y_predict_client = classifier.predict(X_client_norm)\n",
    "\n",
    "print(\"Oversampling method:\", oversampling_method)\n",
    "print(\"KNN, correlation selection\")\n",
    "print(\"Accuracy test:\", metrics.accuracy_score(y_test, y_predict))\n",
    "print(\"Accuracy train:\", metrics.accuracy_score(y_train, y_predict_train))\n",
    "print(\"Accuracy client:\", metrics.accuracy_score(y_client, y_predict_client))"
   ]
  },
  {
   "cell_type": "code",
   "execution_count": 45,
   "id": "510d3f3c",
   "metadata": {},
   "outputs": [
    {
     "name": "stdout",
     "output_type": "stream",
     "text": [
      "Confusion matrix test:\n",
      " [[20  9  5  4  2]\n",
      " [ 0 17  0  0  0]\n",
      " [ 3  0  8  2  2]\n",
      " [ 0  0  0 11  0]\n",
      " [ 0  0  1  0  3]]\n",
      "Confusion matrix client:\n",
      " [[23  3  3  3  0]\n",
      " [ 4  3  2  1  1]\n",
      " [ 4  1  1  0  1]\n",
      " [ 1  5  1  0  0]\n",
      " [ 2  0  1  0  0]]\n"
     ]
    }
   ],
   "source": [
    "matrix_test = confusion_matrix(y_test, y_predict)\n",
    "matrix_client = confusion_matrix(y_client, y_predict_client)\n",
    "print(\"Confusion matrix test:\\n\", matrix_test)\n",
    "print(\"Confusion matrix client:\\n\", matrix_client)"
   ]
  },
  {
   "cell_type": "code",
   "execution_count": 46,
   "id": "07a87f07",
   "metadata": {},
   "outputs": [
    {
     "name": "stdout",
     "output_type": "stream",
     "text": [
      "Accuracy test: 0.678161\n",
      "Accuracy client: 0.450000\n",
      "Precision test: 0.634094\n",
      "Precision client: 0.210294\n",
      "Recall test: 0.756667\n",
      "Recall client: 0.226867\n"
     ]
    }
   ],
   "source": [
    "# accuracy: (tp + tn) / (p + n)\n",
    "print('Accuracy test: %f' % accuracy_score(y_test, y_predict))\n",
    "print('Accuracy client: %f' % accuracy_score(y_client, y_predict_client))\n",
    "# precision tp / (tp + fp)\n",
    "print('Precision test: %f' % precision_score(y_test, y_predict, average='macro'))\n",
    "print('Precision client: %f' % precision_score(y_client, y_predict_client, average='macro'))\n",
    "# recall: tp / (tp + fn)\n",
    "print('Recall test: %f' % recall_score(y_test, y_predict, average='macro'))\n",
    "print('Recall client: %f' % recall_score(y_client, y_predict_client, average='macro'))"
   ]
  },
  {
   "cell_type": "markdown",
   "id": "560cb566",
   "metadata": {},
   "source": [
    "##### 6.3.3 ... with multual information feature selection"
   ]
  },
  {
   "cell_type": "code",
   "execution_count": 47,
   "id": "bd095f65",
   "metadata": {},
   "outputs": [
    {
     "name": "stdout",
     "output_type": "stream",
     "text": [
      "Best Parameters: {'metric': 'euclidean', 'n_neighbors': 1}\n",
      "Best Estimator: KNeighborsClassifier(metric='euclidean', n_neighbors=1)\n",
      "Oversampling method: DOUBLING\n",
      "KNN, multual information feature selection\n",
      "Accuracy test: 0.6857142857142857\n",
      "Accuracy train: 1.0\n",
      "Accuracy client: 0.4\n"
     ]
    }
   ],
   "source": [
    "# selected features\n",
    "InfoGain_selected_features = InfoGain_selection(X, y, 6)[1]\n",
    "\n",
    "# separate train and test sets\n",
    "X_train, X_test, y_train, y_test = train_test_split(X[InfoGain_selected_features], y, \n",
    "                                                    test_size=0.20, random_state=42)\n",
    "\n",
    "norm = Normalizer()\n",
    "X_train_norm = norm.fit_transform(X_train)\n",
    "X_test_norm = norm.transform(X_test)\n",
    "X_client_norm = norm.transform(X_client[InfoGain_selected_features])\n",
    "\n",
    "# given parameters to search for the best (grid search)\n",
    "parameters_grid = {'metric': ['euclidean', 'cityblock', 'chebyshev'],\n",
    "    'n_neighbors': [1, 2, 3, 4]}\n",
    "\n",
    "# finding the best parameters for the model \n",
    "grid_search = GridSearchCV(estimator = KNeighborsClassifier(), \n",
    "                           param_grid = parameters_grid, \n",
    "                           cv = 5, scoring = 'accuracy')\n",
    "grid_search.fit(X_train_norm, y_train)\n",
    "\n",
    "# display the best parameters\n",
    "best_parameters = grid_search.best_params_\n",
    "\n",
    "# display first best parameter \n",
    "best_estimator = grid_search.best_estimator_\n",
    "\n",
    "print(\"Best Parameters:\", best_parameters)\n",
    "print(\"Best Estimator:\", best_estimator)\n",
    "\n",
    "# creating and fitting the model\n",
    "classifier = KNeighborsClassifier(**best_parameters)\n",
    "classifier = classifier.fit(X_train_norm, y_train)\n",
    "y_predict = classifier.predict(X_test_norm)\n",
    "y_predict_train = classifier.predict(X_train_norm)\n",
    "y_predict_client = classifier.predict(X_client_norm)\n",
    "\n",
    "print(\"Oversampling method:\", oversampling_method)\n",
    "print(\"KNN, multual information feature selection\")\n",
    "print(\"Accuracy test:\", metrics.accuracy_score(y_test, y_predict))\n",
    "print(\"Accuracy train:\", metrics.accuracy_score(y_train, y_predict_train))\n",
    "print(\"Accuracy client:\", metrics.accuracy_score(y_client, y_predict_client))"
   ]
  },
  {
   "cell_type": "code",
   "execution_count": 48,
   "id": "cee91631",
   "metadata": {},
   "outputs": [
    {
     "name": "stdout",
     "output_type": "stream",
     "text": [
      "Confusion matrix test:\n",
      " [[18 10  6  0  0]\n",
      " [ 0 11  0  0  2]\n",
      " [ 2  0  6  2  0]\n",
      " [ 0  0  0 10  0]\n",
      " [ 0  0  0  0  3]]\n",
      "Confusion matrix client:\n",
      " [[21  6  2  3  0]\n",
      " [ 6  1  2  2  0]\n",
      " [ 1  4  0  2  0]\n",
      " [ 1  1  3  2  0]\n",
      " [ 2  1  0  0  0]]\n"
     ]
    }
   ],
   "source": [
    "matrix_test = confusion_matrix(y_test, y_predict)\n",
    "matrix_client = confusion_matrix(y_client, y_predict_client)\n",
    "print(\"Confusion matrix test:\\n\", matrix_test)\n",
    "print(\"Confusion matrix client:\\n\", matrix_client)"
   ]
  },
  {
   "cell_type": "code",
   "execution_count": 49,
   "id": "5261a150",
   "metadata": {},
   "outputs": [
    {
     "name": "stdout",
     "output_type": "stream",
     "text": [
      "Accuracy test: 0.685714\n",
      "Accuracy client: 0.400000\n",
      "Precision test: 0.671429\n",
      "Precision client: 0.195313\n",
      "Recall test: 0.795113\n",
      "Recall client: 0.206575\n"
     ]
    }
   ],
   "source": [
    "# accuracy: (tp + tn) / (p + n)\n",
    "print('Accuracy test: %f' % accuracy_score(y_test, y_predict))\n",
    "print('Accuracy client: %f' % accuracy_score(y_client, y_predict_client))\n",
    "# precision tp / (tp + fp)\n",
    "print('Precision test: %f' % precision_score(y_test, y_predict, average='macro'))\n",
    "print('Precision client: %f' % precision_score(y_client, y_predict_client, average='macro'))\n",
    "# recall: tp / (tp + fn)\n",
    "print('Recall test: %f' % recall_score(y_test, y_predict, average='macro'))\n",
    "print('Recall client: %f' % recall_score(y_client, y_predict_client, average='macro'))"
   ]
  },
  {
   "cell_type": "markdown",
   "id": "1eeec44f",
   "metadata": {},
   "source": [
    "##### 6.3.4 ... with by-3-permutation selection"
   ]
  },
  {
   "cell_type": "code",
   "execution_count": 51,
   "id": "60ac29f8",
   "metadata": {},
   "outputs": [],
   "source": [
    "accuracy_permutation_test = []\n",
    "accuracy_permutation_train = []\n",
    "accuracy_permutation_client = []\n",
    "precision_permutation_test = []\n",
    "precision_permutation_train = []\n",
    "precision_permutation_client = []\n",
    "recall_permutation_test = []\n",
    "recall_permutation_train = []\n",
    "recall_permutation_client = []\n",
    "k_values_list = []\n",
    "metric_list = []\n",
    "\n",
    "for n in range(len(feat3_permutations)):\n",
    "    \n",
    "    X_train, X_test, y_train, y_test = train_test_split(X[feat3_permutations.iloc[n,:]], y, \n",
    "                                                    test_size=0.20, random_state=42 )\n",
    "    \n",
    "    norm = Normalizer()\n",
    "    X_train_norm = norm.fit_transform(X_train)\n",
    "    X_test_norm = norm.transform(X_test)\n",
    "    X_client_norm = norm.transform(X_client[feat3_permutations.iloc[n,:]])\n",
    "    # given parameters to search for the best (grid search)\n",
    "    #parameters_grid = {'metric': ['euclidean', 'cityblock', 'chebyshev'],\n",
    "    #    'n_neighbors': [1, 2, 3, 4]}\n",
    "\n",
    "    # finding the best parameters for the model \n",
    "    #grid_search = GridSearchCV(estimator = KNeighborsClassifier(), \n",
    "    #                        param_grid = parameters_grid, \n",
    "    #                        cv = 5, scoring = 'accuracy')\n",
    "    #grid_search.fit(X_train_norm, y_train)\n",
    "\n",
    "    # display the best parameters\n",
    "    #best_parameters = grid_search.best_params_\n",
    "\n",
    "    # display first best parameter \n",
    "    #best_estimator = grid_search.best_estimator_\n",
    "\n",
    "    #print(\"Best Parameters:\", best_parameters)\n",
    "    #print(\"Best Estimator:\", best_estimator)\n",
    "\n",
    "    # creating and fitting the model\n",
    "    classifier = KNeighborsClassifier(**best_parameters)\n",
    "    classifier = classifier.fit(X_train_norm, y_train)\n",
    "    y_predict = classifier.predict(X_test_norm)\n",
    "    y_predict_train = classifier.predict(X_train_norm)  \n",
    "    y_predict_client = classifier.predict(X_client_norm)\n",
    "\n",
    "    # accuracy of the model\n",
    "    accuracy = metrics.accuracy_score(y_test, y_predict)\n",
    "    \n",
    "    k_values_list.append(best_parameters['n_neighbors'])\n",
    "    metric_list.append(best_parameters['metric'])\n",
    "    accuracy_permutation_test.append(metrics.accuracy_score(y_test, y_predict))\n",
    "    accuracy_permutation_train.append(metrics.accuracy_score(y_train, y_predict_train))\n",
    "    accuracy_permutation_client.append(metrics.accuracy_score(y_client, y_predict_client))\n",
    "    precision_permutation_test.append(metrics.precision_score(y_test, y_predict, average='macro'))\n",
    "    precision_permutation_train.append(metrics.precision_score(y_train, y_predict_train, average='macro'))\n",
    "    precision_permutation_client.append(metrics.precision_score(y_client, y_client_train, average='macro'))\n",
    "    recall_permutation_test.append(metrics.recall_score(y_test, y_predict, average='macro'))\n",
    "    recall_permutation_train.append(metrics.recall_score(y_train, y_predict_train, average='macro'))\n",
    "    recall_permutation_client.append(metrics.recall_score(y_client, y_client_train, average='macro'))\n",
    "\n",
    "accuracy_permutation_test = pd.Series(data = accuracy_permutation_test, name=\"accuracy_test\")\n",
    "accuracy_permutation_train = pd.Series(data = accuracy_permutation_train, name=\"accuracy_train\")\n",
    "accuracy_permutation_client = pd.Series(data = accuracy_permutation_client, name=\"accuracy_client\")\n",
    "precision_permutation_test = pd.Series(data = precision_permutation_test, name=\"precision_test\")\n",
    "precision_permutation_train = pd.Series(data = precision_permutation_train, name=\"precision_train\")\n",
    "precision_permutation_client = pd.Series(data = precision_permutation_client, name=\"precision_client\")\n",
    "recall_permutation_test = pd.Series(data = recall_permutation_test, name=\"recall_test\")\n",
    "recall_permutation_train = pd.Series(data = recall_permutation_train, name=\"recall_train\")\n",
    "recall_permutation_client = pd.Series(data = recall_permutation_client, name=\"recall_client\")\n",
    "k_values_list = pd.Series(data = k_values_list, name=\"K\")\n",
    "metric_list = pd.Series(data = metric_list, name=\"metric\")\n",
    "feat3_models = pd.concat([feat3_permutations, accuracy_permutation_test, accuracy_permutation_train, accuracy_permutation_client, precision_permutation_test, precision_permutation_train, precision_permutation_client, recall_permutation_test, recall_permutation_train, recall_permutation_client, k_values_list, metric_list], axis=1)"
   ]
  },
  {
   "cell_type": "code",
   "execution_count": 52,
   "id": "9dd6943c",
   "metadata": {},
   "outputs": [
    {
     "name": "stdout",
     "output_type": "stream",
     "text": [
      "Oversampling method: DOUBLING\n"
     ]
    },
    {
     "data": {
      "text/html": [
       "<div>\n",
       "<style scoped>\n",
       "    .dataframe tbody tr th:only-of-type {\n",
       "        vertical-align: middle;\n",
       "    }\n",
       "\n",
       "    .dataframe tbody tr th {\n",
       "        vertical-align: top;\n",
       "    }\n",
       "\n",
       "    .dataframe thead th {\n",
       "        text-align: right;\n",
       "    }\n",
       "</style>\n",
       "<table border=\"1\" class=\"dataframe\">\n",
       "  <thead>\n",
       "    <tr style=\"text-align: right;\">\n",
       "      <th></th>\n",
       "      <th>feature1</th>\n",
       "      <th>feature2</th>\n",
       "      <th>feature3</th>\n",
       "      <th>accuracy_test</th>\n",
       "      <th>accuracy_train</th>\n",
       "      <th>accuracy_client</th>\n",
       "      <th>precision_test</th>\n",
       "      <th>precision_train</th>\n",
       "      <th>precision_client</th>\n",
       "      <th>recall_test</th>\n",
       "      <th>recall_train</th>\n",
       "      <th>recall_client</th>\n",
       "      <th>K</th>\n",
       "      <th>metric</th>\n",
       "    </tr>\n",
       "  </thead>\n",
       "  <tbody>\n",
       "    <tr>\n",
       "      <th>33</th>\n",
       "      <td>age</td>\n",
       "      <td>cp</td>\n",
       "      <td>thalach</td>\n",
       "      <td>0.828571</td>\n",
       "      <td>0.98913</td>\n",
       "      <td>0.450000</td>\n",
       "      <td>0.782941</td>\n",
       "      <td>0.993814</td>\n",
       "      <td>0.106667</td>\n",
       "      <td>0.812157</td>\n",
       "      <td>0.982756</td>\n",
       "      <td>0.2</td>\n",
       "      <td>1</td>\n",
       "      <td>euclidean</td>\n",
       "    </tr>\n",
       "    <tr>\n",
       "      <th>93</th>\n",
       "      <td>age</td>\n",
       "      <td>thalach</td>\n",
       "      <td>cp</td>\n",
       "      <td>0.828571</td>\n",
       "      <td>0.98913</td>\n",
       "      <td>0.450000</td>\n",
       "      <td>0.782941</td>\n",
       "      <td>0.993814</td>\n",
       "      <td>0.106667</td>\n",
       "      <td>0.812157</td>\n",
       "      <td>0.982756</td>\n",
       "      <td>0.2</td>\n",
       "      <td>1</td>\n",
       "      <td>euclidean</td>\n",
       "    </tr>\n",
       "    <tr>\n",
       "      <th>345</th>\n",
       "      <td>cp</td>\n",
       "      <td>age</td>\n",
       "      <td>thalach</td>\n",
       "      <td>0.828571</td>\n",
       "      <td>0.98913</td>\n",
       "      <td>0.450000</td>\n",
       "      <td>0.782941</td>\n",
       "      <td>0.993814</td>\n",
       "      <td>0.106667</td>\n",
       "      <td>0.812157</td>\n",
       "      <td>0.982756</td>\n",
       "      <td>0.2</td>\n",
       "      <td>1</td>\n",
       "      <td>euclidean</td>\n",
       "    </tr>\n",
       "    <tr>\n",
       "      <th>429</th>\n",
       "      <td>cp</td>\n",
       "      <td>thalach</td>\n",
       "      <td>age</td>\n",
       "      <td>0.828571</td>\n",
       "      <td>0.98913</td>\n",
       "      <td>0.450000</td>\n",
       "      <td>0.782941</td>\n",
       "      <td>0.993814</td>\n",
       "      <td>0.106667</td>\n",
       "      <td>0.812157</td>\n",
       "      <td>0.982756</td>\n",
       "      <td>0.2</td>\n",
       "      <td>1</td>\n",
       "      <td>euclidean</td>\n",
       "    </tr>\n",
       "    <tr>\n",
       "      <th>1185</th>\n",
       "      <td>thalach</td>\n",
       "      <td>age</td>\n",
       "      <td>cp</td>\n",
       "      <td>0.828571</td>\n",
       "      <td>0.98913</td>\n",
       "      <td>0.450000</td>\n",
       "      <td>0.782941</td>\n",
       "      <td>0.993814</td>\n",
       "      <td>0.106667</td>\n",
       "      <td>0.812157</td>\n",
       "      <td>0.982756</td>\n",
       "      <td>0.2</td>\n",
       "      <td>1</td>\n",
       "      <td>euclidean</td>\n",
       "    </tr>\n",
       "    <tr>\n",
       "      <th>1209</th>\n",
       "      <td>thalach</td>\n",
       "      <td>cp</td>\n",
       "      <td>age</td>\n",
       "      <td>0.828571</td>\n",
       "      <td>0.98913</td>\n",
       "      <td>0.450000</td>\n",
       "      <td>0.782941</td>\n",
       "      <td>0.993814</td>\n",
       "      <td>0.106667</td>\n",
       "      <td>0.812157</td>\n",
       "      <td>0.982756</td>\n",
       "      <td>0.2</td>\n",
       "      <td>1</td>\n",
       "      <td>euclidean</td>\n",
       "    </tr>\n",
       "    <tr>\n",
       "      <th>101</th>\n",
       "      <td>age</td>\n",
       "      <td>thalach</td>\n",
       "      <td>slope</td>\n",
       "      <td>0.814286</td>\n",
       "      <td>1.00000</td>\n",
       "      <td>0.383333</td>\n",
       "      <td>0.800684</td>\n",
       "      <td>1.000000</td>\n",
       "      <td>0.106667</td>\n",
       "      <td>0.867059</td>\n",
       "      <td>1.000000</td>\n",
       "      <td>0.2</td>\n",
       "      <td>1</td>\n",
       "      <td>euclidean</td>\n",
       "    </tr>\n",
       "    <tr>\n",
       "      <th>137</th>\n",
       "      <td>age</td>\n",
       "      <td>slope</td>\n",
       "      <td>thalach</td>\n",
       "      <td>0.814286</td>\n",
       "      <td>1.00000</td>\n",
       "      <td>0.383333</td>\n",
       "      <td>0.800684</td>\n",
       "      <td>1.000000</td>\n",
       "      <td>0.106667</td>\n",
       "      <td>0.867059</td>\n",
       "      <td>1.000000</td>\n",
       "      <td>0.2</td>\n",
       "      <td>1</td>\n",
       "      <td>euclidean</td>\n",
       "    </tr>\n",
       "    <tr>\n",
       "      <th>1193</th>\n",
       "      <td>thalach</td>\n",
       "      <td>age</td>\n",
       "      <td>slope</td>\n",
       "      <td>0.814286</td>\n",
       "      <td>1.00000</td>\n",
       "      <td>0.383333</td>\n",
       "      <td>0.800684</td>\n",
       "      <td>1.000000</td>\n",
       "      <td>0.106667</td>\n",
       "      <td>0.867059</td>\n",
       "      <td>1.000000</td>\n",
       "      <td>0.2</td>\n",
       "      <td>1</td>\n",
       "      <td>euclidean</td>\n",
       "    </tr>\n",
       "    <tr>\n",
       "      <th>1313</th>\n",
       "      <td>thalach</td>\n",
       "      <td>slope</td>\n",
       "      <td>age</td>\n",
       "      <td>0.814286</td>\n",
       "      <td>1.00000</td>\n",
       "      <td>0.383333</td>\n",
       "      <td>0.800684</td>\n",
       "      <td>1.000000</td>\n",
       "      <td>0.106667</td>\n",
       "      <td>0.867059</td>\n",
       "      <td>1.000000</td>\n",
       "      <td>0.2</td>\n",
       "      <td>1</td>\n",
       "      <td>euclidean</td>\n",
       "    </tr>\n",
       "  </tbody>\n",
       "</table>\n",
       "</div>"
      ],
      "text/plain": [
       "     feature1 feature2 feature3  accuracy_test  accuracy_train  \\\n",
       "33        age       cp  thalach       0.828571         0.98913   \n",
       "93        age  thalach       cp       0.828571         0.98913   \n",
       "345        cp      age  thalach       0.828571         0.98913   \n",
       "429        cp  thalach      age       0.828571         0.98913   \n",
       "1185  thalach      age       cp       0.828571         0.98913   \n",
       "1209  thalach       cp      age       0.828571         0.98913   \n",
       "101       age  thalach    slope       0.814286         1.00000   \n",
       "137       age    slope  thalach       0.814286         1.00000   \n",
       "1193  thalach      age    slope       0.814286         1.00000   \n",
       "1313  thalach    slope      age       0.814286         1.00000   \n",
       "\n",
       "      accuracy_client  precision_test  precision_train  precision_client  \\\n",
       "33           0.450000        0.782941         0.993814          0.106667   \n",
       "93           0.450000        0.782941         0.993814          0.106667   \n",
       "345          0.450000        0.782941         0.993814          0.106667   \n",
       "429          0.450000        0.782941         0.993814          0.106667   \n",
       "1185         0.450000        0.782941         0.993814          0.106667   \n",
       "1209         0.450000        0.782941         0.993814          0.106667   \n",
       "101          0.383333        0.800684         1.000000          0.106667   \n",
       "137          0.383333        0.800684         1.000000          0.106667   \n",
       "1193         0.383333        0.800684         1.000000          0.106667   \n",
       "1313         0.383333        0.800684         1.000000          0.106667   \n",
       "\n",
       "      recall_test  recall_train  recall_client  K     metric  \n",
       "33       0.812157      0.982756            0.2  1  euclidean  \n",
       "93       0.812157      0.982756            0.2  1  euclidean  \n",
       "345      0.812157      0.982756            0.2  1  euclidean  \n",
       "429      0.812157      0.982756            0.2  1  euclidean  \n",
       "1185     0.812157      0.982756            0.2  1  euclidean  \n",
       "1209     0.812157      0.982756            0.2  1  euclidean  \n",
       "101      0.867059      1.000000            0.2  1  euclidean  \n",
       "137      0.867059      1.000000            0.2  1  euclidean  \n",
       "1193     0.867059      1.000000            0.2  1  euclidean  \n",
       "1313     0.867059      1.000000            0.2  1  euclidean  "
      ]
     },
     "metadata": {},
     "output_type": "display_data"
    }
   ],
   "source": [
    "print(\"Oversampling method:\", oversampling_method)\n",
    "display(feat3_models.sort_values(by=['accuracy_test', 'accuracy_train', 'accuracy_client'], ascending = False).head(10))"
   ]
  },
  {
   "cell_type": "code",
   "execution_count": 53,
   "id": "82ac3e94",
   "metadata": {},
   "outputs": [
    {
     "data": {
      "text/plain": [
       "Text(0.5, 0, 'age')"
      ]
     },
     "execution_count": 53,
     "metadata": {},
     "output_type": "execute_result"
    },
    {
     "data": {
      "image/png": "[encoded data removed]",
      "text/plain": [
       "<Figure size 640x480 with 1 Axes>"
      ]
     },
     "metadata": {},
     "output_type": "display_data"
    }
   ],
   "source": [
    "zero  = (y==0)\n",
    "one   = (y==1)\n",
    "two   = (y==2)\n",
    "three = (y==3)\n",
    "four  = (y==4)\n",
    "\n",
    "fig = plt.figure()\n",
    "ax = fig.add_subplot(projection='3d')\n",
    "ax.scatter(X['ca'][zero],   X['chol'][zero],   X['age'][zero])\n",
    "ax.scatter(X['ca'][one],   X['chol'][one],   X['age'][one])\n",
    "ax.scatter(X['ca'][two],   X['chol'][two],   X['age'][two])\n",
    "ax.scatter(X['ca'][three], X['chol'][three], X['age'][three])\n",
    "ax.scatter(X['ca'][four],  X['chol'][four],  X['age'][four])\n",
    "\n",
    "ax.set_xlabel('ca')\n",
    "ax.set_ylabel('chol')\n",
    "ax.set_zlabel('age')"
   ]
  },
  {
   "cell_type": "markdown",
   "id": "07fd4e59",
   "metadata": {},
   "source": [
    "# 7. References\n",
    "<a id=\"1\">[1]</a>\n",
    "Anggoro, Dimas Aryo and Kurnia, Naqshauliza Devi (2020). \n",
    "Comparison of accuracy level of support vector machine (SVM) and K-nearest neighbors (KNN) algorithms in predicting heart disease\n",
    "International Journal, 8(5), 1689--1694.\n",
    "\n",
    "<a id=\"2\">[2]</a>\n",
    "https://www.kaggle.com/code/zawlinnnaing/svm-for-multiclass-classification"
   ]
  }
 ],
 "metadata": {
  "kernelspec": {
   "display_name": "Python 3 (ipykernel)",
   "language": "python",
   "name": "python3"
  },
  "language_info": {
   "codemirror_mode": {
    "name": "ipython",
    "version": 3
   },
   "file_extension": ".py",
   "mimetype": "text/x-python",
   "name": "python",
   "nbconvert_exporter": "python",
   "pygments_lexer": "ipython3",
   "version": "3.9.7"
  }
 },
 "nbformat": 4,
 "nbformat_minor": 5
}
