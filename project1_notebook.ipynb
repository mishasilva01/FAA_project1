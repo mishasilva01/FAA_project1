{
 "cells": [
  {
   "cell_type": "markdown",
   "id": "8aa42fe9",
   "metadata": {},
   "source": [
    "# 1. First steps"
   ]
  },
  {
   "cell_type": "markdown",
   "id": "3732025e",
   "metadata": {},
   "source": [
    "Important libraries:"
   ]
  },
  {
   "cell_type": "code",
   "execution_count": 1,
   "id": "149f21df",
   "metadata": {},
   "outputs": [],
   "source": [
    "import pandas as pd\n",
    "import numpy as np\n",
    "import matplotlib.pyplot as plt"
   ]
  },
  {
   "cell_type": "code",
   "execution_count": 2,
   "id": "e9bcb757",
   "metadata": {
    "scrolled": false
   },
   "outputs": [],
   "source": [
    "# pip install ucimlrepo"
   ]
  },
  {
   "cell_type": "code",
   "execution_count": 3,
   "id": "eb66768e",
   "metadata": {
    "scrolled": false
   },
   "outputs": [],
   "source": [
    "from ucimlrepo import fetch_ucirepo \n",
    "  \n",
    "# fetch dataset \n",
    "heart_disease = fetch_ucirepo(id=45) \n",
    "  \n",
    "# data (as pandas dataframes) \n",
    "X = heart_disease.data.features \n",
    "y = heart_disease.data.targets \n",
    "\n",
    "df = pd.concat([X, y], axis=1)\n",
    "df.to_csv(\"dataset.csv\")"
   ]
  },
  {
   "cell_type": "markdown",
   "id": "e087521a",
   "metadata": {},
   "source": [
    "# 2. Getting acquainted with data"
   ]
  },
  {
   "cell_type": "markdown",
   "id": "64c92594",
   "metadata": {
    "scrolled": false
   },
   "source": [
    "- Categorical features:\n",
    "   - *age*\n",
    "   - *trestbps* - resting blood pressure /*mm Hg* (on admission to the hospital)\n",
    "   - *chol* - serum cholesterol in *mg/dl*\n",
    "   - *thalach* - Maximum heart rate achieved /*bps*\n",
    "   - *oldpeak* -  ST depression induced by exercise relative to rest \n",
    "   - *ca* - Number of major vessels (0-3) colored by fluoroscopy\n",
    "\n",
    "- Integer features:\n",
    "   - *sex* \n",
    "       - 0: female\n",
    "       - 1: male\n",
    "   - *cp* - chest pain\n",
    "       - 1: typical angina\n",
    "       - 2: atypical angina\n",
    "       - 3: non-anginal pain\n",
    "       - 4: asymptomatic\n",
    "   - *fbs* - fasting blood sugar > 120 mg/dl\n",
    "       - 0: False\n",
    "       - 1: True\n",
    "   - *restecg* - Resting electrocardiographic results\n",
    "       - 0: Normal\n",
    "       - 1: Having ST-T wave abnormality (T wave inversions and/or ST elevation or depression of > 0.05 mV)\n",
    "       - 2: Showing probable or definite left ventricular hypertrophy by Estes' criteria\n",
    "   - *exang* - Exercise induced angina\n",
    "       - 0: No\n",
    "       - 1: Yes\n",
    "   - *slope* - The slope of the peak exercise ST segment\n",
    "       - 1: Up sloping\n",
    "       - 2: Flat\n",
    "       - 3: Down sloping\n",
    "   - *thal*\n",
    "       - 3: Normal\n",
    "       - 6: Fixed defect\n",
    "       - 7: Reversible defect\n",
    "- Label\n",
    "    - *num* - The final diagnosis of heart disease (angiographic disease status)\n",
    "\n",
    "##### The information was taken from:\n",
    "Nassif A. (et al). 2018. Machine Learning Classifications of Coronary Artery Disease. DOI: 10.1109/iSAI-NLP.2018.8692942"
   ]
  },
  {
   "cell_type": "code",
   "execution_count": 4,
   "id": "f80b46f1",
   "metadata": {
    "scrolled": true
   },
   "outputs": [
    {
     "data": {
      "text/html": [
       "<div>\n",
       "<style scoped>\n",
       "    .dataframe tbody tr th:only-of-type {\n",
       "        vertical-align: middle;\n",
       "    }\n",
       "\n",
       "    .dataframe tbody tr th {\n",
       "        vertical-align: top;\n",
       "    }\n",
       "\n",
       "    .dataframe thead th {\n",
       "        text-align: right;\n",
       "    }\n",
       "</style>\n",
       "<table border=\"1\" class=\"dataframe\">\n",
       "  <thead>\n",
       "    <tr style=\"text-align: right;\">\n",
       "      <th></th>\n",
       "      <th>age</th>\n",
       "      <th>sex</th>\n",
       "      <th>cp</th>\n",
       "      <th>trestbps</th>\n",
       "      <th>chol</th>\n",
       "      <th>fbs</th>\n",
       "      <th>restecg</th>\n",
       "      <th>thalach</th>\n",
       "      <th>exang</th>\n",
       "      <th>oldpeak</th>\n",
       "      <th>slope</th>\n",
       "      <th>ca</th>\n",
       "      <th>thal</th>\n",
       "      <th>num</th>\n",
       "    </tr>\n",
       "  </thead>\n",
       "  <tbody>\n",
       "    <tr>\n",
       "      <th>0</th>\n",
       "      <td>63</td>\n",
       "      <td>1</td>\n",
       "      <td>1</td>\n",
       "      <td>145</td>\n",
       "      <td>233</td>\n",
       "      <td>1</td>\n",
       "      <td>2</td>\n",
       "      <td>150</td>\n",
       "      <td>0</td>\n",
       "      <td>2.3</td>\n",
       "      <td>3</td>\n",
       "      <td>0.0</td>\n",
       "      <td>6.0</td>\n",
       "      <td>0</td>\n",
       "    </tr>\n",
       "    <tr>\n",
       "      <th>1</th>\n",
       "      <td>67</td>\n",
       "      <td>1</td>\n",
       "      <td>4</td>\n",
       "      <td>160</td>\n",
       "      <td>286</td>\n",
       "      <td>0</td>\n",
       "      <td>2</td>\n",
       "      <td>108</td>\n",
       "      <td>1</td>\n",
       "      <td>1.5</td>\n",
       "      <td>2</td>\n",
       "      <td>3.0</td>\n",
       "      <td>3.0</td>\n",
       "      <td>2</td>\n",
       "    </tr>\n",
       "    <tr>\n",
       "      <th>2</th>\n",
       "      <td>67</td>\n",
       "      <td>1</td>\n",
       "      <td>4</td>\n",
       "      <td>120</td>\n",
       "      <td>229</td>\n",
       "      <td>0</td>\n",
       "      <td>2</td>\n",
       "      <td>129</td>\n",
       "      <td>1</td>\n",
       "      <td>2.6</td>\n",
       "      <td>2</td>\n",
       "      <td>2.0</td>\n",
       "      <td>7.0</td>\n",
       "      <td>1</td>\n",
       "    </tr>\n",
       "    <tr>\n",
       "      <th>3</th>\n",
       "      <td>37</td>\n",
       "      <td>1</td>\n",
       "      <td>3</td>\n",
       "      <td>130</td>\n",
       "      <td>250</td>\n",
       "      <td>0</td>\n",
       "      <td>0</td>\n",
       "      <td>187</td>\n",
       "      <td>0</td>\n",
       "      <td>3.5</td>\n",
       "      <td>3</td>\n",
       "      <td>0.0</td>\n",
       "      <td>3.0</td>\n",
       "      <td>0</td>\n",
       "    </tr>\n",
       "    <tr>\n",
       "      <th>4</th>\n",
       "      <td>41</td>\n",
       "      <td>0</td>\n",
       "      <td>2</td>\n",
       "      <td>130</td>\n",
       "      <td>204</td>\n",
       "      <td>0</td>\n",
       "      <td>2</td>\n",
       "      <td>172</td>\n",
       "      <td>0</td>\n",
       "      <td>1.4</td>\n",
       "      <td>1</td>\n",
       "      <td>0.0</td>\n",
       "      <td>3.0</td>\n",
       "      <td>0</td>\n",
       "    </tr>\n",
       "  </tbody>\n",
       "</table>\n",
       "</div>"
      ],
      "text/plain": [
       "   age  sex  cp  trestbps  chol  fbs  restecg  thalach  exang  oldpeak  slope  \\\n",
       "0   63    1   1       145   233    1        2      150      0      2.3      3   \n",
       "1   67    1   4       160   286    0        2      108      1      1.5      2   \n",
       "2   67    1   4       120   229    0        2      129      1      2.6      2   \n",
       "3   37    1   3       130   250    0        0      187      0      3.5      3   \n",
       "4   41    0   2       130   204    0        2      172      0      1.4      1   \n",
       "\n",
       "    ca  thal  num  \n",
       "0  0.0   6.0    0  \n",
       "1  3.0   3.0    2  \n",
       "2  2.0   7.0    1  \n",
       "3  0.0   3.0    0  \n",
       "4  0.0   3.0    0  "
      ]
     },
     "execution_count": 4,
     "metadata": {},
     "output_type": "execute_result"
    }
   ],
   "source": [
    "df.head()"
   ]
  },
  {
   "cell_type": "code",
   "execution_count": 5,
   "id": "075a0e22",
   "metadata": {},
   "outputs": [
    {
     "name": "stdout",
     "output_type": "stream",
     "text": [
      "<class 'pandas.core.frame.DataFrame'>\n",
      "RangeIndex: 303 entries, 0 to 302\n",
      "Data columns (total 14 columns):\n",
      " #   Column    Non-Null Count  Dtype  \n",
      "---  ------    --------------  -----  \n",
      " 0   age       303 non-null    int64  \n",
      " 1   sex       303 non-null    int64  \n",
      " 2   cp        303 non-null    int64  \n",
      " 3   trestbps  303 non-null    int64  \n",
      " 4   chol      303 non-null    int64  \n",
      " 5   fbs       303 non-null    int64  \n",
      " 6   restecg   303 non-null    int64  \n",
      " 7   thalach   303 non-null    int64  \n",
      " 8   exang     303 non-null    int64  \n",
      " 9   oldpeak   303 non-null    float64\n",
      " 10  slope     303 non-null    int64  \n",
      " 11  ca        299 non-null    float64\n",
      " 12  thal      301 non-null    float64\n",
      " 13  num       303 non-null    int64  \n",
      "dtypes: float64(3), int64(11)\n",
      "memory usage: 33.3 KB\n"
     ]
    }
   ],
   "source": [
    "df.info()"
   ]
  },
  {
   "cell_type": "code",
   "execution_count": 6,
   "id": "74ee3d17",
   "metadata": {
    "scrolled": true
   },
   "outputs": [
    {
     "data": {
      "text/html": [
       "<div>\n",
       "<style scoped>\n",
       "    .dataframe tbody tr th:only-of-type {\n",
       "        vertical-align: middle;\n",
       "    }\n",
       "\n",
       "    .dataframe tbody tr th {\n",
       "        vertical-align: top;\n",
       "    }\n",
       "\n",
       "    .dataframe thead th {\n",
       "        text-align: right;\n",
       "    }\n",
       "</style>\n",
       "<table border=\"1\" class=\"dataframe\">\n",
       "  <thead>\n",
       "    <tr style=\"text-align: right;\">\n",
       "      <th></th>\n",
       "      <th>age</th>\n",
       "      <th>sex</th>\n",
       "      <th>cp</th>\n",
       "      <th>trestbps</th>\n",
       "      <th>chol</th>\n",
       "      <th>fbs</th>\n",
       "      <th>restecg</th>\n",
       "      <th>thalach</th>\n",
       "      <th>exang</th>\n",
       "      <th>oldpeak</th>\n",
       "      <th>slope</th>\n",
       "      <th>ca</th>\n",
       "      <th>thal</th>\n",
       "      <th>num</th>\n",
       "    </tr>\n",
       "  </thead>\n",
       "  <tbody>\n",
       "    <tr>\n",
       "      <th>count</th>\n",
       "      <td>303.000000</td>\n",
       "      <td>303.000000</td>\n",
       "      <td>303.000000</td>\n",
       "      <td>303.000000</td>\n",
       "      <td>303.000000</td>\n",
       "      <td>303.000000</td>\n",
       "      <td>303.000000</td>\n",
       "      <td>303.000000</td>\n",
       "      <td>303.000000</td>\n",
       "      <td>303.000000</td>\n",
       "      <td>303.000000</td>\n",
       "      <td>299.000000</td>\n",
       "      <td>301.000000</td>\n",
       "      <td>303.000000</td>\n",
       "    </tr>\n",
       "    <tr>\n",
       "      <th>mean</th>\n",
       "      <td>54.438944</td>\n",
       "      <td>0.679868</td>\n",
       "      <td>3.158416</td>\n",
       "      <td>131.689769</td>\n",
       "      <td>246.693069</td>\n",
       "      <td>0.148515</td>\n",
       "      <td>0.990099</td>\n",
       "      <td>149.607261</td>\n",
       "      <td>0.326733</td>\n",
       "      <td>1.039604</td>\n",
       "      <td>1.600660</td>\n",
       "      <td>0.672241</td>\n",
       "      <td>4.734219</td>\n",
       "      <td>0.937294</td>\n",
       "    </tr>\n",
       "    <tr>\n",
       "      <th>std</th>\n",
       "      <td>9.038662</td>\n",
       "      <td>0.467299</td>\n",
       "      <td>0.960126</td>\n",
       "      <td>17.599748</td>\n",
       "      <td>51.776918</td>\n",
       "      <td>0.356198</td>\n",
       "      <td>0.994971</td>\n",
       "      <td>22.875003</td>\n",
       "      <td>0.469794</td>\n",
       "      <td>1.161075</td>\n",
       "      <td>0.616226</td>\n",
       "      <td>0.937438</td>\n",
       "      <td>1.939706</td>\n",
       "      <td>1.228536</td>\n",
       "    </tr>\n",
       "    <tr>\n",
       "      <th>min</th>\n",
       "      <td>29.000000</td>\n",
       "      <td>0.000000</td>\n",
       "      <td>1.000000</td>\n",
       "      <td>94.000000</td>\n",
       "      <td>126.000000</td>\n",
       "      <td>0.000000</td>\n",
       "      <td>0.000000</td>\n",
       "      <td>71.000000</td>\n",
       "      <td>0.000000</td>\n",
       "      <td>0.000000</td>\n",
       "      <td>1.000000</td>\n",
       "      <td>0.000000</td>\n",
       "      <td>3.000000</td>\n",
       "      <td>0.000000</td>\n",
       "    </tr>\n",
       "    <tr>\n",
       "      <th>25%</th>\n",
       "      <td>48.000000</td>\n",
       "      <td>0.000000</td>\n",
       "      <td>3.000000</td>\n",
       "      <td>120.000000</td>\n",
       "      <td>211.000000</td>\n",
       "      <td>0.000000</td>\n",
       "      <td>0.000000</td>\n",
       "      <td>133.500000</td>\n",
       "      <td>0.000000</td>\n",
       "      <td>0.000000</td>\n",
       "      <td>1.000000</td>\n",
       "      <td>0.000000</td>\n",
       "      <td>3.000000</td>\n",
       "      <td>0.000000</td>\n",
       "    </tr>\n",
       "    <tr>\n",
       "      <th>50%</th>\n",
       "      <td>56.000000</td>\n",
       "      <td>1.000000</td>\n",
       "      <td>3.000000</td>\n",
       "      <td>130.000000</td>\n",
       "      <td>241.000000</td>\n",
       "      <td>0.000000</td>\n",
       "      <td>1.000000</td>\n",
       "      <td>153.000000</td>\n",
       "      <td>0.000000</td>\n",
       "      <td>0.800000</td>\n",
       "      <td>2.000000</td>\n",
       "      <td>0.000000</td>\n",
       "      <td>3.000000</td>\n",
       "      <td>0.000000</td>\n",
       "    </tr>\n",
       "    <tr>\n",
       "      <th>75%</th>\n",
       "      <td>61.000000</td>\n",
       "      <td>1.000000</td>\n",
       "      <td>4.000000</td>\n",
       "      <td>140.000000</td>\n",
       "      <td>275.000000</td>\n",
       "      <td>0.000000</td>\n",
       "      <td>2.000000</td>\n",
       "      <td>166.000000</td>\n",
       "      <td>1.000000</td>\n",
       "      <td>1.600000</td>\n",
       "      <td>2.000000</td>\n",
       "      <td>1.000000</td>\n",
       "      <td>7.000000</td>\n",
       "      <td>2.000000</td>\n",
       "    </tr>\n",
       "    <tr>\n",
       "      <th>max</th>\n",
       "      <td>77.000000</td>\n",
       "      <td>1.000000</td>\n",
       "      <td>4.000000</td>\n",
       "      <td>200.000000</td>\n",
       "      <td>564.000000</td>\n",
       "      <td>1.000000</td>\n",
       "      <td>2.000000</td>\n",
       "      <td>202.000000</td>\n",
       "      <td>1.000000</td>\n",
       "      <td>6.200000</td>\n",
       "      <td>3.000000</td>\n",
       "      <td>3.000000</td>\n",
       "      <td>7.000000</td>\n",
       "      <td>4.000000</td>\n",
       "    </tr>\n",
       "  </tbody>\n",
       "</table>\n",
       "</div>"
      ],
      "text/plain": [
       "              age         sex          cp    trestbps        chol         fbs  \\\n",
       "count  303.000000  303.000000  303.000000  303.000000  303.000000  303.000000   \n",
       "mean    54.438944    0.679868    3.158416  131.689769  246.693069    0.148515   \n",
       "std      9.038662    0.467299    0.960126   17.599748   51.776918    0.356198   \n",
       "min     29.000000    0.000000    1.000000   94.000000  126.000000    0.000000   \n",
       "25%     48.000000    0.000000    3.000000  120.000000  211.000000    0.000000   \n",
       "50%     56.000000    1.000000    3.000000  130.000000  241.000000    0.000000   \n",
       "75%     61.000000    1.000000    4.000000  140.000000  275.000000    0.000000   \n",
       "max     77.000000    1.000000    4.000000  200.000000  564.000000    1.000000   \n",
       "\n",
       "          restecg     thalach       exang     oldpeak       slope          ca  \\\n",
       "count  303.000000  303.000000  303.000000  303.000000  303.000000  299.000000   \n",
       "mean     0.990099  149.607261    0.326733    1.039604    1.600660    0.672241   \n",
       "std      0.994971   22.875003    0.469794    1.161075    0.616226    0.937438   \n",
       "min      0.000000   71.000000    0.000000    0.000000    1.000000    0.000000   \n",
       "25%      0.000000  133.500000    0.000000    0.000000    1.000000    0.000000   \n",
       "50%      1.000000  153.000000    0.000000    0.800000    2.000000    0.000000   \n",
       "75%      2.000000  166.000000    1.000000    1.600000    2.000000    1.000000   \n",
       "max      2.000000  202.000000    1.000000    6.200000    3.000000    3.000000   \n",
       "\n",
       "             thal         num  \n",
       "count  301.000000  303.000000  \n",
       "mean     4.734219    0.937294  \n",
       "std      1.939706    1.228536  \n",
       "min      3.000000    0.000000  \n",
       "25%      3.000000    0.000000  \n",
       "50%      3.000000    0.000000  \n",
       "75%      7.000000    2.000000  \n",
       "max      7.000000    4.000000  "
      ]
     },
     "execution_count": 6,
     "metadata": {},
     "output_type": "execute_result"
    }
   ],
   "source": [
    "df.describe()"
   ]
  },
  {
   "cell_type": "code",
   "execution_count": 7,
   "id": "833e3f6d",
   "metadata": {
    "scrolled": false
   },
   "outputs": [
    {
     "data": {
      "text/plain": [
       "age         0\n",
       "sex         0\n",
       "cp          0\n",
       "trestbps    0\n",
       "chol        0\n",
       "fbs         0\n",
       "restecg     0\n",
       "thalach     0\n",
       "exang       0\n",
       "oldpeak     0\n",
       "slope       0\n",
       "ca          4\n",
       "thal        2\n",
       "dtype: int64"
      ]
     },
     "execution_count": 7,
     "metadata": {},
     "output_type": "execute_result"
    }
   ],
   "source": [
    "# checking the number of missing values in each feature\n",
    "X.isnull().sum()"
   ]
  },
  {
   "cell_type": "code",
   "execution_count": 8,
   "id": "311225c3",
   "metadata": {
    "scrolled": true
   },
   "outputs": [
    {
     "data": {
      "text/plain": [
       "num\n",
       "0    164\n",
       "1     55\n",
       "2     36\n",
       "3     35\n",
       "4     13\n",
       "Name: count, dtype: int64"
      ]
     },
     "execution_count": 8,
     "metadata": {},
     "output_type": "execute_result"
    }
   ],
   "source": [
    "# number of samples per class\n",
    "df.num.value_counts()"
   ]
  },
  {
   "cell_type": "code",
   "execution_count": 9,
   "id": "bc5d934c",
   "metadata": {},
   "outputs": [
    {
     "data": {
      "image/png": "[encoded data removed]",
      "text/plain": [
       "<Figure size 640x480 with 1 Axes>"
      ]
     },
     "metadata": {},
     "output_type": "display_data"
    },
    {
     "data": {
      "image/png": "[encoded data removed]",
      "text/plain": [
       "<Figure size 640x480 with 1 Axes>"
      ]
     },
     "metadata": {},
     "output_type": "display_data"
    },
    {
     "data": {
      "image/png": "[encoded data removed]",
      "text/plain": [
       "<Figure size 640x480 with 1 Axes>"
      ]
     },
     "metadata": {},
     "output_type": "display_data"
    },
    {
     "data": {
      "image/png": "[encoded data removed]",
      "text/plain": [
       "<Figure size 640x480 with 1 Axes>"
      ]
     },
     "metadata": {},
     "output_type": "display_data"
    },
    {
     "data": {
      "image/png": "[encoded data removed]",
      "text/plain": [
       "<Figure size 640x480 with 1 Axes>"
      ]
     },
     "metadata": {},
     "output_type": "display_data"
    },
    {
     "data": {
      "image/png": "[encoded data removed]",
      "text/plain": [
       "<Figure size 640x480 with 1 Axes>"
      ]
     },
     "metadata": {},
     "output_type": "display_data"
    },
    {
     "data": {
      "image/png": "[encoded data removed]",
      "text/plain": [
       "<Figure size 640x480 with 1 Axes>"
      ]
     },
     "metadata": {},
     "output_type": "display_data"
    },
    {
     "data": {
      "image/png": "[encoded data removed]",
      "text/plain": [
       "<Figure size 640x480 with 1 Axes>"
      ]
     },
     "metadata": {},
     "output_type": "display_data"
    },
    {
     "data": {
      "image/png": "[encoded data removed]",
      "text/plain": [
       "<Figure size 640x480 with 1 Axes>"
      ]
     },
     "metadata": {},
     "output_type": "display_data"
    },
    {
     "data": {
      "image/png": "[encoded data removed]",
      "text/plain": [
       "<Figure size 640x480 with 1 Axes>"
      ]
     },
     "metadata": {},
     "output_type": "display_data"
    },
    {
     "data": {
      "image/png": "[encoded data removed]",
      "text/plain": [
       "<Figure size 640x480 with 1 Axes>"
      ]
     },
     "metadata": {},
     "output_type": "display_data"
    },
    {
     "data": {
      "image/png": "[encoded data removed]",
      "text/plain": [
       "<Figure size 640x480 with 1 Axes>"
      ]
     },
     "metadata": {},
     "output_type": "display_data"
    },
    {
     "data": {
      "image/png": "[encoded data removed]",
      "text/plain": [
       "<Figure size 640x480 with 1 Axes>"
      ]
     },
     "metadata": {},
     "output_type": "display_data"
    },
    {
     "data": {
      "image/png": "[encoded data removed]",
      "text/plain": [
       "<Figure size 640x480 with 1 Axes>"
      ]
     },
     "metadata": {},
     "output_type": "display_data"
    }
   ],
   "source": [
    "# histograms\n",
    "n_fig = 1\n",
    "for column in df.columns:\n",
    "    plt.figure()\n",
    "    plt.hist(df[column])\n",
    "    plt.title(\"Fig.\"+str(n_fig)+\" - \"+column)\n",
    "    n_fig += 1"
   ]
  },
  {
   "cell_type": "markdown",
   "id": "c7693417",
   "metadata": {},
   "source": [
    "# 3. Breaf data cleaning"
   ]
  },
  {
   "cell_type": "markdown",
   "id": "36c20045",
   "metadata": {},
   "source": [
    "Data is already pretty clean, and there are only 6 NaN values, so we can drop those observations."
   ]
  },
  {
   "cell_type": "markdown",
   "id": "3a1302ec",
   "metadata": {},
   "source": [
    "### 3.1 Dropping NaN values"
   ]
  },
  {
   "cell_type": "code",
   "execution_count": 10,
   "id": "2f0282e8",
   "metadata": {
    "scrolled": true
   },
   "outputs": [
    {
     "data": {
      "text/plain": [
       "num\n",
       "0    160\n",
       "1     54\n",
       "2     35\n",
       "3     35\n",
       "4     13\n",
       "Name: count, dtype: int64"
      ]
     },
     "execution_count": 10,
     "metadata": {},
     "output_type": "execute_result"
    }
   ],
   "source": [
    "df = df.dropna()\n",
    "\n",
    "# re-checking the number of samples per class adfer dropping missing values\n",
    "df.num.value_counts()"
   ]
  },
  {
   "cell_type": "markdown",
   "id": "0b8ad683",
   "metadata": {},
   "source": [
    "- As we can see, the NaN values were part of the classes with more observations, therefore droppins NaN values does not worsen the class imbalance problem.\n",
    "- Since we only have 13 samples from the class with least amount of samples (y = 4), we cannot afford taking some samples as testing set, because we would loose valuable information. Therefore, we are going to work only with training and validation sets."
   ]
  },
  {
   "cell_type": "markdown",
   "id": "2f68b4dc",
   "metadata": {},
   "source": [
    "### 3.2 Separating a dataset for testing (*client data*)"
   ]
  },
  {
   "cell_type": "markdown",
   "id": "326d5b49",
   "metadata": {},
   "source": [
    "The traditional approach for splitting the dataset into train+validation+test is 60%+20%+20%"
   ]
  },
  {
   "cell_type": "code",
   "execution_count": 11,
   "id": "39f141cd",
   "metadata": {},
   "outputs": [],
   "source": [
    "# dataset to be reserved for future testing (client role)\n",
    "# making sure we have 20% from every class\n",
    "client_set = df.copy().groupby('num').apply(lambda Class: Class.sample(frac = 0.20))\n",
    "client_set.index = client_set.index.droplevel(0)\n",
    "\n",
    "# new data frame for creaing and testing models\n",
    "df_filtered = df.copy().drop(client_set.index)\n",
    "\n",
    "# reseting indices\n",
    "client_set = client_set.reset_index(drop=True)\n",
    "df_filtered = df_filtered.reset_index(drop=True)"
   ]
  },
  {
   "cell_type": "code",
   "execution_count": 12,
   "id": "09b52529",
   "metadata": {},
   "outputs": [
    {
     "data": {
      "text/plain": [
       "(array([32.,  0., 11.,  0.,  0.,  7.,  0.,  7.,  0.,  3.]),\n",
       " array([0. , 0.4, 0.8, 1.2, 1.6, 2. , 2.4, 2.8, 3.2, 3.6, 4. ]),\n",
       " <BarContainer object of 10 artists>)"
      ]
     },
     "execution_count": 12,
     "metadata": {},
     "output_type": "execute_result"
    },
    {
     "data": {
      "image/png": "[encoded data removed]",
      "text/plain": [
       "<Figure size 640x480 with 1 Axes>"
      ]
     },
     "metadata": {},
     "output_type": "display_data"
    }
   ],
   "source": [
    "plt.hist(client_set.num)"
   ]
  },
  {
   "cell_type": "markdown",
   "id": "ccecc673",
   "metadata": {},
   "source": [
    "# 4. Class imbalance"
   ]
  },
  {
   "cell_type": "markdown",
   "id": "694018c9",
   "metadata": {},
   "source": [
    "As seen in the histogram of Fig. 14, there are many more samples with label 0 than with other labels. Therefore, class imbalance has to be dealt with. According to Hoffman [1], there are several ways to reduce class imbalance, such as using other performance metrics when assessing performance (precision, recall, F1 score, and confusion matrix), performing over-sampling (when the dataset is reletively small), or using the Synthetic Minority Over-sampling Technique (SMOTE) algorithm to create synthetic samples.\n",
    "</br> \n",
    "BUT, according to this video https://www.youtube.com/watch?v=adHqzek--d0, on stamp 3:52, the SMOTE technique is not good for multidimensional data (which is the one we have here)"
   ]
  },
  {
   "cell_type": "markdown",
   "id": "6b06ecb5",
   "metadata": {},
   "source": [
    "REFERENCE [1]: K. Hoffman. *Machine Learning: How to Handle Class Imbalance*. Analytics Vidhya. February 13, 2021."
   ]
  },
  {
   "cell_type": "markdown",
   "id": "e0c4428e",
   "metadata": {},
   "source": [
    "### 4.1 Oversampling by doubling classes different from 0"
   ]
  },
  {
   "cell_type": "markdown",
   "id": "fe614fed",
   "metadata": {},
   "source": [
    "This method might create oversampling."
   ]
  },
  {
   "cell_type": "code",
   "execution_count": 13,
   "id": "676fa217",
   "metadata": {},
   "outputs": [],
   "source": [
    "# Simple oversampling of classes 1, 2, 3 and 4 (simply doubling the samples)\n",
    "def oversampling_double(dataframe):   \n",
    "    \"\"\"\n",
    "    This function doubles the number of samples with labels 1, 2, 3, 4\n",
    "    \"\"\"\n",
    "    for i in [1, 2, 3, 4]:\n",
    "        df_add = dataframe[dataframe['num']==i]\n",
    "        dataframe = pd.concat([dataframe, df_add], axis=0)\n",
    "\n",
    "    # Restarting indices\n",
    "    dataframe = dataframe.reset_index(drop=True)\n",
    "    \n",
    "    return dataframe"
   ]
  },
  {
   "cell_type": "markdown",
   "id": "1c76f129",
   "metadata": {},
   "source": [
    "### 4.2 Oversampling through SMOTE"
   ]
  },
  {
   "cell_type": "code",
   "execution_count": 14,
   "id": "553e0534",
   "metadata": {},
   "outputs": [],
   "source": [
    "# pip install imblearn\n",
    "\n",
    "def oversampling_smote(dataframe):\n",
    "    \"\"\"\n",
    "    This function oversamples a dataset with the Synthetic Minority \n",
    "    Over-sampling Technique\n",
    "    \"\"\"\n",
    "    from imblearn.over_sampling import SMOTE\n",
    "    \n",
    "    smote = SMOTE(random_state = 42)\n",
    "    X, y = smote.fit_resample(dataframe.drop(columns='num'), dataframe['num'])\n",
    "    y = pd.Series(data = y, name = 'num')\n",
    "    df_smote = pd.concat([X, y], axis = 1, join = 'inner')\n",
    "    \n",
    "    return df_smote"
   ]
  },
  {
   "cell_type": "markdown",
   "id": "05939cb3",
   "metadata": {},
   "source": [
    "# 5. Data selection"
   ]
  },
  {
   "cell_type": "markdown",
   "id": "d8723b70",
   "metadata": {},
   "source": [
    "### 5.1 Defining the oversampling method"
   ]
  },
  {
   "cell_type": "code",
   "execution_count": 15,
   "id": "56a8ee04",
   "metadata": {},
   "outputs": [],
   "source": [
    "# splitting into features (X) and labels (y)\n",
    "\n",
    "oversampling_method = input(\"Oversampling method (DOUBLING or SMOTE): \")\n",
    "\n",
    "if oversampling_method == \"DOUBLING\":\n",
    "    X = oversampling_double(df_filtered).drop(columns=['num'])\n",
    "    y = oversampling_double(df_filtered).num\n",
    "\n",
    "elif oversampling_method == \"SMOTE\":\n",
    "    X = oversampling_smote(df_filtered).drop(columns=['num'])\n",
    "    y = oversampling_smote(df_filtered).num "
   ]
  },
  {
   "cell_type": "markdown",
   "id": "4688789e",
   "metadata": {},
   "source": [
    "### 5.2 Feature selection "
   ]
  },
  {
   "cell_type": "markdown",
   "id": "3b5ef86e",
   "metadata": {},
   "source": [
    "##### 5.2.1 Features selection by correlation elimination"
   ]
  },
  {
   "cell_type": "markdown",
   "id": "1e1c9086",
   "metadata": {},
   "source": [
    "We are using Spearman's correlation instead of Pearson's because practically all features don't have a normal distribution (as seen in the histograms above) and Spearman's is more robust to outliers."
   ]
  },
  {
   "cell_type": "markdown",
   "id": "6d8e4e3f",
   "metadata": {},
   "source": [
    "Nassif et al. (2018; 10.1109/iSAI-NLP.2018.8692942) also applied correlation evaluation, but did not use Spearman's correlation."
   ]
  },
  {
   "cell_type": "code",
   "execution_count": 16,
   "id": "ebd64951",
   "metadata": {
    "scrolled": true
   },
   "outputs": [
    {
     "data": {
      "text/html": [
       "<div>\n",
       "<style scoped>\n",
       "    .dataframe tbody tr th:only-of-type {\n",
       "        vertical-align: middle;\n",
       "    }\n",
       "\n",
       "    .dataframe tbody tr th {\n",
       "        vertical-align: top;\n",
       "    }\n",
       "\n",
       "    .dataframe thead th {\n",
       "        text-align: right;\n",
       "    }\n",
       "</style>\n",
       "<table border=\"1\" class=\"dataframe\">\n",
       "  <thead>\n",
       "    <tr style=\"text-align: right;\">\n",
       "      <th></th>\n",
       "      <th>age</th>\n",
       "      <th>sex</th>\n",
       "      <th>cp</th>\n",
       "      <th>trestbps</th>\n",
       "      <th>chol</th>\n",
       "      <th>fbs</th>\n",
       "      <th>restecg</th>\n",
       "      <th>thalach</th>\n",
       "      <th>exang</th>\n",
       "      <th>oldpeak</th>\n",
       "      <th>slope</th>\n",
       "      <th>ca</th>\n",
       "      <th>thal</th>\n",
       "    </tr>\n",
       "  </thead>\n",
       "  <tbody>\n",
       "    <tr>\n",
       "      <th>age</th>\n",
       "      <td>1.000000</td>\n",
       "      <td>0.114768</td>\n",
       "      <td>0.136961</td>\n",
       "      <td>0.291018</td>\n",
       "      <td>0.155054</td>\n",
       "      <td>0.128701</td>\n",
       "      <td>0.162636</td>\n",
       "      <td>0.307292</td>\n",
       "      <td>0.084798</td>\n",
       "      <td>0.181807</td>\n",
       "      <td>0.140050</td>\n",
       "      <td>0.373123</td>\n",
       "      <td>0.024985</td>\n",
       "    </tr>\n",
       "    <tr>\n",
       "      <th>sex</th>\n",
       "      <td>0.114768</td>\n",
       "      <td>1.000000</td>\n",
       "      <td>0.057079</td>\n",
       "      <td>0.110957</td>\n",
       "      <td>0.181665</td>\n",
       "      <td>0.009624</td>\n",
       "      <td>0.001527</td>\n",
       "      <td>0.109109</td>\n",
       "      <td>0.152928</td>\n",
       "      <td>0.135134</td>\n",
       "      <td>0.067433</td>\n",
       "      <td>0.130600</td>\n",
       "      <td>0.340099</td>\n",
       "    </tr>\n",
       "    <tr>\n",
       "      <th>cp</th>\n",
       "      <td>0.136961</td>\n",
       "      <td>0.057079</td>\n",
       "      <td>1.000000</td>\n",
       "      <td>0.000440</td>\n",
       "      <td>0.053318</td>\n",
       "      <td>0.107956</td>\n",
       "      <td>0.087324</td>\n",
       "      <td>0.458069</td>\n",
       "      <td>0.453741</td>\n",
       "      <td>0.251723</td>\n",
       "      <td>0.227702</td>\n",
       "      <td>0.243915</td>\n",
       "      <td>0.305144</td>\n",
       "    </tr>\n",
       "    <tr>\n",
       "      <th>trestbps</th>\n",
       "      <td>0.291018</td>\n",
       "      <td>0.110957</td>\n",
       "      <td>0.000440</td>\n",
       "      <td>1.000000</td>\n",
       "      <td>0.171285</td>\n",
       "      <td>0.084120</td>\n",
       "      <td>0.150502</td>\n",
       "      <td>0.028367</td>\n",
       "      <td>0.078829</td>\n",
       "      <td>0.136803</td>\n",
       "      <td>0.110172</td>\n",
       "      <td>0.053704</td>\n",
       "      <td>0.088661</td>\n",
       "    </tr>\n",
       "    <tr>\n",
       "      <th>chol</th>\n",
       "      <td>0.155054</td>\n",
       "      <td>0.181665</td>\n",
       "      <td>0.053318</td>\n",
       "      <td>0.171285</td>\n",
       "      <td>1.000000</td>\n",
       "      <td>0.049989</td>\n",
       "      <td>0.136271</td>\n",
       "      <td>0.035477</td>\n",
       "      <td>0.098037</td>\n",
       "      <td>0.001513</td>\n",
       "      <td>0.000342</td>\n",
       "      <td>0.070159</td>\n",
       "      <td>0.014599</td>\n",
       "    </tr>\n",
       "    <tr>\n",
       "      <th>fbs</th>\n",
       "      <td>0.128701</td>\n",
       "      <td>0.009624</td>\n",
       "      <td>0.107956</td>\n",
       "      <td>0.084120</td>\n",
       "      <td>0.049989</td>\n",
       "      <td>1.000000</td>\n",
       "      <td>0.084246</td>\n",
       "      <td>0.029962</td>\n",
       "      <td>0.032510</td>\n",
       "      <td>0.014096</td>\n",
       "      <td>0.033232</td>\n",
       "      <td>0.100206</td>\n",
       "      <td>0.027784</td>\n",
       "    </tr>\n",
       "    <tr>\n",
       "      <th>restecg</th>\n",
       "      <td>0.162636</td>\n",
       "      <td>0.001527</td>\n",
       "      <td>0.087324</td>\n",
       "      <td>0.150502</td>\n",
       "      <td>0.136271</td>\n",
       "      <td>0.084246</td>\n",
       "      <td>1.000000</td>\n",
       "      <td>0.033627</td>\n",
       "      <td>0.041414</td>\n",
       "      <td>0.101842</td>\n",
       "      <td>0.054568</td>\n",
       "      <td>0.125825</td>\n",
       "      <td>0.052300</td>\n",
       "    </tr>\n",
       "    <tr>\n",
       "      <th>thalach</th>\n",
       "      <td>0.307292</td>\n",
       "      <td>0.109109</td>\n",
       "      <td>0.458069</td>\n",
       "      <td>0.028367</td>\n",
       "      <td>0.035477</td>\n",
       "      <td>0.029962</td>\n",
       "      <td>0.033627</td>\n",
       "      <td>1.000000</td>\n",
       "      <td>0.430522</td>\n",
       "      <td>0.448983</td>\n",
       "      <td>0.450724</td>\n",
       "      <td>0.291125</td>\n",
       "      <td>0.246199</td>\n",
       "    </tr>\n",
       "    <tr>\n",
       "      <th>exang</th>\n",
       "      <td>0.084798</td>\n",
       "      <td>0.152928</td>\n",
       "      <td>0.453741</td>\n",
       "      <td>0.078829</td>\n",
       "      <td>0.098037</td>\n",
       "      <td>0.032510</td>\n",
       "      <td>0.041414</td>\n",
       "      <td>0.430522</td>\n",
       "      <td>1.000000</td>\n",
       "      <td>0.285399</td>\n",
       "      <td>0.270407</td>\n",
       "      <td>0.151054</td>\n",
       "      <td>0.338248</td>\n",
       "    </tr>\n",
       "    <tr>\n",
       "      <th>oldpeak</th>\n",
       "      <td>0.181807</td>\n",
       "      <td>0.135134</td>\n",
       "      <td>0.251723</td>\n",
       "      <td>0.136803</td>\n",
       "      <td>0.001513</td>\n",
       "      <td>0.014096</td>\n",
       "      <td>0.101842</td>\n",
       "      <td>0.448983</td>\n",
       "      <td>0.285399</td>\n",
       "      <td>1.000000</td>\n",
       "      <td>0.613046</td>\n",
       "      <td>0.224453</td>\n",
       "      <td>0.366811</td>\n",
       "    </tr>\n",
       "    <tr>\n",
       "      <th>slope</th>\n",
       "      <td>0.140050</td>\n",
       "      <td>0.067433</td>\n",
       "      <td>0.227702</td>\n",
       "      <td>0.110172</td>\n",
       "      <td>0.000342</td>\n",
       "      <td>0.033232</td>\n",
       "      <td>0.054568</td>\n",
       "      <td>0.450724</td>\n",
       "      <td>0.270407</td>\n",
       "      <td>0.613046</td>\n",
       "      <td>1.000000</td>\n",
       "      <td>0.094852</td>\n",
       "      <td>0.298207</td>\n",
       "    </tr>\n",
       "    <tr>\n",
       "      <th>ca</th>\n",
       "      <td>0.373123</td>\n",
       "      <td>0.130600</td>\n",
       "      <td>0.243915</td>\n",
       "      <td>0.053704</td>\n",
       "      <td>0.070159</td>\n",
       "      <td>0.100206</td>\n",
       "      <td>0.125825</td>\n",
       "      <td>0.291125</td>\n",
       "      <td>0.151054</td>\n",
       "      <td>0.224453</td>\n",
       "      <td>0.094852</td>\n",
       "      <td>1.000000</td>\n",
       "      <td>0.206777</td>\n",
       "    </tr>\n",
       "    <tr>\n",
       "      <th>thal</th>\n",
       "      <td>0.024985</td>\n",
       "      <td>0.340099</td>\n",
       "      <td>0.305144</td>\n",
       "      <td>0.088661</td>\n",
       "      <td>0.014599</td>\n",
       "      <td>0.027784</td>\n",
       "      <td>0.052300</td>\n",
       "      <td>0.246199</td>\n",
       "      <td>0.338248</td>\n",
       "      <td>0.366811</td>\n",
       "      <td>0.298207</td>\n",
       "      <td>0.206777</td>\n",
       "      <td>1.000000</td>\n",
       "    </tr>\n",
       "  </tbody>\n",
       "</table>\n",
       "</div>"
      ],
      "text/plain": [
       "               age       sex        cp  trestbps      chol       fbs  \\\n",
       "age       1.000000  0.114768  0.136961  0.291018  0.155054  0.128701   \n",
       "sex       0.114768  1.000000  0.057079  0.110957  0.181665  0.009624   \n",
       "cp        0.136961  0.057079  1.000000  0.000440  0.053318  0.107956   \n",
       "trestbps  0.291018  0.110957  0.000440  1.000000  0.171285  0.084120   \n",
       "chol      0.155054  0.181665  0.053318  0.171285  1.000000  0.049989   \n",
       "fbs       0.128701  0.009624  0.107956  0.084120  0.049989  1.000000   \n",
       "restecg   0.162636  0.001527  0.087324  0.150502  0.136271  0.084246   \n",
       "thalach   0.307292  0.109109  0.458069  0.028367  0.035477  0.029962   \n",
       "exang     0.084798  0.152928  0.453741  0.078829  0.098037  0.032510   \n",
       "oldpeak   0.181807  0.135134  0.251723  0.136803  0.001513  0.014096   \n",
       "slope     0.140050  0.067433  0.227702  0.110172  0.000342  0.033232   \n",
       "ca        0.373123  0.130600  0.243915  0.053704  0.070159  0.100206   \n",
       "thal      0.024985  0.340099  0.305144  0.088661  0.014599  0.027784   \n",
       "\n",
       "           restecg   thalach     exang   oldpeak     slope        ca      thal  \n",
       "age       0.162636  0.307292  0.084798  0.181807  0.140050  0.373123  0.024985  \n",
       "sex       0.001527  0.109109  0.152928  0.135134  0.067433  0.130600  0.340099  \n",
       "cp        0.087324  0.458069  0.453741  0.251723  0.227702  0.243915  0.305144  \n",
       "trestbps  0.150502  0.028367  0.078829  0.136803  0.110172  0.053704  0.088661  \n",
       "chol      0.136271  0.035477  0.098037  0.001513  0.000342  0.070159  0.014599  \n",
       "fbs       0.084246  0.029962  0.032510  0.014096  0.033232  0.100206  0.027784  \n",
       "restecg   1.000000  0.033627  0.041414  0.101842  0.054568  0.125825  0.052300  \n",
       "thalach   0.033627  1.000000  0.430522  0.448983  0.450724  0.291125  0.246199  \n",
       "exang     0.041414  0.430522  1.000000  0.285399  0.270407  0.151054  0.338248  \n",
       "oldpeak   0.101842  0.448983  0.285399  1.000000  0.613046  0.224453  0.366811  \n",
       "slope     0.054568  0.450724  0.270407  0.613046  1.000000  0.094852  0.298207  \n",
       "ca        0.125825  0.291125  0.151054  0.224453  0.094852  1.000000  0.206777  \n",
       "thal      0.052300  0.246199  0.338248  0.366811  0.298207  0.206777  1.000000  "
      ]
     },
     "execution_count": 16,
     "metadata": {},
     "output_type": "execute_result"
    }
   ],
   "source": [
    "corr = X.corr(method='spearman')\n",
    "abs(corr)"
   ]
  },
  {
   "cell_type": "markdown",
   "id": "f1c90a24",
   "metadata": {},
   "source": [
    "Creating a function that selects features according correlation. The arguments of the function (1) the dataframe, (2) the correlation method, and (3) the correlation threshold for feature elimination."
   ]
  },
  {
   "cell_type": "code",
   "execution_count": 17,
   "id": "c64d1292",
   "metadata": {},
   "outputs": [],
   "source": [
    "def Corr_selection(df, corr_method, threshold):\n",
    "    \"\"\"\n",
    "    This function selects the features to be eliminate according to \n",
    "    a correlation threshold\n",
    "    \n",
    "    corr_matrix: has to be a pandas data frame n-by-n,\n",
    "    with n features as indices and columns.\n",
    "    threshold: has to by a int or float from 0 to 1\n",
    "    \"\"\"\n",
    "    corr_matrix = X.corr(method=corr_method)\n",
    "    # covert corr_matrix to absolute values\n",
    "    corr_matrix = np.array(abs(corr_matrix))\n",
    "    # all features available\n",
    "    features = np.array(df.columns)\n",
    "    \n",
    "    # list of features to eliminate\n",
    "    to_eliminate = []\n",
    "    \n",
    "    # runs all lines\n",
    "    for i in range(len(features)):\n",
    "        # runs all columns\n",
    "        for j in range(len(features)):\n",
    "            \n",
    "            if corr_matrix[i,j] > threshold and corr_matrix[i,j] != 1: \n",
    "                \n",
    "                if np.mean(corr_matrix[i,:]) > np.mean(corr_matrix[:,j]):\n",
    "                    to_eliminate.append(features[i])\n",
    "                else:\n",
    "                    to_eliminate.append(features[j])\n",
    "    \n",
    "    to_eliminate = np.unique(to_eliminate)\n",
    "    selected_features = list( features[~np.isin(features, to_eliminate)] )\n",
    "    \n",
    "    return selected_features"
   ]
  },
  {
   "cell_type": "markdown",
   "id": "ad870221",
   "metadata": {},
   "source": [
    "##### 5.2.2 Features selection by information gain"
   ]
  },
  {
   "cell_type": "markdown",
   "id": "ecb2fc16",
   "metadata": {},
   "source": [
    "Creating a function that selects features according to Mutual Information Gain. "
   ]
  },
  {
   "cell_type": "markdown",
   "id": "6a72390a",
   "metadata": {},
   "source": [
    "References:\n",
    "- Nassif et al. (2018; 10.1109/iSAI-NLP.2018.8692942)\n",
    "- Guhanesvar. *Feature Selection Based on Mutual Information Gain for Classification and Regression*. Medium. June 26, 2021."
   ]
  },
  {
   "cell_type": "code",
   "execution_count": 18,
   "id": "d1997e98",
   "metadata": {},
   "outputs": [],
   "source": [
    "def InfoGain_selection(X, y, n_features):\n",
    "    \"\"\"\n",
    "    This function selects n_features according that have the greatest \n",
    "    mutual information classification\n",
    "    \"\"\"\n",
    "    from sklearn.feature_selection import mutual_info_classif\n",
    "    importance = mutual_info_classif(X, y)\n",
    "    importance = pd.Series(data = importance, index = X.columns)\n",
    "    importance = importance.sort_values(ascending=False)\n",
    "\n",
    "    selected_features = list(importance.iloc[:n_features].index)\n",
    "    \n",
    "    return importance, selected_features"
   ]
  },
  {
   "cell_type": "code",
   "execution_count": 19,
   "id": "0eea0d9f",
   "metadata": {
    "scrolled": true
   },
   "outputs": [
    {
     "data": {
      "text/plain": [
       "Text(0, 0.5, 'Mutual Information Gain')"
      ]
     },
     "execution_count": 19,
     "metadata": {},
     "output_type": "execute_result"
    },
    {
     "data": {
      "image/png": "[encoded data removed]",
      "text/plain": [
       "<Figure size 640x480 with 1 Axes>"
      ]
     },
     "metadata": {},
     "output_type": "display_data"
    }
   ],
   "source": [
    "importance, InfoGain_selected_features = InfoGain_selection(X, y, 6)\n",
    "\n",
    "plt.figure()\n",
    "plt.bar(importance.index, importance)\n",
    "plt.title(\"Feature importance\")\n",
    "plt.xlabel(\"Feature\")\n",
    "plt.ylabel(\"Mutual Information Gain\")"
   ]
  },
  {
   "cell_type": "markdown",
   "id": "ec4ec612",
   "metadata": {},
   "source": [
    "##### 5.2.3 Data selection by permutations (3 features)"
   ]
  },
  {
   "cell_type": "code",
   "execution_count": 20,
   "id": "83506a1e",
   "metadata": {},
   "outputs": [],
   "source": [
    "feat3_permutations = pd.DataFrame(columns = ['feature1', 'feature2', 'feature3'])\n",
    "\n",
    "ind = 0\n",
    "for feature1 in X.columns:\n",
    "    for feature2 in X.columns:\n",
    "        for feature3 in X.columns:\n",
    "            sample = pd.DataFrame({'feature1':feature1, 'feature2':feature2, 'feature3':feature3}, index = [ind])\n",
    "            feat3_permutations = pd.concat([feat3_permutations, sample])\n",
    "            ind += 1"
   ]
  },
  {
   "cell_type": "markdown",
   "id": "8dae65fd",
   "metadata": {},
   "source": [
    "# 6. Creating models"
   ]
  },
  {
   "cell_type": "markdown",
   "id": "dd5eefe9",
   "metadata": {},
   "source": [
    "Here the goal is to classify the final diagnosis of heart disease according to [0, 1, 2, 3, 4], which is opposite to what literature does: they reduce the classification to binary."
   ]
  },
  {
   "cell_type": "markdown",
   "id": "6e10e9f4",
   "metadata": {},
   "source": [
    "### 6.1 Decision Tree"
   ]
  },
  {
   "cell_type": "markdown",
   "id": "1e796ec9",
   "metadata": {},
   "source": [
    "With a Decision Tree algorithm there is no need to standardize the data, these algorithms are not influenced by variance."
   ]
  },
  {
   "cell_type": "code",
   "execution_count": 21,
   "id": "8cd90f53",
   "metadata": {},
   "outputs": [],
   "source": [
    "from sklearn.model_selection import train_test_split\n",
    "from sklearn import tree\n",
    "from sklearn import metrics\n",
    "from sklearn.model_selection import GridSearchCV\n",
    "from sklearn.preprocessing import Normalizer\n",
    "from sklearn.neighbors import KNeighborsClassifier\n",
    "from sklearn.model_selection import cross_val_score"
   ]
  },
  {
   "cell_type": "markdown",
   "id": "03270f74",
   "metadata": {},
   "source": [
    "##### 6.1.1 ... with all features"
   ]
  },
  {
   "cell_type": "code",
   "execution_count": 22,
   "id": "41ecb9bf",
   "metadata": {
    "scrolled": true
   },
   "outputs": [
    {
     "name": "stdout",
     "output_type": "stream",
     "text": [
      "Best Parameters: {'criterion': 'entropy', 'max_depth': 20, 'min_samples_leaf': 1, 'min_samples_split': 2}\n",
      "Best Estimator: DecisionTreeClassifier(criterion='entropy', max_depth=20)\n",
      "Oversampling method: DOUBLING\n",
      "Decision Tree model, all features\n",
      "Accuracy: 0.8160919540229885\n"
     ]
    }
   ],
   "source": [
    "# separating train and test sets (20% out of the 80% after splitting the clients dataset)\n",
    "X_train, X_test, y_train, y_test = train_test_split(X, y, test_size=0.20/0.80, random_state=42)\n",
    "\n",
    "# given parameters to search for the best (grid search)\n",
    "parameters_grid = {'criterion': ['gini', 'entropy'],\n",
    "    'max_depth': [None, 1, 2, 3, 4, 5, 10, 15, 20, 30],\n",
    "    'min_samples_split': [2, 5, 10],\n",
    "    'min_samples_leaf': [1, 2, 4]}\n",
    "\n",
    "# finding the best parameters for the model \n",
    "grid_search = GridSearchCV(estimator = tree.DecisionTreeClassifier(), \n",
    "                           param_grid = parameters_grid, \n",
    "                           cv = 5, scoring = 'accuracy')\n",
    "grid_search.fit(X_train, y_train)\n",
    "\n",
    "# display the best parameters\n",
    "best_parameters = grid_search.best_params_\n",
    "\n",
    "# display first best parameter \n",
    "best_estimator = grid_search.best_estimator_\n",
    "\n",
    "print(\"Best Parameters:\", best_parameters)\n",
    "print(\"Best Estimator:\", best_estimator)\n",
    "\n",
    "# creating and fitting the model\n",
    "classifier = tree.DecisionTreeClassifier(**best_parameters) \n",
    "classifier = classifier.fit(X_train, y_train)\n",
    "y_predict = classifier.predict(X_test)\n",
    "\n",
    "# accuracy of the model\n",
    "accuracy = metrics.accuracy_score(y_test, y_predict)\n",
    "\n",
    "print(\"Oversampling method:\", oversampling_method)\n",
    "print(\"Decision Tree model, all features\")\n",
    "print(\"Accuracy:\", accuracy)"
   ]
  },
  {
   "cell_type": "markdown",
   "id": "1a5144fc",
   "metadata": {},
   "source": [
    "##### 6.1.2 ... with correlation feature selection"
   ]
  },
  {
   "cell_type": "code",
   "execution_count": 23,
   "id": "cad2a708",
   "metadata": {},
   "outputs": [
    {
     "name": "stdout",
     "output_type": "stream",
     "text": [
      "Best Parameters: {'criterion': 'entropy', 'max_depth': 20, 'min_samples_leaf': 1, 'min_samples_split': 2}\n",
      "Best Estimator: DecisionTreeClassifier(criterion='entropy', max_depth=20)\n",
      "Oversampling method: DOUBLING\n",
      "Decision Tree model, correlation selection\n",
      "Accuracy: 0.8160919540229885\n"
     ]
    }
   ],
   "source": [
    "# selected features\n",
    "corr_selected_features = Corr_selection(X, 'spearman', 0.2)\n",
    "\n",
    "# separating train and test sets (20% out of the 80% after splitting the clients dataset)\n",
    "X_train, X_test, y_train, y_test = train_test_split(X[corr_selected_features], \n",
    "                                                    y, test_size=0.20/0.80, \n",
    "                                                    random_state=42)\n",
    "\n",
    "# given parameters to search for the best (grid search)\n",
    "parameters_grid = {'criterion': ['gini', 'entropy'],\n",
    "    'max_depth': [None, 1, 2, 3, 4, 5, 10, 15, 20, 30],\n",
    "    'min_samples_split': [2, 5, 10],\n",
    "    'min_samples_leaf': [1, 2, 4]}\n",
    "\n",
    "# finding the best parameters for the model \n",
    "grid_search = GridSearchCV(estimator = tree.DecisionTreeClassifier(), \n",
    "                           param_grid = parameters_grid, \n",
    "                           cv = 5, scoring = 'accuracy')\n",
    "grid_search.fit(X_train, y_train)\n",
    "\n",
    "# display the best parameters\n",
    "best_parameters = grid_search.best_params_\n",
    "\n",
    "# display first best parameter \n",
    "best_estimator = grid_search.best_estimator_\n",
    "\n",
    "print(\"Best Parameters:\", best_parameters)\n",
    "print(\"Best Estimator:\", best_estimator)\n",
    "\n",
    "# creating and fitting the model\n",
    "classifier = tree.DecisionTreeClassifier(**best_parameters) \n",
    "classifier = classifier.fit(X_train, y_train)\n",
    "y_predict = classifier.predict(X_test)\n",
    "\n",
    "# accuracy of the model\n",
    "accuracy = metrics.accuracy_score(y_test, y_predict)\n",
    "\n",
    "print(\"Oversampling method:\", oversampling_method)\n",
    "print(\"Decision Tree model, correlation selection\")\n",
    "print(\"Accuracy:\", accuracy)"
   ]
  },
  {
   "cell_type": "markdown",
   "id": "870243b7",
   "metadata": {},
   "source": [
    "##### 6.1.3 ... with Multual Information Feature selection"
   ]
  },
  {
   "cell_type": "code",
   "execution_count": 24,
   "id": "21bdb52d",
   "metadata": {},
   "outputs": [
    {
     "name": "stdout",
     "output_type": "stream",
     "text": [
      "Best Parameters: {'criterion': 'entropy', 'max_depth': None, 'min_samples_leaf': 1, 'min_samples_split': 2}\n",
      "Best Estimator: DecisionTreeClassifier(criterion='entropy')\n",
      "Oversampling method: DOUBLING\n",
      "Decision Tree model, InfoGain selection\n",
      "Accuracy: 0.8428571428571429\n"
     ]
    }
   ],
   "source": [
    "# selected features\n",
    "InfoGain_selected_features = InfoGain_selection(X, y, 6)[1]\n",
    "\n",
    "# separate train and test sets\n",
    "X_train, X_test, y_train, y_test = train_test_split(X[InfoGain_selected_features], y, \n",
    "                                                    test_size=0.20, random_state=42)\n",
    "\n",
    "# given parameters to search for the best (grid search)\n",
    "parameters_grid = {'criterion': ['gini', 'entropy'],\n",
    "    'max_depth': [None, 1, 2, 3, 4, 5, 10, 15, 20, 30],\n",
    "    'min_samples_split': [2, 5, 10],\n",
    "    'min_samples_leaf': [1, 2, 4]}\n",
    "\n",
    "# finding the best parameters for the model \n",
    "grid_search = GridSearchCV(estimator = tree.DecisionTreeClassifier(), \n",
    "                           param_grid = parameters_grid, \n",
    "                           cv = 5, scoring = 'accuracy')\n",
    "grid_search.fit(X_train, y_train)\n",
    "\n",
    "# display the best parameters\n",
    "best_parameters = grid_search.best_params_\n",
    "\n",
    "# display first best parameter \n",
    "best_estimator = grid_search.best_estimator_\n",
    "\n",
    "print(\"Best Parameters:\", best_parameters)\n",
    "print(\"Best Estimator:\", best_estimator)\n",
    "\n",
    "# creating and fitting the model\n",
    "classifier = tree.DecisionTreeClassifier(**best_parameters) \n",
    "classifier = classifier.fit(X_train, y_train)\n",
    "y_predict = classifier.predict(X_test)\n",
    "\n",
    "# accuracy of the model\n",
    "accuracy = metrics.accuracy_score(y_test, y_predict)\n",
    "\n",
    "print(\"Oversampling method:\", oversampling_method)\n",
    "print(\"Decision Tree model, InfoGain selection\")\n",
    "print(\"Accuracy:\", accuracy)"
   ]
  },
  {
   "cell_type": "markdown",
   "id": "88f88333",
   "metadata": {},
   "source": [
    "##### 6.1.4 ... with by-3-permutation selection"
   ]
  },
  {
   "cell_type": "code",
   "execution_count": 25,
   "id": "0e47c620",
   "metadata": {},
   "outputs": [],
   "source": [
    "accuracy_permutation = []\n",
    "\n",
    "for n in range(len(feat3_permutations)):\n",
    "    \n",
    "    X_train, X_test, y_train, y_test = train_test_split(X[feat3_permutations.iloc[n,:]], y, \n",
    "                                                    test_size=0.20, random_state=42 )\n",
    "    \n",
    "    \"\"\"\n",
    "    here we cannot afford a grid search because of the many interations\n",
    "    therefore, we choose to set the parameters of the model to default\n",
    "    \"\"\"\n",
    "    \n",
    "    classifier = tree.DecisionTreeClassifier()\n",
    "    classifier = classifier.fit(X_train, y_train)\n",
    "    y_predict = classifier.predict(X_test)\n",
    "    accuracy = metrics.accuracy_score(y_test, y_predict)\n",
    "\n",
    "    accuracy_permutation.append(accuracy)\n",
    "\n",
    "accuracy_permutation = pd.Series(data = accuracy_permutation, name=\"accuracy\")\n",
    "feat3_models = pd.concat([feat3_permutations, accuracy_permutation], axis=1)"
   ]
  },
  {
   "cell_type": "code",
   "execution_count": 26,
   "id": "a0e1a34d",
   "metadata": {
    "scrolled": false
   },
   "outputs": [
    {
     "name": "stdout",
     "output_type": "stream",
     "text": [
      "Oversampling method: DOUBLING\n"
     ]
    },
    {
     "data": {
      "text/html": [
       "<div>\n",
       "<style scoped>\n",
       "    .dataframe tbody tr th:only-of-type {\n",
       "        vertical-align: middle;\n",
       "    }\n",
       "\n",
       "    .dataframe tbody tr th {\n",
       "        vertical-align: top;\n",
       "    }\n",
       "\n",
       "    .dataframe thead th {\n",
       "        text-align: right;\n",
       "    }\n",
       "</style>\n",
       "<table border=\"1\" class=\"dataframe\">\n",
       "  <thead>\n",
       "    <tr style=\"text-align: right;\">\n",
       "      <th></th>\n",
       "      <th>feature1</th>\n",
       "      <th>feature2</th>\n",
       "      <th>feature3</th>\n",
       "      <th>accuracy</th>\n",
       "    </tr>\n",
       "  </thead>\n",
       "  <tbody>\n",
       "    <tr>\n",
       "      <th>1246</th>\n",
       "      <td>thalach</td>\n",
       "      <td>chol</td>\n",
       "      <td>ca</td>\n",
       "      <td>0.857143</td>\n",
       "    </tr>\n",
       "    <tr>\n",
       "      <th>2123</th>\n",
       "      <td>thal</td>\n",
       "      <td>thalach</td>\n",
       "      <td>chol</td>\n",
       "      <td>0.857143</td>\n",
       "    </tr>\n",
       "    <tr>\n",
       "      <th>826</th>\n",
       "      <td>chol</td>\n",
       "      <td>ca</td>\n",
       "      <td>thalach</td>\n",
       "      <td>0.857143</td>\n",
       "    </tr>\n",
       "    <tr>\n",
       "      <th>1330</th>\n",
       "      <td>thalach</td>\n",
       "      <td>ca</td>\n",
       "      <td>chol</td>\n",
       "      <td>0.857143</td>\n",
       "    </tr>\n",
       "    <tr>\n",
       "      <th>779</th>\n",
       "      <td>chol</td>\n",
       "      <td>thalach</td>\n",
       "      <td>thal</td>\n",
       "      <td>0.857143</td>\n",
       "    </tr>\n",
       "    <tr>\n",
       "      <th>778</th>\n",
       "      <td>chol</td>\n",
       "      <td>thalach</td>\n",
       "      <td>ca</td>\n",
       "      <td>0.857143</td>\n",
       "    </tr>\n",
       "    <tr>\n",
       "      <th>568</th>\n",
       "      <td>trestbps</td>\n",
       "      <td>chol</td>\n",
       "      <td>oldpeak</td>\n",
       "      <td>0.842857</td>\n",
       "    </tr>\n",
       "    <tr>\n",
       "      <th>1343</th>\n",
       "      <td>thalach</td>\n",
       "      <td>thal</td>\n",
       "      <td>chol</td>\n",
       "      <td>0.842857</td>\n",
       "    </tr>\n",
       "    <tr>\n",
       "      <th>1247</th>\n",
       "      <td>thalach</td>\n",
       "      <td>chol</td>\n",
       "      <td>thal</td>\n",
       "      <td>0.842857</td>\n",
       "    </tr>\n",
       "    <tr>\n",
       "      <th>796</th>\n",
       "      <td>chol</td>\n",
       "      <td>oldpeak</td>\n",
       "      <td>trestbps</td>\n",
       "      <td>0.842857</td>\n",
       "    </tr>\n",
       "  </tbody>\n",
       "</table>\n",
       "</div>"
      ],
      "text/plain": [
       "      feature1 feature2  feature3  accuracy\n",
       "1246   thalach     chol        ca  0.857143\n",
       "2123      thal  thalach      chol  0.857143\n",
       "826       chol       ca   thalach  0.857143\n",
       "1330   thalach       ca      chol  0.857143\n",
       "779       chol  thalach      thal  0.857143\n",
       "778       chol  thalach        ca  0.857143\n",
       "568   trestbps     chol   oldpeak  0.842857\n",
       "1343   thalach     thal      chol  0.842857\n",
       "1247   thalach     chol      thal  0.842857\n",
       "796       chol  oldpeak  trestbps  0.842857"
      ]
     },
     "metadata": {},
     "output_type": "display_data"
    }
   ],
   "source": [
    "print(\"Oversampling method:\", oversampling_method)\n",
    "display(feat3_models.sort_values(by='accuracy', ascending = False).head(10))"
   ]
  },
  {
   "cell_type": "code",
   "execution_count": 27,
   "id": "4dcf32ed",
   "metadata": {
    "scrolled": true
   },
   "outputs": [
    {
     "data": {
      "text/plain": [
       "Text(0.5, 0, 'chol')"
      ]
     },
     "execution_count": 27,
     "metadata": {},
     "output_type": "execute_result"
    },
    {
     "data": {
      "image/png": "[encoded data removed]",
      "text/plain": [
       "<Figure size 640x480 with 1 Axes>"
      ]
     },
     "metadata": {},
     "output_type": "display_data"
    }
   ],
   "source": [
    "zero  = (y==0)\n",
    "one   = (y==1)\n",
    "two   = (y==2)\n",
    "three = (y==3)\n",
    "four  = (y==4)\n",
    "\n",
    "fig = plt.figure()\n",
    "ax = fig.add_subplot(projection='3d')\n",
    "ax.scatter(X['cp'][zero],   X['oldpeak'][zero],   X['chol'][zero])\n",
    "ax.scatter(X['cp'][one],   X['oldpeak'][one],   X['chol'][one])\n",
    "ax.scatter(X['cp'][two],   X['oldpeak'][two],   X['chol'][two])\n",
    "ax.scatter(X['cp'][three], X['oldpeak'][three], X['chol'][three])\n",
    "ax.scatter(X['cp'][four],  X['oldpeak'][four],  X['chol'][four])\n",
    "\n",
    "ax.set_xlabel('cp')\n",
    "ax.set_ylabel('oldpeak')\n",
    "ax.set_zlabel('chol')"
   ]
  },
  {
   "cell_type": "markdown",
   "id": "d54124d2",
   "metadata": {},
   "source": [
    "### 6.2 Support Vector Machine (SVM)\n",
    "\n",
    "The **SVM** is an algorithm mostly used for classification, such as our case study. Check [[2]](#2) for a better understanding."
   ]
  },
  {
   "cell_type": "code",
   "execution_count": 28,
   "id": "70e42090",
   "metadata": {},
   "outputs": [],
   "source": [
    "from sklearn.svm import SVC\n",
    "from sklearn.metrics import confusion_matrix, classification_report\n",
    "from sklearn.model_selection import GridSearchCV\n",
    "from sklearn.model_selection import train_test_split\n",
    "from sklearn.preprocessing import Normalizer"
   ]
  },
  {
   "cell_type": "markdown",
   "id": "2ee4a6db",
   "metadata": {},
   "source": [
    "##### 6.2.1 ... with all features"
   ]
  },
  {
   "cell_type": "code",
   "execution_count": 29,
   "id": "f3aa3b23",
   "metadata": {},
   "outputs": [
    {
     "name": "stdout",
     "output_type": "stream",
     "text": [
      "Best Parameters: {'C': 1000, 'gamma': 0.01, 'kernel': 'linear'}\n",
      "Best Estimator: SVC(C=1000, gamma=0.01, kernel='linear')\n",
      "Oversampling method: DOUBLING\n",
      "KNN, no feature selection\n",
      "Accuracy test: 0.4827586206896552\n",
      "Accuracy train: 0.5328185328185329\n",
      "Accuracy client: 0.5833333333333334\n"
     ]
    }
   ],
   "source": [
    "# separating train and test sets (20% out of the 80% after splitting the clients dataset)\n",
    "X_train, X_test, y_train, y_test = train_test_split(X, y, test_size=0.20/0.80, random_state=42)\n",
    "\n",
    "y_client = client_set['num']\n",
    "X_client = client_set.drop(['num'], axis=1)\n",
    "\n",
    "norm = Normalizer()\n",
    "X_train_norm = norm.fit_transform(X_train)\n",
    "X_test_norm = norm.transform(X_test)\n",
    "X_client_norm = norm.transform(X_client)\n",
    "\n",
    "# given parameters to search for the best (grid search)\n",
    "parameters_grid = {'kernel': ['rbf', 'linear', 'sigmoid'],\n",
    "    'gamma': [1e-2, 1e-3, 1e-4],\n",
    "    'C': [1, 10, 100, 1000]}\n",
    "\n",
    "# finding the best parameters for the model \n",
    "grid_search = GridSearchCV(estimator = SVC(), \n",
    "                           param_grid = parameters_grid, \n",
    "                           cv = 5, scoring = 'accuracy')\n",
    "grid_search.fit(X_train_norm, y_train)\n",
    "\n",
    "# display the best parameters\n",
    "best_parameters = grid_search.best_params_\n",
    "\n",
    "# display first best parameter \n",
    "best_estimator = grid_search.best_estimator_\n",
    "\n",
    "print(\"Best Parameters:\", best_parameters)\n",
    "print(\"Best Estimator:\", best_estimator)\n",
    "\n",
    "# creating and fitting the model\n",
    "classifier = SVC(**best_parameters) \n",
    "classifier = classifier.fit(X_train_norm, y_train)\n",
    "y_predict = classifier.predict(X_test_norm)\n",
    "y_predict_train = classifier.predict(X_train_norm)\n",
    "y_predict_client = classifier.predict(X_client_norm)\n",
    "\n",
    "print(\"Oversampling method:\", oversampling_method)\n",
    "print(\"KNN, no feature selection\")\n",
    "print(\"Accuracy test:\", metrics.accuracy_score(y_test, y_predict))\n",
    "print(\"Accuracy train:\", metrics.accuracy_score(y_train, y_predict_train))\n",
    "print(\"Accuracy client:\", metrics.accuracy_score(y_client, y_predict_client))"
   ]
  },
  {
   "cell_type": "markdown",
   "id": "ae32c710",
   "metadata": {},
   "source": [
    "##### 6.2.2 ... with correlation feature selection"
   ]
  },
  {
   "cell_type": "code",
   "execution_count": 31,
   "id": "f4e3c173",
   "metadata": {},
   "outputs": [
    {
     "name": "stdout",
     "output_type": "stream",
     "text": [
      "Best Parameters: {'C': 1000, 'gamma': 0.01, 'kernel': 'linear'}\n",
      "Best Estimator: SVC(C=1000, gamma=0.01, kernel='linear')\n",
      "Oversampling method: DOUBLING\n",
      "KNN, correlation selection\n",
      "Accuracy test: 0.45977011494252873\n",
      "Accuracy train: 0.3667953667953668\n",
      "Accuracy client: 0.5166666666666667\n"
     ]
    }
   ],
   "source": [
    "# selected features\n",
    "corr_selected_features = Corr_selection(X, 'spearman', 0.2)\n",
    "\n",
    "# separating train and test sets (20% out of the 80% after splitting the clients dataset)\n",
    "X_train, X_test, y_train, y_test = train_test_split(X[corr_selected_features], \n",
    "                                                    y, test_size=0.20/0.80, \n",
    "                                                    random_state=42)\n",
    "\n",
    "norm = Normalizer()\n",
    "X_train_norm = norm.fit_transform(X_train)\n",
    "X_test_norm = norm.transform(X_test)\n",
    "X_client_norm = norm.transform(X_client[corr_selected_features])\n",
    "\n",
    "# given parameters to search for the best (grid search)\n",
    "parameters_grid = {'kernel': ['rbf', 'linear', 'sigmoid'],\n",
    "    'gamma': [1e-2, 1e-3, 1e-4],\n",
    "    'C': [1, 10, 100, 1000]}\n",
    "\n",
    "# finding the best parameters for the model \n",
    "grid_search = GridSearchCV(estimator = SVC(), \n",
    "                           param_grid = parameters_grid, \n",
    "                           cv = 5, scoring = 'accuracy')\n",
    "grid_search.fit(X_train_norm, y_train)\n",
    "\n",
    "# display the best parameters\n",
    "best_parameters = grid_search.best_params_\n",
    "\n",
    "# display first best parameter \n",
    "best_estimator = grid_search.best_estimator_\n",
    "\n",
    "print(\"Best Parameters:\", best_parameters)\n",
    "print(\"Best Estimator:\", best_estimator)\n",
    "\n",
    "# creating and fitting the model\n",
    "classifier = SVC(**best_parameters) \n",
    "classifier = classifier.fit(X_train_norm, y_train)\n",
    "y_predict = classifier.predict(X_test_norm)\n",
    "y_predict_train = classifier.predict(X_train_norm)\n",
    "y_predict_client = classifier.predict(X_client_norm)\n",
    "\n",
    "print(\"Oversampling method:\", oversampling_method)\n",
    "print(\"KNN, correlation selection\")\n",
    "print(\"Accuracy test:\", metrics.accuracy_score(y_test, y_predict))\n",
    "print(\"Accuracy train:\", metrics.accuracy_score(y_train, y_predict_train))\n",
    "print(\"Accuracy client:\", metrics.accuracy_score(y_client, y_predict_client))"
   ]
  },
  {
   "cell_type": "markdown",
   "id": "07687a15",
   "metadata": {},
   "source": [
    "##### 6.2.3 ... with Multual Information Feature selection"
   ]
  },
  {
   "cell_type": "code",
   "execution_count": 32,
   "id": "74f09c6b",
   "metadata": {},
   "outputs": [
    {
     "name": "stdout",
     "output_type": "stream",
     "text": [
      "Best Parameters: {'C': 1000, 'gamma': 0.01, 'kernel': 'linear'}\n",
      "Best Estimator: SVC(C=1000, gamma=0.01, kernel='linear')\n",
      "Oversampling method: DOUBLING\n",
      "KNN, Multual Information Feature selection\n",
      "Accuracy test: 0.5142857142857142\n",
      "Accuracy train: 0.48188405797101447\n",
      "Accuracy client: 0.5666666666666667\n"
     ]
    }
   ],
   "source": [
    "# selected features\n",
    "InfoGain_selected_features = InfoGain_selection(X, y, 6)[1]\n",
    "\n",
    "# separate train and test sets\n",
    "X_train, X_test, y_train, y_test = train_test_split(X[InfoGain_selected_features], y, \n",
    "                                                    test_size=0.20, random_state=42)\n",
    "\n",
    "norm = Normalizer()\n",
    "X_train_norm = norm.fit_transform(X_train)\n",
    "X_test_norm = norm.transform(X_test)\n",
    "X_client_norm = norm.transform(X_client[InfoGain_selected_features])\n",
    "\n",
    "# given parameters to search for the best (grid search)\n",
    "parameters_grid = {'kernel': ['rbf', 'linear', 'sigmoid'],\n",
    "    'gamma': [1e-2, 1e-3, 1e-4],\n",
    "    'C': [1, 10, 100, 1000]}\n",
    "\n",
    "# finding the best parameters for the model \n",
    "grid_search = GridSearchCV(estimator = SVC(), \n",
    "                           param_grid = parameters_grid, \n",
    "                           cv = 5, scoring = 'accuracy')\n",
    "grid_search.fit(X_train_norm, y_train)\n",
    "\n",
    "# display the best parameters\n",
    "best_parameters = grid_search.best_params_\n",
    "\n",
    "# display first best parameter \n",
    "best_estimator = grid_search.best_estimator_\n",
    "\n",
    "print(\"Best Parameters:\", best_parameters)\n",
    "print(\"Best Estimator:\", best_estimator)\n",
    "\n",
    "# creating and fitting the model\n",
    "classifier = SVC(**best_parameters) \n",
    "classifier = classifier.fit(X_train_norm, y_train)\n",
    "y_predict = classifier.predict(X_test_norm)\n",
    "y_predict_train = classifier.predict(X_train_norm)\n",
    "y_predict_client = classifier.predict(X_client_norm)\n",
    "\n",
    "print(\"Oversampling method:\", oversampling_method)\n",
    "print(\"KNN, Multual Information Feature selection\")\n",
    "print(\"Accuracy test:\", metrics.accuracy_score(y_test, y_predict))\n",
    "print(\"Accuracy train:\", metrics.accuracy_score(y_train, y_predict_train))\n",
    "print(\"Accuracy client:\", metrics.accuracy_score(y_client, y_predict_client))"
   ]
  },
  {
   "cell_type": "markdown",
   "id": "4e471561",
   "metadata": {},
   "source": [
    "##### 6.2.4 ... with by-3-permutation selection"
   ]
  },
  {
   "cell_type": "code",
   "execution_count": 33,
   "id": "df5aeaad",
   "metadata": {},
   "outputs": [],
   "source": [
    "accuracy_permutation_test = []\n",
    "accuracy_permutation_train = []\n",
    "accuracy_permutation_client = []\n",
    "best_parameters_list = []\n",
    "\n",
    "for n in range(len(feat3_permutations)):\n",
    "    \n",
    "    X_train, X_test, y_train, y_test = train_test_split(X[feat3_permutations.iloc[n,:]], y, \n",
    "                                                    test_size=0.20, random_state=42 )\n",
    "    \n",
    "    norm = Normalizer()\n",
    "    X_train_norm = norm.fit_transform(X_train)\n",
    "    X_test_norm = norm.transform(X_test)\n",
    "    X_client_norm = norm.transform(X_client[feat3_permutations.iloc[n,:]])\n",
    "    # given parameters to search for the best (grid search)\n",
    "    #parameters_grid = {'kernel': ['rbf', 'linear', 'sigmoid'],\n",
    "    #    'gamma': [1e-2, 1e-3, 1e-4],\n",
    "    #    'C': [1, 10, 100, 1000]}\n",
    "    # finding the best parameters for the model \n",
    "    #grid_search = GridSearchCV(estimator = SVC(), \n",
    "    #                        param_grid = parameters_grid, \n",
    "    #                        cv = 5, scoring = 'accuracy')\n",
    "    #grid_search.fit(X_train_norm, y_train)\n",
    "    \n",
    "    \"\"\"\n",
    "    here we cannot afford a grid search because of the many interations\n",
    "    therefore, we choose to set the parameters of the model to default\n",
    "    \"\"\"\n",
    "    \n",
    "    # display the best parameters\n",
    "    #best_parameters = grid_search.best_params_\n",
    "\n",
    "    # display first best parameter \n",
    "    #best_estimator = grid_search.best_estimator_\n",
    "\n",
    "    #print(\"Best Parameters:\", best_parameters)\n",
    "    #print(\"Best Estimator:\", best_estimator)\n",
    "\n",
    "    # creating and fitting the model\n",
    "    classifier = SVC(**best_parameters)\n",
    "    classifier = classifier.fit(X_train_norm, y_train)\n",
    "    y_predict = classifier.predict(X_test_norm)\n",
    "    y_predict_train = classifier.predict(X_train_norm)\n",
    "    y_client_train = classifier.predict(X_client_norm)\n",
    "\n",
    "    # accuracy of the model\n",
    "    accuracy = metrics.accuracy_score(y_test, y_predict)\n",
    "    \n",
    "    best_parameters_list.append(best_parameters)\n",
    "    accuracy_permutation_test.append(metrics.accuracy_score(y_test, y_predict))\n",
    "    accuracy_permutation_train.append(metrics.accuracy_score(y_train, y_predict_train))\n",
    "    accuracy_permutation_client.append(metrics.accuracy_score(y_client, y_client_train))\n",
    "\n",
    "accuracy_permutation_test = pd.Series(data = accuracy_permutation_test, name=\"accuracy_test\")\n",
    "accuracy_permutation_train = pd.Series(data = accuracy_permutation_train, name=\"accuracy_train\")\n",
    "accuracy_permutation_client = pd.Series(data = accuracy_permutation_client, name=\"accuracy_client\")\n",
    "best_parameters_list = pd.Series(data = best_parameters_list, name=\"paramenters\")\n",
    "feat3_models = pd.concat([feat3_permutations, accuracy_permutation_test, accuracy_permutation_train, accuracy_permutation_client, best_parameters_list], axis=1)"
   ]
  },
  {
   "cell_type": "code",
   "execution_count": 34,
   "id": "2e6d742a",
   "metadata": {},
   "outputs": [
    {
     "name": "stdout",
     "output_type": "stream",
     "text": [
      "Oversampling method: DOUBLING\n"
     ]
    },
    {
     "data": {
      "text/html": [
       "<div>\n",
       "<style scoped>\n",
       "    .dataframe tbody tr th:only-of-type {\n",
       "        vertical-align: middle;\n",
       "    }\n",
       "\n",
       "    .dataframe tbody tr th {\n",
       "        vertical-align: top;\n",
       "    }\n",
       "\n",
       "    .dataframe thead th {\n",
       "        text-align: right;\n",
       "    }\n",
       "</style>\n",
       "<table border=\"1\" class=\"dataframe\">\n",
       "  <thead>\n",
       "    <tr style=\"text-align: right;\">\n",
       "      <th></th>\n",
       "      <th>feature1</th>\n",
       "      <th>feature2</th>\n",
       "      <th>feature3</th>\n",
       "      <th>accuracy_test</th>\n",
       "      <th>accuracy_train</th>\n",
       "      <th>accuracy_client</th>\n",
       "      <th>paramenters</th>\n",
       "    </tr>\n",
       "  </thead>\n",
       "  <tbody>\n",
       "    <tr>\n",
       "      <th>1323</th>\n",
       "      <td>thalach</td>\n",
       "      <td>slope</td>\n",
       "      <td>slope</td>\n",
       "      <td>0.557143</td>\n",
       "      <td>0.402174</td>\n",
       "      <td>0.483333</td>\n",
       "      <td>{'C': 1000, 'gamma': 0.01, 'kernel': 'linear'}</td>\n",
       "    </tr>\n",
       "    <tr>\n",
       "      <th>1791</th>\n",
       "      <td>slope</td>\n",
       "      <td>thalach</td>\n",
       "      <td>slope</td>\n",
       "      <td>0.557143</td>\n",
       "      <td>0.402174</td>\n",
       "      <td>0.483333</td>\n",
       "      <td>{'C': 1000, 'gamma': 0.01, 'kernel': 'linear'}</td>\n",
       "    </tr>\n",
       "    <tr>\n",
       "      <th>1827</th>\n",
       "      <td>slope</td>\n",
       "      <td>slope</td>\n",
       "      <td>thalach</td>\n",
       "      <td>0.557143</td>\n",
       "      <td>0.402174</td>\n",
       "      <td>0.483333</td>\n",
       "      <td>{'C': 1000, 'gamma': 0.01, 'kernel': 'linear'}</td>\n",
       "    </tr>\n",
       "    <tr>\n",
       "      <th>297</th>\n",
       "      <td>sex</td>\n",
       "      <td>oldpeak</td>\n",
       "      <td>ca</td>\n",
       "      <td>0.542857</td>\n",
       "      <td>0.481884</td>\n",
       "      <td>0.600000</td>\n",
       "      <td>{'C': 1000, 'gamma': 0.01, 'kernel': 'linear'}</td>\n",
       "    </tr>\n",
       "    <tr>\n",
       "      <th>321</th>\n",
       "      <td>sex</td>\n",
       "      <td>ca</td>\n",
       "      <td>oldpeak</td>\n",
       "      <td>0.542857</td>\n",
       "      <td>0.481884</td>\n",
       "      <td>0.600000</td>\n",
       "      <td>{'C': 1000, 'gamma': 0.01, 'kernel': 'linear'}</td>\n",
       "    </tr>\n",
       "    <tr>\n",
       "      <th>1545</th>\n",
       "      <td>oldpeak</td>\n",
       "      <td>sex</td>\n",
       "      <td>ca</td>\n",
       "      <td>0.542857</td>\n",
       "      <td>0.481884</td>\n",
       "      <td>0.600000</td>\n",
       "      <td>{'C': 1000, 'gamma': 0.01, 'kernel': 'linear'}</td>\n",
       "    </tr>\n",
       "    <tr>\n",
       "      <th>1665</th>\n",
       "      <td>oldpeak</td>\n",
       "      <td>ca</td>\n",
       "      <td>sex</td>\n",
       "      <td>0.542857</td>\n",
       "      <td>0.481884</td>\n",
       "      <td>0.600000</td>\n",
       "      <td>{'C': 1000, 'gamma': 0.01, 'kernel': 'linear'}</td>\n",
       "    </tr>\n",
       "    <tr>\n",
       "      <th>1881</th>\n",
       "      <td>ca</td>\n",
       "      <td>sex</td>\n",
       "      <td>oldpeak</td>\n",
       "      <td>0.542857</td>\n",
       "      <td>0.481884</td>\n",
       "      <td>0.600000</td>\n",
       "      <td>{'C': 1000, 'gamma': 0.01, 'kernel': 'linear'}</td>\n",
       "    </tr>\n",
       "    <tr>\n",
       "      <th>1977</th>\n",
       "      <td>ca</td>\n",
       "      <td>oldpeak</td>\n",
       "      <td>sex</td>\n",
       "      <td>0.542857</td>\n",
       "      <td>0.481884</td>\n",
       "      <td>0.600000</td>\n",
       "      <td>{'C': 1000, 'gamma': 0.01, 'kernel': 'linear'}</td>\n",
       "    </tr>\n",
       "    <tr>\n",
       "      <th>437</th>\n",
       "      <td>cp</td>\n",
       "      <td>thalach</td>\n",
       "      <td>exang</td>\n",
       "      <td>0.542857</td>\n",
       "      <td>0.434783</td>\n",
       "      <td>0.550000</td>\n",
       "      <td>{'C': 1000, 'gamma': 0.01, 'kernel': 'linear'}</td>\n",
       "    </tr>\n",
       "  </tbody>\n",
       "</table>\n",
       "</div>"
      ],
      "text/plain": [
       "     feature1 feature2 feature3  accuracy_test  accuracy_train  \\\n",
       "1323  thalach    slope    slope       0.557143        0.402174   \n",
       "1791    slope  thalach    slope       0.557143        0.402174   \n",
       "1827    slope    slope  thalach       0.557143        0.402174   \n",
       "297       sex  oldpeak       ca       0.542857        0.481884   \n",
       "321       sex       ca  oldpeak       0.542857        0.481884   \n",
       "1545  oldpeak      sex       ca       0.542857        0.481884   \n",
       "1665  oldpeak       ca      sex       0.542857        0.481884   \n",
       "1881       ca      sex  oldpeak       0.542857        0.481884   \n",
       "1977       ca  oldpeak      sex       0.542857        0.481884   \n",
       "437        cp  thalach    exang       0.542857        0.434783   \n",
       "\n",
       "      accuracy_client                                     paramenters  \n",
       "1323         0.483333  {'C': 1000, 'gamma': 0.01, 'kernel': 'linear'}  \n",
       "1791         0.483333  {'C': 1000, 'gamma': 0.01, 'kernel': 'linear'}  \n",
       "1827         0.483333  {'C': 1000, 'gamma': 0.01, 'kernel': 'linear'}  \n",
       "297          0.600000  {'C': 1000, 'gamma': 0.01, 'kernel': 'linear'}  \n",
       "321          0.600000  {'C': 1000, 'gamma': 0.01, 'kernel': 'linear'}  \n",
       "1545         0.600000  {'C': 1000, 'gamma': 0.01, 'kernel': 'linear'}  \n",
       "1665         0.600000  {'C': 1000, 'gamma': 0.01, 'kernel': 'linear'}  \n",
       "1881         0.600000  {'C': 1000, 'gamma': 0.01, 'kernel': 'linear'}  \n",
       "1977         0.600000  {'C': 1000, 'gamma': 0.01, 'kernel': 'linear'}  \n",
       "437          0.550000  {'C': 1000, 'gamma': 0.01, 'kernel': 'linear'}  "
      ]
     },
     "metadata": {},
     "output_type": "display_data"
    }
   ],
   "source": [
    "print(\"Oversampling method:\", oversampling_method)\n",
    "display(feat3_models.sort_values(by=['accuracy_test', 'accuracy_train', 'accuracy_client'], ascending = False).head(10))"
   ]
  },
  {
   "cell_type": "code",
   "execution_count": 35,
   "id": "83109d7f",
   "metadata": {},
   "outputs": [
    {
     "data": {
      "text/plain": [
       "Text(0.5, 0, 'exang')"
      ]
     },
     "execution_count": 35,
     "metadata": {},
     "output_type": "execute_result"
    },
    {
     "data": {
      "image/png": "[encoded data removed]",
      "text/plain": [
       "<Figure size 640x480 with 1 Axes>"
      ]
     },
     "metadata": {},
     "output_type": "display_data"
    }
   ],
   "source": [
    "zero  = (y==0)\n",
    "one   = (y==1)\n",
    "two   = (y==2)\n",
    "three = (y==3)\n",
    "four  = (y==4)\n",
    "\n",
    "fig = plt.figure()\n",
    "ax = fig.add_subplot(projection='3d')\n",
    "ax.scatter(X['fbs'][zero],   X['fbs'][zero],   X['exang'][zero])\n",
    "ax.scatter(X['fbs'][one],   X['fbs'][one],   X['exang'][one])\n",
    "ax.scatter(X['fbs'][two],   X['fbs'][two],   X['exang'][two])\n",
    "ax.scatter(X['fbs'][three], X['fbs'][three], X['exang'][three])\n",
    "ax.scatter(X['fbs'][four],  X['fbs'][four],  X['exang'][four])\n",
    "\n",
    "ax.set_xlabel('fbs')\n",
    "ax.set_ylabel('fbs')\n",
    "ax.set_zlabel('exang')"
   ]
  },
  {
   "cell_type": "markdown",
   "id": "90620eaa",
   "metadata": {},
   "source": [
    "### 6.3 K-Nearest-Neighbour - Algorithm (KNN)\n",
    "\n",
    "The **KNN** is an algorithm used for classification ot estimate the class that the new data point will be."
   ]
  },
  {
   "cell_type": "markdown",
   "id": "1e1e0387",
   "metadata": {},
   "source": [
    "##### 6.3.1 ... with all features"
   ]
  },
  {
   "cell_type": "code",
   "execution_count": 36,
   "id": "b757a7bb",
   "metadata": {},
   "outputs": [
    {
     "name": "stdout",
     "output_type": "stream",
     "text": [
      "Best Parameters: {'metric': 'cityblock', 'n_neighbors': 1}\n",
      "Best Estimator: KNeighborsClassifier(metric='cityblock', n_neighbors=1)\n",
      "Oversampling method: DOUBLING\n",
      "KNN, no fetaure selection\n",
      "Accuracy test: 0.7931034482758621\n",
      "Accuracy train: 1.0\n",
      "Accuracy client: 0.5\n"
     ]
    }
   ],
   "source": [
    "from sklearn.neighbors import KNeighborsClassifier\n",
    "\n",
    "# separating train and test sets (20% out of the 80% after splitting the clients dataset)\n",
    "X_train, X_test, y_train, y_test = train_test_split(X, y, test_size=0.20/0.80, random_state=42)\n",
    "\n",
    "norm = Normalizer()\n",
    "X_train_norm = norm.fit_transform(X_train)\n",
    "X_test_norm = norm.transform(X_test)\n",
    "X_client_norm = norm.transform(X_client)\n",
    "\n",
    "# given parameters to search for the best (grid search)\n",
    "parameters_grid = {'metric': ['euclidean', 'cityblock', 'chebyshev'],\n",
    "    'n_neighbors': [1, 2, 3, 4]}\n",
    "\n",
    "# finding the best parameters for the model \n",
    "grid_search = GridSearchCV(estimator = KNeighborsClassifier(), \n",
    "                           param_grid = parameters_grid, \n",
    "                           cv = 5, scoring = 'accuracy')\n",
    "grid_search.fit(X_train_norm, y_train)\n",
    "\n",
    "# display the best parameters\n",
    "best_parameters = grid_search.best_params_\n",
    "\n",
    "# display first best parameter \n",
    "best_estimator = grid_search.best_estimator_\n",
    "\n",
    "print(\"Best Parameters:\", best_parameters)\n",
    "print(\"Best Estimator:\", best_estimator)\n",
    "\n",
    "# creating and fitting the model\n",
    "classifier = KNeighborsClassifier(**best_parameters)\n",
    "classifier = classifier.fit(X_train_norm, y_train)\n",
    "y_predict = classifier.predict(X_test_norm)\n",
    "y_predict_train = classifier.predict(X_train_norm)\n",
    "y_predict_client = classifier.predict(X_client_norm)\n",
    "\n",
    "print(\"Oversampling method:\", oversampling_method)\n",
    "print(\"KNN, no fetaure selection\")\n",
    "print(\"Accuracy test:\", metrics.accuracy_score(y_test, y_predict))\n",
    "print(\"Accuracy train:\", metrics.accuracy_score(y_train, y_predict_train))\n",
    "print(\"Accuracy client:\", metrics.accuracy_score(y_client, y_predict_client))"
   ]
  },
  {
   "cell_type": "markdown",
   "id": "776a236b",
   "metadata": {},
   "source": [
    "##### 6.3.2 ... with correlation feature selection"
   ]
  },
  {
   "cell_type": "code",
   "execution_count": 37,
   "id": "5abfea4f",
   "metadata": {},
   "outputs": [
    {
     "name": "stdout",
     "output_type": "stream",
     "text": [
      "Best Parameters: {'metric': 'cityblock', 'n_neighbors': 1}\n",
      "Best Estimator: KNeighborsClassifier(metric='cityblock', n_neighbors=1)\n",
      "Oversampling method: DOUBLING\n",
      "KNN, correlation selection\n",
      "Accuracy test: 0.735632183908046\n",
      "Accuracy train: 1.0\n",
      "Accuracy client: 0.4666666666666667\n"
     ]
    }
   ],
   "source": [
    "# selected features\n",
    "corr_selected_features = Corr_selection(X, 'spearman', 0.2)\n",
    "\n",
    "# separating train and test sets (20% out of the 80% after splitting the clients dataset)\n",
    "X_train, X_test, y_train, y_test = train_test_split(X[corr_selected_features], \n",
    "                                                    y, test_size=0.20/0.80, \n",
    "                                                    random_state=42)\n",
    "\n",
    "norm = Normalizer()\n",
    "X_train_norm = norm.fit_transform(X_train)\n",
    "X_test_norm = norm.transform(X_test)\n",
    "X_client_norm = norm.transform(X_client[corr_selected_features])\n",
    "\n",
    "# given parameters to search for the best (grid search)\n",
    "parameters_grid = {'metric': ['euclidean', 'cityblock', 'chebyshev'],\n",
    "    'n_neighbors': [1, 2, 3, 4]}\n",
    "\n",
    "# finding the best parameters for the model \n",
    "grid_search = GridSearchCV(estimator = KNeighborsClassifier(), \n",
    "                           param_grid = parameters_grid, \n",
    "                           cv = 5, scoring = 'accuracy')\n",
    "grid_search.fit(X_train_norm, y_train)\n",
    "\n",
    "# display the best parameters\n",
    "best_parameters = grid_search.best_params_\n",
    "\n",
    "# display first best parameter \n",
    "best_estimator = grid_search.best_estimator_\n",
    "\n",
    "print(\"Best Parameters:\", best_parameters)\n",
    "print(\"Best Estimator:\", best_estimator)\n",
    "\n",
    "# creating and fitting the model\n",
    "classifier = KNeighborsClassifier(**best_parameters)\n",
    "classifier = classifier.fit(X_train_norm, y_train)\n",
    "y_predict = classifier.predict(X_test_norm)\n",
    "y_predict_train = classifier.predict(X_train_norm)\n",
    "y_predict_client = classifier.predict(X_client_norm)\n",
    "\n",
    "print(\"Oversampling method:\", oversampling_method)\n",
    "print(\"KNN, correlation selection\")\n",
    "print(\"Accuracy test:\", metrics.accuracy_score(y_test, y_predict))\n",
    "print(\"Accuracy train:\", metrics.accuracy_score(y_train, y_predict_train))\n",
    "print(\"Accuracy client:\", metrics.accuracy_score(y_client, y_predict_client))"
   ]
  },
  {
   "cell_type": "markdown",
   "id": "560cb566",
   "metadata": {},
   "source": [
    "##### 6.3.3 ... with multual information feature selection"
   ]
  },
  {
   "cell_type": "code",
   "execution_count": 38,
   "id": "bd095f65",
   "metadata": {},
   "outputs": [
    {
     "name": "stdout",
     "output_type": "stream",
     "text": [
      "Best Parameters: {'metric': 'cityblock', 'n_neighbors': 1}\n",
      "Best Estimator: KNeighborsClassifier(metric='cityblock', n_neighbors=1)\n",
      "Oversampling method: DOUBLING\n",
      "KNN, multual information feature selection\n",
      "Accuracy test: 0.8142857142857143\n",
      "Accuracy train: 1.0\n",
      "Accuracy client: 0.5\n"
     ]
    }
   ],
   "source": [
    "# selected features\n",
    "InfoGain_selected_features = InfoGain_selection(X, y, 6)[1]\n",
    "\n",
    "# separate train and test sets\n",
    "X_train, X_test, y_train, y_test = train_test_split(X[InfoGain_selected_features], y, \n",
    "                                                    test_size=0.20, random_state=42)\n",
    "\n",
    "norm = Normalizer()\n",
    "X_train_norm = norm.fit_transform(X_train)\n",
    "X_test_norm = norm.transform(X_test)\n",
    "X_client_norm = norm.transform(X_client[InfoGain_selected_features])\n",
    "\n",
    "# given parameters to search for the best (grid search)\n",
    "parameters_grid = {'metric': ['euclidean', 'cityblock', 'chebyshev'],\n",
    "    'n_neighbors': [1, 2, 3, 4]}\n",
    "\n",
    "# finding the best parameters for the model \n",
    "grid_search = GridSearchCV(estimator = KNeighborsClassifier(), \n",
    "                           param_grid = parameters_grid, \n",
    "                           cv = 5, scoring = 'accuracy')\n",
    "grid_search.fit(X_train_norm, y_train)\n",
    "\n",
    "# display the best parameters\n",
    "best_parameters = grid_search.best_params_\n",
    "\n",
    "# display first best parameter \n",
    "best_estimator = grid_search.best_estimator_\n",
    "\n",
    "print(\"Best Parameters:\", best_parameters)\n",
    "print(\"Best Estimator:\", best_estimator)\n",
    "\n",
    "# creating and fitting the model\n",
    "classifier = KNeighborsClassifier(**best_parameters)\n",
    "classifier = classifier.fit(X_train_norm, y_train)\n",
    "y_predict = classifier.predict(X_test_norm)\n",
    "y_predict_train = classifier.predict(X_train_norm)\n",
    "y_predict_client = classifier.predict(X_client_norm)\n",
    "\n",
    "print(\"Oversampling method:\", oversampling_method)\n",
    "print(\"KNN, multual information feature selection\")\n",
    "print(\"Accuracy test:\", metrics.accuracy_score(y_test, y_predict))\n",
    "print(\"Accuracy train:\", metrics.accuracy_score(y_train, y_predict_train))\n",
    "print(\"Accuracy client:\", metrics.accuracy_score(y_client, y_predict_client))"
   ]
  },
  {
   "cell_type": "markdown",
   "id": "1eeec44f",
   "metadata": {},
   "source": [
    "##### 6.3.4 ... with by-3-permutation selection"
   ]
  },
  {
   "cell_type": "code",
   "execution_count": 39,
   "id": "60ac29f8",
   "metadata": {},
   "outputs": [],
   "source": [
    "accuracy_permutation_test = []\n",
    "accuracy_permutation_train = []\n",
    "accuracy_permutation_client = []\n",
    "k_values_list = []\n",
    "metric_list = []\n",
    "\n",
    "for n in range(len(feat3_permutations)):\n",
    "    \n",
    "    X_train, X_test, y_train, y_test = train_test_split(X[feat3_permutations.iloc[n,:]], y, \n",
    "                                                    test_size=0.20, random_state=42 )\n",
    "    \n",
    "    norm = Normalizer()\n",
    "    X_train_norm = norm.fit_transform(X_train)\n",
    "    X_test_norm = norm.transform(X_test)\n",
    "    X_client_norm = norm.transform(X_client[feat3_permutations.iloc[n,:]])\n",
    "    # given parameters to search for the best (grid search)\n",
    "    #parameters_grid = {'metric': ['euclidean', 'cityblock', 'chebyshev'],\n",
    "    #    'n_neighbors': [1, 2, 3, 4]}\n",
    "\n",
    "    # finding the best parameters for the model \n",
    "    #grid_search = GridSearchCV(estimator = KNeighborsClassifier(), \n",
    "    #                        param_grid = parameters_grid, \n",
    "    #                        cv = 5, scoring = 'accuracy')\n",
    "    #grid_search.fit(X_train_norm, y_train)\n",
    "\n",
    "    # display the best parameters\n",
    "    #best_parameters = grid_search.best_params_\n",
    "\n",
    "    # display first best parameter \n",
    "    #best_estimator = grid_search.best_estimator_\n",
    "\n",
    "    #print(\"Best Parameters:\", best_parameters)\n",
    "    #print(\"Best Estimator:\", best_estimator)\n",
    "\n",
    "    # creating and fitting the model\n",
    "    classifier = KNeighborsClassifier(**best_parameters)\n",
    "    classifier = classifier.fit(X_train_norm, y_train)\n",
    "    y_predict = classifier.predict(X_test_norm)\n",
    "    y_predict_train = classifier.predict(X_train_norm)  \n",
    "    y_predict_client = classifier.predict(X_client_norm)\n",
    "\n",
    "    # accuracy of the model\n",
    "    accuracy = metrics.accuracy_score(y_test, y_predict)\n",
    "    \n",
    "    k_values_list.append(best_parameters['n_neighbors'])\n",
    "    metric_list.append(best_parameters['metric'])\n",
    "    accuracy_permutation_test.append(metrics.accuracy_score(y_test, y_predict))\n",
    "    accuracy_permutation_train.append(metrics.accuracy_score(y_train, y_predict_train))\n",
    "    accuracy_permutation_client.append(metrics.accuracy_score(y_client, y_predict_client))\n",
    "\n",
    "accuracy_permutation_test = pd.Series(data = accuracy_permutation_test, name=\"accuracy_test\")\n",
    "accuracy_permutation_train = pd.Series(data = accuracy_permutation_train, name=\"accuracy_train\")\n",
    "accuracy_permutation_client = pd.Series(data = accuracy_permutation_client, name=\"accuracy_client\")\n",
    "k_values_list = pd.Series(data = k_values_list, name=\"K\")\n",
    "metric_list = pd.Series(data = metric_list, name=\"metric\")\n",
    "feat3_models = pd.concat([feat3_permutations, accuracy_permutation_test, accuracy_permutation_train, accuracy_permutation_client, k_values_list, metric_list], axis=1)"
   ]
  },
  {
   "cell_type": "code",
   "execution_count": 40,
   "id": "9dd6943c",
   "metadata": {},
   "outputs": [
    {
     "name": "stdout",
     "output_type": "stream",
     "text": [
      "Oversampling method: DOUBLING\n"
     ]
    },
    {
     "data": {
      "text/html": [
       "<div>\n",
       "<style scoped>\n",
       "    .dataframe tbody tr th:only-of-type {\n",
       "        vertical-align: middle;\n",
       "    }\n",
       "\n",
       "    .dataframe tbody tr th {\n",
       "        vertical-align: top;\n",
       "    }\n",
       "\n",
       "    .dataframe thead th {\n",
       "        text-align: right;\n",
       "    }\n",
       "</style>\n",
       "<table border=\"1\" class=\"dataframe\">\n",
       "  <thead>\n",
       "    <tr style=\"text-align: right;\">\n",
       "      <th></th>\n",
       "      <th>feature1</th>\n",
       "      <th>feature2</th>\n",
       "      <th>feature3</th>\n",
       "      <th>accuracy_test</th>\n",
       "      <th>accuracy_train</th>\n",
       "      <th>accuracy_client</th>\n",
       "      <th>K</th>\n",
       "      <th>metric</th>\n",
       "    </tr>\n",
       "  </thead>\n",
       "  <tbody>\n",
       "    <tr>\n",
       "      <th>101</th>\n",
       "      <td>age</td>\n",
       "      <td>thalach</td>\n",
       "      <td>slope</td>\n",
       "      <td>0.842857</td>\n",
       "      <td>1.0</td>\n",
       "      <td>0.416667</td>\n",
       "      <td>1</td>\n",
       "      <td>cityblock</td>\n",
       "    </tr>\n",
       "    <tr>\n",
       "      <th>137</th>\n",
       "      <td>age</td>\n",
       "      <td>slope</td>\n",
       "      <td>thalach</td>\n",
       "      <td>0.842857</td>\n",
       "      <td>1.0</td>\n",
       "      <td>0.416667</td>\n",
       "      <td>1</td>\n",
       "      <td>cityblock</td>\n",
       "    </tr>\n",
       "    <tr>\n",
       "      <th>1193</th>\n",
       "      <td>thalach</td>\n",
       "      <td>age</td>\n",
       "      <td>slope</td>\n",
       "      <td>0.842857</td>\n",
       "      <td>1.0</td>\n",
       "      <td>0.416667</td>\n",
       "      <td>1</td>\n",
       "      <td>cityblock</td>\n",
       "    </tr>\n",
       "    <tr>\n",
       "      <th>1313</th>\n",
       "      <td>thalach</td>\n",
       "      <td>slope</td>\n",
       "      <td>age</td>\n",
       "      <td>0.842857</td>\n",
       "      <td>1.0</td>\n",
       "      <td>0.416667</td>\n",
       "      <td>1</td>\n",
       "      <td>cityblock</td>\n",
       "    </tr>\n",
       "    <tr>\n",
       "      <th>1697</th>\n",
       "      <td>slope</td>\n",
       "      <td>age</td>\n",
       "      <td>thalach</td>\n",
       "      <td>0.842857</td>\n",
       "      <td>1.0</td>\n",
       "      <td>0.416667</td>\n",
       "      <td>1</td>\n",
       "      <td>cityblock</td>\n",
       "    </tr>\n",
       "    <tr>\n",
       "      <th>1781</th>\n",
       "      <td>slope</td>\n",
       "      <td>thalach</td>\n",
       "      <td>age</td>\n",
       "      <td>0.842857</td>\n",
       "      <td>1.0</td>\n",
       "      <td>0.416667</td>\n",
       "      <td>1</td>\n",
       "      <td>cityblock</td>\n",
       "    </tr>\n",
       "    <tr>\n",
       "      <th>60</th>\n",
       "      <td>age</td>\n",
       "      <td>chol</td>\n",
       "      <td>exang</td>\n",
       "      <td>0.842857</td>\n",
       "      <td>1.0</td>\n",
       "      <td>0.350000</td>\n",
       "      <td>1</td>\n",
       "      <td>cityblock</td>\n",
       "    </tr>\n",
       "    <tr>\n",
       "      <th>108</th>\n",
       "      <td>age</td>\n",
       "      <td>exang</td>\n",
       "      <td>chol</td>\n",
       "      <td>0.842857</td>\n",
       "      <td>1.0</td>\n",
       "      <td>0.350000</td>\n",
       "      <td>1</td>\n",
       "      <td>cityblock</td>\n",
       "    </tr>\n",
       "    <tr>\n",
       "      <th>684</th>\n",
       "      <td>chol</td>\n",
       "      <td>age</td>\n",
       "      <td>exang</td>\n",
       "      <td>0.842857</td>\n",
       "      <td>1.0</td>\n",
       "      <td>0.350000</td>\n",
       "      <td>1</td>\n",
       "      <td>cityblock</td>\n",
       "    </tr>\n",
       "    <tr>\n",
       "      <th>780</th>\n",
       "      <td>chol</td>\n",
       "      <td>exang</td>\n",
       "      <td>age</td>\n",
       "      <td>0.842857</td>\n",
       "      <td>1.0</td>\n",
       "      <td>0.350000</td>\n",
       "      <td>1</td>\n",
       "      <td>cityblock</td>\n",
       "    </tr>\n",
       "  </tbody>\n",
       "</table>\n",
       "</div>"
      ],
      "text/plain": [
       "     feature1 feature2 feature3  accuracy_test  accuracy_train  \\\n",
       "101       age  thalach    slope       0.842857             1.0   \n",
       "137       age    slope  thalach       0.842857             1.0   \n",
       "1193  thalach      age    slope       0.842857             1.0   \n",
       "1313  thalach    slope      age       0.842857             1.0   \n",
       "1697    slope      age  thalach       0.842857             1.0   \n",
       "1781    slope  thalach      age       0.842857             1.0   \n",
       "60        age     chol    exang       0.842857             1.0   \n",
       "108       age    exang     chol       0.842857             1.0   \n",
       "684      chol      age    exang       0.842857             1.0   \n",
       "780      chol    exang      age       0.842857             1.0   \n",
       "\n",
       "      accuracy_client  K     metric  \n",
       "101          0.416667  1  cityblock  \n",
       "137          0.416667  1  cityblock  \n",
       "1193         0.416667  1  cityblock  \n",
       "1313         0.416667  1  cityblock  \n",
       "1697         0.416667  1  cityblock  \n",
       "1781         0.416667  1  cityblock  \n",
       "60           0.350000  1  cityblock  \n",
       "108          0.350000  1  cityblock  \n",
       "684          0.350000  1  cityblock  \n",
       "780          0.350000  1  cityblock  "
      ]
     },
     "metadata": {},
     "output_type": "display_data"
    }
   ],
   "source": [
    "print(\"Oversampling method:\", oversampling_method)\n",
    "display(feat3_models.sort_values(by=['accuracy_test', 'accuracy_train', 'accuracy_client'], ascending = False).head(10))"
   ]
  },
  {
   "cell_type": "code",
   "execution_count": 41,
   "id": "82ac3e94",
   "metadata": {},
   "outputs": [
    {
     "data": {
      "text/plain": [
       "Text(0.5, 0, 'age')"
      ]
     },
     "execution_count": 41,
     "metadata": {},
     "output_type": "execute_result"
    },
    {
     "data": {
      "image/png": "[encoded data removed]",
      "text/plain": [
       "<Figure size 640x480 with 1 Axes>"
      ]
     },
     "metadata": {},
     "output_type": "display_data"
    }
   ],
   "source": [
    "zero  = (y==0)\n",
    "one   = (y==1)\n",
    "two   = (y==2)\n",
    "three = (y==3)\n",
    "four  = (y==4)\n",
    "\n",
    "fig = plt.figure()\n",
    "ax = fig.add_subplot(projection='3d')\n",
    "ax.scatter(X['ca'][zero],   X['chol'][zero],   X['age'][zero])\n",
    "ax.scatter(X['ca'][one],   X['chol'][one],   X['age'][one])\n",
    "ax.scatter(X['ca'][two],   X['chol'][two],   X['age'][two])\n",
    "ax.scatter(X['ca'][three], X['chol'][three], X['age'][three])\n",
    "ax.scatter(X['ca'][four],  X['chol'][four],  X['age'][four])\n",
    "\n",
    "ax.set_xlabel('ca')\n",
    "ax.set_ylabel('chol')\n",
    "ax.set_zlabel('age')"
   ]
  },
  {
   "cell_type": "markdown",
   "id": "07fd4e59",
   "metadata": {},
   "source": [
    "# 7. References\n",
    "<a id=\"1\">[1]</a>\n",
    "Anggoro, Dimas Aryo and Kurnia, Naqshauliza Devi (2020). \n",
    "Comparison of accuracy level of support vector machine (SVM) and K-nearest neighbors (KNN) algorithms in predicting heart disease\n",
    "International Journal, 8(5), 1689--1694.\n",
    "\n",
    "<a id=\"2\">[2]</a>\n",
    "https://www.kaggle.com/code/zawlinnnaing/svm-for-multiclass-classification"
   ]
  }
 ],
 "metadata": {
  "kernelspec": {
   "display_name": "Python 3 (ipykernel)",
   "language": "python",
   "name": "python3"
  },
  "language_info": {
   "codemirror_mode": {
    "name": "ipython",
    "version": 3
   },
   "file_extension": ".py",
   "mimetype": "text/x-python",
   "name": "python",
   "nbconvert_exporter": "python",
   "pygments_lexer": "ipython3",
   "version": "3.9.18"
  }
 },
 "nbformat": 4,
 "nbformat_minor": 5
}
