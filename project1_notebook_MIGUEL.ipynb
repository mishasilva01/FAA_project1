{
 "cells": [
  {
   "cell_type": "markdown",
   "id": "8aa42fe9",
   "metadata": {},
   "source": [
    "# 1. First steps\n",
    "\n",
    "______________\n",
    "\n",
    "Importing Libraries."
   ]
  },
  {
   "cell_type": "code",
   "execution_count": 2,
   "id": "149f21df",
   "metadata": {},
   "outputs": [],
   "source": [
    "import pandas as pd\n",
    "import numpy as np\n",
    "import matplotlib.pyplot as plt\n",
    "\n",
    "from imblearn.over_sampling import SMOTE\n",
    "from ucimlrepo import fetch_ucirepo \n",
    "from sklearn.model_selection import train_test_split,GridSearchCV, cross_val_score\n",
    "from sklearn.feature_selection import mutual_info_classif\n",
    "from sklearn.tree import DecisionTreeClassifier\n",
    "from sklearn.preprocessing import Normalizer\n",
    "from sklearn.neighbors import KNeighborsClassifier\n",
    "from sklearn.svm import SVC\n",
    "from sklearn.metrics import confusion_matrix, classification_report, accuracy_score, precision_score, recall_score\n",
    "from sklearn.neural_network import MLPClassifier\n",
    "\n",
    "\n",
    "from typing import List, Tuple, Literal, Dict\n",
    "from itertools import combinations, product\n",
    "\n",
    "import warnings\n",
    "warnings.filterwarnings(\"ignore\")\n",
    "warnings.simplefilter(action='ignore', category=FutureWarning)"
   ]
  },
  {
   "cell_type": "code",
   "execution_count": 3,
   "id": "eb66768e",
   "metadata": {
    "scrolled": false
   },
   "outputs": [],
   "source": [
    "# fetch dataset \n",
    "heart_disease = fetch_ucirepo(id=45) \n",
    "  \n",
    "# data (as pandas dataframes) \n",
    "X = heart_disease.data.features \n",
    "y = heart_disease.data.targets \n",
    "\n",
    "df = pd.concat([X, y], axis=1)\n",
    "df.to_csv(\"dataset.csv\")"
   ]
  },
  {
   "cell_type": "markdown",
   "id": "e087521a",
   "metadata": {},
   "source": [
    "# 2. Getting acquainted with data\n",
    "\n",
    "_________________\n",
    "\n",
    "- Categorical features:\n",
    "   - *age*\n",
    "   - *trestbps* - resting blood pressure /*mm Hg* (on admission to the hospital)\n",
    "   - *chol* - serum cholesterol in *mg/dl*\n",
    "   - *thalach* - Maximum heart rate achieved /*bps*\n",
    "   - *oldpeak* -  ST depression induced by exercise relative to rest \n",
    "   - *ca* - Number of major vessels (0-3) colored by fluoroscopy\n",
    "\n",
    "- Integer features:\n",
    "   - *sex* \n",
    "       - 0: female\n",
    "       - 1: male\n",
    "   - *cp* - chest pain\n",
    "       - 1: typical angina\n",
    "       - 2: atypical angina\n",
    "       - 3: non-anginal pain\n",
    "       - 4: asymptomatic\n",
    "   - *fbs* - fasting blood sugar > 120 mg/dl\n",
    "       - 0: False\n",
    "       - 1: True\n",
    "   - *restecg* - Resting electrocardiographic results\n",
    "       - 0: Normal\n",
    "       - 1: Having ST-T wave abnormality (T wave inversions and/or ST elevation or depression of > 0.05 mV)\n",
    "       - 2: Showing probable or definite left ventricular hypertrophy by Estes' criteria\n",
    "   - *exang* - Exercise induced angina\n",
    "       - 0: No\n",
    "       - 1: Yes\n",
    "   - *slope* - The slope of the peak exercise ST segment\n",
    "       - 1: Up sloping\n",
    "       - 2: Flat\n",
    "       - 3: Down sloping\n",
    "   - *thal*\n",
    "       - 3: Normal\n",
    "       - 6: Fixed defect\n",
    "       - 7: Reversible defect\n",
    "- Label\n",
    "    - *num* - The final diagnosis of heart disease (angiographic disease status)\n",
    "\n",
    "##### The information was taken from:\n",
    "Nassif A. (et al). 2018. Machine Learning Classifications of Coronary Artery Disease. DOI: 10.1109/iSAI-NLP.2018.8692942"
   ]
  },
  {
   "cell_type": "code",
   "execution_count": 4,
   "id": "f80b46f1",
   "metadata": {
    "scrolled": true
   },
   "outputs": [
    {
     "data": {
      "text/html": [
       "<div>\n",
       "<style scoped>\n",
       "    .dataframe tbody tr th:only-of-type {\n",
       "        vertical-align: middle;\n",
       "    }\n",
       "\n",
       "    .dataframe tbody tr th {\n",
       "        vertical-align: top;\n",
       "    }\n",
       "\n",
       "    .dataframe thead th {\n",
       "        text-align: right;\n",
       "    }\n",
       "</style>\n",
       "<table border=\"1\" class=\"dataframe\">\n",
       "  <thead>\n",
       "    <tr style=\"text-align: right;\">\n",
       "      <th></th>\n",
       "      <th>age</th>\n",
       "      <th>sex</th>\n",
       "      <th>cp</th>\n",
       "      <th>trestbps</th>\n",
       "      <th>chol</th>\n",
       "      <th>fbs</th>\n",
       "      <th>restecg</th>\n",
       "      <th>thalach</th>\n",
       "      <th>exang</th>\n",
       "      <th>oldpeak</th>\n",
       "      <th>slope</th>\n",
       "      <th>ca</th>\n",
       "      <th>thal</th>\n",
       "      <th>num</th>\n",
       "    </tr>\n",
       "  </thead>\n",
       "  <tbody>\n",
       "    <tr>\n",
       "      <th>0</th>\n",
       "      <td>63</td>\n",
       "      <td>1</td>\n",
       "      <td>1</td>\n",
       "      <td>145</td>\n",
       "      <td>233</td>\n",
       "      <td>1</td>\n",
       "      <td>2</td>\n",
       "      <td>150</td>\n",
       "      <td>0</td>\n",
       "      <td>2.3</td>\n",
       "      <td>3</td>\n",
       "      <td>0.0</td>\n",
       "      <td>6.0</td>\n",
       "      <td>0</td>\n",
       "    </tr>\n",
       "    <tr>\n",
       "      <th>1</th>\n",
       "      <td>67</td>\n",
       "      <td>1</td>\n",
       "      <td>4</td>\n",
       "      <td>160</td>\n",
       "      <td>286</td>\n",
       "      <td>0</td>\n",
       "      <td>2</td>\n",
       "      <td>108</td>\n",
       "      <td>1</td>\n",
       "      <td>1.5</td>\n",
       "      <td>2</td>\n",
       "      <td>3.0</td>\n",
       "      <td>3.0</td>\n",
       "      <td>2</td>\n",
       "    </tr>\n",
       "    <tr>\n",
       "      <th>2</th>\n",
       "      <td>67</td>\n",
       "      <td>1</td>\n",
       "      <td>4</td>\n",
       "      <td>120</td>\n",
       "      <td>229</td>\n",
       "      <td>0</td>\n",
       "      <td>2</td>\n",
       "      <td>129</td>\n",
       "      <td>1</td>\n",
       "      <td>2.6</td>\n",
       "      <td>2</td>\n",
       "      <td>2.0</td>\n",
       "      <td>7.0</td>\n",
       "      <td>1</td>\n",
       "    </tr>\n",
       "    <tr>\n",
       "      <th>3</th>\n",
       "      <td>37</td>\n",
       "      <td>1</td>\n",
       "      <td>3</td>\n",
       "      <td>130</td>\n",
       "      <td>250</td>\n",
       "      <td>0</td>\n",
       "      <td>0</td>\n",
       "      <td>187</td>\n",
       "      <td>0</td>\n",
       "      <td>3.5</td>\n",
       "      <td>3</td>\n",
       "      <td>0.0</td>\n",
       "      <td>3.0</td>\n",
       "      <td>0</td>\n",
       "    </tr>\n",
       "    <tr>\n",
       "      <th>4</th>\n",
       "      <td>41</td>\n",
       "      <td>0</td>\n",
       "      <td>2</td>\n",
       "      <td>130</td>\n",
       "      <td>204</td>\n",
       "      <td>0</td>\n",
       "      <td>2</td>\n",
       "      <td>172</td>\n",
       "      <td>0</td>\n",
       "      <td>1.4</td>\n",
       "      <td>1</td>\n",
       "      <td>0.0</td>\n",
       "      <td>3.0</td>\n",
       "      <td>0</td>\n",
       "    </tr>\n",
       "  </tbody>\n",
       "</table>\n",
       "</div>"
      ],
      "text/plain": [
       "   age  sex  cp  trestbps  chol  fbs  restecg  thalach  exang  oldpeak  slope  \\\n",
       "0   63    1   1       145   233    1        2      150      0      2.3      3   \n",
       "1   67    1   4       160   286    0        2      108      1      1.5      2   \n",
       "2   67    1   4       120   229    0        2      129      1      2.6      2   \n",
       "3   37    1   3       130   250    0        0      187      0      3.5      3   \n",
       "4   41    0   2       130   204    0        2      172      0      1.4      1   \n",
       "\n",
       "    ca  thal  num  \n",
       "0  0.0   6.0    0  \n",
       "1  3.0   3.0    2  \n",
       "2  2.0   7.0    1  \n",
       "3  0.0   3.0    0  \n",
       "4  0.0   3.0    0  "
      ]
     },
     "execution_count": 4,
     "metadata": {},
     "output_type": "execute_result"
    }
   ],
   "source": [
    "df.head()"
   ]
  },
  {
   "cell_type": "code",
   "execution_count": 5,
   "id": "075a0e22",
   "metadata": {},
   "outputs": [
    {
     "name": "stdout",
     "output_type": "stream",
     "text": [
      "<class 'pandas.core.frame.DataFrame'>\n",
      "RangeIndex: 303 entries, 0 to 302\n",
      "Data columns (total 14 columns):\n",
      " #   Column    Non-Null Count  Dtype  \n",
      "---  ------    --------------  -----  \n",
      " 0   age       303 non-null    int64  \n",
      " 1   sex       303 non-null    int64  \n",
      " 2   cp        303 non-null    int64  \n",
      " 3   trestbps  303 non-null    int64  \n",
      " 4   chol      303 non-null    int64  \n",
      " 5   fbs       303 non-null    int64  \n",
      " 6   restecg   303 non-null    int64  \n",
      " 7   thalach   303 non-null    int64  \n",
      " 8   exang     303 non-null    int64  \n",
      " 9   oldpeak   303 non-null    float64\n",
      " 10  slope     303 non-null    int64  \n",
      " 11  ca        299 non-null    float64\n",
      " 12  thal      301 non-null    float64\n",
      " 13  num       303 non-null    int64  \n",
      "dtypes: float64(3), int64(11)\n",
      "memory usage: 33.3 KB\n"
     ]
    }
   ],
   "source": [
    "df.info()"
   ]
  },
  {
   "cell_type": "code",
   "execution_count": 6,
   "id": "74ee3d17",
   "metadata": {
    "scrolled": true
   },
   "outputs": [
    {
     "data": {
      "text/html": [
       "<div>\n",
       "<style scoped>\n",
       "    .dataframe tbody tr th:only-of-type {\n",
       "        vertical-align: middle;\n",
       "    }\n",
       "\n",
       "    .dataframe tbody tr th {\n",
       "        vertical-align: top;\n",
       "    }\n",
       "\n",
       "    .dataframe thead th {\n",
       "        text-align: right;\n",
       "    }\n",
       "</style>\n",
       "<table border=\"1\" class=\"dataframe\">\n",
       "  <thead>\n",
       "    <tr style=\"text-align: right;\">\n",
       "      <th></th>\n",
       "      <th>age</th>\n",
       "      <th>sex</th>\n",
       "      <th>cp</th>\n",
       "      <th>trestbps</th>\n",
       "      <th>chol</th>\n",
       "      <th>fbs</th>\n",
       "      <th>restecg</th>\n",
       "      <th>thalach</th>\n",
       "      <th>exang</th>\n",
       "      <th>oldpeak</th>\n",
       "      <th>slope</th>\n",
       "      <th>ca</th>\n",
       "      <th>thal</th>\n",
       "      <th>num</th>\n",
       "    </tr>\n",
       "  </thead>\n",
       "  <tbody>\n",
       "    <tr>\n",
       "      <th>count</th>\n",
       "      <td>303.000000</td>\n",
       "      <td>303.000000</td>\n",
       "      <td>303.000000</td>\n",
       "      <td>303.000000</td>\n",
       "      <td>303.000000</td>\n",
       "      <td>303.000000</td>\n",
       "      <td>303.000000</td>\n",
       "      <td>303.000000</td>\n",
       "      <td>303.000000</td>\n",
       "      <td>303.000000</td>\n",
       "      <td>303.000000</td>\n",
       "      <td>299.000000</td>\n",
       "      <td>301.000000</td>\n",
       "      <td>303.000000</td>\n",
       "    </tr>\n",
       "    <tr>\n",
       "      <th>mean</th>\n",
       "      <td>54.438944</td>\n",
       "      <td>0.679868</td>\n",
       "      <td>3.158416</td>\n",
       "      <td>131.689769</td>\n",
       "      <td>246.693069</td>\n",
       "      <td>0.148515</td>\n",
       "      <td>0.990099</td>\n",
       "      <td>149.607261</td>\n",
       "      <td>0.326733</td>\n",
       "      <td>1.039604</td>\n",
       "      <td>1.600660</td>\n",
       "      <td>0.672241</td>\n",
       "      <td>4.734219</td>\n",
       "      <td>0.937294</td>\n",
       "    </tr>\n",
       "    <tr>\n",
       "      <th>std</th>\n",
       "      <td>9.038662</td>\n",
       "      <td>0.467299</td>\n",
       "      <td>0.960126</td>\n",
       "      <td>17.599748</td>\n",
       "      <td>51.776918</td>\n",
       "      <td>0.356198</td>\n",
       "      <td>0.994971</td>\n",
       "      <td>22.875003</td>\n",
       "      <td>0.469794</td>\n",
       "      <td>1.161075</td>\n",
       "      <td>0.616226</td>\n",
       "      <td>0.937438</td>\n",
       "      <td>1.939706</td>\n",
       "      <td>1.228536</td>\n",
       "    </tr>\n",
       "    <tr>\n",
       "      <th>min</th>\n",
       "      <td>29.000000</td>\n",
       "      <td>0.000000</td>\n",
       "      <td>1.000000</td>\n",
       "      <td>94.000000</td>\n",
       "      <td>126.000000</td>\n",
       "      <td>0.000000</td>\n",
       "      <td>0.000000</td>\n",
       "      <td>71.000000</td>\n",
       "      <td>0.000000</td>\n",
       "      <td>0.000000</td>\n",
       "      <td>1.000000</td>\n",
       "      <td>0.000000</td>\n",
       "      <td>3.000000</td>\n",
       "      <td>0.000000</td>\n",
       "    </tr>\n",
       "    <tr>\n",
       "      <th>25%</th>\n",
       "      <td>48.000000</td>\n",
       "      <td>0.000000</td>\n",
       "      <td>3.000000</td>\n",
       "      <td>120.000000</td>\n",
       "      <td>211.000000</td>\n",
       "      <td>0.000000</td>\n",
       "      <td>0.000000</td>\n",
       "      <td>133.500000</td>\n",
       "      <td>0.000000</td>\n",
       "      <td>0.000000</td>\n",
       "      <td>1.000000</td>\n",
       "      <td>0.000000</td>\n",
       "      <td>3.000000</td>\n",
       "      <td>0.000000</td>\n",
       "    </tr>\n",
       "    <tr>\n",
       "      <th>50%</th>\n",
       "      <td>56.000000</td>\n",
       "      <td>1.000000</td>\n",
       "      <td>3.000000</td>\n",
       "      <td>130.000000</td>\n",
       "      <td>241.000000</td>\n",
       "      <td>0.000000</td>\n",
       "      <td>1.000000</td>\n",
       "      <td>153.000000</td>\n",
       "      <td>0.000000</td>\n",
       "      <td>0.800000</td>\n",
       "      <td>2.000000</td>\n",
       "      <td>0.000000</td>\n",
       "      <td>3.000000</td>\n",
       "      <td>0.000000</td>\n",
       "    </tr>\n",
       "    <tr>\n",
       "      <th>75%</th>\n",
       "      <td>61.000000</td>\n",
       "      <td>1.000000</td>\n",
       "      <td>4.000000</td>\n",
       "      <td>140.000000</td>\n",
       "      <td>275.000000</td>\n",
       "      <td>0.000000</td>\n",
       "      <td>2.000000</td>\n",
       "      <td>166.000000</td>\n",
       "      <td>1.000000</td>\n",
       "      <td>1.600000</td>\n",
       "      <td>2.000000</td>\n",
       "      <td>1.000000</td>\n",
       "      <td>7.000000</td>\n",
       "      <td>2.000000</td>\n",
       "    </tr>\n",
       "    <tr>\n",
       "      <th>max</th>\n",
       "      <td>77.000000</td>\n",
       "      <td>1.000000</td>\n",
       "      <td>4.000000</td>\n",
       "      <td>200.000000</td>\n",
       "      <td>564.000000</td>\n",
       "      <td>1.000000</td>\n",
       "      <td>2.000000</td>\n",
       "      <td>202.000000</td>\n",
       "      <td>1.000000</td>\n",
       "      <td>6.200000</td>\n",
       "      <td>3.000000</td>\n",
       "      <td>3.000000</td>\n",
       "      <td>7.000000</td>\n",
       "      <td>4.000000</td>\n",
       "    </tr>\n",
       "  </tbody>\n",
       "</table>\n",
       "</div>"
      ],
      "text/plain": [
       "              age         sex          cp    trestbps        chol         fbs  \\\n",
       "count  303.000000  303.000000  303.000000  303.000000  303.000000  303.000000   \n",
       "mean    54.438944    0.679868    3.158416  131.689769  246.693069    0.148515   \n",
       "std      9.038662    0.467299    0.960126   17.599748   51.776918    0.356198   \n",
       "min     29.000000    0.000000    1.000000   94.000000  126.000000    0.000000   \n",
       "25%     48.000000    0.000000    3.000000  120.000000  211.000000    0.000000   \n",
       "50%     56.000000    1.000000    3.000000  130.000000  241.000000    0.000000   \n",
       "75%     61.000000    1.000000    4.000000  140.000000  275.000000    0.000000   \n",
       "max     77.000000    1.000000    4.000000  200.000000  564.000000    1.000000   \n",
       "\n",
       "          restecg     thalach       exang     oldpeak       slope          ca  \\\n",
       "count  303.000000  303.000000  303.000000  303.000000  303.000000  299.000000   \n",
       "mean     0.990099  149.607261    0.326733    1.039604    1.600660    0.672241   \n",
       "std      0.994971   22.875003    0.469794    1.161075    0.616226    0.937438   \n",
       "min      0.000000   71.000000    0.000000    0.000000    1.000000    0.000000   \n",
       "25%      0.000000  133.500000    0.000000    0.000000    1.000000    0.000000   \n",
       "50%      1.000000  153.000000    0.000000    0.800000    2.000000    0.000000   \n",
       "75%      2.000000  166.000000    1.000000    1.600000    2.000000    1.000000   \n",
       "max      2.000000  202.000000    1.000000    6.200000    3.000000    3.000000   \n",
       "\n",
       "             thal         num  \n",
       "count  301.000000  303.000000  \n",
       "mean     4.734219    0.937294  \n",
       "std      1.939706    1.228536  \n",
       "min      3.000000    0.000000  \n",
       "25%      3.000000    0.000000  \n",
       "50%      3.000000    0.000000  \n",
       "75%      7.000000    2.000000  \n",
       "max      7.000000    4.000000  "
      ]
     },
     "execution_count": 6,
     "metadata": {},
     "output_type": "execute_result"
    }
   ],
   "source": [
    "df.describe()"
   ]
  },
  {
   "cell_type": "code",
   "execution_count": 7,
   "id": "833e3f6d",
   "metadata": {
    "scrolled": false
   },
   "outputs": [
    {
     "data": {
      "text/plain": [
       "age         0\n",
       "sex         0\n",
       "cp          0\n",
       "trestbps    0\n",
       "chol        0\n",
       "fbs         0\n",
       "restecg     0\n",
       "thalach     0\n",
       "exang       0\n",
       "oldpeak     0\n",
       "slope       0\n",
       "ca          4\n",
       "thal        2\n",
       "dtype: int64"
      ]
     },
     "execution_count": 7,
     "metadata": {},
     "output_type": "execute_result"
    }
   ],
   "source": [
    "# checking the number of missing values in each feature\n",
    "X.isnull().sum()"
   ]
  },
  {
   "cell_type": "code",
   "execution_count": 8,
   "id": "311225c3",
   "metadata": {
    "scrolled": true
   },
   "outputs": [
    {
     "data": {
      "text/plain": [
       "0    164\n",
       "1     55\n",
       "2     36\n",
       "3     35\n",
       "4     13\n",
       "Name: num, dtype: int64"
      ]
     },
     "execution_count": 8,
     "metadata": {},
     "output_type": "execute_result"
    }
   ],
   "source": [
    "# number of samples per class\n",
    "df.num.value_counts()"
   ]
  },
  {
   "cell_type": "code",
   "execution_count": 9,
   "metadata": {},
   "outputs": [
    {
     "data": {
      "image/png": "[encoded data removed]",
      "text/plain": [
       "<Figure size 2160x1080 with 14 Axes>"
      ]
     },
     "metadata": {
      "needs_background": "light"
     },
     "output_type": "display_data"
    }
   ],
   "source": [
    "nrows = 2\n",
    "ncols = int(np.ceil(len(df.columns) / (1.0*nrows)))\n",
    "fig, axes = plt.subplots(nrows=nrows, ncols=ncols, figsize=(30, 15))\n",
    "counter = 0\n",
    "for i in range(nrows):\n",
    "    for j in range(ncols):\n",
    "\n",
    "        ax = axes[i][j]\n",
    "        if counter < len(df.columns):\n",
    "\n",
    "            ax.hist(df[df.columns[counter]], bins=10, color='blue', alpha=0.5)\n",
    "            ax.set_title(df.columns[counter])\n",
    "\n",
    "        else: ax.set_axis_off()\n",
    "        counter += 1"
   ]
  },
  {
   "cell_type": "markdown",
   "id": "c7693417",
   "metadata": {},
   "source": [
    "# 3. Brief data cleaning\n",
    "\n",
    "_______________\n",
    "\n",
    "Data is already pretty clean, and there are only 6 NaN values, so we can drop those observations."
   ]
  },
  {
   "cell_type": "markdown",
   "id": "3a1302ec",
   "metadata": {},
   "source": [
    "### 3.1 Dropping NaN values\n",
    "\n",
    "_________________"
   ]
  },
  {
   "cell_type": "code",
   "execution_count": 10,
   "id": "2f0282e8",
   "metadata": {
    "scrolled": true
   },
   "outputs": [
    {
     "data": {
      "text/plain": [
       "0    160\n",
       "1     54\n",
       "2     35\n",
       "3     35\n",
       "4     13\n",
       "Name: num, dtype: int64"
      ]
     },
     "execution_count": 10,
     "metadata": {},
     "output_type": "execute_result"
    }
   ],
   "source": [
    "df = df.dropna()\n",
    "# re-checking the number of samples per class adfer dropping missing values\n",
    "df.num.value_counts()"
   ]
  },
  {
   "cell_type": "markdown",
   "id": "0b8ad683",
   "metadata": {},
   "source": [
    "- As we can see, the NaN values were part of the classes with more observations, therefore droppins NaN values does not worsen the class imbalance problem.\n",
    "\n",
    "- Since we only have 13 samples from the class with least amount of samples (y = 4), we cannot afford taking some samples as testing set, because we would loose valuable information. Therefore, we are going to work only with training and validation sets."
   ]
  },
  {
   "cell_type": "markdown",
   "id": "2f68b4dc",
   "metadata": {},
   "source": [
    "### 3.2 Separating a dataset for testing (*client data*)\n",
    "\n",
    "______________\n",
    "\n",
    "The traditional approach for splitting the dataset into train+validation+test is 60%+20%+20%."
   ]
  },
  {
   "cell_type": "code",
   "execution_count": 37,
   "id": "39f141cd",
   "metadata": {},
   "outputs": [],
   "source": [
    "## dataset to be reserved for future testing (client role)\n",
    "# making sure we have 20% from every class\n",
    "#client_set = df.copy().groupby('num').apply(lambda Class: Class.sample(frac = 0.20))\n",
    "#client_set.index = client_set.index.droplevel(0)\n",
    "\n",
    "## new data frame for creaing and testing models\n",
    "#df_filtered = df.copy().drop(client_set.index)\n",
    "\n",
    "## reseting indices\n",
    "#client_set = client_set.reset_index(drop=True)\n",
    "#df_filtered = df_filtered.reset_index(drop=True)\n",
    "\n",
    "#client_set.to_csv(\"client_set.csv\")\n",
    "#df_filtered.to_csv(\"df_filtered.csv\")\n",
    "\n",
    "client_set = pd.read_csv(\"client_set.csv\"); client_set = client_set.iloc[:,1:]\n",
    "df_filtered = pd.read_csv(\"df_filtered.csv\"); df_filtered = df_filtered.iloc[:,1:]\n"
   ]
  },
  {
   "cell_type": "code",
   "execution_count": 30,
   "id": "09b52529",
   "metadata": {},
   "outputs": [
    {
     "data": {
      "text/plain": [
       "Text(0.5, 0.98, \"Classes' distribution\")"
      ]
     },
     "execution_count": 30,
     "metadata": {},
     "output_type": "execute_result"
    },
    {
     "data": {
      "image/png": "[encoded data removed]",
      "text/plain": [
       "<Figure size 720x720 with 2 Axes>"
      ]
     },
     "metadata": {
      "needs_background": "light"
     },
     "output_type": "display_data"
    }
   ],
   "source": [
    "fig, axes = plt.subplots(nrows=1, ncols=2, figsize=(10, 10))\n",
    "axes[0].hist(client_set.num, bins=10, color='blue', alpha=0.5)\n",
    "axes[0].set_title(\"Client Set\")\n",
    "axes[1].hist(df_filtered.num, bins=10, color='blue', alpha=0.5)\n",
    "axes[1].set_title(\"Data Set\")\n",
    "fig.suptitle(\"Classes' distribution\", fontsize=20)"
   ]
  },
  {
   "cell_type": "markdown",
   "id": "05939cb3",
   "metadata": {},
   "source": [
    "# 4. Feature Selection\n",
    "\n",
    "__________"
   ]
  },
  {
   "cell_type": "markdown",
   "metadata": {},
   "source": [
    "### 4.1 Features selection by correlation elimination\n",
    "\n",
    "___________\n",
    "\n",
    "We are using Spearman's correlation instead of Pearson's because practically all features don't have a normal distribution (as seen in the histograms above) and Spearman's is more robust to outliers.\n",
    "\n",
    "Nassif et al. (2018; 10.1109/iSAI-NLP.2018.8692942) also applied correlation evaluation, but did not use Spearman's correlation.\n",
    "\n",
    "Creating a function that selects features according correlation. The arguments of the function (1) the dataframe, (2) the correlation method, and (3) the correlation threshold for feature elimination."
   ]
  },
  {
   "cell_type": "code",
   "execution_count": 13,
   "metadata": {},
   "outputs": [],
   "source": [
    "def Corr_selection(df: pd.DataFrame, corr_method: str = 'spearman', threshold: float = 0.2) -> List:\n",
    "\n",
    "    \"\"\"This function selects the features to be eliminate according to a correlation threshold.\n",
    "    \n",
    "    Args:\n",
    "        df: Dataframe - Dataset containing all data.\n",
    "        corr_method: str - Which method to apply to calculate the correlation. Default is 'spearman'.\n",
    "        threshold: float - a limit between 0 and 1. Default is 0.2.\n",
    "    Return:\n",
    "        a list value, containing the selected features.\n",
    "        \n",
    "    \"\"\"\n",
    "    corr_matrix = X.corr(method=corr_method)\n",
    "    # covert corr_matrix to absolute values\n",
    "    corr_matrix = np.array(abs(corr_matrix))\n",
    "    # all features available\n",
    "    features = np.array(df.columns)\n",
    "    # list of features to eliminate\n",
    "    to_eliminate = []\n",
    "    # runs all lines\n",
    "    for i in range(len(features)):\n",
    "        # runs all columns\n",
    "        for j in range(len(features)):\n",
    "            \n",
    "            if corr_matrix[i,j] > threshold and corr_matrix[i,j] != 1: \n",
    "                \n",
    "                if np.mean(corr_matrix[i,:]) > np.mean(corr_matrix[:,j]): to_eliminate.append(features[i])\n",
    "                else: to_eliminate.append(features[j])\n",
    "    \n",
    "    to_eliminate = np.unique(to_eliminate)\n",
    "    selected_features = list( features[~np.isin(features, to_eliminate)] )\n",
    "    return [selected_features]"
   ]
  },
  {
   "cell_type": "markdown",
   "metadata": {},
   "source": [
    "### 4.2 Features selection by information gain\n",
    "\n",
    "__________\n",
    "\n",
    "Creating a function that selects features according to Mutual Information Gain. \n",
    "\n",
    "References:\n",
    "- Nassif et al. (2018; 10.1109/iSAI-NLP.2018.8692942)\n",
    "- Guhanesvar. *Feature Selection Based on Mutual Information Gain for Classification and Regression*. Medium. June 26, 2021."
   ]
  },
  {
   "cell_type": "code",
   "execution_count": 14,
   "metadata": {},
   "outputs": [],
   "source": [
    "def InfoGain_selection(X: pd.DataFrame, y: pd.DataFrame, n_features: int) -> Tuple[pd.Series, List]:\n",
    "\n",
    "    \"\"\"This function selects n_features according that have the greatest mutual information classification.\n",
    "\n",
    "    Args:\n",
    "        X: Dataframe - Dataset containing all data.\n",
    "        y: Dataframe - Dataset containing all target data.\n",
    "        n_features: int - Number of features to select.\n",
    "    Return:\n",
    "        a tuple of a Series and a list, of the importance and the selected features.\n",
    "    \"\"\"\n",
    "    \n",
    "    importance = mutual_info_classif(X, y)\n",
    "    importance = pd.Series(data = importance, index = X.columns)\n",
    "    importance = importance.sort_values(ascending=False)\n",
    "    selected_features = list(importance.iloc[:n_features].index)\n",
    "    return importance, [selected_features]"
   ]
  },
  {
   "cell_type": "markdown",
   "metadata": {},
   "source": [
    "### 4.3 Data selection by permutations (3 features)\n",
    "\n",
    "___________"
   ]
  },
  {
   "cell_type": "code",
   "execution_count": 15,
   "metadata": {},
   "outputs": [],
   "source": [
    "def feature_combination(X: pd.DataFrame, comb: int = 3):\n",
    "    \n",
    "    \"\"\"This function returns a dataframe with all possible permutations.\n",
    "\n",
    "    Args:\n",
    "        X: Dataframe - Dataset containing all data.\n",
    "        comb: int - length of subsequence of elements. Default is 3.\n",
    "    Rerturn:\n",
    "        a list value, containing all combinations of the columns of the Dataframe with a selected length of subsequence.\n",
    "        \n",
    "    \"\"\"\n",
    "    \n",
    "    #combination = combinations(X.columns, comb)\n",
    "    return combinations(X.columns, comb)"
   ]
  },
  {
   "cell_type": "markdown",
   "id": "ccecc673",
   "metadata": {},
   "source": [
    "# 5. Class imbalance\n",
    "\n",
    "_____________\n",
    "\n",
    "As seen in the histogram of Fig. 14, there are many more samples with label 0 than with other labels. Therefore, class imbalance has to be dealt with. According to Hoffman [1], there are several ways to reduce class imbalance, such as using other performance metrics when assessing performance (precision, recall, F1 score, and confusion matrix), performing over-sampling (when the dataset is reletively small), or using the Synthetic Minority Over-sampling Technique (SMOTE) algorithm to create synthetic samples.\n",
    "\n",
    "BUT, according to this video https://www.youtube.com/watch?v=adHqzek--d0, on stamp 3:52, the SMOTE technique is not good for multidimensional data (which is the one we have here)\n",
    "\n",
    "REFERENCE [1]: K. Hoffman. *Machine Learning: How to Handle Class Imbalance*. Analytics Vidhya. February 13, 2021."
   ]
  },
  {
   "cell_type": "markdown",
   "id": "e0c4428e",
   "metadata": {},
   "source": [
    "### 5.1 Oversampling by doubling classes different from 0\n",
    "\n",
    "_____________\n",
    "\n",
    "This method might create oversampling."
   ]
  },
  {
   "cell_type": "code",
   "execution_count": 16,
   "id": "676fa217",
   "metadata": {},
   "outputs": [],
   "source": [
    "def oversampling_double(dataframe: pd.DataFrame) -> pd.DataFrame:   \n",
    "    \n",
    "    \"\"\"This function doubles the number of samples with labels 1, 2, 3, 4.\n",
    "\n",
    "    Args:\n",
    "        dataframe: DataFrame - Dataset containing all data.\n",
    "    Return:\n",
    "        a DataFrame value.\n",
    "\n",
    "    \"\"\"\n",
    "    \n",
    "    for i in [1, 2, 3, 4]:\n",
    "\n",
    "        df_add = dataframe[dataframe['num']==i]\n",
    "        dataframe = pd.concat([dataframe, df_add], axis=0)\n",
    "\n",
    "    # Restarting indices\n",
    "    dataframe = dataframe.reset_index(drop=True)\n",
    "    return dataframe"
   ]
  },
  {
   "cell_type": "markdown",
   "id": "1c76f129",
   "metadata": {},
   "source": [
    "### 5.2 Oversampling through SMOTE\n",
    "\n",
    "____________________"
   ]
  },
  {
   "cell_type": "code",
   "execution_count": 17,
   "id": "553e0534",
   "metadata": {},
   "outputs": [],
   "source": [
    "def oversampling_smote(dataframe: pd.DataFrame) -> pd.DataFrame:\n",
    "    \"\"\" This function oversamples a dataset with the Synthetic Minority Over-sampling Technique (it is required imblearn).\n",
    "    \n",
    "    Args:\n",
    "        dataframe: DataFrame - Dataset containing all data.\n",
    "    Return:\n",
    "        a DataFrame value.\n",
    "\n",
    "    \"\"\"\n",
    "    \n",
    "    smote = SMOTE(random_state = 42)\n",
    "    X, y = smote.fit_resample(dataframe.drop(columns='num'), dataframe['num'])\n",
    "    y = pd.Series(data = y, name = 'num')\n",
    "    df_smote = pd.concat([X, y], axis = 1, join = 'inner')\n",
    "    return df_smote"
   ]
  },
  {
   "cell_type": "markdown",
   "metadata": {},
   "source": [
    "### 5.3 Oversampling through Class Weight\n",
    "\n",
    "____________________"
   ]
  },
  {
   "cell_type": "code",
   "execution_count": 18,
   "metadata": {},
   "outputs": [],
   "source": [
    "def ClassWeight(dataframe: pd.DataFrame) -> Dict:\n",
    "    \n",
    "    from sklearn.utils import class_weight\n",
    "    classes = dataframe.iloc[:,-1].unique()\n",
    "    weights = class_weight.compute_class_weight(class_weight = 'balanced', \n",
    "                                                classes = classes, \n",
    "                                                y = dataframe.iloc[:,-1])\n",
    "    ClassWeight = dict()\n",
    "    for i in range(len(classes)): ClassWeight[classes[i]] = weights[i]\n",
    "    return ClassWeight"
   ]
  },
  {
   "cell_type": "markdown",
   "metadata": {},
   "source": [
    "# 6. Creating Models\n",
    "\n",
    "____________"
   ]
  },
  {
   "cell_type": "code",
   "execution_count": 19,
   "metadata": {},
   "outputs": [],
   "source": [
    "def Function(df_filtered: pd.DataFrame,\n",
    "             client_set: pd.DataFrame,\n",
    "             Model_evaluation: Dict[str, Dict[str, list]], \n",
    "             oversampling_method: Literal['smote', 'doubling', \"class weights\"] = \"class weights\",\n",
    "             estimator: Literal['Decision_Tree', 'SVM', 'KNN']='Decision_Tree', \n",
    "             feature_selection: Literal['All', 'correlation', 'info_gain', 'feat_comb']='All', \n",
    "             grid_search_name: Literal[\"Decision_Tree\", \"SVM\", \"KNN\"]=\"Decision_Tree\"):\n",
    "\n",
    "    # given parameters to search for the best (grid search)\n",
    "    oversample = {\"smote\": oversampling_smote, \"doubling\": oversampling_double}\n",
    "    estimator_function = {\"Decision_Tree\":DecisionTreeClassifier, \"SVM\": SVC, \"KNN\": KNeighborsClassifier}\n",
    "    parameters_grid = {\"Decision_Tree\": {'criterion': ['gini', 'entropy'], \n",
    "                                         'max_depth': [None, 1, 2, 3, 4, 5, 10, 15, 20, 30], \n",
    "                                         'min_samples_leaf': [1, 2, 4]}, \n",
    "                       \"SVM\": {'kernel': ['rbf', 'linear', 'sigmoid'], \n",
    "                               'gamma': [1e-2, 1e-3, 1e-4], \n",
    "                               'C': [1, 10, 100, 1000]}, \n",
    "                       \"KNN\": {'metric': ['euclidean', 'cityblock', 'chebyshev'], \n",
    "                               'n_neighbors': [1, 2, 3, 4]}}\n",
    "\n",
    "    feat, classifier = None, None\n",
    "    # feature selection\n",
    "    if feature_selection == 'correlation': feat = Corr_selection(df_filtered.drop(columns='num'), 'spearman', 0.2)\n",
    "    elif feature_selection == 'info_gain': feat = InfoGain_selection(df_filtered.drop(columns='num'), df_filtered['num'], 6)[1]\n",
    "    elif feature_selection == 'feat_comb': feat = feature_combination(df_filtered.drop(columns='num'))\n",
    "    elif feature_selection == 'All': feat = [list(df_filtered.drop(columns='num').columns)]\n",
    "\n",
    "    for feat_select in feat:\n",
    "        \n",
    "        best_parameters = None\n",
    "        \n",
    "        # selecting features\n",
    "        if type(feat_select) == list: feat_select.append('num')\n",
    "        else: feat_select = list(feat_select + ('num', ))\n",
    "        \n",
    "        # dataframes after selecting features\n",
    "        df_train = df_filtered[feat_select]\n",
    "        df_test = client_set[feat_select]\n",
    "\n",
    "        # separating train and test sets (20% out of the 80% after splitting the client's dataset)\n",
    "        X_train = df_train.drop(columns='num').to_numpy()\n",
    "        y_train = df_train[\"num\"].to_numpy()\n",
    "        X_test = df_test.drop(columns='num').to_numpy()\n",
    "        y_test = df_test[\"num\"].to_numpy()\n",
    "        \n",
    "        # oversampling\n",
    "        if oversampling_method in ['smote', 'doubling']:\n",
    "\n",
    "            # oversampling the training set\n",
    "            X_train = oversample[oversampling_method](df_train).drop(columns=['num'])\n",
    "            y_train = oversample[oversampling_method](df_train).num\n",
    "\n",
    "        # standardizing training and validation sets\n",
    "        if estimator in [\"SVM\", \"KNN\"]:\n",
    "            \n",
    "            norm = Normalizer()\n",
    "            X_train = norm.fit_transform(X_train)\n",
    "            X_test = norm.transform(X_test)\n",
    "\n",
    "        # applying grid search\n",
    "        if oversampling_method in ['smote', 'doubling']:\n",
    "\n",
    "            if feature_selection in ['correlation', 'info_gain', 'All']:\n",
    "    \n",
    "                # finding the best parameters for the model\n",
    "                grid_search = GridSearchCV(estimator = estimator_function[estimator](), \n",
    "                                           param_grid = parameters_grid[grid_search_name], \n",
    "                                           cv = 10, scoring = 'accuracy')\n",
    "                grid_search.fit(X_train, y_train)\n",
    "                \n",
    "                # optimization\n",
    "                best_parameters = grid_search.best_params_\n",
    "\n",
    "                # creating and fitting the model\n",
    "                classifier = estimator_function[estimator](**best_parameters)\n",
    "\n",
    "            else: classifier = estimator_function[estimator]()\n",
    "\n",
    "        elif oversampling_method == \"class weights\":\n",
    "\n",
    "            if feature_selection in ['correlation', 'info_gain', 'All']:\n",
    "                \n",
    "                grid_search = None\n",
    "                # finding the best parameters for the model\n",
    "                if estimator in [\"Decision_Tree\", \"SVM\"]:\n",
    "\n",
    "                    grid_search = GridSearchCV(estimator = estimator_function[estimator](class_weight = ClassWeight(df_train)), \n",
    "                                            param_grid = parameters_grid[grid_search_name], \n",
    "                                            cv = 10, scoring = 'accuracy')\n",
    "                    grid_search.fit(X_train, y_train)\n",
    "\n",
    "                    # optimization\n",
    "                    best_parameters = grid_search.best_params_\n",
    "\n",
    "                    # creating and fitting the model\n",
    "                    classifier = estimator_function[estimator](**best_parameters, class_weight = ClassWeight(df_train))\n",
    "\n",
    "                else: \n",
    "\n",
    "                    grid_search = GridSearchCV(estimator = estimator_function[estimator](), \n",
    "                                            param_grid = parameters_grid[grid_search_name], \n",
    "                                            cv = 10, scoring = 'accuracy')\n",
    "                    grid_search.fit(X_train, y_train)\n",
    "\n",
    "                    # optimization\n",
    "                    best_parameters = grid_search.best_params_\n",
    "\n",
    "                    # creating and fitting the model\n",
    "                    classifier = estimator_function[estimator](**best_parameters)\n",
    "\n",
    "            else: \n",
    "                \n",
    "                if estimator in [\"Decision_Tree\", \"SVM\"]: classifier = estimator_function[estimator](class_weight = ClassWeight(df_train))\n",
    "                else: classifier = estimator_function[estimator]()\n",
    "\n",
    "        classifier = classifier.fit(X_train, y_train)\n",
    "        y_predict = classifier.predict(X_test)\n",
    "\n",
    "        Model_evaluation[estimator][\"Parameters\"].append(classifier.get_params())\n",
    "        Model_evaluation[estimator][\"Oversampling\"].append(oversampling_method)\n",
    "        Model_evaluation[estimator][\"Features\"].append(feat_select)\n",
    "        Model_evaluation[estimator][\"Feature Selection\"].append(feature_selection)\n",
    "        Model_evaluation[estimator][\"Accuracy\"].append(accuracy_score(y_test, y_predict))\n",
    "        Model_evaluation[estimator][\"Precision\"].append(precision_score(y_test, y_predict, average='macro'))\n",
    "        Model_evaluation[estimator][\"Recall\"].append(recall_score(y_test, y_predict, average='macro'))\n",
    "        Model_evaluation[estimator][\"Confusion Matrix\"].append(confusion_matrix(y_test, y_predict))\n",
    "\n",
    "    return Model_evaluation"
   ]
  },
  {
   "cell_type": "code",
   "execution_count": 31,
   "metadata": {},
   "outputs": [
    {
     "ename": "IndexError",
     "evalue": "index 13 is out of bounds for axis 1 with size 13",
     "output_type": "error",
     "traceback": [
      "\u001b[1;31m---------------------------------------------------------------------------\u001b[0m",
      "\u001b[1;31mIndexError\u001b[0m                                Traceback (most recent call last)",
      "\u001b[1;32mC:\\Users\\MIGUEL~1\\AppData\\Local\\Temp/ipykernel_3476/2759364979.py\u001b[0m in \u001b[0;36m<module>\u001b[1;34m\u001b[0m\n\u001b[0;32m     11\u001b[0m \u001b[1;32mfor\u001b[0m \u001b[0mpar\u001b[0m \u001b[1;32min\u001b[0m \u001b[0mlist_parameters\u001b[0m\u001b[1;33m:\u001b[0m\u001b[1;33m\u001b[0m\u001b[1;33m\u001b[0m\u001b[0m\n\u001b[0;32m     12\u001b[0m \u001b[1;33m\u001b[0m\u001b[0m\n\u001b[1;32m---> 13\u001b[1;33m     Model_evaluation = Function(df_filtered,\n\u001b[0m\u001b[0;32m     14\u001b[0m                                 \u001b[0mclient_set\u001b[0m\u001b[1;33m,\u001b[0m\u001b[1;33m\u001b[0m\u001b[1;33m\u001b[0m\u001b[0m\n\u001b[0;32m     15\u001b[0m                                 \u001b[0mModel_evaluation\u001b[0m\u001b[1;33m,\u001b[0m\u001b[1;33m\u001b[0m\u001b[1;33m\u001b[0m\u001b[0m\n",
      "\u001b[1;32mC:\\Users\\MIGUEL~1\\AppData\\Local\\Temp/ipykernel_3476/2071385849.py\u001b[0m in \u001b[0;36mFunction\u001b[1;34m(df_filtered, client_set, Model_evaluation, oversampling_method, estimator, feature_selection, grid_search_name)\u001b[0m\n\u001b[0;32m     21\u001b[0m     \u001b[0mfeat\u001b[0m\u001b[1;33m,\u001b[0m \u001b[0mclassifier\u001b[0m \u001b[1;33m=\u001b[0m \u001b[1;32mNone\u001b[0m\u001b[1;33m,\u001b[0m \u001b[1;32mNone\u001b[0m\u001b[1;33m\u001b[0m\u001b[1;33m\u001b[0m\u001b[0m\n\u001b[0;32m     22\u001b[0m     \u001b[1;31m# feature selection\u001b[0m\u001b[1;33m\u001b[0m\u001b[1;33m\u001b[0m\u001b[0m\n\u001b[1;32m---> 23\u001b[1;33m     \u001b[1;32mif\u001b[0m \u001b[0mfeature_selection\u001b[0m \u001b[1;33m==\u001b[0m \u001b[1;34m'correlation'\u001b[0m\u001b[1;33m:\u001b[0m \u001b[0mfeat\u001b[0m \u001b[1;33m=\u001b[0m \u001b[0mCorr_selection\u001b[0m\u001b[1;33m(\u001b[0m\u001b[0mdf_filtered\u001b[0m\u001b[1;33m.\u001b[0m\u001b[0mdrop\u001b[0m\u001b[1;33m(\u001b[0m\u001b[0mcolumns\u001b[0m\u001b[1;33m=\u001b[0m\u001b[1;34m'num'\u001b[0m\u001b[1;33m)\u001b[0m\u001b[1;33m,\u001b[0m \u001b[1;34m'spearman'\u001b[0m\u001b[1;33m,\u001b[0m \u001b[1;36m0.2\u001b[0m\u001b[1;33m)\u001b[0m\u001b[1;33m\u001b[0m\u001b[1;33m\u001b[0m\u001b[0m\n\u001b[0m\u001b[0;32m     24\u001b[0m     \u001b[1;32melif\u001b[0m \u001b[0mfeature_selection\u001b[0m \u001b[1;33m==\u001b[0m \u001b[1;34m'info_gain'\u001b[0m\u001b[1;33m:\u001b[0m \u001b[0mfeat\u001b[0m \u001b[1;33m=\u001b[0m \u001b[0mInfoGain_selection\u001b[0m\u001b[1;33m(\u001b[0m\u001b[0mdf_filtered\u001b[0m\u001b[1;33m.\u001b[0m\u001b[0mdrop\u001b[0m\u001b[1;33m(\u001b[0m\u001b[0mcolumns\u001b[0m\u001b[1;33m=\u001b[0m\u001b[1;34m'num'\u001b[0m\u001b[1;33m)\u001b[0m\u001b[1;33m,\u001b[0m \u001b[0mdf_filtered\u001b[0m\u001b[1;33m[\u001b[0m\u001b[1;34m'num'\u001b[0m\u001b[1;33m]\u001b[0m\u001b[1;33m,\u001b[0m \u001b[1;36m6\u001b[0m\u001b[1;33m)\u001b[0m\u001b[1;33m[\u001b[0m\u001b[1;36m1\u001b[0m\u001b[1;33m]\u001b[0m\u001b[1;33m\u001b[0m\u001b[1;33m\u001b[0m\u001b[0m\n\u001b[0;32m     25\u001b[0m     \u001b[1;32melif\u001b[0m \u001b[0mfeature_selection\u001b[0m \u001b[1;33m==\u001b[0m \u001b[1;34m'feat_comb'\u001b[0m\u001b[1;33m:\u001b[0m \u001b[0mfeat\u001b[0m \u001b[1;33m=\u001b[0m \u001b[0mfeature_combination\u001b[0m\u001b[1;33m(\u001b[0m\u001b[0mdf_filtered\u001b[0m\u001b[1;33m.\u001b[0m\u001b[0mdrop\u001b[0m\u001b[1;33m(\u001b[0m\u001b[0mcolumns\u001b[0m\u001b[1;33m=\u001b[0m\u001b[1;34m'num'\u001b[0m\u001b[1;33m)\u001b[0m\u001b[1;33m)\u001b[0m\u001b[1;33m\u001b[0m\u001b[1;33m\u001b[0m\u001b[0m\n",
      "\u001b[1;32mC:\\Users\\MIGUEL~1\\AppData\\Local\\Temp/ipykernel_3476/488230572.py\u001b[0m in \u001b[0;36mCorr_selection\u001b[1;34m(df, corr_method, threshold)\u001b[0m\n\u001b[0;32m     23\u001b[0m         \u001b[1;32mfor\u001b[0m \u001b[0mj\u001b[0m \u001b[1;32min\u001b[0m \u001b[0mrange\u001b[0m\u001b[1;33m(\u001b[0m\u001b[0mlen\u001b[0m\u001b[1;33m(\u001b[0m\u001b[0mfeatures\u001b[0m\u001b[1;33m)\u001b[0m\u001b[1;33m)\u001b[0m\u001b[1;33m:\u001b[0m\u001b[1;33m\u001b[0m\u001b[1;33m\u001b[0m\u001b[0m\n\u001b[0;32m     24\u001b[0m \u001b[1;33m\u001b[0m\u001b[0m\n\u001b[1;32m---> 25\u001b[1;33m             \u001b[1;32mif\u001b[0m \u001b[0mcorr_matrix\u001b[0m\u001b[1;33m[\u001b[0m\u001b[0mi\u001b[0m\u001b[1;33m,\u001b[0m\u001b[0mj\u001b[0m\u001b[1;33m]\u001b[0m \u001b[1;33m>\u001b[0m \u001b[0mthreshold\u001b[0m \u001b[1;32mand\u001b[0m \u001b[0mcorr_matrix\u001b[0m\u001b[1;33m[\u001b[0m\u001b[0mi\u001b[0m\u001b[1;33m,\u001b[0m\u001b[0mj\u001b[0m\u001b[1;33m]\u001b[0m \u001b[1;33m!=\u001b[0m \u001b[1;36m1\u001b[0m\u001b[1;33m:\u001b[0m\u001b[1;33m\u001b[0m\u001b[1;33m\u001b[0m\u001b[0m\n\u001b[0m\u001b[0;32m     26\u001b[0m \u001b[1;33m\u001b[0m\u001b[0m\n\u001b[0;32m     27\u001b[0m                 \u001b[1;32mif\u001b[0m \u001b[0mnp\u001b[0m\u001b[1;33m.\u001b[0m\u001b[0mmean\u001b[0m\u001b[1;33m(\u001b[0m\u001b[0mcorr_matrix\u001b[0m\u001b[1;33m[\u001b[0m\u001b[0mi\u001b[0m\u001b[1;33m,\u001b[0m\u001b[1;33m:\u001b[0m\u001b[1;33m]\u001b[0m\u001b[1;33m)\u001b[0m \u001b[1;33m>\u001b[0m \u001b[0mnp\u001b[0m\u001b[1;33m.\u001b[0m\u001b[0mmean\u001b[0m\u001b[1;33m(\u001b[0m\u001b[0mcorr_matrix\u001b[0m\u001b[1;33m[\u001b[0m\u001b[1;33m:\u001b[0m\u001b[1;33m,\u001b[0m\u001b[0mj\u001b[0m\u001b[1;33m]\u001b[0m\u001b[1;33m)\u001b[0m\u001b[1;33m:\u001b[0m \u001b[0mto_eliminate\u001b[0m\u001b[1;33m.\u001b[0m\u001b[0mappend\u001b[0m\u001b[1;33m(\u001b[0m\u001b[0mfeatures\u001b[0m\u001b[1;33m[\u001b[0m\u001b[0mi\u001b[0m\u001b[1;33m]\u001b[0m\u001b[1;33m)\u001b[0m\u001b[1;33m\u001b[0m\u001b[1;33m\u001b[0m\u001b[0m\n",
      "\u001b[1;31mIndexError\u001b[0m: index 13 is out of bounds for axis 1 with size 13"
     ]
    }
   ],
   "source": [
    "# dictionary to store data from each model\n",
    "Model_evaluation = {\"Decision_Tree\": {\"Parameters\": [], \"Oversampling\": [], \"Feature Selection\": [], \"Accuracy\": [], \"Precision\": [], \"Recall\": [], \"Confusion Matrix\" : [], 'Features': []}, \n",
    "                    \"SVM\": {\"Parameters\": [], \"Oversampling\": [], \"Feature Selection\": [], \"Accuracy\": [], \"Precision\": [], \"Recall\": [], \"Confusion Matrix\" : [], 'Features': []}, \n",
    "                    \"KNN\": {\"Parameters\": [], \"Oversampling\": [], \"Feature Selection\": [], \"Accuracy\": [], \"Precision\": [], \"Recall\": [], \"Confusion Matrix\" : [], 'Features': []}}\n",
    "\n",
    "# possible combinations of class balance technique, algorithm, and feature selection method\n",
    "list_parameters = list(product(['smote', 'doubling', \"class weights\"], \n",
    "                               ['Decision_Tree', 'KNN', 'SVM'], \n",
    "                               ['correlation', 'info_gain', 'feat_comb', 'All']))\n",
    "\n",
    "for par in list_parameters:\n",
    "\n",
    "    Model_evaluation = Function(df_filtered,\n",
    "                                client_set,\n",
    "                                Model_evaluation, \n",
    "                                oversampling_method=par[0], \n",
    "                                estimator=par[1], \n",
    "                                feature_selection=par[2], \n",
    "                                grid_search_name=par[1])"
   ]
  },
  {
   "cell_type": "code",
   "execution_count": 22,
   "metadata": {},
   "outputs": [],
   "source": [
    "SVM_evaluation = pd.DataFrame(Model_evaluation[\"SVM\"])\n",
    "SVM_evaluation = SVM_evaluation.sort_values(by=['Accuracy', 'Precision', 'Recall'], ascending = False)\n",
    "SVM_evaluation = SVM_evaluation.reset_index(drop=True)\n",
    "\n",
    "Decision_Tree_evaluation = pd.DataFrame(Model_evaluation[\"Decision_Tree\"])\n",
    "Decision_Tree_evaluation = Decision_Tree_evaluation.sort_values(by=['Accuracy', 'Precision', 'Recall'], ascending = False)\n",
    "Decision_Tree_evaluation = Decision_Tree_evaluation.reset_index(drop=True)\n",
    "\n",
    "KNN_evaluation = pd.DataFrame(Model_evaluation[\"KNN\"])\n",
    "KNN_evaluation = KNN_evaluation.sort_values(by=['Accuracy', 'Precision', 'Recall'], ascending = False)\n",
    "KNN_evaluation = KNN_evaluation.reset_index(drop=True)"
   ]
  },
  {
   "cell_type": "code",
   "execution_count": 27,
   "metadata": {},
   "outputs": [
    {
     "data": {
      "text/html": [
       "<div>\n",
       "<style scoped>\n",
       "    .dataframe tbody tr th:only-of-type {\n",
       "        vertical-align: middle;\n",
       "    }\n",
       "\n",
       "    .dataframe tbody tr th {\n",
       "        vertical-align: top;\n",
       "    }\n",
       "\n",
       "    .dataframe thead th {\n",
       "        text-align: right;\n",
       "    }\n",
       "</style>\n",
       "<table border=\"1\" class=\"dataframe\">\n",
       "  <thead>\n",
       "    <tr style=\"text-align: right;\">\n",
       "      <th></th>\n",
       "      <th>Parameters</th>\n",
       "      <th>Oversampling</th>\n",
       "      <th>Feature Selection</th>\n",
       "      <th>Accuracy</th>\n",
       "      <th>Precision</th>\n",
       "      <th>Recall</th>\n",
       "      <th>Confusion Matrix</th>\n",
       "      <th>Features</th>\n",
       "    </tr>\n",
       "  </thead>\n",
       "  <tbody>\n",
       "    <tr>\n",
       "      <th>0</th>\n",
       "      <td>{'ccp_alpha': 0.0, 'class_weight': None, 'crit...</td>\n",
       "      <td>doubling</td>\n",
       "      <td>feat_comb</td>\n",
       "      <td>0.700000</td>\n",
       "      <td>0.583947</td>\n",
       "      <td>0.466477</td>\n",
       "      <td>[[31, 0, 1, 0, 0], [3, 4, 4, 0, 0], [3, 0, 4, ...</td>\n",
       "      <td>[sex, restecg, ca, num]</td>\n",
       "    </tr>\n",
       "    <tr>\n",
       "      <th>1</th>\n",
       "      <td>{'ccp_alpha': 0.0, 'class_weight': None, 'crit...</td>\n",
       "      <td>doubling</td>\n",
       "      <td>feat_comb</td>\n",
       "      <td>0.650000</td>\n",
       "      <td>0.653824</td>\n",
       "      <td>0.487365</td>\n",
       "      <td>[[27, 4, 0, 1, 0], [4, 6, 0, 1, 0], [1, 3, 3, ...</td>\n",
       "      <td>[cp, exang, ca, num]</td>\n",
       "    </tr>\n",
       "    <tr>\n",
       "      <th>2</th>\n",
       "      <td>{'ccp_alpha': 0.0, 'class_weight': None, 'crit...</td>\n",
       "      <td>smote</td>\n",
       "      <td>feat_comb</td>\n",
       "      <td>0.650000</td>\n",
       "      <td>0.522316</td>\n",
       "      <td>0.556629</td>\n",
       "      <td>[[27, 2, 1, 2, 0], [4, 3, 2, 2, 0], [1, 1, 5, ...</td>\n",
       "      <td>[cp, oldpeak, ca, num]</td>\n",
       "    </tr>\n",
       "    <tr>\n",
       "      <th>3</th>\n",
       "      <td>{'ccp_alpha': 0.0, 'class_weight': None, 'crit...</td>\n",
       "      <td>doubling</td>\n",
       "      <td>feat_comb</td>\n",
       "      <td>0.650000</td>\n",
       "      <td>0.517460</td>\n",
       "      <td>0.423864</td>\n",
       "      <td>[[30, 0, 0, 2, 0], [5, 2, 3, 1, 0], [3, 0, 3, ...</td>\n",
       "      <td>[cp, restecg, ca, num]</td>\n",
       "    </tr>\n",
       "    <tr>\n",
       "      <th>4</th>\n",
       "      <td>{'ccp_alpha': 0.0, 'class_weight': None, 'crit...</td>\n",
       "      <td>doubling</td>\n",
       "      <td>feat_comb</td>\n",
       "      <td>0.650000</td>\n",
       "      <td>0.350646</td>\n",
       "      <td>0.392695</td>\n",
       "      <td>[[30, 1, 0, 1, 0], [5, 5, 0, 1, 0], [3, 3, 0, ...</td>\n",
       "      <td>[sex, cp, ca, num]</td>\n",
       "    </tr>\n",
       "    <tr>\n",
       "      <th>...</th>\n",
       "      <td>...</td>\n",
       "      <td>...</td>\n",
       "      <td>...</td>\n",
       "      <td>...</td>\n",
       "      <td>...</td>\n",
       "      <td>...</td>\n",
       "      <td>...</td>\n",
       "      <td>...</td>\n",
       "    </tr>\n",
       "    <tr>\n",
       "      <th>862</th>\n",
       "      <td>{'ccp_alpha': 0.0, 'class_weight': {0: 0.37031...</td>\n",
       "      <td>class weights</td>\n",
       "      <td>feat_comb</td>\n",
       "      <td>0.216667</td>\n",
       "      <td>0.110714</td>\n",
       "      <td>0.103571</td>\n",
       "      <td>[[12, 9, 6, 4, 1], [8, 0, 2, 1, 0], [3, 3, 0, ...</td>\n",
       "      <td>[chol, fbs, restecg, num]</td>\n",
       "    </tr>\n",
       "    <tr>\n",
       "      <th>863</th>\n",
       "      <td>{'ccp_alpha': 0.0, 'class_weight': None, 'crit...</td>\n",
       "      <td>smote</td>\n",
       "      <td>feat_comb</td>\n",
       "      <td>0.200000</td>\n",
       "      <td>0.183013</td>\n",
       "      <td>0.109253</td>\n",
       "      <td>[[10, 8, 4, 4, 6], [0, 1, 1, 6, 3], [0, 0, 0, ...</td>\n",
       "      <td>[chol, fbs, exang, num]</td>\n",
       "    </tr>\n",
       "    <tr>\n",
       "      <th>864</th>\n",
       "      <td>{'ccp_alpha': 0.0, 'class_weight': None, 'crit...</td>\n",
       "      <td>smote</td>\n",
       "      <td>feat_comb</td>\n",
       "      <td>0.200000</td>\n",
       "      <td>0.180460</td>\n",
       "      <td>0.119643</td>\n",
       "      <td>[[10, 0, 0, 12, 10], [1, 0, 0, 7, 3], [1, 0, 0...</td>\n",
       "      <td>[sex, fbs, restecg, num]</td>\n",
       "    </tr>\n",
       "    <tr>\n",
       "      <th>865</th>\n",
       "      <td>{'ccp_alpha': 0.0, 'class_weight': None, 'crit...</td>\n",
       "      <td>smote</td>\n",
       "      <td>feat_comb</td>\n",
       "      <td>0.200000</td>\n",
       "      <td>0.119048</td>\n",
       "      <td>0.086932</td>\n",
       "      <td>[[11, 9, 4, 7, 1], [7, 1, 1, 1, 1], [1, 2, 0, ...</td>\n",
       "      <td>[chol, restecg, slope, num]</td>\n",
       "    </tr>\n",
       "    <tr>\n",
       "      <th>866</th>\n",
       "      <td>{'ccp_alpha': 0.0, 'class_weight': None, 'crit...</td>\n",
       "      <td>smote</td>\n",
       "      <td>feat_comb</td>\n",
       "      <td>0.183333</td>\n",
       "      <td>0.091667</td>\n",
       "      <td>0.068750</td>\n",
       "      <td>[[11, 6, 10, 3, 2], [5, 0, 2, 3, 1], [3, 0, 0,...</td>\n",
       "      <td>[chol, fbs, restecg, num]</td>\n",
       "    </tr>\n",
       "  </tbody>\n",
       "</table>\n",
       "<p>867 rows × 8 columns</p>\n",
       "</div>"
      ],
      "text/plain": [
       "                                            Parameters   Oversampling  \\\n",
       "0    {'ccp_alpha': 0.0, 'class_weight': None, 'crit...       doubling   \n",
       "1    {'ccp_alpha': 0.0, 'class_weight': None, 'crit...       doubling   \n",
       "2    {'ccp_alpha': 0.0, 'class_weight': None, 'crit...          smote   \n",
       "3    {'ccp_alpha': 0.0, 'class_weight': None, 'crit...       doubling   \n",
       "4    {'ccp_alpha': 0.0, 'class_weight': None, 'crit...       doubling   \n",
       "..                                                 ...            ...   \n",
       "862  {'ccp_alpha': 0.0, 'class_weight': {0: 0.37031...  class weights   \n",
       "863  {'ccp_alpha': 0.0, 'class_weight': None, 'crit...          smote   \n",
       "864  {'ccp_alpha': 0.0, 'class_weight': None, 'crit...          smote   \n",
       "865  {'ccp_alpha': 0.0, 'class_weight': None, 'crit...          smote   \n",
       "866  {'ccp_alpha': 0.0, 'class_weight': None, 'crit...          smote   \n",
       "\n",
       "    Feature Selection  Accuracy  Precision    Recall  \\\n",
       "0           feat_comb  0.700000   0.583947  0.466477   \n",
       "1           feat_comb  0.650000   0.653824  0.487365   \n",
       "2           feat_comb  0.650000   0.522316  0.556629   \n",
       "3           feat_comb  0.650000   0.517460  0.423864   \n",
       "4           feat_comb  0.650000   0.350646  0.392695   \n",
       "..                ...       ...        ...       ...   \n",
       "862         feat_comb  0.216667   0.110714  0.103571   \n",
       "863         feat_comb  0.200000   0.183013  0.109253   \n",
       "864         feat_comb  0.200000   0.180460  0.119643   \n",
       "865         feat_comb  0.200000   0.119048  0.086932   \n",
       "866         feat_comb  0.183333   0.091667  0.068750   \n",
       "\n",
       "                                      Confusion Matrix  \\\n",
       "0    [[31, 0, 1, 0, 0], [3, 4, 4, 0, 0], [3, 0, 4, ...   \n",
       "1    [[27, 4, 0, 1, 0], [4, 6, 0, 1, 0], [1, 3, 3, ...   \n",
       "2    [[27, 2, 1, 2, 0], [4, 3, 2, 2, 0], [1, 1, 5, ...   \n",
       "3    [[30, 0, 0, 2, 0], [5, 2, 3, 1, 0], [3, 0, 3, ...   \n",
       "4    [[30, 1, 0, 1, 0], [5, 5, 0, 1, 0], [3, 3, 0, ...   \n",
       "..                                                 ...   \n",
       "862  [[12, 9, 6, 4, 1], [8, 0, 2, 1, 0], [3, 3, 0, ...   \n",
       "863  [[10, 8, 4, 4, 6], [0, 1, 1, 6, 3], [0, 0, 0, ...   \n",
       "864  [[10, 0, 0, 12, 10], [1, 0, 0, 7, 3], [1, 0, 0...   \n",
       "865  [[11, 9, 4, 7, 1], [7, 1, 1, 1, 1], [1, 2, 0, ...   \n",
       "866  [[11, 6, 10, 3, 2], [5, 0, 2, 3, 1], [3, 0, 0,...   \n",
       "\n",
       "                        Features  \n",
       "0        [sex, restecg, ca, num]  \n",
       "1           [cp, exang, ca, num]  \n",
       "2         [cp, oldpeak, ca, num]  \n",
       "3         [cp, restecg, ca, num]  \n",
       "4             [sex, cp, ca, num]  \n",
       "..                           ...  \n",
       "862    [chol, fbs, restecg, num]  \n",
       "863      [chol, fbs, exang, num]  \n",
       "864     [sex, fbs, restecg, num]  \n",
       "865  [chol, restecg, slope, num]  \n",
       "866    [chol, fbs, restecg, num]  \n",
       "\n",
       "[867 rows x 8 columns]"
      ]
     },
     "execution_count": 27,
     "metadata": {},
     "output_type": "execute_result"
    }
   ],
   "source": [
    "Decision_Tree_evaluation"
   ]
  },
  {
   "cell_type": "markdown",
   "metadata": {},
   "source": [
    "# 7. Models Evaluation\n",
    "\n",
    "_______________________"
   ]
  },
  {
   "cell_type": "markdown",
   "metadata": {},
   "source": [
    "### 7.1 Decision Tree Evaluation\n",
    "\n",
    "______________________"
   ]
  },
  {
   "cell_type": "code",
   "execution_count": 83,
   "metadata": {},
   "outputs": [
    {
     "name": "stdout",
     "output_type": "stream",
     "text": [
      "Best Prameters:\n",
      " {'ccp_alpha': 0.0, 'class_weight': None, 'criterion': 'entropy', 'max_depth': 15, 'max_features': None, 'max_leaf_nodes': None, 'min_impurity_decrease': 0.0, 'min_samples_leaf': 1, 'min_samples_split': 2, 'min_weight_fraction_leaf': 0.0, 'random_state': None, 'splitter': 'best'}\n",
      "Oversampling Method applied:\n",
      " doubling\n",
      "Feature Selection Method applied:\n",
      " info_gain\n",
      "Feature Selected:\n",
      " ['thal', 'exang', 'oldpeak', 'ca', 'cp', 'thalach', 'num']\n"
     ]
    }
   ],
   "source": [
    "best_option_Decision_Tree = Decision_Tree_evaluation.iloc[0]\n",
    "\n",
    "print(\"Best Prameters:\\n\", best_option_Decision_Tree['Parameters'])\n",
    "\n",
    "print(\"Oversampling Method applied:\\n\", best_option_Decision_Tree['Oversampling'])\n",
    "\n",
    "print(\"Feature Selection Method applied:\\n\", best_option_Decision_Tree['Feature Selection'])\n",
    "\n",
    "print(\"Feature Selected:\\n\", best_option_Decision_Tree['Features'])"
   ]
  },
  {
   "cell_type": "markdown",
   "metadata": {},
   "source": [
    "##### 7.1.1 Confusion Matrix\n",
    "\n",
    "________________"
   ]
  },
  {
   "cell_type": "code",
   "execution_count": 84,
   "metadata": {},
   "outputs": [
    {
     "data": {
      "image/png": "[encoded data removed]",
      "text/plain": [
       "<Figure size 540x540 with 1 Axes>"
      ]
     },
     "metadata": {
      "needs_background": "light"
     },
     "output_type": "display_data"
    }
   ],
   "source": [
    "fig, ax = plt.subplots(figsize=(7.5, 7.5))\n",
    "ax.matshow(best_option_Decision_Tree['Confusion Matrix'], cmap=plt.cm.Blues, alpha=0.3)\n",
    "for i in range(best_option_Decision_Tree['Confusion Matrix'].shape[0]):\n",
    "\n",
    "    for j in range(best_option_Decision_Tree['Confusion Matrix'].shape[1]):\n",
    "        \n",
    "        ax.text(x=j, y=i,s=best_option_Decision_Tree['Confusion Matrix'][i, j], va='center', ha='center', size='xx-large')\n",
    " \n",
    "plt.xlabel('Predictions', fontsize=18)\n",
    "plt.ylabel('Actuals', fontsize=18)\n",
    "plt.title('Confusion Matrix in Decision Tree', fontsize=18)\n",
    "plt.show()"
   ]
  },
  {
   "cell_type": "markdown",
   "metadata": {},
   "source": [
    "##### 7.1.2 Precision\n",
    "\n",
    "________________"
   ]
  },
  {
   "cell_type": "code",
   "execution_count": 85,
   "metadata": {},
   "outputs": [
    {
     "name": "stdout",
     "output_type": "stream",
     "text": [
      "Precision test:\n",
      " 0.5105571847507331\n"
     ]
    }
   ],
   "source": [
    "print(\"Precision test:\\n\", best_option_Decision_Tree['Precision'])"
   ]
  },
  {
   "cell_type": "markdown",
   "metadata": {},
   "source": [
    "##### 7.1.3 Recall\n",
    "\n",
    "________________"
   ]
  },
  {
   "cell_type": "code",
   "execution_count": 86,
   "metadata": {},
   "outputs": [
    {
     "name": "stdout",
     "output_type": "stream",
     "text": [
      "Recall test:\n",
      " 0.5003517316017316\n"
     ]
    }
   ],
   "source": [
    "print(\"Recall test:\\n\", best_option_Decision_Tree['Recall'])"
   ]
  },
  {
   "cell_type": "markdown",
   "metadata": {},
   "source": [
    "##### 7.1.4 Accuracy\n",
    "\n",
    "________________"
   ]
  },
  {
   "cell_type": "code",
   "execution_count": 87,
   "metadata": {},
   "outputs": [
    {
     "name": "stdout",
     "output_type": "stream",
     "text": [
      "Accuracy test:\n",
      " 0.6333333333333333\n"
     ]
    }
   ],
   "source": [
    "print(\"Accuracy test:\\n\", best_option_Decision_Tree['Accuracy'])"
   ]
  },
  {
   "cell_type": "markdown",
   "metadata": {},
   "source": [
    "### 7.2 Support Vector Machine Evaluation\n",
    "\n",
    "______________________"
   ]
  },
  {
   "cell_type": "code",
   "execution_count": 88,
   "metadata": {},
   "outputs": [
    {
     "name": "stdout",
     "output_type": "stream",
     "text": [
      "Best Prameters:\n",
      " {'C': 1.0, 'break_ties': False, 'cache_size': 200, 'class_weight': None, 'coef0': 0.0, 'decision_function_shape': 'ovr', 'degree': 3, 'gamma': 'scale', 'kernel': 'rbf', 'max_iter': -1, 'probability': False, 'random_state': None, 'shrinking': True, 'tol': 0.001, 'verbose': False}\n",
      "Oversampling Method applied:\n",
      " doubling\n",
      "Feature Selection Method applied:\n",
      " feat_comb\n",
      "Feature Selected:\n",
      " ['restecg', 'slope', 'ca', 'num']\n"
     ]
    }
   ],
   "source": [
    "best_option_SVM = SVM_evaluation.iloc[0]\n",
    "\n",
    "print(\"Best Prameters:\\n\", best_option_SVM['Parameters'])\n",
    "\n",
    "print(\"Oversampling Method applied:\\n\", best_option_SVM['Oversampling'])\n",
    "\n",
    "print(\"Feature Selection Method applied:\\n\", best_option_SVM['Feature Selection'])\n",
    "\n",
    "print(\"Feature Selected:\\n\", best_option_SVM['Features'])"
   ]
  },
  {
   "cell_type": "markdown",
   "metadata": {},
   "source": [
    "##### 7.2.1 Confusion Matrix\n",
    "\n",
    "________________"
   ]
  },
  {
   "cell_type": "code",
   "execution_count": 89,
   "metadata": {},
   "outputs": [
    {
     "data": {
      "image/png": "[encoded data removed]",
      "text/plain": [
       "<Figure size 540x540 with 1 Axes>"
      ]
     },
     "metadata": {
      "needs_background": "light"
     },
     "output_type": "display_data"
    }
   ],
   "source": [
    "fig, ax = plt.subplots(figsize=(7.5, 7.5))\n",
    "ax.matshow(best_option_SVM['Confusion Matrix'], cmap=plt.cm.Blues, alpha=0.3)\n",
    "for i in range(best_option_SVM['Confusion Matrix'].shape[0]):\n",
    "\n",
    "    for j in range(best_option_SVM['Confusion Matrix'].shape[1]):\n",
    "        \n",
    "        ax.text(x=j, y=i,s=best_option_SVM['Confusion Matrix'][i, j], va='center', ha='center', size='xx-large')\n",
    " \n",
    "plt.xlabel('Predictions', fontsize=18)\n",
    "plt.ylabel('Actuals', fontsize=18)\n",
    "plt.title('Confusion Matrix in SVM', fontsize=18)\n",
    "plt.show()"
   ]
  },
  {
   "cell_type": "markdown",
   "metadata": {},
   "source": [
    "##### 7.2.2 Precision\n",
    "\n",
    "________________"
   ]
  },
  {
   "cell_type": "code",
   "execution_count": 90,
   "metadata": {},
   "outputs": [
    {
     "name": "stdout",
     "output_type": "stream",
     "text": [
      "Precision test:\n",
      " 0.40294117647058825\n"
     ]
    }
   ],
   "source": [
    "print(\"Precision test:\\n\", best_option_SVM['Precision'])"
   ]
  },
  {
   "cell_type": "markdown",
   "metadata": {},
   "source": [
    "##### 7.2.3 Recall\n",
    "\n",
    "________________"
   ]
  },
  {
   "cell_type": "code",
   "execution_count": 91,
   "metadata": {},
   "outputs": [
    {
     "name": "stdout",
     "output_type": "stream",
     "text": [
      "Recall test:\n",
      " 0.41444805194805195\n"
     ]
    }
   ],
   "source": [
    "print(\"Recall test:\\n\", best_option_SVM['Recall'])"
   ]
  },
  {
   "cell_type": "markdown",
   "metadata": {},
   "source": [
    "##### 7.2.4 Accuracy\n",
    "\n",
    "________________"
   ]
  },
  {
   "cell_type": "code",
   "execution_count": 92,
   "metadata": {},
   "outputs": [
    {
     "name": "stdout",
     "output_type": "stream",
     "text": [
      "Accuracy test:\n",
      " 0.6166666666666667\n"
     ]
    }
   ],
   "source": [
    "print(\"Accuracy test:\\n\", best_option_SVM['Accuracy'])"
   ]
  },
  {
   "cell_type": "markdown",
   "metadata": {},
   "source": [
    "### 7.3 K-Nearest-Neighbors Evaluation\n",
    "\n",
    "______________________"
   ]
  },
  {
   "cell_type": "code",
   "execution_count": 93,
   "metadata": {},
   "outputs": [
    {
     "name": "stdout",
     "output_type": "stream",
     "text": [
      "Best Prameters:\n",
      " {'algorithm': 'auto', 'leaf_size': 30, 'metric': 'minkowski', 'metric_params': None, 'n_jobs': None, 'n_neighbors': 5, 'p': 2, 'weights': 'uniform'}\n",
      "Oversampling Method applied:\n",
      " class weights\n",
      "Feature Selection Method applied:\n",
      " feat_comb\n",
      "Feature Selected:\n",
      " ['thalach', 'exang', 'thal', 'num']\n"
     ]
    }
   ],
   "source": [
    "best_option_KNN = KNN_evaluation.iloc[0]\n",
    "\n",
    "print(\"Best Prameters:\\n\", best_option_KNN['Parameters'])\n",
    "\n",
    "print(\"Oversampling Method applied:\\n\", best_option_KNN['Oversampling'])\n",
    "\n",
    "print(\"Feature Selection Method applied:\\n\", best_option_KNN['Feature Selection'])\n",
    "\n",
    "print(\"Feature Selected:\\n\", best_option_KNN['Features'])"
   ]
  },
  {
   "cell_type": "markdown",
   "metadata": {},
   "source": [
    "##### 7.3.1 Confusion Matrix\n",
    "\n",
    "________________"
   ]
  },
  {
   "cell_type": "code",
   "execution_count": 94,
   "metadata": {},
   "outputs": [
    {
     "data": {
      "image/png": "[encoded data removed]",
      "text/plain": [
       "<Figure size 540x540 with 1 Axes>"
      ]
     },
     "metadata": {
      "needs_background": "light"
     },
     "output_type": "display_data"
    }
   ],
   "source": [
    "fig, ax = plt.subplots(figsize=(7.5, 7.5))\n",
    "ax.matshow(best_option_KNN['Confusion Matrix'], cmap=plt.cm.Blues, alpha=0.3)\n",
    "for i in range(best_option_KNN['Confusion Matrix'].shape[0]):\n",
    "\n",
    "    for j in range(best_option_KNN['Confusion Matrix'].shape[1]):\n",
    "        \n",
    "        ax.text(x=j, y=i,s=best_option_KNN['Confusion Matrix'][i, j], va='center', ha='center', size='xx-large')\n",
    " \n",
    "plt.xlabel('Predictions', fontsize=18)\n",
    "plt.ylabel('Actuals', fontsize=18)\n",
    "plt.title('Confusion Matrix in KNN', fontsize=18)\n",
    "plt.show()"
   ]
  },
  {
   "cell_type": "markdown",
   "metadata": {},
   "source": [
    "##### 7.3.2 Precision\n",
    "\n",
    "________________"
   ]
  },
  {
   "cell_type": "code",
   "execution_count": 95,
   "metadata": {},
   "outputs": [
    {
     "name": "stdout",
     "output_type": "stream",
     "text": [
      "Precision test:\n",
      " 0.6047619047619047\n"
     ]
    }
   ],
   "source": [
    "print(\"Precision test:\\n\", best_option_KNN['Precision'])"
   ]
  },
  {
   "cell_type": "markdown",
   "metadata": {},
   "source": [
    "##### 7.3.3 Recall\n",
    "\n",
    "________________"
   ]
  },
  {
   "cell_type": "code",
   "execution_count": 96,
   "metadata": {},
   "outputs": [
    {
     "name": "stdout",
     "output_type": "stream",
     "text": [
      "Recall test:\n",
      " 0.4375270562770563\n"
     ]
    }
   ],
   "source": [
    "print(\"Recall test:\\n\", best_option_KNN['Recall'])"
   ]
  },
  {
   "cell_type": "markdown",
   "metadata": {},
   "source": [
    "##### 7.3.4 Accuracy\n",
    "\n",
    "________________"
   ]
  },
  {
   "cell_type": "code",
   "execution_count": 97,
   "metadata": {},
   "outputs": [
    {
     "name": "stdout",
     "output_type": "stream",
     "text": [
      "Accuracy test:\n",
      " 0.6166666666666667\n"
     ]
    }
   ],
   "source": [
    "print(\"Accuracy test:\\n\", best_option_KNN['Accuracy'])"
   ]
  },
  {
   "cell_type": "markdown",
   "metadata": {},
   "source": [
    "# 8. Neural Network"
   ]
  },
  {
   "cell_type": "code",
   "execution_count": 124,
   "metadata": {},
   "outputs": [
    {
     "ename": "KeyboardInterrupt",
     "evalue": "",
     "output_type": "error",
     "traceback": [
      "\u001b[1;31m---------------------------------------------------------------------------\u001b[0m",
      "\u001b[1;31mKeyboardInterrupt\u001b[0m                         Traceback (most recent call last)",
      "\u001b[1;32mC:\\Users\\MIGUEL~1\\AppData\\Local\\Temp/ipykernel_9708/975861706.py\u001b[0m in \u001b[0;36m<module>\u001b[1;34m\u001b[0m\n\u001b[0;32m     74\u001b[0m \u001b[1;32mfor\u001b[0m \u001b[0mpar\u001b[0m \u001b[1;32min\u001b[0m \u001b[0mlist_parameters\u001b[0m\u001b[1;33m:\u001b[0m\u001b[1;33m\u001b[0m\u001b[1;33m\u001b[0m\u001b[0m\n\u001b[0;32m     75\u001b[0m \u001b[1;33m\u001b[0m\u001b[0m\n\u001b[1;32m---> 76\u001b[1;33m     NN_evaluation = NN_Function(df_filtered,\n\u001b[0m\u001b[0;32m     77\u001b[0m                                 \u001b[0mclient_set\u001b[0m\u001b[1;33m,\u001b[0m\u001b[1;33m\u001b[0m\u001b[1;33m\u001b[0m\u001b[0m\n\u001b[0;32m     78\u001b[0m                                 \u001b[0mNN_evaluation\u001b[0m\u001b[1;33m,\u001b[0m\u001b[1;33m\u001b[0m\u001b[1;33m\u001b[0m\u001b[0m\n",
      "\u001b[1;32mC:\\Users\\MIGUEL~1\\AppData\\Local\\Temp/ipykernel_9708/975861706.py\u001b[0m in \u001b[0;36mNN_Function\u001b[1;34m(df_filtered, client_set, NN_evaluation, oversampling_method, feature_selection)\u001b[0m\n\u001b[0;32m     50\u001b[0m         \u001b[0mmodel\u001b[0m \u001b[1;33m=\u001b[0m \u001b[0mMLPClassifier\u001b[0m\u001b[1;33m(\u001b[0m\u001b[0mmax_iter\u001b[0m\u001b[1;33m=\u001b[0m\u001b[1;36m200\u001b[0m\u001b[1;33m)\u001b[0m\u001b[1;33m\u001b[0m\u001b[1;33m\u001b[0m\u001b[0m\n\u001b[0;32m     51\u001b[0m         \u001b[0mclf\u001b[0m \u001b[1;33m=\u001b[0m \u001b[0mGridSearchCV\u001b[0m\u001b[1;33m(\u001b[0m\u001b[0mmodel\u001b[0m\u001b[1;33m,\u001b[0m \u001b[0mparameter_space\u001b[0m\u001b[1;33m,\u001b[0m \u001b[0mn_jobs\u001b[0m\u001b[1;33m=\u001b[0m\u001b[1;33m-\u001b[0m\u001b[1;36m1\u001b[0m\u001b[1;33m,\u001b[0m \u001b[0mcv\u001b[0m\u001b[1;33m=\u001b[0m\u001b[1;36m10\u001b[0m\u001b[1;33m)\u001b[0m\u001b[1;33m\u001b[0m\u001b[1;33m\u001b[0m\u001b[0m\n\u001b[1;32m---> 52\u001b[1;33m         \u001b[0mclf\u001b[0m\u001b[1;33m.\u001b[0m\u001b[0mfit\u001b[0m\u001b[1;33m(\u001b[0m\u001b[0mX_train\u001b[0m\u001b[1;33m,\u001b[0m \u001b[0my_train\u001b[0m\u001b[1;33m)\u001b[0m\u001b[1;33m\u001b[0m\u001b[1;33m\u001b[0m\u001b[0m\n\u001b[0m\u001b[0;32m     53\u001b[0m \u001b[1;33m\u001b[0m\u001b[0m\n\u001b[0;32m     54\u001b[0m         \u001b[1;31m# optimization\u001b[0m\u001b[1;33m\u001b[0m\u001b[1;33m\u001b[0m\u001b[0m\n",
      "\u001b[1;32mc:\\Users\\Miguel Silva\\anaconda3\\lib\\site-packages\\sklearn\\model_selection\\_search.py\u001b[0m in \u001b[0;36mfit\u001b[1;34m(self, X, y, groups, **fit_params)\u001b[0m\n\u001b[0;32m    873\u001b[0m                 \u001b[1;32mreturn\u001b[0m \u001b[0mresults\u001b[0m\u001b[1;33m\u001b[0m\u001b[1;33m\u001b[0m\u001b[0m\n\u001b[0;32m    874\u001b[0m \u001b[1;33m\u001b[0m\u001b[0m\n\u001b[1;32m--> 875\u001b[1;33m             \u001b[0mself\u001b[0m\u001b[1;33m.\u001b[0m\u001b[0m_run_search\u001b[0m\u001b[1;33m(\u001b[0m\u001b[0mevaluate_candidates\u001b[0m\u001b[1;33m)\u001b[0m\u001b[1;33m\u001b[0m\u001b[1;33m\u001b[0m\u001b[0m\n\u001b[0m\u001b[0;32m    876\u001b[0m \u001b[1;33m\u001b[0m\u001b[0m\n\u001b[0;32m    877\u001b[0m             \u001b[1;31m# multimetric is determined here because in the case of a callable\u001b[0m\u001b[1;33m\u001b[0m\u001b[1;33m\u001b[0m\u001b[0m\n",
      "\u001b[1;32mc:\\Users\\Miguel Silva\\anaconda3\\lib\\site-packages\\sklearn\\model_selection\\_search.py\u001b[0m in \u001b[0;36m_run_search\u001b[1;34m(self, evaluate_candidates)\u001b[0m\n\u001b[0;32m   1373\u001b[0m     \u001b[1;32mdef\u001b[0m \u001b[0m_run_search\u001b[0m\u001b[1;33m(\u001b[0m\u001b[0mself\u001b[0m\u001b[1;33m,\u001b[0m \u001b[0mevaluate_candidates\u001b[0m\u001b[1;33m)\u001b[0m\u001b[1;33m:\u001b[0m\u001b[1;33m\u001b[0m\u001b[1;33m\u001b[0m\u001b[0m\n\u001b[0;32m   1374\u001b[0m         \u001b[1;34m\"\"\"Search all candidates in param_grid\"\"\"\u001b[0m\u001b[1;33m\u001b[0m\u001b[1;33m\u001b[0m\u001b[0m\n\u001b[1;32m-> 1375\u001b[1;33m         \u001b[0mevaluate_candidates\u001b[0m\u001b[1;33m(\u001b[0m\u001b[0mParameterGrid\u001b[0m\u001b[1;33m(\u001b[0m\u001b[0mself\u001b[0m\u001b[1;33m.\u001b[0m\u001b[0mparam_grid\u001b[0m\u001b[1;33m)\u001b[0m\u001b[1;33m)\u001b[0m\u001b[1;33m\u001b[0m\u001b[1;33m\u001b[0m\u001b[0m\n\u001b[0m\u001b[0;32m   1376\u001b[0m \u001b[1;33m\u001b[0m\u001b[0m\n\u001b[0;32m   1377\u001b[0m \u001b[1;33m\u001b[0m\u001b[0m\n",
      "\u001b[1;32mc:\\Users\\Miguel Silva\\anaconda3\\lib\\site-packages\\sklearn\\model_selection\\_search.py\u001b[0m in \u001b[0;36mevaluate_candidates\u001b[1;34m(candidate_params, cv, more_results)\u001b[0m\n\u001b[0;32m    820\u001b[0m                     )\n\u001b[0;32m    821\u001b[0m \u001b[1;33m\u001b[0m\u001b[0m\n\u001b[1;32m--> 822\u001b[1;33m                 out = parallel(\n\u001b[0m\u001b[0;32m    823\u001b[0m                     delayed(_fit_and_score)(\n\u001b[0;32m    824\u001b[0m                         \u001b[0mclone\u001b[0m\u001b[1;33m(\u001b[0m\u001b[0mbase_estimator\u001b[0m\u001b[1;33m)\u001b[0m\u001b[1;33m,\u001b[0m\u001b[1;33m\u001b[0m\u001b[1;33m\u001b[0m\u001b[0m\n",
      "\u001b[1;32mc:\\Users\\Miguel Silva\\anaconda3\\lib\\site-packages\\joblib\\parallel.py\u001b[0m in \u001b[0;36m__call__\u001b[1;34m(self, iterable)\u001b[0m\n\u001b[0;32m   1054\u001b[0m \u001b[1;33m\u001b[0m\u001b[0m\n\u001b[0;32m   1055\u001b[0m             \u001b[1;32mwith\u001b[0m \u001b[0mself\u001b[0m\u001b[1;33m.\u001b[0m\u001b[0m_backend\u001b[0m\u001b[1;33m.\u001b[0m\u001b[0mretrieval_context\u001b[0m\u001b[1;33m(\u001b[0m\u001b[1;33m)\u001b[0m\u001b[1;33m:\u001b[0m\u001b[1;33m\u001b[0m\u001b[1;33m\u001b[0m\u001b[0m\n\u001b[1;32m-> 1056\u001b[1;33m                 \u001b[0mself\u001b[0m\u001b[1;33m.\u001b[0m\u001b[0mretrieve\u001b[0m\u001b[1;33m(\u001b[0m\u001b[1;33m)\u001b[0m\u001b[1;33m\u001b[0m\u001b[1;33m\u001b[0m\u001b[0m\n\u001b[0m\u001b[0;32m   1057\u001b[0m             \u001b[1;31m# Make sure that we get a last message telling us we are done\u001b[0m\u001b[1;33m\u001b[0m\u001b[1;33m\u001b[0m\u001b[0m\n\u001b[0;32m   1058\u001b[0m             \u001b[0melapsed_time\u001b[0m \u001b[1;33m=\u001b[0m \u001b[0mtime\u001b[0m\u001b[1;33m.\u001b[0m\u001b[0mtime\u001b[0m\u001b[1;33m(\u001b[0m\u001b[1;33m)\u001b[0m \u001b[1;33m-\u001b[0m \u001b[0mself\u001b[0m\u001b[1;33m.\u001b[0m\u001b[0m_start_time\u001b[0m\u001b[1;33m\u001b[0m\u001b[1;33m\u001b[0m\u001b[0m\n",
      "\u001b[1;32mc:\\Users\\Miguel Silva\\anaconda3\\lib\\site-packages\\joblib\\parallel.py\u001b[0m in \u001b[0;36mretrieve\u001b[1;34m(self)\u001b[0m\n\u001b[0;32m    933\u001b[0m             \u001b[1;32mtry\u001b[0m\u001b[1;33m:\u001b[0m\u001b[1;33m\u001b[0m\u001b[1;33m\u001b[0m\u001b[0m\n\u001b[0;32m    934\u001b[0m                 \u001b[1;32mif\u001b[0m \u001b[0mgetattr\u001b[0m\u001b[1;33m(\u001b[0m\u001b[0mself\u001b[0m\u001b[1;33m.\u001b[0m\u001b[0m_backend\u001b[0m\u001b[1;33m,\u001b[0m \u001b[1;34m'supports_timeout'\u001b[0m\u001b[1;33m,\u001b[0m \u001b[1;32mFalse\u001b[0m\u001b[1;33m)\u001b[0m\u001b[1;33m:\u001b[0m\u001b[1;33m\u001b[0m\u001b[1;33m\u001b[0m\u001b[0m\n\u001b[1;32m--> 935\u001b[1;33m                     \u001b[0mself\u001b[0m\u001b[1;33m.\u001b[0m\u001b[0m_output\u001b[0m\u001b[1;33m.\u001b[0m\u001b[0mextend\u001b[0m\u001b[1;33m(\u001b[0m\u001b[0mjob\u001b[0m\u001b[1;33m.\u001b[0m\u001b[0mget\u001b[0m\u001b[1;33m(\u001b[0m\u001b[0mtimeout\u001b[0m\u001b[1;33m=\u001b[0m\u001b[0mself\u001b[0m\u001b[1;33m.\u001b[0m\u001b[0mtimeout\u001b[0m\u001b[1;33m)\u001b[0m\u001b[1;33m)\u001b[0m\u001b[1;33m\u001b[0m\u001b[1;33m\u001b[0m\u001b[0m\n\u001b[0m\u001b[0;32m    936\u001b[0m                 \u001b[1;32melse\u001b[0m\u001b[1;33m:\u001b[0m\u001b[1;33m\u001b[0m\u001b[1;33m\u001b[0m\u001b[0m\n\u001b[0;32m    937\u001b[0m                     \u001b[0mself\u001b[0m\u001b[1;33m.\u001b[0m\u001b[0m_output\u001b[0m\u001b[1;33m.\u001b[0m\u001b[0mextend\u001b[0m\u001b[1;33m(\u001b[0m\u001b[0mjob\u001b[0m\u001b[1;33m.\u001b[0m\u001b[0mget\u001b[0m\u001b[1;33m(\u001b[0m\u001b[1;33m)\u001b[0m\u001b[1;33m)\u001b[0m\u001b[1;33m\u001b[0m\u001b[1;33m\u001b[0m\u001b[0m\n",
      "\u001b[1;32mc:\\Users\\Miguel Silva\\anaconda3\\lib\\site-packages\\joblib\\_parallel_backends.py\u001b[0m in \u001b[0;36mwrap_future_result\u001b[1;34m(future, timeout)\u001b[0m\n\u001b[0;32m    540\u001b[0m         AsyncResults.get from multiprocessing.\"\"\"\n\u001b[0;32m    541\u001b[0m         \u001b[1;32mtry\u001b[0m\u001b[1;33m:\u001b[0m\u001b[1;33m\u001b[0m\u001b[1;33m\u001b[0m\u001b[0m\n\u001b[1;32m--> 542\u001b[1;33m             \u001b[1;32mreturn\u001b[0m \u001b[0mfuture\u001b[0m\u001b[1;33m.\u001b[0m\u001b[0mresult\u001b[0m\u001b[1;33m(\u001b[0m\u001b[0mtimeout\u001b[0m\u001b[1;33m=\u001b[0m\u001b[0mtimeout\u001b[0m\u001b[1;33m)\u001b[0m\u001b[1;33m\u001b[0m\u001b[1;33m\u001b[0m\u001b[0m\n\u001b[0m\u001b[0;32m    543\u001b[0m         \u001b[1;32mexcept\u001b[0m \u001b[0mCfTimeoutError\u001b[0m \u001b[1;32mas\u001b[0m \u001b[0me\u001b[0m\u001b[1;33m:\u001b[0m\u001b[1;33m\u001b[0m\u001b[1;33m\u001b[0m\u001b[0m\n\u001b[0;32m    544\u001b[0m             \u001b[1;32mraise\u001b[0m \u001b[0mTimeoutError\u001b[0m \u001b[1;32mfrom\u001b[0m \u001b[0me\u001b[0m\u001b[1;33m\u001b[0m\u001b[1;33m\u001b[0m\u001b[0m\n",
      "\u001b[1;32mc:\\Users\\Miguel Silva\\anaconda3\\lib\\concurrent\\futures\\_base.py\u001b[0m in \u001b[0;36mresult\u001b[1;34m(self, timeout)\u001b[0m\n\u001b[0;32m    438\u001b[0m                     \u001b[1;32mreturn\u001b[0m \u001b[0mself\u001b[0m\u001b[1;33m.\u001b[0m\u001b[0m__get_result\u001b[0m\u001b[1;33m(\u001b[0m\u001b[1;33m)\u001b[0m\u001b[1;33m\u001b[0m\u001b[1;33m\u001b[0m\u001b[0m\n\u001b[0;32m    439\u001b[0m \u001b[1;33m\u001b[0m\u001b[0m\n\u001b[1;32m--> 440\u001b[1;33m                 \u001b[0mself\u001b[0m\u001b[1;33m.\u001b[0m\u001b[0m_condition\u001b[0m\u001b[1;33m.\u001b[0m\u001b[0mwait\u001b[0m\u001b[1;33m(\u001b[0m\u001b[0mtimeout\u001b[0m\u001b[1;33m)\u001b[0m\u001b[1;33m\u001b[0m\u001b[1;33m\u001b[0m\u001b[0m\n\u001b[0m\u001b[0;32m    441\u001b[0m \u001b[1;33m\u001b[0m\u001b[0m\n\u001b[0;32m    442\u001b[0m                 \u001b[1;32mif\u001b[0m \u001b[0mself\u001b[0m\u001b[1;33m.\u001b[0m\u001b[0m_state\u001b[0m \u001b[1;32min\u001b[0m \u001b[1;33m[\u001b[0m\u001b[0mCANCELLED\u001b[0m\u001b[1;33m,\u001b[0m \u001b[0mCANCELLED_AND_NOTIFIED\u001b[0m\u001b[1;33m]\u001b[0m\u001b[1;33m:\u001b[0m\u001b[1;33m\u001b[0m\u001b[1;33m\u001b[0m\u001b[0m\n",
      "\u001b[1;32mc:\\Users\\Miguel Silva\\anaconda3\\lib\\threading.py\u001b[0m in \u001b[0;36mwait\u001b[1;34m(self, timeout)\u001b[0m\n\u001b[0;32m    310\u001b[0m         \u001b[1;32mtry\u001b[0m\u001b[1;33m:\u001b[0m    \u001b[1;31m# restore state no matter what (e.g., KeyboardInterrupt)\u001b[0m\u001b[1;33m\u001b[0m\u001b[1;33m\u001b[0m\u001b[0m\n\u001b[0;32m    311\u001b[0m             \u001b[1;32mif\u001b[0m \u001b[0mtimeout\u001b[0m \u001b[1;32mis\u001b[0m \u001b[1;32mNone\u001b[0m\u001b[1;33m:\u001b[0m\u001b[1;33m\u001b[0m\u001b[1;33m\u001b[0m\u001b[0m\n\u001b[1;32m--> 312\u001b[1;33m                 \u001b[0mwaiter\u001b[0m\u001b[1;33m.\u001b[0m\u001b[0macquire\u001b[0m\u001b[1;33m(\u001b[0m\u001b[1;33m)\u001b[0m\u001b[1;33m\u001b[0m\u001b[1;33m\u001b[0m\u001b[0m\n\u001b[0m\u001b[0;32m    313\u001b[0m                 \u001b[0mgotit\u001b[0m \u001b[1;33m=\u001b[0m \u001b[1;32mTrue\u001b[0m\u001b[1;33m\u001b[0m\u001b[1;33m\u001b[0m\u001b[0m\n\u001b[0;32m    314\u001b[0m             \u001b[1;32melse\u001b[0m\u001b[1;33m:\u001b[0m\u001b[1;33m\u001b[0m\u001b[1;33m\u001b[0m\u001b[0m\n",
      "\u001b[1;31mKeyboardInterrupt\u001b[0m: "
     ]
    }
   ],
   "source": [
    "from sklearn.neural_network import MLPClassifier\n",
    "from sklearn.preprocessing import StandardScaler\n",
    "from sklearn.model_selection import GridSearchCV\n",
    "from sklearn.metrics import classification_report\n",
    "\n",
    "NN_evaluation = {\"Parameters\": [], \"Oversampling\": [], \"Feature Selection\": [], \"Accuracy\": [], \"Precision\": [], \"Recall\": [], \"Confusion Matrix\" : [], 'Features': []}\n",
    "\n",
    "def NN_Function(df_filtered: pd.DataFrame, \n",
    "                client_set: pd.DataFrame, \n",
    "                NN_evaluation: Dict[str, list], \n",
    "                oversampling_method: Literal['smote', 'doubling', \"class weights\"] = \"class weights\", \n",
    "                feature_selection: Literal['All', 'correlation', 'info_gain', 'feat_comb']='All'):\n",
    "\n",
    "     oversample = {\"smote\": oversampling_smote, \"doubling\": oversampling_double}\n",
    "     parameter_space = {'hidden_layer_sizes': [(10,30,10),(20,)], 'activation': ['tanh', 'relu'],  \n",
    "                        'solver': ['sgd', 'adam'], 'alpha': [0.0001, 0.001, 0.05], 'learning_rate': ['constant','adaptive']}\n",
    "     \n",
    "     feat = None\n",
    "     \n",
    "     # feature selection\n",
    "     if feature_selection == 'correlation': feat = Corr_selection(df_filtered.drop(columns='num'), 'spearman', 0.2)\n",
    "     elif feature_selection == 'info_gain': feat = InfoGain_selection(df_filtered.drop(columns='num'), df_filtered['num'], 6)[1]\n",
    "     elif feature_selection == 'feat_comb': feat = feature_combination(df_filtered.drop(columns='num'))\n",
    "     elif feature_selection == 'All': feat = [list(df_filtered.drop(columns='num').columns)]\n",
    "\n",
    "     for feat_select in feat:\n",
    "        \n",
    "        # selecting features\n",
    "        df_train = df_filtered[list(feat_select) + [\"num\"]]\n",
    "\n",
    "        if oversampling_method in ['smote', 'doubling']:\n",
    "\n",
    "            # oversampling the training set\n",
    "            X_train = oversample[oversampling_method](df_train).drop(columns='num')\n",
    "            y_train = oversample[oversampling_method](df_train).num\n",
    "        \n",
    "        else:\n",
    "            X_train = df_filtered.drop(columns=\"num\")\n",
    "            y_train = df_filtered[\"num\"]\n",
    "\n",
    "        X_test = client_set[list(feat_select)]\n",
    "        y_test = client_set[\"num\"]\n",
    "\n",
    "        # rescaling datasets\n",
    "        scaler = StandardScaler()\n",
    "        X_train = scaler.fit_transform(X_train)\n",
    "        X_test = scaler.transform(X_test)\n",
    "\n",
    "        # finding the best parameters with grid search\n",
    "        model = MLPClassifier(max_iter=200)\n",
    "        clf = GridSearchCV(model, parameter_space, n_jobs=-1, cv=10)\n",
    "        clf.fit(X_train, y_train)\n",
    "\n",
    "        # optimization\n",
    "        best_parameters = clf.best_params_\n",
    "\n",
    "        y_predict = clf.predict(X_test)\n",
    "\n",
    "        NN_evaluation[\"Parameters\"].append(best_parameters)\n",
    "        NN_evaluation[\"Oversampling\"].append(oversampling_method)\n",
    "        NN_evaluation[\"Features\"].append(feat_select)\n",
    "        NN_evaluation[\"Feature Selection\"].append(feature_selection)\n",
    "        NN_evaluation[\"Accuracy\"].append(accuracy_score(y_test, y_predict))\n",
    "        NN_evaluation[\"Precision\"].append(precision_score(y_test, y_predict, average='macro'))\n",
    "        NN_evaluation[\"Recall\"].append(recall_score(y_test, y_predict, average='macro'))\n",
    "        NN_evaluation[\"Confusion Matrix\"].append(confusion_matrix(y_test, y_predict))\n",
    "        \n",
    "     return NN_evaluation\n",
    "\n",
    "\n",
    "list_parameters = list(product(['smote', 'doubling', \"class weights\"],\n",
    "                               ['correlation', 'info_gain', 'feat_comb', 'All']))\n",
    "\n",
    "for par in list_parameters:\n",
    "\n",
    "    NN_evaluation = NN_Function(df_filtered,\n",
    "                                client_set,\n",
    "                                NN_evaluation, \n",
    "                                oversampling_method=par[0],\n",
    "                                feature_selection=par[1])"
   ]
  },
  {
   "cell_type": "markdown",
   "id": "07fd4e59",
   "metadata": {},
   "source": [
    "# 9. References\n",
    "<a id=\"1\">[1]</a>\n",
    "Anggoro, Dimas Aryo and Kurnia, Naqshauliza Devi (2020). \n",
    "Comparison of accuracy level of support vector machine (SVM) and K-nearest neighbors (KNN) algorithms in predicting heart disease\n",
    "International Journal, 8(5), 1689--1694.\n",
    "\n",
    "<a id=\"2\">[2]</a>\n",
    "https://www.kaggle.com/code/zawlinnnaing/svm-for-multiclass-classification"
   ]
  }
 ],
 "metadata": {
  "kernelspec": {
   "display_name": "Python 3 (ipykernel)",
   "language": "python",
   "name": "python3"
  },
  "language_info": {
   "codemirror_mode": {
    "name": "ipython",
    "version": 3
   },
   "file_extension": ".py",
   "mimetype": "text/x-python",
   "name": "python",
   "nbconvert_exporter": "python",
   "pygments_lexer": "ipython3",
   "version": "3.9.7"
  }
 },
 "nbformat": 4,
 "nbformat_minor": 5
}
