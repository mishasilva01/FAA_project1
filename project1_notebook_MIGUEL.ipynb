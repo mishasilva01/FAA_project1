{
 "cells": [
  {
   "cell_type": "markdown",
   "id": "8aa42fe9",
   "metadata": {},
   "source": [
    "# 1. First steps\n",
    "\n",
    "______________\n",
    "\n",
    "Importing Libraries."
   ]
  },
  {
   "cell_type": "code",
   "execution_count": 74,
   "id": "149f21df",
   "metadata": {},
   "outputs": [],
   "source": [
    "import pandas as pd\n",
    "import numpy as np\n",
    "import matplotlib.pyplot as plt\n",
    "\n",
    "from imblearn.over_sampling import SMOTE\n",
    "from ucimlrepo import fetch_ucirepo \n",
    "from sklearn.model_selection import train_test_split,GridSearchCV, cross_val_score\n",
    "from sklearn.feature_selection import mutual_info_classif\n",
    "from sklearn.tree import DecisionTreeClassifier\n",
    "from sklearn.preprocessing import Normalizer\n",
    "from sklearn.neighbors import KNeighborsClassifier\n",
    "from sklearn.svm import SVC\n",
    "from sklearn.metrics import confusion_matrix, classification_report, accuracy_score, precision_score, recall_score\n",
    "\n",
    "from typing import List, Tuple, Literal, Dict\n",
    "from itertools import combinations, product\n",
    "\n",
    "import warnings\n",
    "warnings.filterwarnings(\"ignore\")\n",
    "warnings.simplefilter(action='ignore', category=FutureWarning)"
   ]
  },
  {
   "cell_type": "code",
   "execution_count": 2,
   "id": "eb66768e",
   "metadata": {
    "scrolled": false
   },
   "outputs": [],
   "source": [
    "# fetch dataset \n",
    "heart_disease = fetch_ucirepo(id=45) \n",
    "  \n",
    "# data (as pandas dataframes) \n",
    "X = heart_disease.data.features \n",
    "y = heart_disease.data.targets \n",
    "\n",
    "df = pd.concat([X, y], axis=1)\n",
    "df.to_csv(\"dataset.csv\")"
   ]
  },
  {
   "cell_type": "markdown",
   "id": "e087521a",
   "metadata": {},
   "source": [
    "# 2. Getting acquainted with data\n",
    "\n",
    "_________________\n",
    "\n",
    "- Categorical features:\n",
    "   - *age*\n",
    "   - *trestbps* - resting blood pressure /*mm Hg* (on admission to the hospital)\n",
    "   - *chol* - serum cholesterol in *mg/dl*\n",
    "   - *thalach* - Maximum heart rate achieved /*bps*\n",
    "   - *oldpeak* -  ST depression induced by exercise relative to rest \n",
    "   - *ca* - Number of major vessels (0-3) colored by fluoroscopy\n",
    "\n",
    "- Integer features:\n",
    "   - *sex* \n",
    "       - 0: female\n",
    "       - 1: male\n",
    "   - *cp* - chest pain\n",
    "       - 1: typical angina\n",
    "       - 2: atypical angina\n",
    "       - 3: non-anginal pain\n",
    "       - 4: asymptomatic\n",
    "   - *fbs* - fasting blood sugar > 120 mg/dl\n",
    "       - 0: False\n",
    "       - 1: True\n",
    "   - *restecg* - Resting electrocardiographic results\n",
    "       - 0: Normal\n",
    "       - 1: Having ST-T wave abnormality (T wave inversions and/or ST elevation or depression of > 0.05 mV)\n",
    "       - 2: Showing probable or definite left ventricular hypertrophy by Estes' criteria\n",
    "   - *exang* - Exercise induced angina\n",
    "       - 0: No\n",
    "       - 1: Yes\n",
    "   - *slope* - The slope of the peak exercise ST segment\n",
    "       - 1: Up sloping\n",
    "       - 2: Flat\n",
    "       - 3: Down sloping\n",
    "   - *thal*\n",
    "       - 3: Normal\n",
    "       - 6: Fixed defect\n",
    "       - 7: Reversible defect\n",
    "- Label\n",
    "    - *num* - The final diagnosis of heart disease (angiographic disease status)\n",
    "\n",
    "##### The information was taken from:\n",
    "Nassif A. (et al). 2018. Machine Learning Classifications of Coronary Artery Disease. DOI: 10.1109/iSAI-NLP.2018.8692942"
   ]
  },
  {
   "cell_type": "code",
   "execution_count": 3,
   "id": "f80b46f1",
   "metadata": {
    "scrolled": true
   },
   "outputs": [
    {
     "data": {
      "text/html": [
       "<div>\n",
       "<style scoped>\n",
       "    .dataframe tbody tr th:only-of-type {\n",
       "        vertical-align: middle;\n",
       "    }\n",
       "\n",
       "    .dataframe tbody tr th {\n",
       "        vertical-align: top;\n",
       "    }\n",
       "\n",
       "    .dataframe thead th {\n",
       "        text-align: right;\n",
       "    }\n",
       "</style>\n",
       "<table border=\"1\" class=\"dataframe\">\n",
       "  <thead>\n",
       "    <tr style=\"text-align: right;\">\n",
       "      <th></th>\n",
       "      <th>age</th>\n",
       "      <th>sex</th>\n",
       "      <th>cp</th>\n",
       "      <th>trestbps</th>\n",
       "      <th>chol</th>\n",
       "      <th>fbs</th>\n",
       "      <th>restecg</th>\n",
       "      <th>thalach</th>\n",
       "      <th>exang</th>\n",
       "      <th>oldpeak</th>\n",
       "      <th>slope</th>\n",
       "      <th>ca</th>\n",
       "      <th>thal</th>\n",
       "      <th>num</th>\n",
       "    </tr>\n",
       "  </thead>\n",
       "  <tbody>\n",
       "    <tr>\n",
       "      <th>0</th>\n",
       "      <td>63</td>\n",
       "      <td>1</td>\n",
       "      <td>1</td>\n",
       "      <td>145</td>\n",
       "      <td>233</td>\n",
       "      <td>1</td>\n",
       "      <td>2</td>\n",
       "      <td>150</td>\n",
       "      <td>0</td>\n",
       "      <td>2.3</td>\n",
       "      <td>3</td>\n",
       "      <td>0.0</td>\n",
       "      <td>6.0</td>\n",
       "      <td>0</td>\n",
       "    </tr>\n",
       "    <tr>\n",
       "      <th>1</th>\n",
       "      <td>67</td>\n",
       "      <td>1</td>\n",
       "      <td>4</td>\n",
       "      <td>160</td>\n",
       "      <td>286</td>\n",
       "      <td>0</td>\n",
       "      <td>2</td>\n",
       "      <td>108</td>\n",
       "      <td>1</td>\n",
       "      <td>1.5</td>\n",
       "      <td>2</td>\n",
       "      <td>3.0</td>\n",
       "      <td>3.0</td>\n",
       "      <td>2</td>\n",
       "    </tr>\n",
       "    <tr>\n",
       "      <th>2</th>\n",
       "      <td>67</td>\n",
       "      <td>1</td>\n",
       "      <td>4</td>\n",
       "      <td>120</td>\n",
       "      <td>229</td>\n",
       "      <td>0</td>\n",
       "      <td>2</td>\n",
       "      <td>129</td>\n",
       "      <td>1</td>\n",
       "      <td>2.6</td>\n",
       "      <td>2</td>\n",
       "      <td>2.0</td>\n",
       "      <td>7.0</td>\n",
       "      <td>1</td>\n",
       "    </tr>\n",
       "    <tr>\n",
       "      <th>3</th>\n",
       "      <td>37</td>\n",
       "      <td>1</td>\n",
       "      <td>3</td>\n",
       "      <td>130</td>\n",
       "      <td>250</td>\n",
       "      <td>0</td>\n",
       "      <td>0</td>\n",
       "      <td>187</td>\n",
       "      <td>0</td>\n",
       "      <td>3.5</td>\n",
       "      <td>3</td>\n",
       "      <td>0.0</td>\n",
       "      <td>3.0</td>\n",
       "      <td>0</td>\n",
       "    </tr>\n",
       "    <tr>\n",
       "      <th>4</th>\n",
       "      <td>41</td>\n",
       "      <td>0</td>\n",
       "      <td>2</td>\n",
       "      <td>130</td>\n",
       "      <td>204</td>\n",
       "      <td>0</td>\n",
       "      <td>2</td>\n",
       "      <td>172</td>\n",
       "      <td>0</td>\n",
       "      <td>1.4</td>\n",
       "      <td>1</td>\n",
       "      <td>0.0</td>\n",
       "      <td>3.0</td>\n",
       "      <td>0</td>\n",
       "    </tr>\n",
       "  </tbody>\n",
       "</table>\n",
       "</div>"
      ],
      "text/plain": [
       "   age  sex  cp  trestbps  chol  fbs  restecg  thalach  exang  oldpeak  slope  \\\n",
       "0   63    1   1       145   233    1        2      150      0      2.3      3   \n",
       "1   67    1   4       160   286    0        2      108      1      1.5      2   \n",
       "2   67    1   4       120   229    0        2      129      1      2.6      2   \n",
       "3   37    1   3       130   250    0        0      187      0      3.5      3   \n",
       "4   41    0   2       130   204    0        2      172      0      1.4      1   \n",
       "\n",
       "    ca  thal  num  \n",
       "0  0.0   6.0    0  \n",
       "1  3.0   3.0    2  \n",
       "2  2.0   7.0    1  \n",
       "3  0.0   3.0    0  \n",
       "4  0.0   3.0    0  "
      ]
     },
     "execution_count": 3,
     "metadata": {},
     "output_type": "execute_result"
    }
   ],
   "source": [
    "df.head()"
   ]
  },
  {
   "cell_type": "code",
   "execution_count": 3,
   "id": "075a0e22",
   "metadata": {},
   "outputs": [
    {
     "name": "stdout",
     "output_type": "stream",
     "text": [
      "<class 'pandas.core.frame.DataFrame'>\n",
      "RangeIndex: 303 entries, 0 to 302\n",
      "Data columns (total 14 columns):\n",
      " #   Column    Non-Null Count  Dtype  \n",
      "---  ------    --------------  -----  \n",
      " 0   age       303 non-null    int64  \n",
      " 1   sex       303 non-null    int64  \n",
      " 2   cp        303 non-null    int64  \n",
      " 3   trestbps  303 non-null    int64  \n",
      " 4   chol      303 non-null    int64  \n",
      " 5   fbs       303 non-null    int64  \n",
      " 6   restecg   303 non-null    int64  \n",
      " 7   thalach   303 non-null    int64  \n",
      " 8   exang     303 non-null    int64  \n",
      " 9   oldpeak   303 non-null    float64\n",
      " 10  slope     303 non-null    int64  \n",
      " 11  ca        299 non-null    float64\n",
      " 12  thal      301 non-null    float64\n",
      " 13  num       303 non-null    int64  \n",
      "dtypes: float64(3), int64(11)\n",
      "memory usage: 33.3 KB\n"
     ]
    }
   ],
   "source": [
    "df.info()"
   ]
  },
  {
   "cell_type": "code",
   "execution_count": 4,
   "id": "74ee3d17",
   "metadata": {
    "scrolled": true
   },
   "outputs": [
    {
     "data": {
      "text/html": [
       "<div>\n",
       "<style scoped>\n",
       "    .dataframe tbody tr th:only-of-type {\n",
       "        vertical-align: middle;\n",
       "    }\n",
       "\n",
       "    .dataframe tbody tr th {\n",
       "        vertical-align: top;\n",
       "    }\n",
       "\n",
       "    .dataframe thead th {\n",
       "        text-align: right;\n",
       "    }\n",
       "</style>\n",
       "<table border=\"1\" class=\"dataframe\">\n",
       "  <thead>\n",
       "    <tr style=\"text-align: right;\">\n",
       "      <th></th>\n",
       "      <th>age</th>\n",
       "      <th>sex</th>\n",
       "      <th>cp</th>\n",
       "      <th>trestbps</th>\n",
       "      <th>chol</th>\n",
       "      <th>fbs</th>\n",
       "      <th>restecg</th>\n",
       "      <th>thalach</th>\n",
       "      <th>exang</th>\n",
       "      <th>oldpeak</th>\n",
       "      <th>slope</th>\n",
       "      <th>ca</th>\n",
       "      <th>thal</th>\n",
       "      <th>num</th>\n",
       "    </tr>\n",
       "  </thead>\n",
       "  <tbody>\n",
       "    <tr>\n",
       "      <th>count</th>\n",
       "      <td>303.000000</td>\n",
       "      <td>303.000000</td>\n",
       "      <td>303.000000</td>\n",
       "      <td>303.000000</td>\n",
       "      <td>303.000000</td>\n",
       "      <td>303.000000</td>\n",
       "      <td>303.000000</td>\n",
       "      <td>303.000000</td>\n",
       "      <td>303.000000</td>\n",
       "      <td>303.000000</td>\n",
       "      <td>303.000000</td>\n",
       "      <td>299.000000</td>\n",
       "      <td>301.000000</td>\n",
       "      <td>303.000000</td>\n",
       "    </tr>\n",
       "    <tr>\n",
       "      <th>mean</th>\n",
       "      <td>54.438944</td>\n",
       "      <td>0.679868</td>\n",
       "      <td>3.158416</td>\n",
       "      <td>131.689769</td>\n",
       "      <td>246.693069</td>\n",
       "      <td>0.148515</td>\n",
       "      <td>0.990099</td>\n",
       "      <td>149.607261</td>\n",
       "      <td>0.326733</td>\n",
       "      <td>1.039604</td>\n",
       "      <td>1.600660</td>\n",
       "      <td>0.672241</td>\n",
       "      <td>4.734219</td>\n",
       "      <td>0.937294</td>\n",
       "    </tr>\n",
       "    <tr>\n",
       "      <th>std</th>\n",
       "      <td>9.038662</td>\n",
       "      <td>0.467299</td>\n",
       "      <td>0.960126</td>\n",
       "      <td>17.599748</td>\n",
       "      <td>51.776918</td>\n",
       "      <td>0.356198</td>\n",
       "      <td>0.994971</td>\n",
       "      <td>22.875003</td>\n",
       "      <td>0.469794</td>\n",
       "      <td>1.161075</td>\n",
       "      <td>0.616226</td>\n",
       "      <td>0.937438</td>\n",
       "      <td>1.939706</td>\n",
       "      <td>1.228536</td>\n",
       "    </tr>\n",
       "    <tr>\n",
       "      <th>min</th>\n",
       "      <td>29.000000</td>\n",
       "      <td>0.000000</td>\n",
       "      <td>1.000000</td>\n",
       "      <td>94.000000</td>\n",
       "      <td>126.000000</td>\n",
       "      <td>0.000000</td>\n",
       "      <td>0.000000</td>\n",
       "      <td>71.000000</td>\n",
       "      <td>0.000000</td>\n",
       "      <td>0.000000</td>\n",
       "      <td>1.000000</td>\n",
       "      <td>0.000000</td>\n",
       "      <td>3.000000</td>\n",
       "      <td>0.000000</td>\n",
       "    </tr>\n",
       "    <tr>\n",
       "      <th>25%</th>\n",
       "      <td>48.000000</td>\n",
       "      <td>0.000000</td>\n",
       "      <td>3.000000</td>\n",
       "      <td>120.000000</td>\n",
       "      <td>211.000000</td>\n",
       "      <td>0.000000</td>\n",
       "      <td>0.000000</td>\n",
       "      <td>133.500000</td>\n",
       "      <td>0.000000</td>\n",
       "      <td>0.000000</td>\n",
       "      <td>1.000000</td>\n",
       "      <td>0.000000</td>\n",
       "      <td>3.000000</td>\n",
       "      <td>0.000000</td>\n",
       "    </tr>\n",
       "    <tr>\n",
       "      <th>50%</th>\n",
       "      <td>56.000000</td>\n",
       "      <td>1.000000</td>\n",
       "      <td>3.000000</td>\n",
       "      <td>130.000000</td>\n",
       "      <td>241.000000</td>\n",
       "      <td>0.000000</td>\n",
       "      <td>1.000000</td>\n",
       "      <td>153.000000</td>\n",
       "      <td>0.000000</td>\n",
       "      <td>0.800000</td>\n",
       "      <td>2.000000</td>\n",
       "      <td>0.000000</td>\n",
       "      <td>3.000000</td>\n",
       "      <td>0.000000</td>\n",
       "    </tr>\n",
       "    <tr>\n",
       "      <th>75%</th>\n",
       "      <td>61.000000</td>\n",
       "      <td>1.000000</td>\n",
       "      <td>4.000000</td>\n",
       "      <td>140.000000</td>\n",
       "      <td>275.000000</td>\n",
       "      <td>0.000000</td>\n",
       "      <td>2.000000</td>\n",
       "      <td>166.000000</td>\n",
       "      <td>1.000000</td>\n",
       "      <td>1.600000</td>\n",
       "      <td>2.000000</td>\n",
       "      <td>1.000000</td>\n",
       "      <td>7.000000</td>\n",
       "      <td>2.000000</td>\n",
       "    </tr>\n",
       "    <tr>\n",
       "      <th>max</th>\n",
       "      <td>77.000000</td>\n",
       "      <td>1.000000</td>\n",
       "      <td>4.000000</td>\n",
       "      <td>200.000000</td>\n",
       "      <td>564.000000</td>\n",
       "      <td>1.000000</td>\n",
       "      <td>2.000000</td>\n",
       "      <td>202.000000</td>\n",
       "      <td>1.000000</td>\n",
       "      <td>6.200000</td>\n",
       "      <td>3.000000</td>\n",
       "      <td>3.000000</td>\n",
       "      <td>7.000000</td>\n",
       "      <td>4.000000</td>\n",
       "    </tr>\n",
       "  </tbody>\n",
       "</table>\n",
       "</div>"
      ],
      "text/plain": [
       "              age         sex          cp    trestbps        chol         fbs  \\\n",
       "count  303.000000  303.000000  303.000000  303.000000  303.000000  303.000000   \n",
       "mean    54.438944    0.679868    3.158416  131.689769  246.693069    0.148515   \n",
       "std      9.038662    0.467299    0.960126   17.599748   51.776918    0.356198   \n",
       "min     29.000000    0.000000    1.000000   94.000000  126.000000    0.000000   \n",
       "25%     48.000000    0.000000    3.000000  120.000000  211.000000    0.000000   \n",
       "50%     56.000000    1.000000    3.000000  130.000000  241.000000    0.000000   \n",
       "75%     61.000000    1.000000    4.000000  140.000000  275.000000    0.000000   \n",
       "max     77.000000    1.000000    4.000000  200.000000  564.000000    1.000000   \n",
       "\n",
       "          restecg     thalach       exang     oldpeak       slope          ca  \\\n",
       "count  303.000000  303.000000  303.000000  303.000000  303.000000  299.000000   \n",
       "mean     0.990099  149.607261    0.326733    1.039604    1.600660    0.672241   \n",
       "std      0.994971   22.875003    0.469794    1.161075    0.616226    0.937438   \n",
       "min      0.000000   71.000000    0.000000    0.000000    1.000000    0.000000   \n",
       "25%      0.000000  133.500000    0.000000    0.000000    1.000000    0.000000   \n",
       "50%      1.000000  153.000000    0.000000    0.800000    2.000000    0.000000   \n",
       "75%      2.000000  166.000000    1.000000    1.600000    2.000000    1.000000   \n",
       "max      2.000000  202.000000    1.000000    6.200000    3.000000    3.000000   \n",
       "\n",
       "             thal         num  \n",
       "count  301.000000  303.000000  \n",
       "mean     4.734219    0.937294  \n",
       "std      1.939706    1.228536  \n",
       "min      3.000000    0.000000  \n",
       "25%      3.000000    0.000000  \n",
       "50%      3.000000    0.000000  \n",
       "75%      7.000000    2.000000  \n",
       "max      7.000000    4.000000  "
      ]
     },
     "execution_count": 4,
     "metadata": {},
     "output_type": "execute_result"
    }
   ],
   "source": [
    "df.describe()"
   ]
  },
  {
   "cell_type": "code",
   "execution_count": 5,
   "id": "833e3f6d",
   "metadata": {
    "scrolled": false
   },
   "outputs": [
    {
     "data": {
      "text/plain": [
       "age         0\n",
       "sex         0\n",
       "cp          0\n",
       "trestbps    0\n",
       "chol        0\n",
       "fbs         0\n",
       "restecg     0\n",
       "thalach     0\n",
       "exang       0\n",
       "oldpeak     0\n",
       "slope       0\n",
       "ca          4\n",
       "thal        2\n",
       "dtype: int64"
      ]
     },
     "execution_count": 5,
     "metadata": {},
     "output_type": "execute_result"
    }
   ],
   "source": [
    "# checking the number of missing values in each feature\n",
    "X.isnull().sum()"
   ]
  },
  {
   "cell_type": "code",
   "execution_count": 6,
   "id": "311225c3",
   "metadata": {
    "scrolled": true
   },
   "outputs": [
    {
     "data": {
      "text/plain": [
       "0    164\n",
       "1     55\n",
       "2     36\n",
       "3     35\n",
       "4     13\n",
       "Name: num, dtype: int64"
      ]
     },
     "execution_count": 6,
     "metadata": {},
     "output_type": "execute_result"
    }
   ],
   "source": [
    "# number of samples per class\n",
    "df.num.value_counts()"
   ]
  },
  {
   "cell_type": "code",
   "execution_count": 7,
   "metadata": {},
   "outputs": [
    {
     "data": {
      "image/png": "[encoded data removed]",
      "text/plain": [
       "<Figure size 2160x1080 with 14 Axes>"
      ]
     },
     "metadata": {
      "needs_background": "light"
     },
     "output_type": "display_data"
    }
   ],
   "source": [
    "nrows = 2\n",
    "ncols = int(np.ceil(len(df.columns) / (1.0*nrows)))\n",
    "fig, axes = plt.subplots(nrows=nrows, ncols=ncols, figsize=(30, 15))\n",
    "counter = 0\n",
    "for i in range(nrows):\n",
    "    for j in range(ncols):\n",
    "\n",
    "        ax = axes[i][j]\n",
    "        if counter < len(df.columns):\n",
    "\n",
    "            ax.hist(df[df.columns[counter]], bins=10, color='blue', alpha=0.5)\n",
    "            ax.set_title(df.columns[counter])\n",
    "\n",
    "        else: ax.set_axis_off()\n",
    "        counter += 1"
   ]
  },
  {
   "cell_type": "markdown",
   "id": "c7693417",
   "metadata": {},
   "source": [
    "# 3. Breaf data cleaning\n",
    "\n",
    "_______________\n",
    "\n",
    "Data is already pretty clean, and there are only 6 NaN values, so we can drop those observations."
   ]
  },
  {
   "cell_type": "markdown",
   "id": "3a1302ec",
   "metadata": {},
   "source": [
    "### 3.1 Dropping NaN values\n",
    "\n",
    "_________________"
   ]
  },
  {
   "cell_type": "code",
   "execution_count": 8,
   "id": "2f0282e8",
   "metadata": {
    "scrolled": true
   },
   "outputs": [
    {
     "data": {
      "text/plain": [
       "0    160\n",
       "1     54\n",
       "2     35\n",
       "3     35\n",
       "4     13\n",
       "Name: num, dtype: int64"
      ]
     },
     "execution_count": 8,
     "metadata": {},
     "output_type": "execute_result"
    }
   ],
   "source": [
    "df = df.dropna()\n",
    "# re-checking the number of samples per class adfer dropping missing values\n",
    "df.num.value_counts()"
   ]
  },
  {
   "cell_type": "markdown",
   "id": "0b8ad683",
   "metadata": {},
   "source": [
    "- As we can see, the NaN values were part of the classes with more observations, therefore droppins NaN values does not worsen the class imbalance problem.\n",
    "\n",
    "- Since we only have 13 samples from the class with least amount of samples (y = 4), we cannot afford taking some samples as testing set, because we would loose valuable information. Therefore, we are going to work only with training and validation sets."
   ]
  },
  {
   "cell_type": "markdown",
   "id": "2f68b4dc",
   "metadata": {},
   "source": [
    "### 3.2 Separating a dataset for testing (*client data*)\n",
    "\n",
    "______________\n",
    "\n",
    "The traditional approach for splitting the dataset into train+validation+test is 60%+20%+20%."
   ]
  },
  {
   "cell_type": "code",
   "execution_count": 9,
   "id": "39f141cd",
   "metadata": {},
   "outputs": [],
   "source": [
    "# dataset to be reserved for future testing (client role)\n",
    "# making sure we have 20% from every class\n",
    "client_set = df.copy().groupby('num').apply(lambda Class: Class.sample(frac = 0.20))\n",
    "client_set.index = client_set.index.droplevel(0)\n",
    "\n",
    "# new data frame for creaing and testing models\n",
    "df_filtered = df.copy().drop(client_set.index)\n",
    "\n",
    "# reseting indices\n",
    "client_set = client_set.reset_index(drop=True)\n",
    "df_filtered = df_filtered.reset_index(drop=True)"
   ]
  },
  {
   "cell_type": "code",
   "execution_count": 10,
   "id": "09b52529",
   "metadata": {},
   "outputs": [
    {
     "data": {
      "text/plain": [
       "Text(0.5, 0.98, \"Classes' distribution\")"
      ]
     },
     "execution_count": 10,
     "metadata": {},
     "output_type": "execute_result"
    },
    {
     "data": {
      "image/png": "[encoded data removed]",
      "text/plain": [
       "<Figure size 720x720 with 2 Axes>"
      ]
     },
     "metadata": {
      "needs_background": "light"
     },
     "output_type": "display_data"
    }
   ],
   "source": [
    "fig, axes = plt.subplots(nrows=1, ncols=2, figsize=(10, 10))\n",
    "axes[0].hist(client_set.num, bins=10, color='blue', alpha=0.5)\n",
    "axes[0].set_title(\"Client Set\")\n",
    "axes[1].hist(df_filtered.num, bins=10, color='blue', alpha=0.5)\n",
    "axes[1].set_title(\"Data Set\")\n",
    "fig.suptitle(\"Classes' distribution\", fontsize=20)"
   ]
  },
  {
   "cell_type": "markdown",
   "id": "05939cb3",
   "metadata": {},
   "source": [
    "# 4. Feature Selection\n",
    "\n",
    "__________"
   ]
  },
  {
   "cell_type": "markdown",
   "metadata": {},
   "source": [
    "### 4.1 Features selection by correlation elimination\n",
    "\n",
    "___________\n",
    "\n",
    "We are using Spearman's correlation instead of Pearson's because practically all features don't have a normal distribution (as seen in the histograms above) and Spearman's is more robust to outliers.\n",
    "\n",
    "Nassif et al. (2018; 10.1109/iSAI-NLP.2018.8692942) also applied correlation evaluation, but did not use Spearman's correlation.\n",
    "\n",
    "Creating a function that selects features according correlation. The arguments of the function (1) the dataframe, (2) the correlation method, and (3) the correlation threshold for feature elimination."
   ]
  },
  {
   "cell_type": "code",
   "execution_count": 11,
   "metadata": {},
   "outputs": [],
   "source": [
    "def Corr_selection(df: pd.DataFrame, corr_method: str = 'spearman', threshold: float = 0.2) -> List:\n",
    "\n",
    "    \"\"\"This function selects the features to be eliminate according to a correlation threshold.\n",
    "    \n",
    "    Args:\n",
    "        df: Dataframe - Dataset containing all data.\n",
    "        corr_method: str - Which method to apply to calculate the correlation. Default is 'spearman'.\n",
    "        threshold: float - a limit between 0 and 1. Default is 0.2.\n",
    "    Return:\n",
    "        a list value, containing the selected features.\n",
    "        \n",
    "    \"\"\"\n",
    "    corr_matrix = X.corr(method=corr_method)\n",
    "    # covert corr_matrix to absolute values\n",
    "    corr_matrix = np.array(abs(corr_matrix))\n",
    "    # all features available\n",
    "    features = np.array(df.columns)\n",
    "    # list of features to eliminate\n",
    "    to_eliminate = []\n",
    "    # runs all lines\n",
    "    for i in range(len(features)):\n",
    "        # runs all columns\n",
    "        for j in range(len(features)):\n",
    "            \n",
    "            if corr_matrix[i,j] > threshold and corr_matrix[i,j] != 1: \n",
    "                \n",
    "                if np.mean(corr_matrix[i,:]) > np.mean(corr_matrix[:,j]): to_eliminate.append(features[i])\n",
    "                else: to_eliminate.append(features[j])\n",
    "    \n",
    "    to_eliminate = np.unique(to_eliminate)\n",
    "    selected_features = list( features[~np.isin(features, to_eliminate)] )\n",
    "    return [selected_features]"
   ]
  },
  {
   "cell_type": "markdown",
   "metadata": {},
   "source": [
    "### 4.2 Features selection by information gain\n",
    "\n",
    "__________\n",
    "\n",
    "Creating a function that selects features according to Mutual Information Gain. \n",
    "\n",
    "References:\n",
    "- Nassif et al. (2018; 10.1109/iSAI-NLP.2018.8692942)\n",
    "- Guhanesvar. *Feature Selection Based on Mutual Information Gain for Classification and Regression*. Medium. June 26, 2021."
   ]
  },
  {
   "cell_type": "code",
   "execution_count": 12,
   "metadata": {},
   "outputs": [],
   "source": [
    "def InfoGain_selection(X: pd.DataFrame, y: pd.DataFrame, n_features: int) -> Tuple[pd.Series, List]:\n",
    "\n",
    "    \"\"\"This function selects n_features according that have the greatest mutual information classification.\n",
    "\n",
    "    Args:\n",
    "        X: Dataframe - Dataset containing all data.\n",
    "        y: Dataframe - Dataset containing all target data.\n",
    "        n_features: int - Number of features to select.\n",
    "    Return:\n",
    "        a tuple of a Series and a list, of the importance and the selected features.\n",
    "    \"\"\"\n",
    "    \n",
    "    importance = mutual_info_classif(X, y)\n",
    "    importance = pd.Series(data = importance, index = X.columns)\n",
    "    importance = importance.sort_values(ascending=False)\n",
    "    selected_features = list(importance.iloc[:n_features].index)\n",
    "    return importance, [selected_features]"
   ]
  },
  {
   "cell_type": "markdown",
   "metadata": {},
   "source": [
    "### 4.3 Data selection by permutations (3 features)\n",
    "\n",
    "___________"
   ]
  },
  {
   "cell_type": "code",
   "execution_count": 13,
   "metadata": {},
   "outputs": [],
   "source": [
    "def feature_combination(X: pd.DataFrame, comb: int = 3):\n",
    "    \n",
    "    \"\"\"This function returns a dataframe with all possible permutations.\n",
    "\n",
    "    Args:\n",
    "        X: Dataframe - Dataset containing all data.\n",
    "        comb: int - length of subsequence of elements. Default is 3.\n",
    "    Rerturn:\n",
    "        a list value, containing all combinations of the columns of the Dataframe with a selected length of subsequence.\n",
    "        \n",
    "    \"\"\"\n",
    "    \n",
    "    #combination = combinations(X.columns, comb)\n",
    "    return combinations(X.columns, comb)"
   ]
  },
  {
   "cell_type": "markdown",
   "id": "ccecc673",
   "metadata": {},
   "source": [
    "# 5. Class imbalance\n",
    "\n",
    "_____________\n",
    "\n",
    "As seen in the histogram of Fig. 14, there are many more samples with label 0 than with other labels. Therefore, class imbalance has to be dealt with. According to Hoffman [1], there are several ways to reduce class imbalance, such as using other performance metrics when assessing performance (precision, recall, F1 score, and confusion matrix), performing over-sampling (when the dataset is reletively small), or using the Synthetic Minority Over-sampling Technique (SMOTE) algorithm to create synthetic samples.\n",
    "\n",
    "BUT, according to this video https://www.youtube.com/watch?v=adHqzek--d0, on stamp 3:52, the SMOTE technique is not good for multidimensional data (which is the one we have here)\n",
    "\n",
    "REFERENCE [1]: K. Hoffman. *Machine Learning: How to Handle Class Imbalance*. Analytics Vidhya. February 13, 2021."
   ]
  },
  {
   "cell_type": "markdown",
   "id": "e0c4428e",
   "metadata": {},
   "source": [
    "### 5.1 Oversampling by doubling classes different from 0\n",
    "\n",
    "_____________\n",
    "\n",
    "This method might create oversampling."
   ]
  },
  {
   "cell_type": "code",
   "execution_count": 14,
   "id": "676fa217",
   "metadata": {},
   "outputs": [],
   "source": [
    "def oversampling_double(dataframe: pd.DataFrame) -> pd.DataFrame:   \n",
    "    \n",
    "    \"\"\"This function doubles the number of samples with labels 1, 2, 3, 4.\n",
    "\n",
    "    Args:\n",
    "        dataframe: DataFrame - Dataset containing all data.\n",
    "    Return:\n",
    "        a DataFrame value.\n",
    "\n",
    "    \"\"\"\n",
    "    \n",
    "    for i in [1, 2, 3, 4]:\n",
    "\n",
    "        df_add = dataframe[dataframe['num']==i]\n",
    "        dataframe = pd.concat([dataframe, df_add], axis=0)\n",
    "\n",
    "    # Restarting indices\n",
    "    dataframe = dataframe.reset_index(drop=True)\n",
    "    return dataframe"
   ]
  },
  {
   "cell_type": "markdown",
   "id": "1c76f129",
   "metadata": {},
   "source": [
    "### 5.2 Oversampling through SMOTE\n",
    "\n",
    "____________________"
   ]
  },
  {
   "cell_type": "code",
   "execution_count": 15,
   "id": "553e0534",
   "metadata": {},
   "outputs": [],
   "source": [
    "def oversampling_smote(dataframe: pd.DataFrame) -> pd.DataFrame:\n",
    "    \"\"\" This function oversamples a dataset with the Synthetic Minority Over-sampling Technique (it is required imblearn).\n",
    "    \n",
    "    Args:\n",
    "        dataframe: DataFrame - Dataset containing all data.\n",
    "    Return:\n",
    "        a DataFrame value.\n",
    "\n",
    "    \"\"\"\n",
    "    \n",
    "    smote = SMOTE(random_state = 42)\n",
    "    X, y = smote.fit_resample(dataframe.drop(columns='num'), dataframe['num'])\n",
    "    y = pd.Series(data = y, name = 'num')\n",
    "    df_smote = pd.concat([X, y], axis = 1, join = 'inner')\n",
    "    return df_smote"
   ]
  },
  {
   "cell_type": "markdown",
   "metadata": {},
   "source": [
    "### 5.3 Oversampling through Class Weight\n",
    "\n",
    "____________________"
   ]
  },
  {
   "cell_type": "code",
   "execution_count": 16,
   "metadata": {},
   "outputs": [],
   "source": [
    "def ClassWeight(dataframe: pd.DataFrame) -> Dict:\n",
    "    \n",
    "    from sklearn.utils import class_weight\n",
    "    classes = dataframe.iloc[:,-1].unique()\n",
    "    weights = class_weight.compute_class_weight(class_weight = 'balanced', \n",
    "                                                classes = classes, \n",
    "                                                y = dataframe.iloc[:,-1])\n",
    "    ClassWeight = dict()\n",
    "    for i in range(len(classes)): ClassWeight[classes[i]] = weights[i]\n",
    "    return ClassWeight"
   ]
  },
  {
   "cell_type": "markdown",
   "metadata": {},
   "source": [
    "# 6. Creating Models\n",
    "\n",
    "____________"
   ]
  },
  {
   "cell_type": "code",
   "execution_count": 75,
   "metadata": {},
   "outputs": [],
   "source": [
    "def Function(df_filtered: pd.DataFrame, \n",
    "             Model_evaluation: Dict[str, Dict[str, list]], \n",
    "             oversampling_method: Literal['smote', 'doubling', \"class weights\"] = \"class weights\",\n",
    "             estimator: Literal['Decision_Tree', 'SVM', 'KNN']='Decision_Tree', \n",
    "             feature_selection: Literal['All', 'correlation', 'info_gain', 'feat_comb']='All', \n",
    "             grid_search_name: Literal[\"Decision_Tree\", \"SVM\", \"KNN\"]=\"Decision_Tree\"):\n",
    "\n",
    "    # given parameters to search for the best (grid search)\n",
    "    oversample = {\"smote\": oversampling_smote, \"doubling\": oversampling_double}\n",
    "    estimator_function = {\"Decision_Tree\":DecisionTreeClassifier, \"SVM\": SVC, \"KNN\": KNeighborsClassifier}\n",
    "    parameters_grid = {\"Decision_Tree\": {'criterion': ['gini', 'entropy'], \n",
    "                                         'max_depth': [None, 1, 2, 3, 4, 5, 10, 15, 20, 30], \n",
    "                                         'min_samples_leaf': [1, 2, 4]}, \n",
    "                       \"SVM\": {'kernel': ['rbf', 'linear', 'sigmoid'], \n",
    "                               'gamma': [1e-2, 1e-3, 1e-4], \n",
    "                               'C': [1, 10, 100, 1000]}, \n",
    "                       \"KNN\": {'metric': ['euclidean', 'cityblock', 'chebyshev'], \n",
    "                               'n_neighbors': [1, 2, 3, 4]}}\n",
    "\n",
    "    feat, classifier = None, None\n",
    "    # feature selection\n",
    "    if feature_selection == 'correlation': feat = Corr_selection(df_filtered.drop(columns='num'), 'spearman', 0.2)\n",
    "    elif feature_selection == 'info_gain': feat = InfoGain_selection(df_filtered.drop(columns='num'), df_filtered['num'], 6)[1]\n",
    "    elif feature_selection == 'feat_comb': feat = feature_combination(df_filtered.drop(columns='num'))\n",
    "    elif feature_selection == 'All': feat = [list(df_filtered.drop(columns='num').columns)]\n",
    "\n",
    "    for feat_select in feat:\n",
    "        \n",
    "        X_train, X_test, y_train, y_test, best_parameters = None, None, None, None, None\n",
    "        \n",
    "        # selecting features\n",
    "        if type(feat_select) == list: feat_select.append('num')\n",
    "        else: feat_select = list(feat_select + ('num', ))\n",
    "        \n",
    "        # dataframe after selecting features\n",
    "        new_df = df_filtered[feat_select]\n",
    "\n",
    "        # separating train and test sets (20% out of the 80% after splitting the client's dataset)\n",
    "        X_train, X_test, y_train, y_test = train_test_split(new_df.drop(columns=\"num\"), new_df[\"num\"], test_size=0.20/0.80, random_state=42)\n",
    "        \n",
    "        # oversampling\n",
    "        if oversampling_method in ['smote', 'doubling']:\n",
    "\n",
    "            # dataframe with training samples\n",
    "            df_train = pd.concat([X_train, y_train], axis=1, join='inner')\n",
    "            # oversampling the training set\n",
    "            X_train = oversample[oversampling_method](df_train).drop(columns=['num'])\n",
    "            y_train = oversample[oversampling_method](df_train).num\n",
    "\n",
    "        # standardizing training and validation sets\n",
    "        if estimator in [\"SVM\", \"KNN\"]:\n",
    "            \n",
    "            norm = Normalizer()\n",
    "            X_train = norm.fit_transform(X_train)\n",
    "            X_test = norm.transform(X_test)\n",
    "\n",
    "        # applying grid search\n",
    "        if oversampling_method in ['smote', 'doubling']:\n",
    "\n",
    "            if feature_selection in ['correlation', 'info_gain', 'All']:\n",
    "    \n",
    "                # finding the best parameters for the model\n",
    "                grid_search = GridSearchCV(estimator = estimator_function[estimator](), \n",
    "                                           param_grid = parameters_grid[grid_search_name], \n",
    "                                           cv = 5, scoring = 'accuracy')\n",
    "                grid_search.fit(X_train, y_train)\n",
    "                \n",
    "                # optimization\n",
    "                best_parameters = grid_search.best_params_\n",
    "\n",
    "                # creating and fitting the model\n",
    "                classifier = estimator_function[estimator](**best_parameters)\n",
    "\n",
    "            else: classifier = estimator_function[estimator]()\n",
    "\n",
    "        elif oversampling_method == \"class weights\":\n",
    "\n",
    "            if feature_selection in ['correlation', 'info_gain', 'All']:\n",
    "                \n",
    "                grid_search = None\n",
    "                # finding the best parameters for the model\n",
    "                if estimator in [\"Decision_Tree\", \"SVM\"]:\n",
    "\n",
    "                    grid_search = GridSearchCV(estimator = estimator_function[estimator](class_weight = ClassWeight(new_df)), \n",
    "                                            param_grid = parameters_grid[grid_search_name], \n",
    "                                            cv = 5, scoring = 'accuracy')\n",
    "                    grid_search.fit(X_train, y_train)\n",
    "\n",
    "                    # optimization\n",
    "                    best_parameters = grid_search.best_params_\n",
    "\n",
    "                    # creating and fitting the model\n",
    "                    classifier = estimator_function[estimator](**best_parameters, class_weight = ClassWeight(new_df))\n",
    "\n",
    "                else: \n",
    "\n",
    "                    grid_search = GridSearchCV(estimator = estimator_function[estimator](), \n",
    "                                            param_grid = parameters_grid[grid_search_name], \n",
    "                                            cv = 5, scoring = 'accuracy')\n",
    "                    grid_search.fit(X_train, y_train)\n",
    "\n",
    "                    # optimization\n",
    "                    best_parameters = grid_search.best_params_\n",
    "\n",
    "                    # creating and fitting the model\n",
    "                    classifier = estimator_function[estimator](**best_parameters)\n",
    "\n",
    "            else: \n",
    "                \n",
    "                if estimator in [\"Decision_Tree\", \"SVM\"]: classifier = estimator_function[estimator](class_weight = ClassWeight(new_df))\n",
    "                else: classifier = estimator_function[estimator]()\n",
    "\n",
    "        classifier = classifier.fit(X_train, y_train)\n",
    "        y_predict = classifier.predict(X_test)\n",
    "\n",
    "        Model_evaluation[estimator][\"Parameters\"].append(classifier.get_params())\n",
    "        Model_evaluation[estimator][\"Oversampling\"].append(oversampling_method)\n",
    "        Model_evaluation[estimator][\"Features\"].append(feat_select)\n",
    "        Model_evaluation[estimator][\"Feature Selection\"].append(feature_selection)\n",
    "        Model_evaluation[estimator][\"Accuracy\"].append(accuracy_score(y_test, y_predict))\n",
    "        Model_evaluation[estimator][\"Precision\"].append(precision_score(y_test, y_predict, average='macro'))\n",
    "        Model_evaluation[estimator][\"Recall\"].append(recall_score(y_test, y_predict, average='macro'))\n",
    "        Model_evaluation[estimator][\"Confusion Matrix\"].append(confusion_matrix(y_test, y_predict))\n",
    "\n",
    "    return Model_evaluation"
   ]
  },
  {
   "cell_type": "code",
   "execution_count": 76,
   "metadata": {},
   "outputs": [],
   "source": [
    "# dictionary to store data from each model\n",
    "Model_evaluation = {\"Decision_Tree\": {\"Parameters\": [], \"Oversampling\": [], \"Feature Selection\": [], \"Accuracy\": [], \"Precision\": [], \"Recall\": [], \"Confusion Matrix\" : [], 'Features': []}, \n",
    "                    \"SVM\": {\"Parameters\": [], \"Oversampling\": [], \"Feature Selection\": [], \"Accuracy\": [], \"Precision\": [], \"Recall\": [], \"Confusion Matrix\" : [], 'Features': []}, \n",
    "                    \"KNN\": {\"Parameters\": [], \"Oversampling\": [], \"Feature Selection\": [], \"Accuracy\": [], \"Precision\": [], \"Recall\": [], \"Confusion Matrix\" : [], 'Features': []}}\n",
    "\n",
    "# possible combinations of class balance technique, algorithm, and feature selection method\n",
    "list_parameters = list(product(['smote', 'doubling', \"class weights\"], \n",
    "                               ['Decision_Tree', 'KNN', 'SVM'], \n",
    "                               ['correlation', 'info_gain', 'feat_comb', 'All']))"
   ]
  },
  {
   "cell_type": "code",
   "execution_count": 77,
   "metadata": {},
   "outputs": [],
   "source": [
    "for par in list_parameters:\n",
    "\n",
    "    Model_evaluation = Function(df_filtered, \n",
    "                                Model_evaluation, \n",
    "                                oversampling_method=par[0], \n",
    "                                estimator=par[1], \n",
    "                                feature_selection=par[2], \n",
    "                                grid_search_name=par[1])"
   ]
  },
  {
   "cell_type": "code",
   "execution_count": 78,
   "metadata": {},
   "outputs": [],
   "source": [
    "SVM_evaluation = pd.DataFrame(Model_evaluation[\"SVM\"])\n",
    "SVM_evaluation = SVM_evaluation.sort_values(by=['Accuracy', 'Precision', 'Recall'], ascending = False)\n",
    "SVM_evaluation = SVM_evaluation.reset_index(drop=True)\n",
    "\n",
    "Decision_Tree_evaluation = pd.DataFrame(Model_evaluation[\"Decision_Tree\"])\n",
    "Decision_Tree_evaluation = Decision_Tree_evaluation.sort_values(by=['Accuracy', 'Precision', 'Recall'], ascending = False)\n",
    "Decision_Tree_evaluation = Decision_Tree_evaluation.reset_index(drop=True)\n",
    "\n",
    "KNN_evaluation = pd.DataFrame(Model_evaluation[\"KNN\"])\n",
    "KNN_evaluation = KNN_evaluation.sort_values(by=['Accuracy', 'Precision', 'Recall'], ascending = False)\n",
    "KNN_evaluation = KNN_evaluation.reset_index(drop=True)"
   ]
  },
  {
   "cell_type": "code",
   "execution_count": 87,
   "metadata": {},
   "outputs": [
    {
     "data": {
      "text/html": [
       "<div>\n",
       "<style scoped>\n",
       "    .dataframe tbody tr th:only-of-type {\n",
       "        vertical-align: middle;\n",
       "    }\n",
       "\n",
       "    .dataframe tbody tr th {\n",
       "        vertical-align: top;\n",
       "    }\n",
       "\n",
       "    .dataframe thead th {\n",
       "        text-align: right;\n",
       "    }\n",
       "</style>\n",
       "<table border=\"1\" class=\"dataframe\">\n",
       "  <thead>\n",
       "    <tr style=\"text-align: right;\">\n",
       "      <th></th>\n",
       "      <th>Parameters</th>\n",
       "      <th>Oversampling</th>\n",
       "      <th>Feature Selection</th>\n",
       "      <th>Accuracy</th>\n",
       "      <th>Precision</th>\n",
       "      <th>Recall</th>\n",
       "      <th>Confusion Matrix</th>\n",
       "      <th>Features</th>\n",
       "    </tr>\n",
       "  </thead>\n",
       "  <tbody>\n",
       "    <tr>\n",
       "      <th>0</th>\n",
       "      <td>{'ccp_alpha': 0.0, 'class_weight': None, 'crit...</td>\n",
       "      <td>smote</td>\n",
       "      <td>feat_comb</td>\n",
       "      <td>0.616667</td>\n",
       "      <td>0.459596</td>\n",
       "      <td>0.400678</td>\n",
       "      <td>[[26, 1, 0, 1, 1], [5, 5, 1, 0, 2], [1, 1, 1, ...</td>\n",
       "      <td>[thalach, exang, thal, num]</td>\n",
       "    </tr>\n",
       "    <tr>\n",
       "      <th>1</th>\n",
       "      <td>{'ccp_alpha': 0.0, 'class_weight': None, 'crit...</td>\n",
       "      <td>doubling</td>\n",
       "      <td>feat_comb</td>\n",
       "      <td>0.600000</td>\n",
       "      <td>0.419192</td>\n",
       "      <td>0.334129</td>\n",
       "      <td>[[28, 1, 0, 0, 0], [6, 7, 0, 0, 0], [1, 3, 1, ...</td>\n",
       "      <td>[fbs, slope, thal, num]</td>\n",
       "    </tr>\n",
       "    <tr>\n",
       "      <th>2</th>\n",
       "      <td>{'ccp_alpha': 0.0, 'class_weight': None, 'crit...</td>\n",
       "      <td>smote</td>\n",
       "      <td>All</td>\n",
       "      <td>0.600000</td>\n",
       "      <td>0.393774</td>\n",
       "      <td>0.396404</td>\n",
       "      <td>[[26, 3, 0, 0, 0], [4, 4, 5, 0, 0], [0, 0, 2, ...</td>\n",
       "      <td>[age, sex, cp, trestbps, chol, fbs, restecg, t...</td>\n",
       "    </tr>\n",
       "    <tr>\n",
       "      <th>3</th>\n",
       "      <td>{'ccp_alpha': 0.0, 'class_weight': None, 'crit...</td>\n",
       "      <td>smote</td>\n",
       "      <td>feat_comb</td>\n",
       "      <td>0.600000</td>\n",
       "      <td>0.328022</td>\n",
       "      <td>0.378515</td>\n",
       "      <td>[[27, 2, 0, 0, 0], [5, 6, 1, 1, 0], [1, 1, 3, ...</td>\n",
       "      <td>[sex, ca, thal, num]</td>\n",
       "    </tr>\n",
       "    <tr>\n",
       "      <th>4</th>\n",
       "      <td>{'ccp_alpha': 0.0, 'class_weight': None, 'crit...</td>\n",
       "      <td>doubling</td>\n",
       "      <td>feat_comb</td>\n",
       "      <td>0.600000</td>\n",
       "      <td>0.322222</td>\n",
       "      <td>0.334129</td>\n",
       "      <td>[[28, 1, 0, 0, 0], [6, 7, 0, 0, 0], [2, 3, 1, ...</td>\n",
       "      <td>[fbs, restecg, thal, num]</td>\n",
       "    </tr>\n",
       "    <tr>\n",
       "      <th>...</th>\n",
       "      <td>...</td>\n",
       "      <td>...</td>\n",
       "      <td>...</td>\n",
       "      <td>...</td>\n",
       "      <td>...</td>\n",
       "      <td>...</td>\n",
       "      <td>...</td>\n",
       "      <td>...</td>\n",
       "    </tr>\n",
       "    <tr>\n",
       "      <th>862</th>\n",
       "      <td>{'ccp_alpha': 0.0, 'class_weight': None, 'crit...</td>\n",
       "      <td>smote</td>\n",
       "      <td>feat_comb</td>\n",
       "      <td>0.200000</td>\n",
       "      <td>0.162222</td>\n",
       "      <td>0.210787</td>\n",
       "      <td>[[9, 5, 6, 5, 4], [2, 1, 4, 4, 2], [3, 2, 0, 0...</td>\n",
       "      <td>[age, trestbps, restecg, num]</td>\n",
       "    </tr>\n",
       "    <tr>\n",
       "      <th>863</th>\n",
       "      <td>{'ccp_alpha': 0.0, 'class_weight': {0: 0.37031...</td>\n",
       "      <td>class weights</td>\n",
       "      <td>feat_comb</td>\n",
       "      <td>0.200000</td>\n",
       "      <td>0.120385</td>\n",
       "      <td>0.106572</td>\n",
       "      <td>[[10, 9, 4, 5, 1], [5, 1, 6, 1, 0], [3, 2, 0, ...</td>\n",
       "      <td>[age, chol, restecg, num]</td>\n",
       "    </tr>\n",
       "    <tr>\n",
       "      <th>864</th>\n",
       "      <td>{'ccp_alpha': 0.0, 'class_weight': {0: 0.37031...</td>\n",
       "      <td>class weights</td>\n",
       "      <td>feat_comb</td>\n",
       "      <td>0.183333</td>\n",
       "      <td>0.182667</td>\n",
       "      <td>0.167875</td>\n",
       "      <td>[[6, 7, 15, 1, 0], [3, 1, 5, 1, 3], [0, 2, 2, ...</td>\n",
       "      <td>[age, fbs, restecg, num]</td>\n",
       "    </tr>\n",
       "    <tr>\n",
       "      <th>865</th>\n",
       "      <td>{'ccp_alpha': 0.0, 'class_weight': {0: 0.37031...</td>\n",
       "      <td>class weights</td>\n",
       "      <td>feat_comb</td>\n",
       "      <td>0.166667</td>\n",
       "      <td>0.102857</td>\n",
       "      <td>0.085942</td>\n",
       "      <td>[[8, 8, 5, 5, 3], [6, 2, 3, 2, 0], [2, 3, 0, 0...</td>\n",
       "      <td>[trestbps, restecg, ca, num]</td>\n",
       "    </tr>\n",
       "    <tr>\n",
       "      <th>866</th>\n",
       "      <td>{'ccp_alpha': 0.0, 'class_weight': {0: 0.37031...</td>\n",
       "      <td>class weights</td>\n",
       "      <td>feat_comb</td>\n",
       "      <td>0.150000</td>\n",
       "      <td>0.139720</td>\n",
       "      <td>0.169408</td>\n",
       "      <td>[[3, 9, 11, 5, 1], [4, 1, 3, 4, 1], [2, 1, 2, ...</td>\n",
       "      <td>[trestbps, fbs, restecg, num]</td>\n",
       "    </tr>\n",
       "  </tbody>\n",
       "</table>\n",
       "<p>867 rows × 8 columns</p>\n",
       "</div>"
      ],
      "text/plain": [
       "                                            Parameters   Oversampling  \\\n",
       "0    {'ccp_alpha': 0.0, 'class_weight': None, 'crit...          smote   \n",
       "1    {'ccp_alpha': 0.0, 'class_weight': None, 'crit...       doubling   \n",
       "2    {'ccp_alpha': 0.0, 'class_weight': None, 'crit...          smote   \n",
       "3    {'ccp_alpha': 0.0, 'class_weight': None, 'crit...          smote   \n",
       "4    {'ccp_alpha': 0.0, 'class_weight': None, 'crit...       doubling   \n",
       "..                                                 ...            ...   \n",
       "862  {'ccp_alpha': 0.0, 'class_weight': None, 'crit...          smote   \n",
       "863  {'ccp_alpha': 0.0, 'class_weight': {0: 0.37031...  class weights   \n",
       "864  {'ccp_alpha': 0.0, 'class_weight': {0: 0.37031...  class weights   \n",
       "865  {'ccp_alpha': 0.0, 'class_weight': {0: 0.37031...  class weights   \n",
       "866  {'ccp_alpha': 0.0, 'class_weight': {0: 0.37031...  class weights   \n",
       "\n",
       "    Feature Selection  Accuracy  Precision    Recall  \\\n",
       "0           feat_comb  0.616667   0.459596  0.400678   \n",
       "1           feat_comb  0.600000   0.419192  0.334129   \n",
       "2                 All  0.600000   0.393774  0.396404   \n",
       "3           feat_comb  0.600000   0.328022  0.378515   \n",
       "4           feat_comb  0.600000   0.322222  0.334129   \n",
       "..                ...       ...        ...       ...   \n",
       "862         feat_comb  0.200000   0.162222  0.210787   \n",
       "863         feat_comb  0.200000   0.120385  0.106572   \n",
       "864         feat_comb  0.183333   0.182667  0.167875   \n",
       "865         feat_comb  0.166667   0.102857  0.085942   \n",
       "866         feat_comb  0.150000   0.139720  0.169408   \n",
       "\n",
       "                                      Confusion Matrix  \\\n",
       "0    [[26, 1, 0, 1, 1], [5, 5, 1, 0, 2], [1, 1, 1, ...   \n",
       "1    [[28, 1, 0, 0, 0], [6, 7, 0, 0, 0], [1, 3, 1, ...   \n",
       "2    [[26, 3, 0, 0, 0], [4, 4, 5, 0, 0], [0, 0, 2, ...   \n",
       "3    [[27, 2, 0, 0, 0], [5, 6, 1, 1, 0], [1, 1, 3, ...   \n",
       "4    [[28, 1, 0, 0, 0], [6, 7, 0, 0, 0], [2, 3, 1, ...   \n",
       "..                                                 ...   \n",
       "862  [[9, 5, 6, 5, 4], [2, 1, 4, 4, 2], [3, 2, 0, 0...   \n",
       "863  [[10, 9, 4, 5, 1], [5, 1, 6, 1, 0], [3, 2, 0, ...   \n",
       "864  [[6, 7, 15, 1, 0], [3, 1, 5, 1, 3], [0, 2, 2, ...   \n",
       "865  [[8, 8, 5, 5, 3], [6, 2, 3, 2, 0], [2, 3, 0, 0...   \n",
       "866  [[3, 9, 11, 5, 1], [4, 1, 3, 4, 1], [2, 1, 2, ...   \n",
       "\n",
       "                                              Features  \n",
       "0                          [thalach, exang, thal, num]  \n",
       "1                              [fbs, slope, thal, num]  \n",
       "2    [age, sex, cp, trestbps, chol, fbs, restecg, t...  \n",
       "3                                 [sex, ca, thal, num]  \n",
       "4                            [fbs, restecg, thal, num]  \n",
       "..                                                 ...  \n",
       "862                      [age, trestbps, restecg, num]  \n",
       "863                          [age, chol, restecg, num]  \n",
       "864                           [age, fbs, restecg, num]  \n",
       "865                       [trestbps, restecg, ca, num]  \n",
       "866                      [trestbps, fbs, restecg, num]  \n",
       "\n",
       "[867 rows x 8 columns]"
      ]
     },
     "execution_count": 87,
     "metadata": {},
     "output_type": "execute_result"
    }
   ],
   "source": [
    "Decision_Tree_evaluation"
   ]
  },
  {
   "cell_type": "markdown",
   "metadata": {},
   "source": [
    "# 7. Models Evaluation\n",
    "\n",
    "_______________________"
   ]
  },
  {
   "cell_type": "markdown",
   "metadata": {},
   "source": [
    "### 7.1 Decision Tree Evaluation\n",
    "\n",
    "______________________"
   ]
  },
  {
   "cell_type": "code",
   "execution_count": 25,
   "metadata": {},
   "outputs": [
    {
     "name": "stdout",
     "output_type": "stream",
     "text": [
      "Best Prameters:\n",
      " {'ccp_alpha': 0.0, 'class_weight': None, 'criterion': 'gini', 'max_depth': None, 'max_features': None, 'max_leaf_nodes': None, 'min_impurity_decrease': 0.0, 'min_samples_leaf': 1, 'min_samples_split': 2, 'min_weight_fraction_leaf': 0.0, 'random_state': None, 'splitter': 'best'}\n",
      "Oversampling Method applied:\n",
      " smote\n",
      "Feature Selection Method applied:\n",
      " feat_comb\n",
      "Feature Selected:\n",
      " ['thalach', 'exang', 'thal', 'num']\n"
     ]
    }
   ],
   "source": [
    "best_option_Decision_Tree = Decision_Tree_evaluation.iloc[0]\n",
    "\n",
    "print(\"Best Prameters:\\n\", best_option_Decision_Tree['Parameters'])\n",
    "\n",
    "print(\"Oversampling Method applied:\\n\", best_option_Decision_Tree['Oversampling'])\n",
    "\n",
    "print(\"Feature Selection Method applied:\\n\", best_option_Decision_Tree['Feature Selection'])\n",
    "\n",
    "print(\"Feature Selected:\\n\", best_option_Decision_Tree['Features'])"
   ]
  },
  {
   "cell_type": "markdown",
   "metadata": {},
   "source": [
    "##### 7.1.1 Confusion Matrix\n",
    "\n",
    "________________"
   ]
  },
  {
   "cell_type": "code",
   "execution_count": 26,
   "metadata": {},
   "outputs": [
    {
     "data": {
      "image/png": "[encoded data removed]",
      "text/plain": [
       "<Figure size 540x540 with 1 Axes>"
      ]
     },
     "metadata": {
      "needs_background": "light"
     },
     "output_type": "display_data"
    }
   ],
   "source": [
    "fig, ax = plt.subplots(figsize=(7.5, 7.5))\n",
    "ax.matshow(best_option_Decision_Tree['Confusion Matrix'], cmap=plt.cm.Blues, alpha=0.3)\n",
    "for i in range(best_option_Decision_Tree['Confusion Matrix'].shape[0]):\n",
    "\n",
    "    for j in range(best_option_Decision_Tree['Confusion Matrix'].shape[1]):\n",
    "        \n",
    "        ax.text(x=j, y=i,s=best_option_Decision_Tree['Confusion Matrix'][i, j], va='center', ha='center', size='xx-large')\n",
    " \n",
    "plt.xlabel('Predictions', fontsize=18)\n",
    "plt.ylabel('Actuals', fontsize=18)\n",
    "plt.title('Confusion Matrix in Decision Tree', fontsize=18)\n",
    "plt.show()"
   ]
  },
  {
   "cell_type": "markdown",
   "metadata": {},
   "source": [
    "##### 7.1.2 Precision\n",
    "\n",
    "________________"
   ]
  },
  {
   "cell_type": "code",
   "execution_count": 27,
   "metadata": {},
   "outputs": [
    {
     "name": "stdout",
     "output_type": "stream",
     "text": [
      "Precision test:\n",
      " 0.4595959595959596\n"
     ]
    }
   ],
   "source": [
    "print(\"Precision test:\\n\", best_option_Decision_Tree['Precision'])"
   ]
  },
  {
   "cell_type": "markdown",
   "metadata": {},
   "source": [
    "##### 7.1.3 Recall\n",
    "\n",
    "________________"
   ]
  },
  {
   "cell_type": "code",
   "execution_count": 28,
   "metadata": {},
   "outputs": [
    {
     "name": "stdout",
     "output_type": "stream",
     "text": [
      "Recall test:\n",
      " 0.4006778661951076\n"
     ]
    }
   ],
   "source": [
    "print(\"Recall test:\\n\", best_option_Decision_Tree['Recall'])"
   ]
  },
  {
   "cell_type": "markdown",
   "metadata": {},
   "source": [
    "##### 7.1.4 Accuracy\n",
    "\n",
    "________________"
   ]
  },
  {
   "cell_type": "code",
   "execution_count": 29,
   "metadata": {},
   "outputs": [
    {
     "name": "stdout",
     "output_type": "stream",
     "text": [
      "Accuracy test:\n",
      " 0.6166666666666667\n"
     ]
    }
   ],
   "source": [
    "print(\"Accuracy test:\\n\", best_option_Decision_Tree['Accuracy'])"
   ]
  },
  {
   "cell_type": "markdown",
   "metadata": {},
   "source": [
    "### 7.2 Support Vector Machine Evaluation\n",
    "\n",
    "______________________"
   ]
  },
  {
   "cell_type": "code",
   "execution_count": 30,
   "metadata": {},
   "outputs": [
    {
     "name": "stdout",
     "output_type": "stream",
     "text": [
      "Best Prameters:\n",
      " {'C': 1000, 'break_ties': False, 'cache_size': 200, 'class_weight': None, 'coef0': 0.0, 'decision_function_shape': 'ovr', 'degree': 3, 'gamma': 0.01, 'kernel': 'linear', 'max_iter': -1, 'probability': False, 'random_state': None, 'shrinking': True, 'tol': 0.001, 'verbose': False}\n",
      "Oversampling Method applied:\n",
      " smote\n",
      "Feature Selection Method applied:\n",
      " All\n",
      "Feature Selected:\n",
      " ['age', 'sex', 'cp', 'trestbps', 'chol', 'fbs', 'restecg', 'thalach', 'exang', 'oldpeak', 'slope', 'ca', 'thal', 'num']\n"
     ]
    }
   ],
   "source": [
    "best_option_SVM = SVM_evaluation.iloc[0]\n",
    "\n",
    "print(\"Best Prameters:\\n\", best_option_SVM['Parameters'])\n",
    "\n",
    "print(\"Oversampling Method applied:\\n\", best_option_SVM['Oversampling'])\n",
    "\n",
    "print(\"Feature Selection Method applied:\\n\", best_option_SVM['Feature Selection'])\n",
    "\n",
    "print(\"Feature Selected:\\n\", best_option_SVM['Features'])"
   ]
  },
  {
   "cell_type": "markdown",
   "metadata": {},
   "source": [
    "##### 7.2.1 Confusion Matrix\n",
    "\n",
    "________________"
   ]
  },
  {
   "cell_type": "code",
   "execution_count": 31,
   "metadata": {},
   "outputs": [
    {
     "data": {
      "image/png": "[encoded data removed]",
      "text/plain": [
       "<Figure size 540x540 with 1 Axes>"
      ]
     },
     "metadata": {
      "needs_background": "light"
     },
     "output_type": "display_data"
    }
   ],
   "source": [
    "fig, ax = plt.subplots(figsize=(7.5, 7.5))\n",
    "ax.matshow(best_option_SVM['Confusion Matrix'], cmap=plt.cm.Blues, alpha=0.3)\n",
    "for i in range(best_option_SVM['Confusion Matrix'].shape[0]):\n",
    "\n",
    "    for j in range(best_option_SVM['Confusion Matrix'].shape[1]):\n",
    "        \n",
    "        ax.text(x=j, y=i,s=best_option_SVM['Confusion Matrix'][i, j], va='center', ha='center', size='xx-large')\n",
    " \n",
    "plt.xlabel('Predictions', fontsize=18)\n",
    "plt.ylabel('Actuals', fontsize=18)\n",
    "plt.title('Confusion Matrix in SVM', fontsize=18)\n",
    "plt.show()"
   ]
  },
  {
   "cell_type": "markdown",
   "metadata": {},
   "source": [
    "##### 7.2.2 Precision\n",
    "\n",
    "________________"
   ]
  },
  {
   "cell_type": "code",
   "execution_count": 32,
   "metadata": {},
   "outputs": [
    {
     "name": "stdout",
     "output_type": "stream",
     "text": [
      "Precision test:\n",
      " 0.4298192004074356\n"
     ]
    }
   ],
   "source": [
    "print(\"Precision test:\\n\", best_option_SVM['Precision'])"
   ]
  },
  {
   "cell_type": "markdown",
   "metadata": {},
   "source": [
    "##### 7.2.3 Recall\n",
    "\n",
    "________________"
   ]
  },
  {
   "cell_type": "code",
   "execution_count": 33,
   "metadata": {},
   "outputs": [
    {
     "name": "stdout",
     "output_type": "stream",
     "text": [
      "Recall test:\n",
      " 0.40073681108163867\n"
     ]
    }
   ],
   "source": [
    "print(\"Recall test:\\n\", best_option_SVM['Recall'])"
   ]
  },
  {
   "cell_type": "markdown",
   "metadata": {},
   "source": [
    "##### 7.2.4 Accuracy\n",
    "\n",
    "________________"
   ]
  },
  {
   "cell_type": "code",
   "execution_count": 34,
   "metadata": {},
   "outputs": [
    {
     "name": "stdout",
     "output_type": "stream",
     "text": [
      "Accuracy test:\n",
      " 0.6\n"
     ]
    }
   ],
   "source": [
    "print(\"Accuracy test:\\n\", best_option_SVM['Accuracy'])"
   ]
  },
  {
   "cell_type": "markdown",
   "metadata": {},
   "source": [
    "### 7.3 K-Nearest-Neighbors Evaluation\n",
    "\n",
    "______________________"
   ]
  },
  {
   "cell_type": "code",
   "execution_count": 35,
   "metadata": {},
   "outputs": [
    {
     "name": "stdout",
     "output_type": "stream",
     "text": [
      "Best Prameters:\n",
      " {'algorithm': 'auto', 'leaf_size': 30, 'metric': 'minkowski', 'metric_params': None, 'n_jobs': None, 'n_neighbors': 5, 'p': 2, 'weights': 'uniform'}\n",
      "Oversampling Method applied:\n",
      " smote\n",
      "Feature Selection Method applied:\n",
      " feat_comb\n",
      "Feature Selected:\n",
      " ['thalach', 'exang', 'thal', 'num']\n"
     ]
    }
   ],
   "source": [
    "best_option_KNN = KNN_evaluation.iloc[0]\n",
    "\n",
    "print(\"Best Prameters:\\n\", best_option_KNN['Parameters'])\n",
    "\n",
    "print(\"Oversampling Method applied:\\n\", best_option_KNN['Oversampling'])\n",
    "\n",
    "print(\"Feature Selection Method applied:\\n\", best_option_KNN['Feature Selection'])\n",
    "\n",
    "print(\"Feature Selected:\\n\", best_option_KNN['Features'])"
   ]
  },
  {
   "cell_type": "markdown",
   "metadata": {},
   "source": [
    "##### 7.3.1 Confusion Matrix\n",
    "\n",
    "________________"
   ]
  },
  {
   "cell_type": "code",
   "execution_count": 36,
   "metadata": {},
   "outputs": [
    {
     "data": {
      "image/png": "[encoded data removed]",
      "text/plain": [
       "<Figure size 540x540 with 1 Axes>"
      ]
     },
     "metadata": {
      "needs_background": "light"
     },
     "output_type": "display_data"
    }
   ],
   "source": [
    "fig, ax = plt.subplots(figsize=(7.5, 7.5))\n",
    "ax.matshow(best_option_KNN['Confusion Matrix'], cmap=plt.cm.Blues, alpha=0.3)\n",
    "for i in range(best_option_KNN['Confusion Matrix'].shape[0]):\n",
    "\n",
    "    for j in range(best_option_KNN['Confusion Matrix'].shape[1]):\n",
    "        \n",
    "        ax.text(x=j, y=i,s=best_option_KNN['Confusion Matrix'][i, j], va='center', ha='center', size='xx-large')\n",
    " \n",
    "plt.xlabel('Predictions', fontsize=18)\n",
    "plt.ylabel('Actuals', fontsize=18)\n",
    "plt.title('Confusion Matrix in KNN', fontsize=18)\n",
    "plt.show()"
   ]
  },
  {
   "cell_type": "markdown",
   "metadata": {},
   "source": [
    "##### 7.3.2 Precision\n",
    "\n",
    "________________"
   ]
  },
  {
   "cell_type": "code",
   "execution_count": 37,
   "metadata": {},
   "outputs": [
    {
     "name": "stdout",
     "output_type": "stream",
     "text": [
      "Precision test:\n",
      " 0.5321863799283154\n"
     ]
    }
   ],
   "source": [
    "print(\"Precision test:\\n\", best_option_KNN['Precision'])"
   ]
  },
  {
   "cell_type": "markdown",
   "metadata": {},
   "source": [
    "##### 7.3.3 Recall\n",
    "\n",
    "________________"
   ]
  },
  {
   "cell_type": "code",
   "execution_count": 38,
   "metadata": {},
   "outputs": [
    {
     "name": "stdout",
     "output_type": "stream",
     "text": [
      "Recall test:\n",
      " 0.5229000884173298\n"
     ]
    }
   ],
   "source": [
    "print(\"Recall test:\\n\", best_option_KNN['Recall'])"
   ]
  },
  {
   "cell_type": "markdown",
   "metadata": {},
   "source": [
    "##### 7.3.4 Accuracy\n",
    "\n",
    "________________"
   ]
  },
  {
   "cell_type": "code",
   "execution_count": 39,
   "metadata": {},
   "outputs": [
    {
     "name": "stdout",
     "output_type": "stream",
     "text": [
      "Accuracy test:\n",
      " 0.6666666666666666\n"
     ]
    }
   ],
   "source": [
    "print(\"Accuracy test:\\n\", best_option_KNN['Accuracy'])"
   ]
  },
  {
   "cell_type": "markdown",
   "metadata": {},
   "source": [
    "# 8. Testing Models with *client_set*"
   ]
  },
  {
   "cell_type": "markdown",
   "metadata": {},
   "source": [
    "Testing the best model with KNN"
   ]
  },
  {
   "cell_type": "code",
   "execution_count": 88,
   "metadata": {},
   "outputs": [],
   "source": [
    "def ClientTest(data_from_client, data_from_model, oversampling_method, hyperparameters, features, classifier):\n",
    "\n",
    "    \"\"\"\n",
    "    data_from_client:    dataframe with data from the client (DataFrame)\n",
    "    data_from_model:     dataframe with data to train the model (DataFrame)\n",
    "    oversampling_method: (string)\n",
    "    hyperparameters:     hyperparameters for the model to be created (dictionary)\n",
    "    features:            features to be included in the model (list)\n",
    "    classifier:          classifier algorithm (string)\n",
    "    \"\"\"\n",
    "\n",
    "    data_from_client = data_from_client[features]\n",
    "    data_from_model = data_from_model[features]\n",
    "    \n",
    "    # data from the client to test\n",
    "    X_client = data_from_client.drop(columns=\"num\")\n",
    "    y_client = data_from_client[\"num\"]\n",
    "\n",
    "    #oversampling the model's set\n",
    "    if oversampling_method == 'smote':\n",
    "        data_from_model = oversampling_smote(data_from_model)\n",
    "    elif oversampling_method == 'doubling':\n",
    "        data_from_model = oversampling_double(data_from_model)\n",
    "    X_model = data_from_client.drop(columns=\"num\")\n",
    "    y_model = data_from_client[\"num\"]\n",
    "\n",
    "    # normalizing\n",
    "    if classifier == [\"SVM\", \"KNN\"]:\n",
    "        norm = Normalizer()\n",
    "        X_model = norm.fit_transform(X_model)\n",
    "        X_client = norm.transform(X_client)\n",
    "\n",
    "    # implementing the model\n",
    "    if classifier == \"DecisionTree\":\n",
    "        if oversampling_method == \"class weights\":\n",
    "            estimator = DecisionTreeClassifier(**hyperparameters, class_weight=ClassWeight(data_from_model))\n",
    "        else:\n",
    "            estimator = DecisionTreeClassifier(**hyperparameters)\n",
    "    \n",
    "    elif classifier == \"KNN\":\n",
    "        # KNN has no parameter for class weights\n",
    "        estimator = KNeighborsClassifier(**hyperparameters)\n",
    "    \n",
    "    elif classifier == \"SVM\":\n",
    "        if oversampling_method == \"class weights\":\n",
    "            estimator = SVC(**hyperparameters, class_weight=ClassWeight(data_from_model))\n",
    "        else:\n",
    "            estimator = SVC(**hyperparameters)\n",
    "    \n",
    "    estimator = estimator.fit(X_model, y_model)\n",
    "\n",
    "    # predicting\n",
    "    y_predict = estimator.predict(X_client)\n",
    "\n",
    "    # evaluation\n",
    "    accuracy = accuracy_score(y_client, y_predict)\n",
    "    recall = recall_score(y_client, y_predict, average=\"macro\")\n",
    "    precision = precision_score(y_client, y_predict, average=\"macro\")\n",
    "    conf_matrix = confusion_matrix(y_client, y_predict)\n",
    "\n",
    "    print(\"accuracy: \", accuracy)\n",
    "    print(\"recall: \", recall)\n",
    "    print(\"precision: \", precision)\n",
    "\n",
    "    return accuracy, recall, precision, conf_matrix\n"
   ]
  },
  {
   "cell_type": "code",
   "execution_count": 91,
   "metadata": {},
   "outputs": [
    {
     "name": "stdout",
     "output_type": "stream",
     "text": [
      "accuracy:  0.9666666666666667\n",
      "recall:  0.9428571428571428\n",
      "precision:  0.9882352941176471\n"
     ]
    }
   ],
   "source": [
    "client_ACC, client_REC, client_PRE, client_CM = ClientTest(client_set, \n",
    "                                                           df_filtered, \n",
    "                                                           Decision_Tree_evaluation[\"Oversampling\"][0], \n",
    "                                                           Decision_Tree_evaluation[\"Parameters\"][0], \n",
    "                                                           Decision_Tree_evaluation[\"Features\"][0], \n",
    "                                                           \"DecisionTree\")"
   ]
  },
  {
   "cell_type": "code",
   "execution_count": 92,
   "metadata": {},
   "outputs": [
    {
     "data": {
      "image/png": "[encoded data removed]",
      "text/plain": [
       "<Figure size 540x540 with 1 Axes>"
      ]
     },
     "metadata": {
      "needs_background": "light"
     },
     "output_type": "display_data"
    }
   ],
   "source": [
    "fig, ax = plt.subplots(figsize=(7.5, 7.5))\n",
    "ax.matshow(client_CM, cmap=plt.cm.Blues, alpha=0.3)\n",
    "for i in range(client_CM.shape[0]):\n",
    "\n",
    "    for j in range(client_CM.shape[1]):\n",
    "        \n",
    "        ax.text(x=j, y=i,s=client_CM[i, j], va='center', ha='center', size='xx-large')\n",
    " \n",
    "plt.xlabel('Predictions', fontsize=18)\n",
    "plt.ylabel('Actuals', fontsize=18)\n",
    "plt.title('Confusion Matrix in Decision Tree', fontsize=18)\n",
    "plt.show()"
   ]
  },
  {
   "cell_type": "markdown",
   "id": "07fd4e59",
   "metadata": {},
   "source": [
    "# 9. References\n",
    "<a id=\"1\">[1]</a>\n",
    "Anggoro, Dimas Aryo and Kurnia, Naqshauliza Devi (2020). \n",
    "Comparison of accuracy level of support vector machine (SVM) and K-nearest neighbors (KNN) algorithms in predicting heart disease\n",
    "International Journal, 8(5), 1689--1694.\n",
    "\n",
    "<a id=\"2\">[2]</a>\n",
    "https://www.kaggle.com/code/zawlinnnaing/svm-for-multiclass-classification"
   ]
  }
 ],
 "metadata": {
  "kernelspec": {
   "display_name": "Python 3 (ipykernel)",
   "language": "python",
   "name": "python3"
  },
  "language_info": {
   "codemirror_mode": {
    "name": "ipython",
    "version": 3
   },
   "file_extension": ".py",
   "mimetype": "text/x-python",
   "name": "python",
   "nbconvert_exporter": "python",
   "pygments_lexer": "ipython3",
   "version": "3.9.7"
  }
 },
 "nbformat": 4,
 "nbformat_minor": 5
}
